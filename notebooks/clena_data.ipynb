{
 "cells": [
  {
   "cell_type": "code",
   "execution_count": 2,
   "metadata": {},
   "outputs": [
    {
     "name": "stdout",
     "output_type": "stream",
     "text": [
      "Number of duplicates: 25\n"
     ]
    }
   ],
   "source": [
    "import pandas as pd\n",
    "\n",
    "# Specify the file path of the CSV file\n",
    "file_path = \"..\\\\data\\\\raw\\\\2023_11_27_16_55_48_Mierzęcice__Będziński__Śląskie\\\\otodom_pl.csv\"\n",
    "\n",
    "# Read the CSV file into a pandas DataFrame\n",
    "df = pd.read_csv(file_path)\n",
    "\n",
    "# Count the number of duplicates in the DataFrame\n",
    "duplicate_count = df.duplicated().sum()\n",
    "\n",
    "# Print the count of duplicates\n",
    "print(\"Number of duplicates:\", duplicate_count)\n"
   ]
  },
  {
   "cell_type": "code",
   "execution_count": 3,
   "metadata": {},
   "outputs": [
    {
     "data": {
      "text/plain": [
       "115"
      ]
     },
     "execution_count": 3,
     "metadata": {},
     "output_type": "execute_result"
    }
   ],
   "source": [
    "len(df)"
   ]
  },
  {
   "cell_type": "code",
   "execution_count": 12,
   "metadata": {},
   "outputs": [
    {
     "name": "stdout",
     "output_type": "stream",
     "text": [
      "Mieszkanie do wynajęcia Pogoria III                   4\n",
      "Mieszkania dla pracowników. 3 pokoje, Gołonóg         4\n",
      "Mieszkanie dwupokojowe na Mydlicach                   3\n",
      "Apartament Dąbrowa Górnicza Gołonóg 82 m2             2\n",
      "Rezerwacja - 50m2 w Dąbrowie Górniczej                2\n",
      "Komfortowe mieszkanie Dąbrowa G. + m-ce postojowe     2\n",
      "Aleja Zwycięstwa | Mieszkanie pracownicze | 6 osób    2\n",
      "Tylko w naszym biurze!!!                              2\n",
      "Komfortowa kawalerka z wydzieloną sypialnią           2\n",
      "2- pokoje z antresolą i parkingiem                    2\n",
      "Mieszkanie do wynajęcia z balkonem 49m2               2\n",
      "Mieszkanie z dużym ogródkiem, bez pośredników.        2\n",
      "Mieszkanie do wynajęcia, 2 pokoje                     2\n",
      "NOWA Kawalerka Nowy Budynek w Będzinie                2\n",
      "Wygodne mieszkanie Sosnowiec dobra lokalizacja        2\n",
      "Mieszkanie 2-pokojowe na wynajem! Zapraszamy!         2\n",
      "kawalerka w centrum Dąbrowy. 1500 zł z czynszem !     2\n",
      "Będzin, 2 pokoje,nowe                                 2\n",
      "Mieszkanie 37m2, Centrum Dąbrowy Górniczej            2\n",
      "Komfortowe mieszkanie 2 pokojowe                      2\n",
      "Name: title, dtype: int64\n"
     ]
    }
   ],
   "source": [
    "duplicates = df[df.duplicated(keep=False)]  # keep=False to keep all duplicates\n",
    "library = duplicates['title'].value_counts()\n",
    "print(library)\n"
   ]
  },
  {
   "cell_type": "code",
   "execution_count": 13,
   "metadata": {},
   "outputs": [
    {
     "data": {
      "text/plain": [
       "Index(['link', 'title', 'location', 'price', 'summary_description',\n",
       "       'square_meters', 'rent', 'number_of_rooms', 'deposit', 'floor_level',\n",
       "       'building_type', 'available_from', 'balcony_garden_terrace',\n",
       "       'remote service', 'completion', 'ownership', 'rent_to_students',\n",
       "       'equipment', 'media_types', 'heating', 'security', 'windows',\n",
       "       'elevator', 'parking_space', 'build_year', 'building_material',\n",
       "       'additional_information'],\n",
       "      dtype='object')"
      ]
     },
     "execution_count": 13,
     "metadata": {},
     "output_type": "execute_result"
    }
   ],
   "source": [
    "df.columns\n"
   ]
  }
 ],
 "metadata": {
  "kernelspec": {
   "display_name": "Python 3",
   "language": "python",
   "name": "python3"
  },
  "language_info": {
   "codemirror_mode": {
    "name": "ipython",
    "version": 3
   },
   "file_extension": ".py",
   "mimetype": "text/x-python",
   "name": "python",
   "nbconvert_exporter": "python",
   "pygments_lexer": "ipython3",
   "version": "3.11.1"
  }
 },
 "nbformat": 4,
 "nbformat_minor": 2
}
