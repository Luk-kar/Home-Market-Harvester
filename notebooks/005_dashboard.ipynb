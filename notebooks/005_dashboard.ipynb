{
 "cells": [
  {
   "cell_type": "code",
   "execution_count": null,
   "metadata": {},
   "outputs": [],
   "source": [
    "# https://streamlit.io/\n",
    "# https://www.youtube.com/watch?v=ammCGdzSoag&list=PL2zq7klxX5ASFejJj80ob9ZAnBHdz5O1t&index=8\n",
    "\n",
    "# https://docs.atoti.io/latest/index.html\n",
    "# https://www.youtube.com/watch?v=ammCGdzSoag&list=PL2zq7klxX5ASFejJj80ob9ZAnBHdz5O1t&index=8"
   ]
  },
  {
   "cell_type": "code",
   "execution_count": null,
   "metadata": {},
   "outputs": [],
   "source": [
    "# Make a plan"
   ]
  }
 ],
 "metadata": {
  "language_info": {
   "name": "python"
  }
 },
 "nbformat": 4,
 "nbformat_minor": 2
}
