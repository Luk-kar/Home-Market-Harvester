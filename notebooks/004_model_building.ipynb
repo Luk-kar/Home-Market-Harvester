{
 "cells": [
  {
   "cell_type": "markdown",
   "metadata": {},
   "source": [
    "## 1. Upload the data nd libraries"
   ]
  },
  {
   "cell_type": "markdown",
   "metadata": {},
   "source": [
    "### 1.1 Imports necessary libraries"
   ]
  },
  {
   "cell_type": "code",
   "execution_count": 327,
   "metadata": {},
   "outputs": [],
   "source": [
    "# Python\n",
    "import pickle\n",
    "import random\n",
    "\n",
    "# Third party\n",
    "from sklearn.ensemble import RandomForestRegressor\n",
    "from sklearn.impute import KNNImputer\n",
    "from sklearn.linear_model import LinearRegression, Lasso\n",
    "from sklearn.metrics import mean_absolute_error\n",
    "from sklearn.model_selection import GridSearchCV\n",
    "from sklearn.model_selection import cross_val_score\n",
    "from sklearn.model_selection import train_test_split\n",
    "from statsmodels.iolib.table import SimpleTable\n",
    "import json\n",
    "import matplotlib.pyplot as plt\n",
    "import numpy as np\n",
    "import pandas as pd\n",
    "import seaborn as sns\n",
    "import statsmodels.api as sm\n",
    "\n",
    "# Local imports\n",
    "from _csv_utils import data_timeplace, DataPathCleaningManager"
   ]
  },
  {
   "cell_type": "markdown",
   "metadata": {},
   "source": [
    "### 1.2 Import the data"
   ]
  },
  {
   "cell_type": "code",
   "execution_count": 328,
   "metadata": {},
   "outputs": [],
   "source": [
    "\n",
    "data_path_manager = DataPathCleaningManager(data_timeplace)\n",
    "df = data_path_manager._load_cleaned_df(domain=\"combined\")"
   ]
  },
  {
   "cell_type": "code",
   "execution_count": 329,
   "metadata": {},
   "outputs": [
    {
     "data": {
      "text/plain": [
       "[('listing', 'link'),\n",
       " ('listing', 'title'),\n",
       " ('listing', 'summary_description'),\n",
       " ('listing', 'remote_service'),\n",
       " ('pricing', 'price'),\n",
       " ('pricing', 'rent'),\n",
       " ('pricing', 'total_rent'),\n",
       " ('pricing', 'total_rent_sqm'),\n",
       " ('pricing', 'deposit'),\n",
       " ('pricing', 'deposit_ratio'),\n",
       " ('location', 'complete_address'),\n",
       " ('location', 'street'),\n",
       " ('location', 'city'),\n",
       " ('location', 'voivodeship'),\n",
       " ('size', 'square_meters'),\n",
       " ('size', 'number_of_rooms'),\n",
       " ('size', 'floor'),\n",
       " ('size', 'attic'),\n",
       " ('size', 'building_floors'),\n",
       " ('legal_and_availability', 'available_from'),\n",
       " ('legal_and_availability', 'completion'),\n",
       " ('legal_and_availability', 'ownership'),\n",
       " ('legal_and_availability', 'rent_to_students'),\n",
       " ('type_and_year', 'building_type'),\n",
       " ('type_and_year', 'build_year'),\n",
       " ('amenities', 'elevator'),\n",
       " ('amenities', 'parking_space'),\n",
       " ('equipment', 'no_information'),\n",
       " ('equipment', 'stove'),\n",
       " ('equipment', 'fridge'),\n",
       " ('equipment', 'furniture'),\n",
       " ('equipment', 'oven'),\n",
       " ('equipment', 'washing_machine'),\n",
       " ('equipment', 'TV'),\n",
       " ('equipment', 'dishwasher'),\n",
       " ('media_types', 'no_information'),\n",
       " ('media_types', 'internet'),\n",
       " ('media_types', 'telephone'),\n",
       " ('media_types', 'cable_TV'),\n",
       " ('heating', 'no_information'),\n",
       " ('heating', 'electric'),\n",
       " ('heating', 'gas'),\n",
       " ('heating', 'other'),\n",
       " ('heating', 'boiler_room'),\n",
       " ('heating', 'district'),\n",
       " ('heating', 'tile_stove'),\n",
       " ('security', 'no_information'),\n",
       " ('security', 'intercom_or_video_intercom'),\n",
       " ('security', 'anti_burglary_doors_or_windows'),\n",
       " ('security', 'monitoring_or_security'),\n",
       " ('security', 'anti_burglary_roller_blinds'),\n",
       " ('security', 'alarm_system'),\n",
       " ('security', 'enclosed_area'),\n",
       " ('windows', 'aluminum'),\n",
       " ('windows', 'no_information'),\n",
       " ('windows', 'wooden'),\n",
       " ('windows', 'plastic'),\n",
       " ('building_material', 'concrete'),\n",
       " ('building_material', 'aerated_concrete'),\n",
       " ('building_material', 'no_information'),\n",
       " ('building_material', 'brick'),\n",
       " ('building_material', 'wood'),\n",
       " ('building_material', 'other'),\n",
       " ('building_material', 'lightweight_aggregate'),\n",
       " ('building_material', 'hollow_brick'),\n",
       " ('building_material', 'silicate'),\n",
       " ('building_material', 'large_panel'),\n",
       " ('building_material', 'reinforced_concrete'),\n",
       " ('additional_information', 'no_information'),\n",
       " ('additional_information', 'duplex'),\n",
       " ('additional_information', 'air_conditioning'),\n",
       " ('additional_information', 'separate_kitchen'),\n",
       " ('additional_information', 'basement'),\n",
       " ('additional_information', 'utility_room'),\n",
       " ('additional_information', 'non_smokers_only')]"
      ]
     },
     "execution_count": 329,
     "metadata": {},
     "output_type": "execute_result"
    }
   ],
   "source": [
    "# choose relevant columns\n",
    "df.columns.tolist()"
   ]
  },
  {
   "cell_type": "markdown",
   "metadata": {},
   "source": [
    "### 1.3 Remove outliers\n",
    "In our scenario, it's not necessary to have a model that perfectly aligns with every specific local case. Instead, we need a model that is well-suited for our case the average situation."
   ]
  },
  {
   "cell_type": "code",
   "execution_count": 330,
   "metadata": {},
   "outputs": [],
   "source": [
    "def filter_row(row):\n",
    "    try:\n",
    "        city = row['location']['city']\n",
    "        building_type = row['type_and_year']['building_type'] if pd.notna(row['type_and_year'].get('building_type')) else False\n",
    "        build_year = row['type_and_year']['build_year'] if pd.notna(row['type_and_year'].get('build_year')) else False\n",
    "        return city in [\"będziński\", \"Zawada\", \"Siewierz\", \"tarnogórski\", \"Piekary Śląskie\", \"zawierciański\", \"Siemianowice Śląskie\"] \\\n",
    "        and building_type in [\"block_of_flats\", \"apartment_building\"] \\\n",
    "        and build_year <= 1970\n",
    "    except KeyError:\n",
    "        return False\n",
    "\n",
    "narrowed_df = df[df.apply(filter_row, axis=1)].copy()"
   ]
  },
  {
   "cell_type": "code",
   "execution_count": 331,
   "metadata": {},
   "outputs": [
    {
     "name": "stderr",
     "output_type": "stream",
     "text": [
      "C:\\Users\\karol\\AppData\\Local\\Temp\\ipykernel_21364\\1265486152.py:1: UserWarning: Boolean Series key will be reindexed to match DataFrame index.\n",
      "  df_outliers_filtered = narrowed_df[df[('pricing', 'total_rent')] < 4000]\n"
     ]
    }
   ],
   "source": [
    "df_outliers_filtered = narrowed_df[df[('pricing', 'total_rent')] < 4000]"
   ]
  },
  {
   "cell_type": "markdown",
   "metadata": {},
   "source": [
    "### 1.4 Select relevant data"
   ]
  },
  {
   "cell_type": "markdown",
   "metadata": {},
   "source": [
    "It's an iterative process. During the exploration of data through the various models you will find out which one works and not."
   ]
  },
  {
   "cell_type": "code",
   "execution_count": 332,
   "metadata": {},
   "outputs": [],
   "source": [
    "# relevant but multicollinearity:\n",
    "# level 1 - very high\n",
    "# level 2 - high\n",
    "\n",
    "df_model = pd.DataFrame()\n",
    "\n",
    "columns_to_select = [\n",
    "    ('pricing', 'total_rent'),\n",
    "    # ('location', 'city'),\n",
    "    ('size', 'square_meters'),\n",
    "    # ('size', 'number_of_rooms'), # level 1\n",
    "    ('type_and_year', 'building_type'),\n",
    "    ('type_and_year', 'build_year'),\n",
    "    ('amenities', 'elevator'),\n",
    "    # ('amenities', 'parking_space'),\n",
    "    # ('equipment', 'furniture'), # level 1\n",
    "    # ('equipment', 'stove'), # level 1\n",
    "    # ('equipment', 'oven'),\n",
    "    ('equipment', 'washing_machine'),\n",
    "    # ('equipment', 'TV'),\n",
    "    # ('equipment', 'dishwasher'),\n",
    "    # ('media_types', 'internet'), # level 2\n",
    "    # ('media_types', 'cable_TV'), # level 2\n",
    "    # ('heating', 'district'),\n",
    "    # ('security', 'monitoring_or_security'),\n",
    "    # ('security', 'anti_burglary_doors_or_windows'), # level 2\n",
    "    # ('security', 'enclosed_area'), # level 2\n",
    "    # ('windows', 'aluminum'),\n",
    "    ('size', 'floor'),\n",
    "    # ('size', 'building_floors'), # level 1\n",
    "    # ('additional_information', 'air_conditioning'),\n",
    "    # ('additional_information', 'utility_room'),\n",
    "]\n",
    "\n",
    "extracted_columns = df_outliers_filtered.loc[:, columns_to_select]\n",
    "\n",
    "\n",
    "extracted_columns.columns = extracted_columns.columns.droplevel(0)\n",
    "\n",
    "\n",
    "df_model[extracted_columns.columns] = extracted_columns"
   ]
  },
  {
   "cell_type": "code",
   "execution_count": 333,
   "metadata": {},
   "outputs": [
    {
     "data": {
      "text/plain": [
       "total_rent         float64\n",
       "square_meters        Int64\n",
       "building_type       string\n",
       "build_year         float64\n",
       "elevator              bool\n",
       "washing_machine       bool\n",
       "floor                Int64\n",
       "dtype: object"
      ]
     },
     "execution_count": 333,
     "metadata": {},
     "output_type": "execute_result"
    }
   ],
   "source": [
    "df_model.dtypes"
   ]
  },
  {
   "cell_type": "markdown",
   "metadata": {},
   "source": [
    "## 2. Get dummy data"
   ]
  },
  {
   "cell_type": "markdown",
   "metadata": {},
   "source": [
    "Transforms categorical variables into numerical form by creating binary (`True`/`False`) indicator variables for each category, resulting in a new DataFrame called `df_dum`"
   ]
  },
  {
   "cell_type": "code",
   "execution_count": 334,
   "metadata": {},
   "outputs": [],
   "source": [
    "df_dum = pd.get_dummies(df_model)"
   ]
  },
  {
   "cell_type": "code",
   "execution_count": 335,
   "metadata": {},
   "outputs": [
    {
     "data": {
      "text/plain": [
       "total_rent                          float64\n",
       "square_meters                         Int64\n",
       "build_year                          float64\n",
       "elevator                               bool\n",
       "washing_machine                        bool\n",
       "floor                                 Int64\n",
       "building_type_apartment_building      uint8\n",
       "building_type_block_of_flats          uint8\n",
       "dtype: object"
      ]
     },
     "execution_count": 335,
     "metadata": {},
     "output_type": "execute_result"
    }
   ],
   "source": [
    "df_dum.dtypes"
   ]
  },
  {
   "cell_type": "markdown",
   "metadata": {},
   "source": [
    "## 3. Training and Testing Data Separation\n",
    "This step divides our data into two groups: one for training our model (learning from examples) and the other for testing it (checking how well it learned). We use a tool called `train_test_split` for this division, ensuring that our model can be trained on one part of the data and then evaluated on a different part to see how well it predicts new, unseen information."
   ]
  },
  {
   "cell_type": "code",
   "execution_count": 336,
   "metadata": {},
   "outputs": [],
   "source": [
    "# Splitting the dataset into features (X) and target variable (Y), where 'total_rent' is the target.\n",
    "X = df_dum.drop('total_rent', axis =1)\n",
    "Y = df_dum['total_rent']\n",
    "\n",
    "# Converting boolean columns to integers for model compatibility. Models typically require numerical input.\n",
    "bool_cols = X.select_dtypes(include=['bool']).columns\n",
    "X[bool_cols] = X[bool_cols].astype(int)\n",
    "\n",
    "# Replacing infinite values with NaN in the features to avoid errors during model training.\n",
    "X = X.replace([np.inf, -np.inf], np.nan)\n",
    "\n",
    "# Initialize the KNN Imputer\n",
    "knn_imputer = KNNImputer(n_neighbors=5)\n",
    "\n",
    "# Apply the imputer to the feature set. Note: It's important to do this before the train-test split.\n",
    "X_imputed = knn_imputer.fit_transform(X)\n",
    "X_imputed = X_imputed.astype(float)\n",
    "\n",
    "# Now, handle the target variable\n",
    "Y = Y.replace([np.inf, -np.inf], np.nan)\n",
    "Y = Y.fillna(0)\n",
    "\n",
    "# Splitting the dataset into training and testing sets for model validation.\n",
    "X_train, X_test, Y_train, Y_test = train_test_split(X_imputed, Y.values, test_size=0.2, random_state=42)"
   ]
  },
  {
   "cell_type": "code",
   "execution_count": 337,
   "metadata": {},
   "outputs": [],
   "source": [
    "my_xnames = pd.Index(['total_rent'] + X.columns.tolist())"
   ]
  },
  {
   "cell_type": "markdown",
   "metadata": {},
   "source": [
    "## 4. Multiple Linear Regression\n",
    "This section implements a Multiple Linear Regression model using the Ordinary Least Squares (OLS) method from the statsmodels library. In this approach, the model aims to establish a linear relationship between multiple independent variables (features) and a single dependent variable (target). The OLS method is employed to determine the line of best fit, which is achieved by minimizing the sum of the squares of the residuals - the differences between the observed values and the values predicted by the model. This process allows for an efficient and effective way to understand how each independent variable contributes to the dependent variable, facilitating predictions and insights into the underlying data relationships."
   ]
  },
  {
   "cell_type": "code",
   "execution_count": 338,
   "metadata": {},
   "outputs": [],
   "source": [
    "# Y_train = Y_train.astype(float)\n",
    "\n",
    "# Adding a constant to the feature set and constructing the OLS model\n",
    "X_train_sm = sm.add_constant(X_train)\n",
    "model = sm.OLS(Y_train, X_train_sm)\n",
    "\n",
    "# You can name the variables in your model for better readability\n",
    "# Assuming 'my_xnames' is defined and includes the names of your features\n",
    "model.data.xnames = ['Intercept'] + X.columns.tolist()"
   ]
  },
  {
   "cell_type": "code",
   "execution_count": 339,
   "metadata": {},
   "outputs": [
    {
     "data": {
      "text/html": [
       "<table class=\"simpletable\">\n",
       "<caption>OLS Regression Results</caption>\n",
       "<tr>\n",
       "  <th>Dep. Variable:</th>            <td>y</td>        <th>  R-squared:         </th> <td>   0.600</td>\n",
       "</tr>\n",
       "<tr>\n",
       "  <th>Model:</th>                   <td>OLS</td>       <th>  Adj. R-squared:    </th> <td>   0.508</td>\n",
       "</tr>\n",
       "<tr>\n",
       "  <th>Method:</th>             <td>Least Squares</td>  <th>  F-statistic:       </th> <td>   6.508</td>\n",
       "</tr>\n",
       "<tr>\n",
       "  <th>Date:</th>             <td>Fri, 12 Jan 2024</td> <th>  Prob (F-statistic):</th> <td>0.000277</td>\n",
       "</tr>\n",
       "<tr>\n",
       "  <th>Time:</th>                 <td>21:16:28</td>     <th>  Log-Likelihood:    </th> <td> -240.32</td>\n",
       "</tr>\n",
       "<tr>\n",
       "  <th>No. Observations:</th>      <td>    33</td>      <th>  AIC:               </th> <td>   494.6</td>\n",
       "</tr>\n",
       "<tr>\n",
       "  <th>Df Residuals:</th>          <td>    26</td>      <th>  BIC:               </th> <td>   505.1</td>\n",
       "</tr>\n",
       "<tr>\n",
       "  <th>Df Model:</th>              <td>     6</td>      <th>                     </th>     <td> </td>   \n",
       "</tr>\n",
       "<tr>\n",
       "  <th>Covariance Type:</th>      <td>nonrobust</td>    <th>                     </th>     <td> </td>   \n",
       "</tr>\n",
       "</table>\n",
       "<table class=\"simpletable\">\n",
       "<tr>\n",
       "                  <td></td>                    <th>coef</th>     <th>std err</th>      <th>t</th>      <th>P>|t|</th>  <th>[0.025</th>    <th>0.975]</th>  \n",
       "</tr>\n",
       "<tr>\n",
       "  <th>Intercept</th>                        <td>-2.293e+04</td> <td> 1.65e+04</td> <td>   -1.392</td> <td> 0.176</td> <td>-5.68e+04</td> <td> 1.09e+04</td>\n",
       "</tr>\n",
       "<tr>\n",
       "  <th>square_meters</th>                    <td>   22.5831</td> <td>    5.807</td> <td>    3.889</td> <td> 0.001</td> <td>   10.646</td> <td>   34.520</td>\n",
       "</tr>\n",
       "<tr>\n",
       "  <th>build_year</th>                       <td>   17.9687</td> <td>   12.585</td> <td>    1.428</td> <td> 0.165</td> <td>   -7.899</td> <td>   43.837</td>\n",
       "</tr>\n",
       "<tr>\n",
       "  <th>elevator</th>                         <td> -519.4053</td> <td>  301.882</td> <td>   -1.721</td> <td> 0.097</td> <td>-1139.932</td> <td>  101.122</td>\n",
       "</tr>\n",
       "<tr>\n",
       "  <th>washing_machine</th>                  <td>  437.9874</td> <td>  150.576</td> <td>    2.909</td> <td> 0.007</td> <td>  128.474</td> <td>  747.501</td>\n",
       "</tr>\n",
       "<tr>\n",
       "  <th>floor</th>                            <td>   37.6382</td> <td>   43.388</td> <td>    0.867</td> <td> 0.394</td> <td>  -51.547</td> <td>  126.823</td>\n",
       "</tr>\n",
       "<tr>\n",
       "  <th>building_type_apartment_building</th> <td>-1.122e+04</td> <td> 8254.634</td> <td>   -1.359</td> <td> 0.186</td> <td>-2.82e+04</td> <td> 5748.749</td>\n",
       "</tr>\n",
       "<tr>\n",
       "  <th>building_type_block_of_flats</th>     <td>-1.171e+04</td> <td> 8221.855</td> <td>   -1.425</td> <td> 0.166</td> <td>-2.86e+04</td> <td> 5185.329</td>\n",
       "</tr>\n",
       "</table>\n",
       "<table class=\"simpletable\">\n",
       "<tr>\n",
       "  <th>Omnibus:</th>       <td> 1.684</td> <th>  Durbin-Watson:     </th> <td>   2.186</td>\n",
       "</tr>\n",
       "<tr>\n",
       "  <th>Prob(Omnibus):</th> <td> 0.431</td> <th>  Jarque-Bera (JB):  </th> <td>   1.402</td>\n",
       "</tr>\n",
       "<tr>\n",
       "  <th>Skew:</th>          <td>-0.490</td> <th>  Prob(JB):          </th> <td>   0.496</td>\n",
       "</tr>\n",
       "<tr>\n",
       "  <th>Kurtosis:</th>      <td> 2.759</td> <th>  Cond. No.          </th> <td>6.69e+18</td>\n",
       "</tr>\n",
       "</table><br/><br/>Notes:<br/>[1] Standard Errors assume that the covariance matrix of the errors is correctly specified.<br/>[2] The smallest eigenvalue is 2.84e-30. This might indicate that there are<br/>strong multicollinearity problems or that the design matrix is singular."
      ],
      "text/latex": [
       "\\begin{center}\n",
       "\\begin{tabular}{lclc}\n",
       "\\toprule\n",
       "\\textbf{Dep. Variable:}                      &        y         & \\textbf{  R-squared:         } &     0.600   \\\\\n",
       "\\textbf{Model:}                              &       OLS        & \\textbf{  Adj. R-squared:    } &     0.508   \\\\\n",
       "\\textbf{Method:}                             &  Least Squares   & \\textbf{  F-statistic:       } &     6.508   \\\\\n",
       "\\textbf{Date:}                               & Fri, 12 Jan 2024 & \\textbf{  Prob (F-statistic):} &  0.000277   \\\\\n",
       "\\textbf{Time:}                               &     21:16:28     & \\textbf{  Log-Likelihood:    } &   -240.32   \\\\\n",
       "\\textbf{No. Observations:}                   &          33      & \\textbf{  AIC:               } &     494.6   \\\\\n",
       "\\textbf{Df Residuals:}                       &          26      & \\textbf{  BIC:               } &     505.1   \\\\\n",
       "\\textbf{Df Model:}                           &           6      & \\textbf{                     } &             \\\\\n",
       "\\textbf{Covariance Type:}                    &    nonrobust     & \\textbf{                     } &             \\\\\n",
       "\\bottomrule\n",
       "\\end{tabular}\n",
       "\\begin{tabular}{lcccccc}\n",
       "                                             & \\textbf{coef} & \\textbf{std err} & \\textbf{t} & \\textbf{P$> |$t$|$} & \\textbf{[0.025} & \\textbf{0.975]}  \\\\\n",
       "\\midrule\n",
       "\\textbf{Intercept}                           &   -2.293e+04  &     1.65e+04     &    -1.392  &         0.176        &    -5.68e+04    &     1.09e+04     \\\\\n",
       "\\textbf{square\\_meters}                      &      22.5831  &        5.807     &     3.889  &         0.001        &       10.646    &       34.520     \\\\\n",
       "\\textbf{build\\_year}                         &      17.9687  &       12.585     &     1.428  &         0.165        &       -7.899    &       43.837     \\\\\n",
       "\\textbf{elevator}                            &    -519.4053  &      301.882     &    -1.721  &         0.097        &    -1139.932    &      101.122     \\\\\n",
       "\\textbf{washing\\_machine}                    &     437.9874  &      150.576     &     2.909  &         0.007        &      128.474    &      747.501     \\\\\n",
       "\\textbf{floor}                               &      37.6382  &       43.388     &     0.867  &         0.394        &      -51.547    &      126.823     \\\\\n",
       "\\textbf{building\\_type\\_apartment\\_building} &   -1.122e+04  &     8254.634     &    -1.359  &         0.186        &    -2.82e+04    &     5748.749     \\\\\n",
       "\\textbf{building\\_type\\_block\\_of\\_flats}    &   -1.171e+04  &     8221.855     &    -1.425  &         0.166        &    -2.86e+04    &     5185.329     \\\\\n",
       "\\bottomrule\n",
       "\\end{tabular}\n",
       "\\begin{tabular}{lclc}\n",
       "\\textbf{Omnibus:}       &  1.684 & \\textbf{  Durbin-Watson:     } &    2.186  \\\\\n",
       "\\textbf{Prob(Omnibus):} &  0.431 & \\textbf{  Jarque-Bera (JB):  } &    1.402  \\\\\n",
       "\\textbf{Skew:}          & -0.490 & \\textbf{  Prob(JB):          } &    0.496  \\\\\n",
       "\\textbf{Kurtosis:}      &  2.759 & \\textbf{  Cond. No.          } & 6.69e+18  \\\\\n",
       "\\bottomrule\n",
       "\\end{tabular}\n",
       "%\\caption{OLS Regression Results}\n",
       "\\end{center}\n",
       "\n",
       "Notes: \\newline\n",
       " [1] Standard Errors assume that the covariance matrix of the errors is correctly specified. \\newline\n",
       " [2] The smallest eigenvalue is 2.84e-30. This might indicate that there are \\newline\n",
       " strong multicollinearity problems or that the design matrix is singular."
      ],
      "text/plain": [
       "<class 'statsmodels.iolib.summary.Summary'>\n",
       "\"\"\"\n",
       "                            OLS Regression Results                            \n",
       "==============================================================================\n",
       "Dep. Variable:                      y   R-squared:                       0.600\n",
       "Model:                            OLS   Adj. R-squared:                  0.508\n",
       "Method:                 Least Squares   F-statistic:                     6.508\n",
       "Date:                Fri, 12 Jan 2024   Prob (F-statistic):           0.000277\n",
       "Time:                        21:16:28   Log-Likelihood:                -240.32\n",
       "No. Observations:                  33   AIC:                             494.6\n",
       "Df Residuals:                      26   BIC:                             505.1\n",
       "Df Model:                           6                                         \n",
       "Covariance Type:            nonrobust                                         \n",
       "====================================================================================================\n",
       "                                       coef    std err          t      P>|t|      [0.025      0.975]\n",
       "----------------------------------------------------------------------------------------------------\n",
       "Intercept                        -2.293e+04   1.65e+04     -1.392      0.176   -5.68e+04    1.09e+04\n",
       "square_meters                       22.5831      5.807      3.889      0.001      10.646      34.520\n",
       "build_year                          17.9687     12.585      1.428      0.165      -7.899      43.837\n",
       "elevator                          -519.4053    301.882     -1.721      0.097   -1139.932     101.122\n",
       "washing_machine                    437.9874    150.576      2.909      0.007     128.474     747.501\n",
       "floor                               37.6382     43.388      0.867      0.394     -51.547     126.823\n",
       "building_type_apartment_building -1.122e+04   8254.634     -1.359      0.186   -2.82e+04    5748.749\n",
       "building_type_block_of_flats     -1.171e+04   8221.855     -1.425      0.166   -2.86e+04    5185.329\n",
       "==============================================================================\n",
       "Omnibus:                        1.684   Durbin-Watson:                   2.186\n",
       "Prob(Omnibus):                  0.431   Jarque-Bera (JB):                1.402\n",
       "Skew:                          -0.490   Prob(JB):                        0.496\n",
       "Kurtosis:                       2.759   Cond. No.                     6.69e+18\n",
       "==============================================================================\n",
       "\n",
       "Notes:\n",
       "[1] Standard Errors assume that the covariance matrix of the errors is correctly specified.\n",
       "[2] The smallest eigenvalue is 2.84e-30. This might indicate that there are\n",
       "strong multicollinearity problems or that the design matrix is singular.\n",
       "\"\"\""
      ]
     },
     "execution_count": 339,
     "metadata": {},
     "output_type": "execute_result"
    }
   ],
   "source": [
    "results = model.fit().summary()\n",
    "results"
   ]
  },
  {
   "cell_type": "code",
   "execution_count": 340,
   "metadata": {},
   "outputs": [
    {
     "name": "stderr",
     "output_type": "stream",
     "text": [
      "C:\\Users\\karol\\AppData\\Local\\Temp\\ipykernel_21364\\3920633229.py:1: FutureWarning: The default value of numeric_only in DataFrame.corr is deprecated. In a future version, it will default to False. Select only valid columns or specify the value of numeric_only to silence this warning.\n",
      "  corr_matrix = df_model.corr()\n"
     ]
    },
    {
     "data": {
      "image/png": "[encoded data removed]",
      "text/plain": [
       "<Figure size 1200x800 with 2 Axes>"
      ]
     },
     "metadata": {},
     "output_type": "display_data"
    }
   ],
   "source": [
    "corr_matrix = df_model.corr()\n",
    "\n",
    "# Visualize the correlation matrix\n",
    "plt.figure(figsize=(12, 8))\n",
    "sns.heatmap(corr_matrix, annot=True, cmap='coolwarm', fmt='.2f')\n",
    "plt.title(\"Correlation Matrix\")\n",
    "plt.show()"
   ]
  },
  {
   "cell_type": "markdown",
   "metadata": {},
   "source": [
    "This heatmap is a correlation matrix displaying how closely the variables in our dataset are related to each other.<br>\n",
    "It's used here to detect multicollinearity, where some features might be too similar, providing overlapping information.<br>\n",
    "We're looking for highly correlated features (close to 1 or -1) to consider removing them, reducing multicollinearity,<br>\n",
    "and improving our model's reliability.\n"
   ]
  },
  {
   "cell_type": "code",
   "execution_count": 341,
   "metadata": {},
   "outputs": [
    {
     "name": "stdout",
     "output_type": "stream",
     "text": [
      "passed_t_variables: 2\n",
      "variables: 9\n",
      "percentage: 22.22\n"
     ]
    },
    {
     "data": {
      "text/html": [
       "<table class=\"simpletable\">\n",
       "<tr>\n",
       "  <td>washing_machine</td> <td>  437.9874</td> <td>  150.576</td> <td>    2.909</td> <td> 0.007</td> <td>  128.474</td> <td>  747.501</td>\n",
       "</tr>\n",
       "<tr>\n",
       "   <td>square_meters</td>  <td>   22.5831</td> <td>    5.807</td> <td>    3.889</td> <td> 0.001</td> <td>   10.646</td> <td>   34.520</td>\n",
       "</tr>\n",
       "</table>"
      ],
      "text/latex": [
       "\\begin{center}\n",
       "\\begin{tabular}{ccccccc}\n",
       "\\toprule\n",
       "washing\\_machine &   437.9874 &   150.576 &     2.909 &  0.007 &   128.474 &   747.501  \\\\\n",
       " square\\_meters  &    22.5831 &     5.807 &     3.889 &  0.001 &    10.646 &    34.520  \\\\\n",
       "\\bottomrule\n",
       "\\end{tabular}\n",
       "\\end{center}"
      ],
      "text/plain": [
       "<class 'statsmodels.iolib.table.SimpleTable'>"
      ]
     },
     "execution_count": 341,
     "metadata": {},
     "output_type": "execute_result"
    }
   ],
   "source": [
    "def get_t_results(results, t_cap):\n",
    "    table_index = 1\n",
    "\n",
    "    table_data = results.tables[table_index].data\n",
    "\n",
    "    filtered_data = [row for row in table_data if float(row[-2].replace(\"[\", \"\")) >= t_cap]\n",
    "\n",
    "    sorted_data = sorted(filtered_data, key=lambda x: float(x[-2].replace(\"[\", \"\")), reverse=True)\n",
    "\n",
    "    filtered_table = SimpleTable(sorted_data, title=results.tables[table_index].title)\n",
    "\n",
    "    print(f\"passed_t_variables: {len(filtered_data)}\")\n",
    "    print(f\"variables: {len(table_data)}\")\n",
    "    print(f\"percentage: {round((len(filtered_data) / len(table_data)) * 100, 2)}\")\n",
    "    return filtered_table\n",
    "\n",
    "get_t_results(results, 0.05)"
   ]
  },
  {
   "cell_type": "code",
   "execution_count": 342,
   "metadata": {},
   "outputs": [
    {
     "data": {
      "text/plain": [
       "-358.1956739885619"
      ]
     },
     "execution_count": 342,
     "metadata": {},
     "output_type": "execute_result"
    }
   ],
   "source": [
    "lm = LinearRegression()\n",
    "lm.fit(X_train, Y_train)\n",
    "\n",
    "np.mean(cross_val_score(lm,X_train,Y_train, scoring = 'neg_mean_absolute_error', cv=10))"
   ]
  },
  {
   "cell_type": "markdown",
   "metadata": {},
   "source": [
    "## 5. Simplifying the Model with Lasso Regression\n",
    "In this step, we use a technique called Lasso regression, which helps us simplify our prediction model.<br>\n",
    "Think of Lasso as a sculptor who chisels away the less important parts of a statue; similarly, Lasso reduces the impact of less important information when making predictions.<br>\n",
    "We try out different levels of simplification, which in Lasso are called `alpha values`, and for each level, we measure how far off our predictions are from the actual numbers using something called the mean absolute error.<br>\n",
    "Our goal is to find the right balance where the model is simple but still makes accurate predictions."
   ]
  },
  {
   "cell_type": "code",
   "execution_count": 343,
   "metadata": {},
   "outputs": [
    {
     "data": {
      "text/plain": [
       "-356.52042366621606"
      ]
     },
     "execution_count": 343,
     "metadata": {},
     "output_type": "execute_result"
    }
   ],
   "source": [
    "lm_l = Lasso(alpha=.99)\n",
    "lm_l.fit(X_train,Y_train)\n",
    "avg_score = np.mean(cross_val_score(lm_l,X_train,Y_train, scoring = 'neg_mean_absolute_error', cv= 10))\n",
    "avg_score"
   ]
  },
  {
   "cell_type": "code",
   "execution_count": 344,
   "metadata": {},
   "outputs": [
    {
     "data": {
      "image/png": "[encoded data removed]",
      "text/plain": [
       "<Figure size 640x480 with 1 Axes>"
      ]
     },
     "metadata": {},
     "output_type": "display_data"
    },
    {
     "name": "stdout",
     "output_type": "stream",
     "text": [
      "Best alpha: 0.99\n"
     ]
    }
   ],
   "source": [
    "alpha = []\n",
    "error = []\n",
    "\n",
    "# Loop to populate alpha and error lists\n",
    "for i in range(1,100):\n",
    "    alpha.append(i/100)\n",
    "    lml = Lasso(alpha=(i/100))\n",
    "    error.append(np.mean(cross_val_score(lml, X_train, Y_train, scoring='neg_mean_absolute_error', cv=10)))\n",
    "\n",
    "# Plotting\n",
    "plt.plot(alpha, error)\n",
    "plt.show()\n",
    "\n",
    "# Finding the best alpha\n",
    "best_alpha_index = np.argmax(error)  # Get the index of the best error\n",
    "best_alpha = alpha[best_alpha_index]  # Use index to find the corresponding alpha\n",
    "print(f\"Best alpha: {best_alpha}\")\n"
   ]
  },
  {
   "cell_type": "markdown",
   "metadata": {},
   "source": [
    "## 6. Building a Decision-Making Forest\n",
    "Here, we embark on constructing a 'Random Forest'—an assembly of decision trees working together to make more accurate predictions than any single tree could alone. Imagine a random forest as a team of experts where each member brings their own perspective; they debate and combine their knowledge to arrive at the best possible decision. Our random forest model, known as 'rf', learns from different parts of our data and then aggregates this learning to predict values like rental prices. To gauge how well our random forest is performing, we use a method called cross-validation, which is like a series of practice runs. It splits our data into smaller sections, trains the forest on some sections, and tests it on others, over and over. After these practice runs, we calculate the 'mean absolute error'—an average of how much our forest's predictions deviate from the actual prices. Lower error means our forest is wise and its predictions are close to reality."
   ]
  },
  {
   "cell_type": "code",
   "execution_count": 345,
   "metadata": {},
   "outputs": [
    {
     "data": {
      "text/plain": [
       "-380.28222222222223"
      ]
     },
     "execution_count": 345,
     "metadata": {},
     "output_type": "execute_result"
    }
   ],
   "source": [
    "rf = RandomForestRegressor()\n",
    "\n",
    "np.mean(cross_val_score(rf,X_train,Y_train,scoring = 'neg_mean_absolute_error', cv= 15))"
   ]
  },
  {
   "cell_type": "markdown",
   "metadata": {},
   "source": [
    "## 7. Optimizing Model Parameters with GridSearchCV\n",
    "This section is dedicated to refining the performance of our Random Forest model by adjusting its hyperparameters—the settings that dictate the model's learning behavior. We employ a method known as GridSearchCV, which stands for Grid Search with Cross-Validation. This technique systematically explores a range of values for different hyperparameters, such as 'n_estimators,' which determines the number of decision trees in our forest; 'criterion,' which sets the measure of quality for a split in the trees; and 'max_features,' which specifies the maximum number of features the model considers when making a split.\n",
    "\n",
    "GridSearchCV conducts a thorough search across a predefined grid of hyperparameter values, evaluating the model's performance for each combination through cross-validation. Cross-validation is a robust assessment technique that divides the data into subsets, uses some for training and some for evaluation, and then rotates these roles to average out the model's predictive accuracy.\n",
    "\n",
    "The process aims to identify the optimal combination of hyperparameters that minimizes the mean absolute error—a metric that quantifies the average magnitude of errors in the model's predictions, disregarding their direction."
   ]
  },
  {
   "cell_type": "code",
   "execution_count": 346,
   "metadata": {},
   "outputs": [],
   "source": [
    "parameters = {'n_estimators':range(10,300,10), 'criterion':('friedman_mse','absolute_error', 'poisson', 'squared_error'), 'max_features':('auto','sqrt','log2')}\n",
    "\n",
    "# gs = GridSearchCV(rf,parameters,scoring='neg_mean_absolute_error',cv=10)\n",
    "# gs.fit(X_train,Y_train)\n",
    "\n",
    "# gs.best_score_\n",
    "# gs.best_estimator_"
   ]
  },
  {
   "cell_type": "code",
   "execution_count": 347,
   "metadata": {},
   "outputs": [
    {
     "name": "stdout",
     "output_type": "stream",
     "text": [
      "tpred_lm: 298.4350320745911\n",
      "tpred_lml: 298.09065497671287\n",
      "tpred_lm + tpred_lml: 298.262843525652\n"
     ]
    }
   ],
   "source": [
    "# test ensembles \n",
    "tpred_lm = lm.predict(X_test)\n",
    "tpred_lml = lm_l.predict(X_test)\n",
    "# tpred_rf = gs.best_estimator_.predict(X_test)\n",
    "\n",
    "print(f\"tpred_lm: {mean_absolute_error(Y_test,tpred_lm)}\")\n",
    "print(f\"tpred_lml: {mean_absolute_error(Y_test,tpred_lml)}\")\n",
    "# print(f\"tpred_rf: {mean_absolute_error(Y_test,tpred_rf)}\")\n",
    "\n",
    "# print(f\"tpred_lm + tpred_rf: {mean_absolute_error(Y_test,(tpred_lm+tpred_rf)/2)}\")\n",
    "print(f\"tpred_lm + tpred_lml: {mean_absolute_error(Y_test,(tpred_lm+tpred_lml)/2)}\")\n",
    "# print(f\"tpred_rf + tpred_lml: {mean_absolute_error(Y_test,(tpred_lml+tpred_rf)/2)}\")"
   ]
  },
  {
   "cell_type": "markdown",
   "metadata": {},
   "source": [
    "## 8. Other models\n",
    "The Gradient Boosting Regressor (`GBM`), Support Vector Machine Regressor (`SVM`), and Decision Tree Regressor (`DT`) are three distinct machine learning models initialized and trained on our dataset to predict rental prices.<br>\n",
    "The `GBM` model, known for its predictive accuracy by combining multiple weak learners,<br>\n",
    "the `SVM` that excels in high-dimensional spaces,<br>\n",
    "and the `DT` breaks down a dataset into smaller and smaller subsets while at the same time an associated decision tree is incrementally developed,<br>\n",
    "all exhibit varied approaches to the regression task.<br>\n",
    "After being trained, each model's performance is evaluated using the Mean Absolute Error (`MAE`) metric on a set of test data, providing a straightforward comparison of their predictive capabilities."
   ]
  },
  {
   "cell_type": "markdown",
   "metadata": {},
   "source": [
    "### 8.1 Testing other models"
   ]
  },
  {
   "cell_type": "code",
   "execution_count": 348,
   "metadata": {},
   "outputs": [
    {
     "name": "stdout",
     "output_type": "stream",
     "text": [
      "tpred_gbm: 503.8079290154982\n",
      "tpred_svm: 300.66649116111665\n",
      "tpred_dt: 546.4444444444445\n",
      "tpred_lm + tpred_gbm: 401.1214805450447\n",
      "tpred_lml + tpred_dt: 365.0755804886519\n"
     ]
    }
   ],
   "source": [
    "from sklearn.ensemble import GradientBoostingRegressor\n",
    "from sklearn.svm import SVR\n",
    "from sklearn.tree import DecisionTreeRegressor\n",
    "\n",
    "# Initialize the new models\n",
    "gbm = GradientBoostingRegressor()\n",
    "svm = SVR()\n",
    "dt = DecisionTreeRegressor()\n",
    "\n",
    "# Fit the models to the training data\n",
    "gbm.fit(X_train, Y_train)\n",
    "svm.fit(X_train, Y_train)\n",
    "dt.fit(X_train, Y_train)\n",
    "\n",
    "# Make predictions\n",
    "tpred_gbm = gbm.predict(X_test)\n",
    "tpred_svm = svm.predict(X_test)\n",
    "tpred_dt = dt.predict(X_test)\n",
    "\n",
    "# Print MAE for each model\n",
    "print(f\"tpred_gbm: {mean_absolute_error(Y_test, tpred_gbm)}\")\n",
    "print(f\"tpred_svm: {mean_absolute_error(Y_test, tpred_svm)}\")\n",
    "print(f\"tpred_dt: {mean_absolute_error(Y_test, tpred_dt)}\")\n",
    "\n",
    "# Ensemble predictions with new models\n",
    "print(f\"tpred_lm + tpred_gbm: {mean_absolute_error(Y_test, (tpred_lm+tpred_gbm)/2)}\")\n",
    "# print(f\"tpred_rf + tpred_svm: {mean_absolute_error(Y_test, (tpred_rf+tpred_svm)/2)}\")\n",
    "print(f\"tpred_lml + tpred_dt: {mean_absolute_error(Y_test, (tpred_lml+tpred_dt)/2)}\")"
   ]
  },
  {
   "cell_type": "markdown",
   "metadata": {},
   "source": [
    "### 8.2 Fine tuning selected model\n",
    "`Grid Search` and `Randomized Search`, to optimize the `hyperparameters` of a `Gradient Boosting Regressor` model, aiming to find the configuration that minimizes prediction error as measured by the Mean Absolute Error (`MAE`)."
   ]
  },
  {
   "cell_type": "markdown",
   "metadata": {},
   "source": [
    "#### 8.2.1 Grid Search Cross-Validation"
   ]
  },
  {
   "cell_type": "code",
   "execution_count": 349,
   "metadata": {},
   "outputs": [],
   "source": [
    "param_grid = {\n",
    "    'n_estimators': [100, 200, 300],\n",
    "    'learning_rate': [0.01, 0.1, 0.2],\n",
    "    'max_depth': [3, 4, 5],\n",
    "    # Add other parameters here\n",
    "}\n",
    "\n",
    "grid_search = GridSearchCV(GradientBoostingRegressor(), param_grid, cv=5, scoring='neg_mean_absolute_error')\n",
    "grid_search.fit(X_train, Y_train)\n",
    "gsc_best_params = grid_search.best_params_"
   ]
  },
  {
   "cell_type": "markdown",
   "metadata": {},
   "source": [
    "#### 8.2.2 Randomized Search Cross-Validation"
   ]
  },
  {
   "cell_type": "code",
   "execution_count": 350,
   "metadata": {},
   "outputs": [],
   "source": [
    "from sklearn.model_selection import RandomizedSearchCV\n",
    "from scipy.stats import randint as sp_randint\n",
    "\n",
    "param_dist = {\n",
    "    'n_estimators': sp_randint(100, 500),\n",
    "    'learning_rate': [0.01, 0.05, 0.1, 0.2],\n",
    "    'max_depth': sp_randint(3, 10),\n",
    "    # 'min_samples_split': sp_randint(2, 10),\n",
    "    # 'min_samples_leaf': sp_randint(1, 10),\n",
    "    # 'subsample': [0.6, 0.7, 0.8, 0.9, 1.0],\n",
    "    # 'max_features': ['auto', 'sqrt', 'log2', None],\n",
    "    # 'loss': ['absolute_error', 'quantile', 'squared_error', 'huber'],\n",
    "    # 'criterion': ['friedman_mse', 'squared_error']\n",
    "}\n",
    "\n",
    "n_iter_search = 20\n",
    "random_search = RandomizedSearchCV(GradientBoostingRegressor(), param_distributions=param_dist,\n",
    "                                   n_iter=n_iter_search, cv=3, scoring='neg_mean_absolute_error')\n",
    "random_search.fit(X_train, Y_train)\n",
    "rsc_best_params = random_search.best_params_\n"
   ]
  },
  {
   "cell_type": "markdown",
   "metadata": {},
   "source": [
    "#### 8.2.3 Evaluating the params"
   ]
  },
  {
   "cell_type": "code",
   "execution_count": 351,
   "metadata": {},
   "outputs": [
    {
     "name": "stdout",
     "output_type": "stream",
     "text": [
      "MAE for Grid Search model: 317.6106303250012\n",
      "MAE for Randomized Search model: 372.99619838626154\n"
     ]
    }
   ],
   "source": [
    "# Using the best parameters from Grid Search to create and fit the model\n",
    "gbm_grid = GradientBoostingRegressor(**gsc_best_params)\n",
    "gbm_grid.fit(X_train, Y_train)\n",
    "tpred_gbm_grid = gbm_grid.predict(X_test)\n",
    "mae_gbm_grid = mean_absolute_error(Y_test, tpred_gbm_grid)\n",
    "print(f\"MAE for Grid Search model: {mae_gbm_grid}\")\n",
    "\n",
    "# Using the best parameters from Randomized Search to create and fit the model\n",
    "gbm_random = GradientBoostingRegressor(**rsc_best_params)\n",
    "gbm_random.fit(X_train, Y_train)\n",
    "tpred_gbm_random = gbm_random.predict(X_test)\n",
    "mae_gbm_random = mean_absolute_error(Y_test, tpred_gbm_random)\n",
    "print(f\"MAE for Randomized Search model: {mae_gbm_random}\")"
   ]
  },
  {
   "cell_type": "markdown",
   "metadata": {},
   "source": [
    "## 9. Save model and validate it on selected sample"
   ]
  },
  {
   "cell_type": "code",
   "execution_count": 352,
   "metadata": {},
   "outputs": [],
   "source": [
    "def save_dataframe_metadata(df, file_path):\n",
    "    \"\"\"\n",
    "    Save the column names, data types, and column order of any DataFrame to a JSON file.\n",
    "\n",
    "    Args:\n",
    "    df (pandas.DataFrame): The DataFrame from which to save metadata.\n",
    "    file_path (str): Path to save the JSON file containing the metadata.\n",
    "    \"\"\"\n",
    "    metadata = {\n",
    "        'columns': {col: str(df[col].dtype) for col in df.columns},\n",
    "        'column_order': list(df.columns)\n",
    "    }\n",
    "\n",
    "    with open(file_path, 'w') as file:\n",
    "        json.dump(metadata, file, indent=4)"
   ]
  },
  {
   "cell_type": "code",
   "execution_count": 373,
   "metadata": {},
   "outputs": [],
   "source": [
    "# Assuming 'svm' is the model you want to save\n",
    "pickl = {'model': svm}\n",
    "\n",
    "# Saving the model to a file\n",
    "pickle.dump(pickl, open('svm_model_file.p', 'wb'))"
   ]
  },
  {
   "cell_type": "code",
   "execution_count": 374,
   "metadata": {},
   "outputs": [],
   "source": [
    "file_name = \"svm_model_file.p\"\n",
    "with open(file_name, 'rb') as pickled:\n",
    "    data = pickle.load(pickled)\n",
    "    model = data.get('model')"
   ]
  },
  {
   "cell_type": "code",
   "execution_count": 375,
   "metadata": {},
   "outputs": [
    {
     "name": "stdout",
     "output_type": "stream",
     "text": [
      "Prediction: [1900.99914035]\n"
     ]
    }
   ],
   "source": [
    "# Check if model is loaded correctly\n",
    "if hasattr(model, 'predict'):\n",
    "    # Assuming X_test is defined and valid\n",
    "    random_sample = X_test[random.randint(0, X_test.shape[0]-1)]  # Use shape[0] for the number of rows\n",
    "    prediction = model.predict(random_sample.reshape(1, -1))\n",
    "    print(\"Prediction:\", prediction)\n",
    "else:\n",
    "    print(\"Loaded data is not a model or does not have a predict method.\")"
   ]
  },
  {
   "cell_type": "code",
   "execution_count": 376,
   "metadata": {},
   "outputs": [],
   "source": [
    "# Save df_dum's X axis data structure to 'gbm_model_metadata.json'\n",
    "# to ensure the other non-training data matches the model's training format.\n",
    "save_dataframe_metadata(X, 'svm_model_metadata.json')"
   ]
  },
  {
   "cell_type": "code",
   "execution_count": 377,
   "metadata": {},
   "outputs": [],
   "source": [
    "random_sample = X_test[random.randint(0, X_test.shape[1])]"
   ]
  },
  {
   "cell_type": "code",
   "execution_count": 378,
   "metadata": {},
   "outputs": [
    {
     "data": {
      "text/plain": [
       "array([6.00e+01, 1.96e+03, 0.00e+00, 1.00e+00, 0.00e+00, 0.00e+00,\n",
       "       1.00e+00])"
      ]
     },
     "execution_count": 378,
     "metadata": {},
     "output_type": "execute_result"
    }
   ],
   "source": [
    "random_sample"
   ]
  },
  {
   "cell_type": "code",
   "execution_count": 379,
   "metadata": {},
   "outputs": [
    {
     "data": {
      "text/plain": [
       "array([1901.00217267])"
      ]
     },
     "execution_count": 379,
     "metadata": {},
     "output_type": "execute_result"
    }
   ],
   "source": [
    "model.predict(random_sample.reshape(1, -1))"
   ]
  },
  {
   "cell_type": "code",
   "execution_count": 380,
   "metadata": {},
   "outputs": [
    {
     "data": {
      "text/plain": [
       "[60.0, 1960.0, 0.0, 1.0, 0.0, 0.0, 1.0]"
      ]
     },
     "execution_count": 380,
     "metadata": {},
     "output_type": "execute_result"
    }
   ],
   "source": [
    "list(random_sample)"
   ]
  }
 ],
 "metadata": {
  "kernelspec": {
   "display_name": "Python 3",
   "language": "python",
   "name": "python3"
  },
  "language_info": {
   "codemirror_mode": {
    "name": "ipython",
    "version": 3
   },
   "file_extension": ".py",
   "mimetype": "text/x-python",
   "name": "python",
   "nbconvert_exporter": "python",
   "pygments_lexer": "ipython3",
   "version": "3.11.1"
  }
 },
 "nbformat": 4,
 "nbformat_minor": 2
}
