{
 "cells": [
  {
   "cell_type": "markdown",
   "metadata": {},
   "source": [
    "## 1. Upload the data nd libraries"
   ]
  },
  {
   "cell_type": "markdown",
   "metadata": {},
   "source": [
    "### 1.1 Imports necessary libraries"
   ]
  },
  {
   "cell_type": "code",
   "execution_count": 1,
   "metadata": {},
   "outputs": [],
   "source": [
    "# Python\n",
    "import pickle\n",
    "\n",
    "# Third party\n",
    "import matplotlib.pyplot as plt\n",
    "import numpy as np\n",
    "import pandas as pd\n",
    "import statsmodels.api as sm\n",
    "from statsmodels.iolib.table import SimpleTable\n",
    "from sklearn.ensemble import RandomForestRegressor\n",
    "from sklearn.linear_model import LinearRegression, Lasso\n",
    "from sklearn.metrics import mean_absolute_error\n",
    "from sklearn.model_selection import GridSearchCV\n",
    "from sklearn.model_selection import cross_val_score\n",
    "from sklearn.model_selection import train_test_split\n",
    "\n",
    "# Local imports\n",
    "from _csv_utils import data_timeplace, DataPathCleaningManager"
   ]
  },
  {
   "cell_type": "markdown",
   "metadata": {},
   "source": [
    "### 1.2 Import the data"
   ]
  },
  {
   "cell_type": "code",
   "execution_count": 2,
   "metadata": {},
   "outputs": [],
   "source": [
    "\n",
    "data_path_manager = DataPathCleaningManager(data_timeplace)\n",
    "df = data_path_manager._load_cleaned_df(domain=\"combined\")"
   ]
  },
  {
   "cell_type": "code",
   "execution_count": 3,
   "metadata": {},
   "outputs": [
    {
     "data": {
      "text/plain": [
       "[('listing', 'link'),\n",
       " ('listing', 'title'),\n",
       " ('listing', 'summary_description'),\n",
       " ('listing', 'remote_service'),\n",
       " ('pricing', 'price'),\n",
       " ('pricing', 'rent'),\n",
       " ('pricing', 'total_rent'),\n",
       " ('pricing', 'total_rent_sqm'),\n",
       " ('pricing', 'deposit'),\n",
       " ('pricing', 'deposit_ratio'),\n",
       " ('location', 'complete_address'),\n",
       " ('location', 'street'),\n",
       " ('location', 'city'),\n",
       " ('location', 'voivodeship'),\n",
       " ('size', 'square_meters'),\n",
       " ('size', 'number_of_rooms'),\n",
       " ('size', 'floor'),\n",
       " ('size', 'attic'),\n",
       " ('size', 'building_floors'),\n",
       " ('legal_and_availability', 'available_from'),\n",
       " ('legal_and_availability', 'completion'),\n",
       " ('legal_and_availability', 'ownership'),\n",
       " ('legal_and_availability', 'rent_to_students'),\n",
       " ('type_and_year', 'building_type'),\n",
       " ('type_and_year', 'build_year'),\n",
       " ('amenities', 'elevator'),\n",
       " ('amenities', 'parking_space'),\n",
       " ('equipment', 'no_information'),\n",
       " ('equipment', 'stove'),\n",
       " ('equipment', 'fridge'),\n",
       " ('equipment', 'furniture'),\n",
       " ('equipment', 'oven'),\n",
       " ('equipment', 'washing_machine'),\n",
       " ('equipment', 'TV'),\n",
       " ('equipment', 'dishwasher'),\n",
       " ('media_types', 'no_information'),\n",
       " ('media_types', 'internet'),\n",
       " ('media_types', 'telephone'),\n",
       " ('media_types', 'cable_TV'),\n",
       " ('heating', 'no_information'),\n",
       " ('heating', 'electric'),\n",
       " ('heating', 'gas'),\n",
       " ('heating', 'other'),\n",
       " ('heating', 'boiler_room'),\n",
       " ('heating', 'district'),\n",
       " ('heating', 'tile_stove'),\n",
       " ('security', 'no_information'),\n",
       " ('security', 'intercom_or_video_intercom'),\n",
       " ('security', 'anti_burglary_doors_or_windows'),\n",
       " ('security', 'monitoring_or_security'),\n",
       " ('security', 'anti_burglary_roller_blinds'),\n",
       " ('security', 'alarm_system'),\n",
       " ('security', 'enclosed_area'),\n",
       " ('windows', 'aluminum'),\n",
       " ('windows', 'no_information'),\n",
       " ('windows', 'wooden'),\n",
       " ('windows', 'plastic'),\n",
       " ('building_material', 'concrete'),\n",
       " ('building_material', 'aerated_concrete'),\n",
       " ('building_material', 'no_information'),\n",
       " ('building_material', 'brick'),\n",
       " ('building_material', 'wood'),\n",
       " ('building_material', 'other'),\n",
       " ('building_material', 'lightweight_aggregate'),\n",
       " ('building_material', 'hollow_brick'),\n",
       " ('building_material', 'silicate'),\n",
       " ('building_material', 'large_panel'),\n",
       " ('building_material', 'reinforced_concrete'),\n",
       " ('additional_information', 'no_information'),\n",
       " ('additional_information', 'duplex'),\n",
       " ('additional_information', 'air_conditioning'),\n",
       " ('additional_information', 'separate_kitchen'),\n",
       " ('additional_information', 'basement'),\n",
       " ('additional_information', 'utility_room'),\n",
       " ('additional_information', 'non_smokers_only')]"
      ]
     },
     "execution_count": 3,
     "metadata": {},
     "output_type": "execute_result"
    }
   ],
   "source": [
    "# choose relevant columns\n",
    "df.columns.tolist()"
   ]
  },
  {
   "cell_type": "markdown",
   "metadata": {},
   "source": [
    "### 1.3 Select relevant data"
   ]
  },
  {
   "cell_type": "code",
   "execution_count": null,
   "metadata": {},
   "outputs": [],
   "source": [
    "df_model = pd.DataFrame()\n",
    "\n",
    "columns_to_select = [\n",
    "    ('Job_details', 'Country'),\n",
    "    ('Job_details', 'Seniority'),\n",
    "    ('Job_details', 'Job_age'),\n",
    "    ('Salary', 'Avg'),\n",
    "    ('Salary', 'Employer_provided'),\n",
    "    ('Salary', 'Is_hourly'),\n",
    "    ('Company_info', 'Rating'),\n",
    "    ('Company_info', 'Employees'),\n",
    "    ('Company_info', 'Type_of_ownership'),\n",
    "    ('Company_info', 'Sector'),\n",
    "    ('Company_info', 'Company_age'),\n",
    "    ('Company_info', 'Revenue_USD'),\n",
    "    ('Programming_languages', 'SQL'),\n",
    "    ('Programming_languages', 'Python'),\n",
    "    ('Programming_languages', 'Java'),\n",
    "    ('Programming_languages', 'Scala'),\n",
    "    ('Cloud_platforms', 'Microsoft_Azure'),\n",
    "    ('Cloud_platforms', 'AWS'),\n",
    "    ('Cloud_platforms', 'GPC'),\n",
    "    ('Data_integration_and_processing', 'Databricks'),\n",
    "    ('Search_&_Analytics', 'Snowflake'),\n",
    "    ('Stream_processing_tools', 'Apache_Kafka'),\n",
    "    ('Big_Data_processing', 'Apache_Spark')\n",
    "]\n",
    "\n",
    "extracted_columns = df.loc[:, columns_to_select]\n",
    "\n",
    "extracted_columns.columns = extracted_columns.columns.droplevel(0)\n",
    "\n",
    "extracted_columns = extracted_columns.rename(columns={'Avg': 'Salary_avg'})\n",
    "\n",
    "df_model[extracted_columns.columns] = extracted_columns\n",
    "\n",
    "df_model.columns\n"
   ]
  }
 ],
 "metadata": {
  "kernelspec": {
   "display_name": "Python 3",
   "language": "python",
   "name": "python3"
  },
  "language_info": {
   "codemirror_mode": {
    "name": "ipython",
    "version": 3
   },
   "file_extension": ".py",
   "mimetype": "text/x-python",
   "name": "python",
   "nbconvert_exporter": "python",
   "pygments_lexer": "ipython3",
   "version": "3.11.1"
  }
 },
 "nbformat": 4,
 "nbformat_minor": 2
}
