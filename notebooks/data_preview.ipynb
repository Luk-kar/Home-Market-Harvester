{
 "cells": [
  {
   "cell_type": "markdown",
   "metadata": {},
   "source": [
    "# Data Preview"
   ]
  },
  {
   "cell_type": "markdown",
   "metadata": {},
   "source": [
    "## 1. Importing data"
   ]
  },
  {
   "cell_type": "code",
   "execution_count": 43,
   "metadata": {},
   "outputs": [],
   "source": [
    "import pandas as pd\n",
    "import numpy as np\n",
    "\n",
    "# Specify the file path of the CSV file\n",
    "file_paths = {\n",
    "    \"olx\": \"..\\\\data\\\\raw\\\\2023_11_27_19_41_45_Mierzęcice__Będziński__Śląskie\\\\olx.pl.csv\",\n",
    "    \"otodom\": \"..\\\\data\\\\raw\\\\2023_11_27_19_41_45_Mierzęcice__Będziński__Śląskie\\\\otodom.pl.csv\"\n",
    "}\n",
    "\n",
    "# Read the CSV file into a pandas DataFrame\n",
    "df_otodom = pd.read_csv(file_paths[\"otodom\"])\n",
    "df_olx = pd.read_csv(file_paths[\"olx\"])"
   ]
  },
  {
   "cell_type": "markdown",
   "metadata": {},
   "source": [
    "## 2. Data preview"
   ]
  },
  {
   "cell_type": "markdown",
   "metadata": {},
   "source": [
    "### 2.1 OLX"
   ]
  },
  {
   "cell_type": "code",
   "execution_count": 2,
   "metadata": {},
   "outputs": [
    {
     "data": {
      "text/html": [
       "<div>\n",
       "<style scoped>\n",
       "    .dataframe tbody tr th:only-of-type {\n",
       "        vertical-align: middle;\n",
       "    }\n",
       "\n",
       "    .dataframe tbody tr th {\n",
       "        vertical-align: top;\n",
       "    }\n",
       "\n",
       "    .dataframe thead th {\n",
       "        text-align: right;\n",
       "    }\n",
       "</style>\n",
       "<table border=\"1\" class=\"dataframe\">\n",
       "  <thead>\n",
       "    <tr style=\"text-align: right;\">\n",
       "      <th></th>\n",
       "      <th>link</th>\n",
       "      <th>title</th>\n",
       "      <th>price</th>\n",
       "      <th>summary_description</th>\n",
       "      <th>location</th>\n",
       "      <th>ownership</th>\n",
       "      <th>floor_level</th>\n",
       "      <th>is_furnished</th>\n",
       "      <th>building_type</th>\n",
       "      <th>square_meters</th>\n",
       "      <th>number_of_rooms</th>\n",
       "      <th>rent</th>\n",
       "    </tr>\n",
       "  </thead>\n",
       "  <tbody>\n",
       "    <tr>\n",
       "      <th>0</th>\n",
       "      <td>https://www.olx.pl/d/oferta/kawalerka-tychy-os...</td>\n",
       "      <td>Kawalerka Tychy oś M</td>\n",
       "      <td>1 500 zł</td>\n",
       "      <td>OpisWynajmę kawalerkę na ul Moniuszki 1/16 .na...</td>\n",
       "      <td>Śląskie, Zawada</td>\n",
       "      <td>Prywatne</td>\n",
       "      <td>Poziom: 3</td>\n",
       "      <td>Umeblowane: Nie</td>\n",
       "      <td>Rodzaj zabudowy: Apartamentowiec</td>\n",
       "      <td>Powierzchnia: 26 m²</td>\n",
       "      <td>Liczba pokoi: Kawalerka</td>\n",
       "      <td>Czynsz (dodatkowo): 400 zł</td>\n",
       "    </tr>\n",
       "  </tbody>\n",
       "</table>\n",
       "</div>"
      ],
      "text/plain": [
       "                                                link                 title  \\\n",
       "0  https://www.olx.pl/d/oferta/kawalerka-tychy-os...  Kawalerka Tychy oś M   \n",
       "\n",
       "      price                                summary_description  \\\n",
       "0  1 500 zł  OpisWynajmę kawalerkę na ul Moniuszki 1/16 .na...   \n",
       "\n",
       "          location ownership floor_level     is_furnished  \\\n",
       "0  Śląskie, Zawada  Prywatne   Poziom: 3  Umeblowane: Nie   \n",
       "\n",
       "                      building_type        square_meters  \\\n",
       "0  Rodzaj zabudowy: Apartamentowiec  Powierzchnia: 26 m²   \n",
       "\n",
       "           number_of_rooms                        rent  \n",
       "0  Liczba pokoi: Kawalerka  Czynsz (dodatkowo): 400 zł  "
      ]
     },
     "execution_count": 2,
     "metadata": {},
     "output_type": "execute_result"
    }
   ],
   "source": [
    "df_olx.head()"
   ]
  },
  {
   "cell_type": "code",
   "execution_count": 3,
   "metadata": {},
   "outputs": [
    {
     "data": {
      "text/plain": [
       "Index(['link', 'title', 'price', 'summary_description', 'location',\n",
       "       'ownership', 'floor_level', 'is_furnished', 'building_type',\n",
       "       'square_meters', 'number_of_rooms', 'rent'],\n",
       "      dtype='object')"
      ]
     },
     "execution_count": 3,
     "metadata": {},
     "output_type": "execute_result"
    }
   ],
   "source": [
    "df_olx.columns"
   ]
  },
  {
   "cell_type": "markdown",
   "metadata": {},
   "source": [
    "### 2.2 Otodom"
   ]
  },
  {
   "cell_type": "markdown",
   "metadata": {},
   "source": [
    "### 2.2.1 Data Shape"
   ]
  },
  {
   "cell_type": "code",
   "execution_count": 4,
   "metadata": {},
   "outputs": [
    {
     "data": {
      "text/html": [
       "<div>\n",
       "<style scoped>\n",
       "    .dataframe tbody tr th:only-of-type {\n",
       "        vertical-align: middle;\n",
       "    }\n",
       "\n",
       "    .dataframe tbody tr th {\n",
       "        vertical-align: top;\n",
       "    }\n",
       "\n",
       "    .dataframe thead th {\n",
       "        text-align: right;\n",
       "    }\n",
       "</style>\n",
       "<table border=\"1\" class=\"dataframe\">\n",
       "  <thead>\n",
       "    <tr style=\"text-align: right;\">\n",
       "      <th></th>\n",
       "      <th>link</th>\n",
       "      <th>title</th>\n",
       "      <th>location</th>\n",
       "      <th>price</th>\n",
       "      <th>summary_description</th>\n",
       "      <th>square_meters</th>\n",
       "      <th>rent</th>\n",
       "      <th>number_of_rooms</th>\n",
       "      <th>deposit</th>\n",
       "      <th>floor_level</th>\n",
       "      <th>...</th>\n",
       "      <th>equipment</th>\n",
       "      <th>media_types</th>\n",
       "      <th>heating</th>\n",
       "      <th>security</th>\n",
       "      <th>windows</th>\n",
       "      <th>elevator</th>\n",
       "      <th>parking_space</th>\n",
       "      <th>build_year</th>\n",
       "      <th>building_material</th>\n",
       "      <th>additional_information</th>\n",
       "    </tr>\n",
       "  </thead>\n",
       "  <tbody>\n",
       "    <tr>\n",
       "      <th>0</th>\n",
       "      <td>https://www.otodom.pl/pl/oferta/mieszkania-2-p...</td>\n",
       "      <td>Mieszkania 2 pokojowe cena z ogrzewaniem</td>\n",
       "      <td>ul. Karola Szymanowskiego 44, Zagórze Północ, ...</td>\n",
       "      <td>2 000 zł</td>\n",
       "      <td>Do wynajęcia 6 mieszkań o powierzchni od 42-58...</td>\n",
       "      <td>42 m²</td>\n",
       "      <td>NaN</td>\n",
       "      <td>2</td>\n",
       "      <td>4 000 zł</td>\n",
       "      <td>parter/2</td>\n",
       "      <td>...</td>\n",
       "      <td>lodówka, meble, piekarnik, kuchenka, pralka</td>\n",
       "      <td>telewizja kablowa, internet</td>\n",
       "      <td>gazowe</td>\n",
       "      <td>drzwi / okna antywłamaniowe, teren zamknięty, ...</td>\n",
       "      <td>plastikowe</td>\n",
       "      <td>nie</td>\n",
       "      <td>garaż/miejsce parkingowe</td>\n",
       "      <td>brak informacji</td>\n",
       "      <td>cegła</td>\n",
       "      <td>piwnica, oddzielna kuchnia, pom. użytkowe</td>\n",
       "    </tr>\n",
       "    <tr>\n",
       "      <th>1</th>\n",
       "      <td>https://www.otodom.pl/pl/oferta/kawalerka-w-ka...</td>\n",
       "      <td>Kawalerka w Katowicach do wynajęcia od zaraz</td>\n",
       "      <td>ul. Haliny Krahelskiej, Osiedle Paderewskiego-...</td>\n",
       "      <td>1 500 zł</td>\n",
       "      <td>Nowe, (2018), komfortowe, jasne, w pełni wypos...</td>\n",
       "      <td>19 m²</td>\n",
       "      <td>250 zł/miesiąc</td>\n",
       "      <td>1</td>\n",
       "      <td>1 500 zł</td>\n",
       "      <td>3/3</td>\n",
       "      <td>...</td>\n",
       "      <td>zmywarka, lodówka, meble, kuchenka, telewizor,...</td>\n",
       "      <td>telewizja kablowa, internet</td>\n",
       "      <td>gazowe</td>\n",
       "      <td>teren zamknięty, domofon / wideofon</td>\n",
       "      <td>plastikowe</td>\n",
       "      <td>nie</td>\n",
       "      <td>garaż/miejsce parkingowe</td>\n",
       "      <td>2018</td>\n",
       "      <td>cegła</td>\n",
       "      <td>tylko dla niepalących</td>\n",
       "    </tr>\n",
       "    <tr>\n",
       "      <th>2</th>\n",
       "      <td>https://www.otodom.pl/pl/oferta/mam-do-wynajec...</td>\n",
       "      <td>Mam do wynajęcia mieszkanie Bezpośrednio !</td>\n",
       "      <td>ul. Beskidzka, Chorzów II, Chorzów, śląskie</td>\n",
       "      <td>1 499 zł</td>\n",
       "      <td>Witam.Mam do wynajęcia mieszkanie w Chorzowie,...</td>\n",
       "      <td>55 m²</td>\n",
       "      <td>799 zł/miesiąc</td>\n",
       "      <td>2</td>\n",
       "      <td>4 500 zł</td>\n",
       "      <td>parter/2</td>\n",
       "      <td>...</td>\n",
       "      <td>zmywarka, lodówka, meble, piekarnik, kuchenka,...</td>\n",
       "      <td>telewizja kablowa, internet</td>\n",
       "      <td>miejskie</td>\n",
       "      <td>drzwi / okna antywłamaniowe, teren zamknięty, ...</td>\n",
       "      <td>plastikowe</td>\n",
       "      <td>nie</td>\n",
       "      <td>garaż/miejsce parkingowe</td>\n",
       "      <td>2004</td>\n",
       "      <td>cegła</td>\n",
       "      <td>piwnica, pom. użytkowe</td>\n",
       "    </tr>\n",
       "    <tr>\n",
       "      <th>3</th>\n",
       "      <td>https://www.otodom.pl/pl/oferta/kawalerka-os-p...</td>\n",
       "      <td>Kawalerka os. Paderewskiego</td>\n",
       "      <td>ul. Graniczna, Osiedle Paderewskiego-Muchowiec...</td>\n",
       "      <td>1 400 zł</td>\n",
       "      <td>Oferujemy do wynajęcia przytulną kawalerkę zlo...</td>\n",
       "      <td>31 m²</td>\n",
       "      <td>1 zł/miesiąc</td>\n",
       "      <td>1</td>\n",
       "      <td>1 400 zł</td>\n",
       "      <td>10/10</td>\n",
       "      <td>...</td>\n",
       "      <td>lodówka, piekarnik, pralka</td>\n",
       "      <td>brak informacji</td>\n",
       "      <td>miejskie</td>\n",
       "      <td>brak informacji</td>\n",
       "      <td>brak informacji</td>\n",
       "      <td>nie</td>\n",
       "      <td>brak informacji</td>\n",
       "      <td>brak informacji</td>\n",
       "      <td>brak informacji</td>\n",
       "      <td>brak informacji</td>\n",
       "    </tr>\n",
       "    <tr>\n",
       "      <th>4</th>\n",
       "      <td>https://www.otodom.pl/pl/oferta/ul-1000-lecia-...</td>\n",
       "      <td>ul.1000-lecia Dąbrowa Górnicza Gołonóg 50m2 2 pok</td>\n",
       "      <td>1000 lecia, Brodway, Gołonóg Północny, Dąbrowa...</td>\n",
       "      <td>1 500 zł</td>\n",
       "      <td>Do wynajęcia mieszkanie 50m2 DąbrowaGórnicza G...</td>\n",
       "      <td>50 m²</td>\n",
       "      <td>700 zł/miesiąc</td>\n",
       "      <td>2</td>\n",
       "      <td>2 000 zł</td>\n",
       "      <td>&gt; 10/13</td>\n",
       "      <td>...</td>\n",
       "      <td>brak informacji</td>\n",
       "      <td>brak informacji</td>\n",
       "      <td>miejskie</td>\n",
       "      <td>brak informacji</td>\n",
       "      <td>plastikowe</td>\n",
       "      <td>tak</td>\n",
       "      <td>brak informacji</td>\n",
       "      <td>1980</td>\n",
       "      <td>wielka płyta</td>\n",
       "      <td>piwnica</td>\n",
       "    </tr>\n",
       "  </tbody>\n",
       "</table>\n",
       "<p>5 rows × 27 columns</p>\n",
       "</div>"
      ],
      "text/plain": [
       "                                                link  \\\n",
       "0  https://www.otodom.pl/pl/oferta/mieszkania-2-p...   \n",
       "1  https://www.otodom.pl/pl/oferta/kawalerka-w-ka...   \n",
       "2  https://www.otodom.pl/pl/oferta/mam-do-wynajec...   \n",
       "3  https://www.otodom.pl/pl/oferta/kawalerka-os-p...   \n",
       "4  https://www.otodom.pl/pl/oferta/ul-1000-lecia-...   \n",
       "\n",
       "                                               title  \\\n",
       "0           Mieszkania 2 pokojowe cena z ogrzewaniem   \n",
       "1       Kawalerka w Katowicach do wynajęcia od zaraz   \n",
       "2         Mam do wynajęcia mieszkanie Bezpośrednio !   \n",
       "3                        Kawalerka os. Paderewskiego   \n",
       "4  ul.1000-lecia Dąbrowa Górnicza Gołonóg 50m2 2 pok   \n",
       "\n",
       "                                            location     price  \\\n",
       "0  ul. Karola Szymanowskiego 44, Zagórze Północ, ...  2 000 zł   \n",
       "1  ul. Haliny Krahelskiej, Osiedle Paderewskiego-...  1 500 zł   \n",
       "2        ul. Beskidzka, Chorzów II, Chorzów, śląskie  1 499 zł   \n",
       "3  ul. Graniczna, Osiedle Paderewskiego-Muchowiec...  1 400 zł   \n",
       "4  1000 lecia, Brodway, Gołonóg Północny, Dąbrowa...  1 500 zł   \n",
       "\n",
       "                                 summary_description square_meters  \\\n",
       "0  Do wynajęcia 6 mieszkań o powierzchni od 42-58...         42 m²   \n",
       "1  Nowe, (2018), komfortowe, jasne, w pełni wypos...         19 m²   \n",
       "2  Witam.Mam do wynajęcia mieszkanie w Chorzowie,...         55 m²   \n",
       "3  Oferujemy do wynajęcia przytulną kawalerkę zlo...         31 m²   \n",
       "4  Do wynajęcia mieszkanie 50m2 DąbrowaGórnicza G...         50 m²   \n",
       "\n",
       "             rent  number_of_rooms   deposit floor_level  ...  \\\n",
       "0             NaN                2  4 000 zł    parter/2  ...   \n",
       "1  250 zł/miesiąc                1  1 500 zł         3/3  ...   \n",
       "2  799 zł/miesiąc                2  4 500 zł    parter/2  ...   \n",
       "3    1 zł/miesiąc                1  1 400 zł       10/10  ...   \n",
       "4  700 zł/miesiąc                2  2 000 zł     > 10/13  ...   \n",
       "\n",
       "                                           equipment  \\\n",
       "0        lodówka, meble, piekarnik, kuchenka, pralka   \n",
       "1  zmywarka, lodówka, meble, kuchenka, telewizor,...   \n",
       "2  zmywarka, lodówka, meble, piekarnik, kuchenka,...   \n",
       "3                         lodówka, piekarnik, pralka   \n",
       "4                                    brak informacji   \n",
       "\n",
       "                   media_types   heating  \\\n",
       "0  telewizja kablowa, internet    gazowe   \n",
       "1  telewizja kablowa, internet    gazowe   \n",
       "2  telewizja kablowa, internet  miejskie   \n",
       "3              brak informacji  miejskie   \n",
       "4              brak informacji  miejskie   \n",
       "\n",
       "                                            security          windows  \\\n",
       "0  drzwi / okna antywłamaniowe, teren zamknięty, ...       plastikowe   \n",
       "1                teren zamknięty, domofon / wideofon       plastikowe   \n",
       "2  drzwi / okna antywłamaniowe, teren zamknięty, ...       plastikowe   \n",
       "3                                    brak informacji  brak informacji   \n",
       "4                                    brak informacji       plastikowe   \n",
       "\n",
       "  elevator             parking_space       build_year building_material  \\\n",
       "0      nie  garaż/miejsce parkingowe  brak informacji             cegła   \n",
       "1      nie  garaż/miejsce parkingowe             2018             cegła   \n",
       "2      nie  garaż/miejsce parkingowe             2004             cegła   \n",
       "3      nie           brak informacji  brak informacji   brak informacji   \n",
       "4      tak           brak informacji             1980      wielka płyta   \n",
       "\n",
       "                      additional_information  \n",
       "0  piwnica, oddzielna kuchnia, pom. użytkowe  \n",
       "1                      tylko dla niepalących  \n",
       "2                     piwnica, pom. użytkowe  \n",
       "3                            brak informacji  \n",
       "4                                    piwnica  \n",
       "\n",
       "[5 rows x 27 columns]"
      ]
     },
     "execution_count": 4,
     "metadata": {},
     "output_type": "execute_result"
    }
   ],
   "source": [
    "df_otodom.head()"
   ]
  },
  {
   "cell_type": "code",
   "execution_count": 5,
   "metadata": {},
   "outputs": [
    {
     "data": {
      "text/html": [
       "<div>\n",
       "<style scoped>\n",
       "    .dataframe tbody tr th:only-of-type {\n",
       "        vertical-align: middle;\n",
       "    }\n",
       "\n",
       "    .dataframe tbody tr th {\n",
       "        vertical-align: top;\n",
       "    }\n",
       "\n",
       "    .dataframe thead th {\n",
       "        text-align: right;\n",
       "    }\n",
       "</style>\n",
       "<table border=\"1\" class=\"dataframe\">\n",
       "  <thead>\n",
       "    <tr style=\"text-align: right;\">\n",
       "      <th></th>\n",
       "      <th>link</th>\n",
       "      <th>title</th>\n",
       "      <th>location</th>\n",
       "      <th>price</th>\n",
       "      <th>summary_description</th>\n",
       "      <th>square_meters</th>\n",
       "      <th>rent</th>\n",
       "      <th>number_of_rooms</th>\n",
       "      <th>deposit</th>\n",
       "      <th>floor_level</th>\n",
       "      <th>...</th>\n",
       "      <th>equipment</th>\n",
       "      <th>media_types</th>\n",
       "      <th>heating</th>\n",
       "      <th>security</th>\n",
       "      <th>windows</th>\n",
       "      <th>elevator</th>\n",
       "      <th>parking_space</th>\n",
       "      <th>build_year</th>\n",
       "      <th>building_material</th>\n",
       "      <th>additional_information</th>\n",
       "    </tr>\n",
       "  </thead>\n",
       "  <tbody>\n",
       "    <tr>\n",
       "      <th>721</th>\n",
       "      <td>https://www.otodom.pl/pl/oferta/nowe-2-pokoje-...</td>\n",
       "      <td>Nowe - 2 pokoje Mieszkanie z oddzielną kuchnią</td>\n",
       "      <td>ul. Ceglana, Brynów-Osiedle Zgrzebnioka, Katow...</td>\n",
       "      <td>2 500 zł</td>\n",
       "      <td>Zapraszamy do wynajęcia uroczego mieszkania w ...</td>\n",
       "      <td>44,58 m²</td>\n",
       "      <td>700 zł/miesiąc</td>\n",
       "      <td>2</td>\n",
       "      <td>NaN</td>\n",
       "      <td>3/6</td>\n",
       "      <td>...</td>\n",
       "      <td>meble</td>\n",
       "      <td>internet</td>\n",
       "      <td>miejskie</td>\n",
       "      <td>monitoring / ochrona</td>\n",
       "      <td>brak informacji</td>\n",
       "      <td>tak</td>\n",
       "      <td>garaż/miejsce parkingowe</td>\n",
       "      <td>2021</td>\n",
       "      <td>pustak</td>\n",
       "      <td>oddzielna kuchnia, pom. użytkowe</td>\n",
       "    </tr>\n",
       "    <tr>\n",
       "      <th>561</th>\n",
       "      <td>https://www.otodom.pl/pl/oferta/przestronne-1-...</td>\n",
       "      <td>Przestronne 1 pokojowe mieszkanie Pogoń</td>\n",
       "      <td>Pogoń, Sosnowiec, śląskie</td>\n",
       "      <td>1 250 zł</td>\n",
       "      <td>Przytulne 1 pokojowe mieszkanie z dużą kuchnią...</td>\n",
       "      <td>38 m²</td>\n",
       "      <td>400 zł/miesiąc</td>\n",
       "      <td>1</td>\n",
       "      <td>1 800 zł</td>\n",
       "      <td>1/4</td>\n",
       "      <td>...</td>\n",
       "      <td>lodówka, meble, piekarnik, kuchenka, pralka</td>\n",
       "      <td>telewizja kablowa, internet, telefon</td>\n",
       "      <td>miejskie</td>\n",
       "      <td>drzwi / okna antywłamaniowe, teren zamknięty, ...</td>\n",
       "      <td>plastikowe</td>\n",
       "      <td>nie</td>\n",
       "      <td>brak informacji</td>\n",
       "      <td>1970</td>\n",
       "      <td>wielka płyta</td>\n",
       "      <td>piwnica, oddzielna kuchnia</td>\n",
       "    </tr>\n",
       "    <tr>\n",
       "      <th>869</th>\n",
       "      <td>https://www.otodom.pl/pl/oferta/mieszkanie-36-...</td>\n",
       "      <td>Mieszkanie, 36 m², Sosnowiec</td>\n",
       "      <td>Klimontów, Sosnowiec, śląskie</td>\n",
       "      <td>1 750 zł</td>\n",
       "      <td>---OFERTA DOSTĘPNA W NASZYM BIURZE --- 2POKOJE...</td>\n",
       "      <td>36 m²</td>\n",
       "      <td>NaN</td>\n",
       "      <td>2</td>\n",
       "      <td>1 750 zł</td>\n",
       "      <td>1/4</td>\n",
       "      <td>...</td>\n",
       "      <td>brak informacji</td>\n",
       "      <td>telewizja kablowa, internet, telefon</td>\n",
       "      <td>miejskie</td>\n",
       "      <td>brak informacji</td>\n",
       "      <td>plastikowe</td>\n",
       "      <td>nie</td>\n",
       "      <td>garaż/miejsce parkingowe</td>\n",
       "      <td>brak informacji</td>\n",
       "      <td>cegła</td>\n",
       "      <td>oddzielna kuchnia</td>\n",
       "    </tr>\n",
       "  </tbody>\n",
       "</table>\n",
       "<p>3 rows × 27 columns</p>\n",
       "</div>"
      ],
      "text/plain": [
       "                                                  link  \\\n",
       "721  https://www.otodom.pl/pl/oferta/nowe-2-pokoje-...   \n",
       "561  https://www.otodom.pl/pl/oferta/przestronne-1-...   \n",
       "869  https://www.otodom.pl/pl/oferta/mieszkanie-36-...   \n",
       "\n",
       "                                              title  \\\n",
       "721  Nowe - 2 pokoje Mieszkanie z oddzielną kuchnią   \n",
       "561         Przestronne 1 pokojowe mieszkanie Pogoń   \n",
       "869                    Mieszkanie, 36 m², Sosnowiec   \n",
       "\n",
       "                                              location     price  \\\n",
       "721  ul. Ceglana, Brynów-Osiedle Zgrzebnioka, Katow...  2 500 zł   \n",
       "561                          Pogoń, Sosnowiec, śląskie  1 250 zł   \n",
       "869                      Klimontów, Sosnowiec, śląskie  1 750 zł   \n",
       "\n",
       "                                   summary_description square_meters  \\\n",
       "721  Zapraszamy do wynajęcia uroczego mieszkania w ...      44,58 m²   \n",
       "561  Przytulne 1 pokojowe mieszkanie z dużą kuchnią...         38 m²   \n",
       "869  ---OFERTA DOSTĘPNA W NASZYM BIURZE --- 2POKOJE...         36 m²   \n",
       "\n",
       "               rent  number_of_rooms   deposit floor_level  ...  \\\n",
       "721  700 zł/miesiąc                2       NaN         3/6  ...   \n",
       "561  400 zł/miesiąc                1  1 800 zł         1/4  ...   \n",
       "869             NaN                2  1 750 zł         1/4  ...   \n",
       "\n",
       "                                       equipment  \\\n",
       "721                                        meble   \n",
       "561  lodówka, meble, piekarnik, kuchenka, pralka   \n",
       "869                              brak informacji   \n",
       "\n",
       "                              media_types   heating  \\\n",
       "721                              internet  miejskie   \n",
       "561  telewizja kablowa, internet, telefon  miejskie   \n",
       "869  telewizja kablowa, internet, telefon  miejskie   \n",
       "\n",
       "                                              security          windows  \\\n",
       "721                               monitoring / ochrona  brak informacji   \n",
       "561  drzwi / okna antywłamaniowe, teren zamknięty, ...       plastikowe   \n",
       "869                                    brak informacji       plastikowe   \n",
       "\n",
       "    elevator             parking_space       build_year building_material  \\\n",
       "721      tak  garaż/miejsce parkingowe             2021            pustak   \n",
       "561      nie           brak informacji             1970      wielka płyta   \n",
       "869      nie  garaż/miejsce parkingowe  brak informacji             cegła   \n",
       "\n",
       "               additional_information  \n",
       "721  oddzielna kuchnia, pom. użytkowe  \n",
       "561        piwnica, oddzielna kuchnia  \n",
       "869                 oddzielna kuchnia  \n",
       "\n",
       "[3 rows x 27 columns]"
      ]
     },
     "execution_count": 5,
     "metadata": {},
     "output_type": "execute_result"
    }
   ],
   "source": [
    "df_otodom.sample(3)"
   ]
  },
  {
   "cell_type": "code",
   "execution_count": 6,
   "metadata": {},
   "outputs": [
    {
     "name": "stdout",
     "output_type": "stream",
     "text": [
      "Number of duplicates: 0\n"
     ]
    }
   ],
   "source": [
    "\n",
    "# Count the number of duplicates in the DataFrame\n",
    "duplicate_count = df_otodom.duplicated().sum()\n",
    "\n",
    "# Print the count of duplicates\n",
    "print(\"Number of duplicates:\", duplicate_count)\n",
    "del duplicate_count\n"
   ]
  },
  {
   "cell_type": "code",
   "execution_count": 7,
   "metadata": {},
   "outputs": [
    {
     "data": {
      "text/plain": [
       "link                        0\n",
       "title                       0\n",
       "location                    0\n",
       "price                       0\n",
       "summary_description         0\n",
       "square_meters               0\n",
       "rent                      513\n",
       "number_of_rooms             0\n",
       "deposit                   363\n",
       "floor_level                23\n",
       "building_type             105\n",
       "available_from            958\n",
       "balcony_garden_terrace    478\n",
       "remote service              0\n",
       "completion                173\n",
       "ownership                   0\n",
       "rent_to_students            0\n",
       "equipment                   0\n",
       "media_types                 0\n",
       "heating                     0\n",
       "security                    0\n",
       "windows                     0\n",
       "elevator                    0\n",
       "parking_space               0\n",
       "build_year                  0\n",
       "building_material           0\n",
       "additional_information      0\n",
       "dtype: int64"
      ]
     },
     "execution_count": 7,
     "metadata": {},
     "output_type": "execute_result"
    }
   ],
   "source": [
    "df_otodom.isna().sum()"
   ]
  },
  {
   "cell_type": "code",
   "execution_count": 8,
   "metadata": {},
   "outputs": [
    {
     "data": {
      "text/plain": [
       "1105"
      ]
     },
     "execution_count": 8,
     "metadata": {},
     "output_type": "execute_result"
    }
   ],
   "source": [
    "len(df_otodom)"
   ]
  },
  {
   "cell_type": "code",
   "execution_count": 9,
   "metadata": {},
   "outputs": [
    {
     "data": {
      "text/plain": [
       "Index(['link', 'title', 'location', 'price', 'summary_description',\n",
       "       'square_meters', 'rent', 'number_of_rooms', 'deposit', 'floor_level',\n",
       "       'building_type', 'available_from', 'balcony_garden_terrace',\n",
       "       'remote service', 'completion', 'ownership', 'rent_to_students',\n",
       "       'equipment', 'media_types', 'heating', 'security', 'windows',\n",
       "       'elevator', 'parking_space', 'build_year', 'building_material',\n",
       "       'additional_information'],\n",
       "      dtype='object')"
      ]
     },
     "execution_count": 9,
     "metadata": {},
     "output_type": "execute_result"
    }
   ],
   "source": [
    "df_otodom.columns\n"
   ]
  },
  {
   "cell_type": "code",
   "execution_count": 10,
   "metadata": {},
   "outputs": [
    {
     "data": {
      "text/plain": [
       "link                      object\n",
       "title                     object\n",
       "location                  object\n",
       "price                     object\n",
       "summary_description       object\n",
       "square_meters             object\n",
       "rent                      object\n",
       "number_of_rooms            int64\n",
       "deposit                   object\n",
       "floor_level               object\n",
       "building_type             object\n",
       "available_from            object\n",
       "balcony_garden_terrace    object\n",
       "remote service            object\n",
       "completion                object\n",
       "ownership                 object\n",
       "rent_to_students          object\n",
       "equipment                 object\n",
       "media_types               object\n",
       "heating                   object\n",
       "security                  object\n",
       "windows                   object\n",
       "elevator                  object\n",
       "parking_space             object\n",
       "build_year                object\n",
       "building_material         object\n",
       "additional_information    object\n",
       "dtype: object"
      ]
     },
     "execution_count": 10,
     "metadata": {},
     "output_type": "execute_result"
    }
   ],
   "source": [
    "df_otodom.dtypes"
   ]
  },
  {
   "cell_type": "code",
   "execution_count": 11,
   "metadata": {},
   "outputs": [
    {
     "data": {
      "text/html": [
       "<div>\n",
       "<style scoped>\n",
       "    .dataframe tbody tr th:only-of-type {\n",
       "        vertical-align: middle;\n",
       "    }\n",
       "\n",
       "    .dataframe tbody tr th {\n",
       "        vertical-align: top;\n",
       "    }\n",
       "\n",
       "    .dataframe thead th {\n",
       "        text-align: right;\n",
       "    }\n",
       "</style>\n",
       "<table border=\"1\" class=\"dataframe\">\n",
       "  <thead>\n",
       "    <tr style=\"text-align: right;\">\n",
       "      <th></th>\n",
       "      <th>number_of_rooms</th>\n",
       "    </tr>\n",
       "  </thead>\n",
       "  <tbody>\n",
       "    <tr>\n",
       "      <th>count</th>\n",
       "      <td>1105.000000</td>\n",
       "    </tr>\n",
       "    <tr>\n",
       "      <th>mean</th>\n",
       "      <td>2.120362</td>\n",
       "    </tr>\n",
       "    <tr>\n",
       "      <th>std</th>\n",
       "      <td>0.858141</td>\n",
       "    </tr>\n",
       "    <tr>\n",
       "      <th>min</th>\n",
       "      <td>1.000000</td>\n",
       "    </tr>\n",
       "    <tr>\n",
       "      <th>25%</th>\n",
       "      <td>2.000000</td>\n",
       "    </tr>\n",
       "    <tr>\n",
       "      <th>50%</th>\n",
       "      <td>2.000000</td>\n",
       "    </tr>\n",
       "    <tr>\n",
       "      <th>75%</th>\n",
       "      <td>3.000000</td>\n",
       "    </tr>\n",
       "    <tr>\n",
       "      <th>max</th>\n",
       "      <td>6.000000</td>\n",
       "    </tr>\n",
       "  </tbody>\n",
       "</table>\n",
       "</div>"
      ],
      "text/plain": [
       "       number_of_rooms\n",
       "count      1105.000000\n",
       "mean          2.120362\n",
       "std           0.858141\n",
       "min           1.000000\n",
       "25%           2.000000\n",
       "50%           2.000000\n",
       "75%           3.000000\n",
       "max           6.000000"
      ]
     },
     "execution_count": 11,
     "metadata": {},
     "output_type": "execute_result"
    }
   ],
   "source": [
    "df_otodom.describe()"
   ]
  },
  {
   "cell_type": "markdown",
   "metadata": {},
   "source": [
    "### 2.2.2 Selected columns"
   ]
  },
  {
   "cell_type": "code",
   "execution_count": null,
   "metadata": {},
   "outputs": [],
   "source": [
    "def count_and_percentage(df, column_name):\n",
    "    \"\"\"\n",
    "    Function to calculate the count and percentage of unique values in a given column of a DataFrame.\n",
    "\n",
    "    Parameters:\n",
    "    df (pandas.DataFrame): The DataFrame to analyze.\n",
    "    column_name (str): The name of the column in the DataFrame.\n",
    "\n",
    "    Returns:\n",
    "    pandas.DataFrame: A DataFrame with count and percentage of each unique value in the specified column.\n",
    "    \"\"\"\n",
    "    # Check if the column exists in the DataFrame\n",
    "    if column_name not in df.columns:\n",
    "        raise ValueError(f\"Column '{column_name}' not found in DataFrame.\")\n",
    "\n",
    "    # Calculate count and normalized values\n",
    "    count = df[column_name].value_counts(dropna=False)\n",
    "    normalized = df[column_name].value_counts(dropna=False, normalize=True) * 100\n",
    "\n",
    "    # Concatenate count and normalized values side by side\n",
    "    result = pd.concat([count, normalized], axis=1)\n",
    "    result.columns = ['Count', 'Percentage']\n",
    "\n",
    "    return result"
   ]
  },
  {
   "cell_type": "code",
   "execution_count": 59,
   "metadata": {},
   "outputs": [],
   "source": [
    "def count_comma_separated_values(df, column_name):\n",
    "    \"\"\"\n",
    "    Counts the occurrences of individual elements in a comma-separated string column of a DataFrame.\n",
    "\n",
    "    Parameters:\n",
    "    df (pandas.DataFrame): The DataFrame containing the column.\n",
    "    column_name (str): The name of the column to analyze.\n",
    "\n",
    "    Returns:\n",
    "    pandas.Series: A Series with counts for each unique element.\n",
    "    \"\"\"\n",
    "    # Check if the column exists in the DataFrame\n",
    "    if column_name not in df.columns:\n",
    "        raise ValueError(f\"Column '{column_name}' not found in DataFrame.\")\n",
    "\n",
    "    # Split the column values, explode to individual elements, and count\n",
    "    exploded_items = df[column_name].dropna().str.split(', ').explode()\n",
    "    counts = exploded_items.value_counts()\n",
    "\n",
    "    return counts"
   ]
  },
  {
   "cell_type": "markdown",
   "metadata": {},
   "source": [
    "#### 2.2.2.1 location"
   ]
  },
  {
   "cell_type": "code",
   "execution_count": 12,
   "metadata": {},
   "outputs": [
    {
     "data": {
      "text/plain": [
       "array(['ul. Karola Szymanowskiego 44, Zagórze Północ, Sosnowiec, śląskie',\n",
       "       'ul. Haliny Krahelskiej, Osiedle Paderewskiego-Muchowiec, Katowice, śląskie',\n",
       "       'ul. Beskidzka, Chorzów II, Chorzów, śląskie',\n",
       "       'ul. Graniczna, Osiedle Paderewskiego-Muchowiec, Katowice, śląskie',\n",
       "       '1000 lecia, Brodway, Gołonóg Północny, Dąbrowa Górnicza, śląskie',\n",
       "       'ul. rtm. Witolda Pileckiego, Centrum / Śródmieście, Sosnowiec, śląskie',\n",
       "       'ul. Bytomska, Piekary Śląskie, śląskie',\n",
       "       'ul. Bohaterów Monte Cassino, Zawodzie, Katowice, śląskie',\n",
       "       'ul. Francuska, Osiedle Paderewskiego-Muchowiec, Katowice, śląskie',\n",
       "       'ul. Litewska, Pogoń, Sosnowiec, śląskie'], dtype=object)"
      ]
     },
     "execution_count": 12,
     "metadata": {},
     "output_type": "execute_result"
    }
   ],
   "source": [
    "df_otodom[\"location\"].unique()[:10]"
   ]
  },
  {
   "cell_type": "markdown",
   "metadata": {},
   "source": [
    "#### 2.2.2.2 price"
   ]
  },
  {
   "cell_type": "code",
   "execution_count": 13,
   "metadata": {},
   "outputs": [
    {
     "data": {
      "text/plain": [
       "367    1 000 zł\n",
       "658    1 000 zł\n",
       "810    1 000 zł\n",
       "832    1 000 zł\n",
       "490    1 000 zł\n",
       "Name: price, dtype: object"
      ]
     },
     "execution_count": 13,
     "metadata": {},
     "output_type": "execute_result"
    }
   ],
   "source": [
    "df_otodom[\"price\"].sort_values().head()"
   ]
  },
  {
   "cell_type": "code",
   "execution_count": 14,
   "metadata": {},
   "outputs": [
    {
     "data": {
      "text/plain": [
       "732    990 zł\n",
       "844    990 zł\n",
       "307    990 zł\n",
       "641    990 zł\n",
       "325    999 zł\n",
       "Name: price, dtype: object"
      ]
     },
     "execution_count": 14,
     "metadata": {},
     "output_type": "execute_result"
    }
   ],
   "source": [
    "df_otodom[\"price\"].sort_values().tail()"
   ]
  },
  {
   "cell_type": "code",
   "execution_count": 15,
   "metadata": {},
   "outputs": [
    {
     "data": {
      "text/plain": [
       "1 500 zł    76\n",
       "2 000 zł    56\n",
       "2 500 zł    55\n",
       "1 800 zł    48\n",
       "2 200 zł    46\n",
       "Name: price, dtype: int64"
      ]
     },
     "execution_count": 15,
     "metadata": {},
     "output_type": "execute_result"
    }
   ],
   "source": [
    "df_otodom[\"price\"].value_counts().head()"
   ]
  },
  {
   "cell_type": "code",
   "execution_count": 16,
   "metadata": {},
   "outputs": [
    {
     "data": {
      "text/plain": [
       "1 310 zł    1\n",
       "3 299 zł    1\n",
       "1 210 zł    1\n",
       "3 150 zł    1\n",
       "690 zł      1\n",
       "Name: price, dtype: int64"
      ]
     },
     "execution_count": 16,
     "metadata": {},
     "output_type": "execute_result"
    }
   ],
   "source": [
    "df_otodom[\"price\"].value_counts().tail()"
   ]
  },
  {
   "cell_type": "markdown",
   "metadata": {},
   "source": [
    "#### 2.2.2.3 rent (additional fee for the housing association or owner)"
   ]
  },
  {
   "cell_type": "code",
   "execution_count": 17,
   "metadata": {},
   "outputs": [
    {
     "data": {
      "text/plain": [
       "302    1 000 zł/miesiąc\n",
       "873    1 000 zł/miesiąc\n",
       "693    1 000 zł/miesiąc\n",
       "557    1 000 zł/miesiąc\n",
       "376    1 000 zł/miesiąc\n",
       "Name: rent, dtype: object"
      ]
     },
     "execution_count": 17,
     "metadata": {},
     "output_type": "execute_result"
    }
   ],
   "source": [
    "df_otodom[\"rent\"].dropna().sort_values().head()\n"
   ]
  },
  {
   "cell_type": "code",
   "execution_count": 18,
   "metadata": {},
   "outputs": [
    {
     "data": {
      "text/plain": [
       "417    980 zł/miesiąc\n",
       "238    980 zł/miesiąc\n",
       "301    980 zł/miesiąc\n",
       "532    980 zł/miesiąc\n",
       "769    990 zł/miesiąc\n",
       "Name: rent, dtype: object"
      ]
     },
     "execution_count": 18,
     "metadata": {},
     "output_type": "execute_result"
    }
   ],
   "source": [
    "df_otodom[\"rent\"].dropna().sort_values().tail()\n"
   ]
  },
  {
   "cell_type": "code",
   "execution_count": 19,
   "metadata": {},
   "outputs": [
    {
     "data": {
      "text/plain": [
       "500 zł/miesiąc    41\n",
       "700 zł/miesiąc    35\n",
       "600 zł/miesiąc    33\n",
       "400 zł/miesiąc    33\n",
       "800 zł/miesiąc    27\n",
       "Name: rent, dtype: int64"
      ]
     },
     "execution_count": 19,
     "metadata": {},
     "output_type": "execute_result"
    }
   ],
   "source": [
    "df_otodom[\"rent\"].value_counts().head()\n"
   ]
  },
  {
   "cell_type": "code",
   "execution_count": 20,
   "metadata": {},
   "outputs": [
    {
     "data": {
      "text/plain": [
       "277 zł/miesiąc    1\n",
       "65 zł/miesiąc     1\n",
       "386 zł/miesiąc    1\n",
       "963 zł/miesiąc    1\n",
       "318 zł/miesiąc    1\n",
       "Name: rent, dtype: int64"
      ]
     },
     "execution_count": 20,
     "metadata": {},
     "output_type": "execute_result"
    }
   ],
   "source": [
    "df_otodom[\"rent\"].value_counts().tail()"
   ]
  },
  {
   "cell_type": "markdown",
   "metadata": {},
   "source": [
    "#### 2.2.2.4 number_of_rooms\n",
    "The number of separate rooms besides the kitchen, the bathroom, the hallway, and any utility or storage rooms. This typically includes bedrooms, living rooms, dining rooms, and studies, but excludes any space not designated for regular living or sleeping purposes."
   ]
  },
  {
   "cell_type": "code",
   "execution_count": 22,
   "metadata": {},
   "outputs": [
    {
     "data": {
      "text/plain": [
       "2    572\n",
       "1    242\n",
       "3    222\n",
       "4     61\n",
       "6      7\n",
       "5      1\n",
       "Name: number_of_rooms, dtype: int64"
      ]
     },
     "execution_count": 22,
     "metadata": {},
     "output_type": "execute_result"
    }
   ],
   "source": [
    "df_otodom[\"number_of_rooms\"].value_counts()"
   ]
  },
  {
   "cell_type": "markdown",
   "metadata": {},
   "source": [
    "#### 2.2.2.5 deposit\n",
    "The one-time deposit to secure the rental agreement typically amounts to one or two months' rent. This deposit is held by the landlord as a security against potential damages or unpaid rent, and is usually refundable at the end of the tenancy, provided the property is left in its original condition and all contractual obligations have been met."
   ]
  },
  {
   "cell_type": "code",
   "execution_count": 28,
   "metadata": {},
   "outputs": [
    {
     "data": {
      "text/plain": [
       "367     1 000 zł\n",
       "64      1 050 zł\n",
       "57      1 190 zł\n",
       "937     1 200 zł\n",
       "1101    1 200 zł\n",
       "Name: deposit, dtype: object"
      ]
     },
     "execution_count": 28,
     "metadata": {},
     "output_type": "execute_result"
    }
   ],
   "source": [
    "df_otodom[\"deposit\"].dropna().sort_values().head()\n"
   ]
  },
  {
   "cell_type": "code",
   "execution_count": 29,
   "metadata": {},
   "outputs": [
    {
     "data": {
      "text/plain": [
       "749    9 000 zł\n",
       "949    9 000 zł\n",
       "240    9 000 zł\n",
       "881    9 200 zł\n",
       "972      900 zł\n",
       "Name: deposit, dtype: object"
      ]
     },
     "execution_count": 29,
     "metadata": {},
     "output_type": "execute_result"
    }
   ],
   "source": [
    "df_otodom[\"deposit\"].dropna().sort_values().tail()\n"
   ]
  },
  {
   "cell_type": "code",
   "execution_count": 30,
   "metadata": {},
   "outputs": [
    {
     "data": {
      "text/plain": [
       "3 000 zł    141\n",
       "2 000 zł    109\n",
       "2 500 zł     77\n",
       "4 000 zł     53\n",
       "5 000 zł     37\n",
       "Name: deposit, dtype: int64"
      ]
     },
     "execution_count": 30,
     "metadata": {},
     "output_type": "execute_result"
    }
   ],
   "source": [
    "df_otodom[\"deposit\"].dropna().value_counts().head()\n"
   ]
  },
  {
   "cell_type": "code",
   "execution_count": 31,
   "metadata": {},
   "outputs": [
    {
     "data": {
      "text/plain": [
       "2 050 zł    1\n",
       "6 400 zł    1\n",
       "430 zł      1\n",
       "6 600 zł    1\n",
       "850 zł      1\n",
       "Name: deposit, dtype: int64"
      ]
     },
     "execution_count": 31,
     "metadata": {},
     "output_type": "execute_result"
    }
   ],
   "source": [
    "df_otodom[\"deposit\"].dropna().value_counts().tail()"
   ]
  },
  {
   "cell_type": "markdown",
   "metadata": {},
   "source": [
    "#### 2.2.2.6 floor_level"
   ]
  },
  {
   "cell_type": "code",
   "execution_count": 32,
   "metadata": {},
   "outputs": [
    {
     "data": {
      "text/plain": [
       "2/4    89\n",
       "1/4    82\n",
       "3/4    73\n",
       "1/3    69\n",
       "4/4    58\n",
       "Name: floor_level, dtype: int64"
      ]
     },
     "execution_count": 32,
     "metadata": {},
     "output_type": "execute_result"
    }
   ],
   "source": [
    "df_otodom[\"floor_level\"].value_counts().head()\n"
   ]
  },
  {
   "cell_type": "code",
   "execution_count": 35,
   "metadata": {},
   "outputs": [
    {
     "data": {
      "text/plain": [
       "2/11          1\n",
       "3/12          1\n",
       "parter/6      1\n",
       "8/12          1\n",
       "poddasze/3    1\n",
       "Name: floor_level, dtype: int64"
      ]
     },
     "execution_count": 35,
     "metadata": {},
     "output_type": "execute_result"
    }
   ],
   "source": [
    "df_otodom[\"floor_level\"].value_counts().tail()"
   ]
  },
  {
   "cell_type": "code",
   "execution_count": 37,
   "metadata": {},
   "outputs": [
    {
     "data": {
      "text/plain": [
       "array(['parter', '', 'poddasze', nan, 'suterena'], dtype=object)"
      ]
     },
     "execution_count": 37,
     "metadata": {},
     "output_type": "execute_result"
    }
   ],
   "source": [
    "df_otodom[\"floor_level\"].str.replace('[^a-zA-Z]', '', regex=True).unique()"
   ]
  },
  {
   "cell_type": "markdown",
   "metadata": {},
   "source": [
    "- 'parter' - 'ground floor'\n",
    "- 'poddasze' - 'attic'\n",
    "- 'suterena' - 'semi-basement'"
   ]
  },
  {
   "cell_type": "markdown",
   "metadata": {},
   "source": [
    "#### 2.2.2.7 building_type"
   ]
  },
  {
   "cell_type": "code",
   "execution_count": 40,
   "metadata": {},
   "outputs": [
    {
     "data": {
      "text/plain": [
       "blok                482\n",
       "apartamentowiec     256\n",
       "kamienica           231\n",
       "NaN                 105\n",
       "dom wolnostojący     28\n",
       "szeregowiec           3\n",
       "Name: building_type, dtype: int64"
      ]
     },
     "execution_count": 40,
     "metadata": {},
     "output_type": "execute_result"
    }
   ],
   "source": [
    "df_otodom[\"building_type\"].value_counts(dropna=False)"
   ]
  },
  {
   "cell_type": "markdown",
   "metadata": {},
   "source": [
    "- 'blok' - 'block of flats' or 'apartment block'\n",
    "- 'apartamentowiec' - 'apartment building'\n",
    "- 'kamienica' - 'tenement house' (often refers to a historic, multi-story building in urban areas)\n",
    "- 'dom wolnostojący' - 'detached house'\n",
    "- 'szeregowiec' - 'terraced house' or 'row house' (a type of house connected in a row with others)"
   ]
  },
  {
   "cell_type": "markdown",
   "metadata": {},
   "source": [
    "#### 2.2.2.7 available_from"
   ]
  },
  {
   "cell_type": "code",
   "execution_count": 41,
   "metadata": {},
   "outputs": [
    {
     "data": {
      "text/plain": [
       "NaN           958\n",
       "2023-12-01     21\n",
       "2023-11-01     11\n",
       "2023-11-20      6\n",
       "2023-11-06      5\n",
       "             ... \n",
       "2023-12-04      1\n",
       "2023-09-28      1\n",
       "2023-04-20      1\n",
       "2023-11-10      1\n",
       "2023-09-01      1\n",
       "Name: available_from, Length: 79, dtype: int64"
      ]
     },
     "execution_count": 41,
     "metadata": {},
     "output_type": "execute_result"
    }
   ],
   "source": [
    "df_otodom[\"available_from\"].value_counts(dropna=False)"
   ]
  },
  {
   "cell_type": "code",
   "execution_count": 49,
   "metadata": {},
   "outputs": [
    {
     "data": {
      "text/plain": [
       "array(['2019-02-28', '2019-07-16', '2020-03-06', '2021-01-04',\n",
       "       '2021-05-01'], dtype=object)"
      ]
     },
     "execution_count": 49,
     "metadata": {},
     "output_type": "execute_result"
    }
   ],
   "source": [
    "# Last 5 dates\n",
    "np.sort(df_otodom[\"available_from\"].dropna().unique())[:5]"
   ]
  },
  {
   "cell_type": "code",
   "execution_count": 51,
   "metadata": {},
   "outputs": [
    {
     "data": {
      "text/plain": [
       "array(['2023-12-04', '2023-12-15', '2024-01-01', '2024-01-02',\n",
       "       '2024-01-08'], dtype=object)"
      ]
     },
     "execution_count": 51,
     "metadata": {},
     "output_type": "execute_result"
    }
   ],
   "source": [
    "# First 5 dates\n",
    "np.sort(df_otodom[\"available_from\"].dropna().unique())[-6:-1]"
   ]
  },
  {
   "cell_type": "markdown",
   "metadata": {},
   "source": [
    "#### 2.2.2.8 balcony_garden_terrace"
   ]
  },
  {
   "cell_type": "code",
   "execution_count": 52,
   "metadata": {},
   "outputs": [
    {
     "data": {
      "text/plain": [
       "balkon                    509\n",
       "NaN                       478\n",
       "balkon, taras              42\n",
       "taras                      35\n",
       "ogródek                    23\n",
       "balkon, ogródek             7\n",
       "ogródek, taras              6\n",
       "balkon, ogródek, taras      5\n",
       "Name: balcony_garden_terrace, dtype: int64"
      ]
     },
     "execution_count": 52,
     "metadata": {},
     "output_type": "execute_result"
    }
   ],
   "source": [
    "df_otodom[\"balcony_garden_terrace\"].value_counts(dropna=False)"
   ]
  },
  {
   "cell_type": "markdown",
   "metadata": {},
   "source": [
    "- 'balkon' - 'balcony'\n",
    "- 'taras' - 'terrace'\n",
    "- 'ogródek' - 'garden' (often refers to a small, private garden space)"
   ]
  },
  {
   "cell_type": "markdown",
   "metadata": {},
   "source": [
    "#### 2.2.2.9 completion"
   ]
  },
  {
   "cell_type": "code",
   "execution_count": 53,
   "metadata": {},
   "outputs": [
    {
     "data": {
      "text/plain": [
       "do zamieszkania    915\n",
       "NaN                173\n",
       "do remontu          10\n",
       "do wykończenia       7\n",
       "Name: completion, dtype: int64"
      ]
     },
     "execution_count": 53,
     "metadata": {},
     "output_type": "execute_result"
    }
   ],
   "source": [
    "df_otodom[\"completion\"].value_counts(dropna=False)"
   ]
  },
  {
   "cell_type": "markdown",
   "metadata": {},
   "source": [
    "- 'do zamieszkania' - 'ready to move in' or 'move-in ready'\n",
    "- 'do remontu' - 'in need of renovation' or 'requires renovation'\n",
    "- 'do wykończenia' - 'to be finished' or 'unfinished' (indicating that the property needs final finishing works)"
   ]
  },
  {
   "cell_type": "markdown",
   "metadata": {},
   "source": [
    "#### 2.2.2.10 ownership"
   ]
  },
  {
   "cell_type": "code",
   "execution_count": 54,
   "metadata": {},
   "outputs": [
    {
     "data": {
      "text/plain": [
       "biuro nieruchomości    819\n",
       "prywatny               283\n",
       "deweloper                3\n",
       "Name: ownership, dtype: int64"
      ]
     },
     "execution_count": 54,
     "metadata": {},
     "output_type": "execute_result"
    }
   ],
   "source": [
    "df_otodom[\"ownership\"].value_counts(dropna=False)"
   ]
  },
  {
   "cell_type": "markdown",
   "metadata": {},
   "source": [
    "- 'biuro nieruchomości' - 'real estate agency'\n",
    "- 'prywatny' - 'private' (often indicating a private seller or individual owner)\n",
    "- 'deweloper' - 'developer' (referring to a property development company or builder)"
   ]
  },
  {
   "cell_type": "markdown",
   "metadata": {},
   "source": [
    "#### 2.2.2.11 equipment"
   ]
  },
  {
   "cell_type": "code",
   "execution_count": 60,
   "metadata": {},
   "outputs": [
    {
     "data": {
      "text/plain": [
       "meble              728\n",
       "lodówka            597\n",
       "kuchenka           578\n",
       "pralka             553\n",
       "piekarnik          507\n",
       "zmywarka           351\n",
       "brak informacji    314\n",
       "telewizor          278\n",
       "Name: equipment, dtype: int64"
      ]
     },
     "execution_count": 60,
     "metadata": {},
     "output_type": "execute_result"
    }
   ],
   "source": [
    "count_comma_separated_values(df_otodom, \"equipment\")"
   ]
  },
  {
   "cell_type": "markdown",
   "metadata": {},
   "source": [
    "- 'meble' - 'furniture'\n",
    "- 'lodówka' - 'refrigerator'\n",
    "- 'kuchenka' - 'cooker' or 'stove'\n",
    "- 'pralka' - 'washing machine'\n",
    "- 'piekarnik' - 'oven'\n",
    "- 'zmywarka' - 'dishwasher'\n",
    "- 'brak informacji' - 'no information' or 'not specified'\n",
    "- 'telewizor' - 'television'"
   ]
  },
  {
   "cell_type": "markdown",
   "metadata": {},
   "source": [
    "#### 2.2.2.12 media_types"
   ]
  },
  {
   "cell_type": "code",
   "execution_count": 61,
   "metadata": {},
   "outputs": [
    {
     "data": {
      "text/plain": [
       "brak informacji      627\n",
       "internet             452\n",
       "telewizja kablowa    354\n",
       "telefon              153\n",
       "Name: media_types, dtype: int64"
      ]
     },
     "execution_count": 61,
     "metadata": {},
     "output_type": "execute_result"
    }
   ],
   "source": [
    "count_comma_separated_values(df_otodom, \"media_types\")"
   ]
  },
  {
   "cell_type": "markdown",
   "metadata": {},
   "source": [
    "- 'brak informacji' - 'no information' or 'not specified'\n",
    "- 'internet' - 'internet'\n",
    "- 'telewizja kablowa' - 'cable TV'\n",
    "- 'telefon' - 'telephone'"
   ]
  },
  {
   "cell_type": "markdown",
   "metadata": {},
   "source": [
    "#### 2.2.2.13 heating"
   ]
  },
  {
   "cell_type": "code",
   "execution_count": 62,
   "metadata": {},
   "outputs": [
    {
     "data": {
      "text/plain": [
       "miejskie           681\n",
       "brak informacji    215\n",
       "gazowe             125\n",
       "elektryczne         40\n",
       "inne                26\n",
       "kotłownia           15\n",
       "piece kaflowe        3\n",
       "Name: heating, dtype: int64"
      ]
     },
     "execution_count": 62,
     "metadata": {},
     "output_type": "execute_result"
    }
   ],
   "source": [
    "count_comma_separated_values(df_otodom, \"heating\")"
   ]
  },
  {
   "cell_type": "markdown",
   "metadata": {},
   "source": [
    "- 'miejskie' - 'municipal' or 'district heating'\n",
    "- 'brak informacji' - 'no information' or 'not specified'\n",
    "- 'gazowe' - 'gas'\n",
    "- 'elektryczne' - 'electric'\n",
    "- 'inne' - 'other'\n",
    "- 'kotłownia' - 'boiler room'\n",
    "- 'piece kaflowe' - 'tiled stoves' or 'ceramic stoves'"
   ]
  },
  {
   "cell_type": "markdown",
   "metadata": {},
   "source": [
    "#### 2.2.2.14 windows\n"
   ]
  },
  {
   "cell_type": "code",
   "execution_count": 63,
   "metadata": {},
   "outputs": [
    {
     "data": {
      "text/plain": [
       "plastikowe         791\n",
       "brak informacji    284\n",
       "drewniane           26\n",
       "aluminiowe           4\n",
       "Name: windows, dtype: int64"
      ]
     },
     "execution_count": 63,
     "metadata": {},
     "output_type": "execute_result"
    }
   ],
   "source": [
    "count_comma_separated_values(df_otodom, \"windows\")"
   ]
  },
  {
   "cell_type": "markdown",
   "metadata": {},
   "source": [
    "- 'plastikowe' - 'plastic'\n",
    "- 'brak informacji' - 'no information' or 'not specified'\n",
    "- 'drewniane' - 'wooden'\n",
    "- 'aluminiowe' - 'aluminum'"
   ]
  },
  {
   "cell_type": "markdown",
   "metadata": {},
   "source": [
    "#### 2.2.2.15 elevator"
   ]
  },
  {
   "cell_type": "code",
   "execution_count": 64,
   "metadata": {},
   "outputs": [
    {
     "data": {
      "text/plain": [
       "nie    701\n",
       "tak    404\n",
       "Name: elevator, dtype: int64"
      ]
     },
     "execution_count": 64,
     "metadata": {},
     "output_type": "execute_result"
    }
   ],
   "source": [
    "count_comma_separated_values(df_otodom, \"elevator\")"
   ]
  },
  {
   "cell_type": "markdown",
   "metadata": {},
   "source": [
    "- 'nie' - 'no'\n",
    "- 'tak' - 'yes'"
   ]
  },
  {
   "cell_type": "markdown",
   "metadata": {},
   "source": [
    "#### 2.2.2.16 parking_space\n"
   ]
  },
  {
   "cell_type": "code",
   "execution_count": 65,
   "metadata": {},
   "outputs": [
    {
     "data": {
      "text/plain": [
       "brak informacji             755\n",
       "garaż/miejsce parkingowe    350\n",
       "Name: parking_space, dtype: int64"
      ]
     },
     "execution_count": 65,
     "metadata": {},
     "output_type": "execute_result"
    }
   ],
   "source": [
    "count_comma_separated_values(df_otodom, \"parking_space\")"
   ]
  },
  {
   "cell_type": "markdown",
   "metadata": {},
   "source": [
    "- 'brak informacji' - 'no information' or 'not specified'\n",
    "- 'garaż/miejsce parkingowe' - 'garage/parking space'"
   ]
  },
  {
   "cell_type": "markdown",
   "metadata": {},
   "source": [
    "#### 2.2.2.17 build_year\n"
   ]
  },
  {
   "cell_type": "code",
   "execution_count": 66,
   "metadata": {},
   "outputs": [
    {
     "data": {
      "text/plain": [
       "brak informacji    629\n",
       "2022                61\n",
       "1980                60\n",
       "2021                47\n",
       "2023                39\n",
       "                  ... \n",
       "1893                 1\n",
       "1992                 1\n",
       "1935                 1\n",
       "1956                 1\n",
       "1940                 1\n",
       "Name: build_year, Length: 68, dtype: int64"
      ]
     },
     "execution_count": 66,
     "metadata": {},
     "output_type": "execute_result"
    }
   ],
   "source": [
    "count_comma_separated_values(df_otodom, \"build_year\")"
   ]
  },
  {
   "cell_type": "code",
   "execution_count": 78,
   "metadata": {},
   "outputs": [
    {
     "data": {
      "text/plain": [
       "80     2023\n",
       "881    2023\n",
       "220    2025\n",
       "188    2025\n",
       "36     2025\n",
       "Name: build_year, dtype: int32"
      ]
     },
     "execution_count": 78,
     "metadata": {},
     "output_type": "execute_result"
    }
   ],
   "source": [
    "df_otodom_filtered = df_otodom[df_otodom['build_year'].notna() & (df_otodom['build_year'] != 'brak informacji')].astype({'build_year': 'int32'}).sort_values(by='build_year')\n",
    "df_otodom_filtered['build_year'].tail()\n"
   ]
  },
  {
   "cell_type": "code",
   "execution_count": 79,
   "metadata": {},
   "outputs": [
    {
     "data": {
      "text/plain": [
       "445    1893\n",
       "840    1900\n",
       "141    1900\n",
       "381    1900\n",
       "250    1900\n",
       "Name: build_year, dtype: int32"
      ]
     },
     "execution_count": 79,
     "metadata": {},
     "output_type": "execute_result"
    }
   ],
   "source": [
    "df_otodom_filtered['build_year'].head()"
   ]
  },
  {
   "cell_type": "markdown",
   "metadata": {},
   "source": [
    "#### 2.2.2.18 building_material"
   ]
  },
  {
   "cell_type": "code",
   "execution_count": 67,
   "metadata": {},
   "outputs": [
    {
     "data": {
      "text/plain": [
       "brak informacji    548\n",
       "cegła              279\n",
       "wielka płyta       119\n",
       "pustak              65\n",
       "inne                42\n",
       "żelbet              17\n",
       "beton               16\n",
       "silikat              8\n",
       "beton komórkowy      7\n",
       "drewno               3\n",
       "keramzyt             1\n",
       "Name: building_material, dtype: int64"
      ]
     },
     "execution_count": 67,
     "metadata": {},
     "output_type": "execute_result"
    }
   ],
   "source": [
    "count_comma_separated_values(df_otodom, \"building_material\")"
   ]
  },
  {
   "cell_type": "markdown",
   "metadata": {},
   "source": [
    "- 'brak informacji' - 'no information' or 'not specified'\n",
    "- 'cegła' - 'brick'\n",
    "- 'wielka płyta' - 'large panel' (a type of panel building construction)\n",
    "- 'pustak' - 'hollow brick' or 'concrete block'\n",
    "- 'inne' - 'other'\n",
    "- 'żelbet' - 'reinforced concrete'\n",
    "- 'beton' - 'concrete'\n",
    "- 'silikat' - 'silicate' (referring to silicate brick)\n",
    "- 'beton komórkowy' - 'aerated concrete'\n",
    "- 'drewno' - 'wood'\n",
    "- 'keramzyt' - 'expanded clay' (a lightweight aggregate used in construction)"
   ]
  }
 ],
 "metadata": {
  "kernelspec": {
   "display_name": "Python 3",
   "language": "python",
   "name": "python3"
  },
  "language_info": {
   "codemirror_mode": {
    "name": "ipython",
    "version": 3
   },
   "file_extension": ".py",
   "mimetype": "text/x-python",
   "name": "python",
   "nbconvert_exporter": "python",
   "pygments_lexer": "ipython3",
   "version": "3.11.1"
  }
 },
 "nbformat": 4,
 "nbformat_minor": 2
}
