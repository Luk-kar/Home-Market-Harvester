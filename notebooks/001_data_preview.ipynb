{
 "cells": [
  {
   "cell_type": "markdown",
   "metadata": {},
   "source": [
    "# Data Preview"
   ]
  },
  {
   "cell_type": "markdown",
   "metadata": {},
   "source": [
    "## 1. Set up"
   ]
  },
  {
   "cell_type": "markdown",
   "metadata": {},
   "source": [
    "### 1.3 Importing Data"
   ]
  },
  {
   "cell_type": "code",
   "execution_count": 2,
   "metadata": {},
   "outputs": [
    {
     "ename": "KeyError",
     "evalue": "'raw_path'",
     "output_type": "error",
     "traceback": [
      "\u001b[1;31m---------------------------------------------------------------------------\u001b[0m",
      "\u001b[1;31mKeyError\u001b[0m                                  Traceback (most recent call last)",
      "\u001b[1;32md:\\UserData karol\\Documents\\Programming\\Data Science\\Data Engineering\\Rent comparisions\\Home Market Harvester\\notebooks\\001_data_preview.ipynb Cell 4\u001b[0m line \u001b[0;36m1\n\u001b[0;32m     <a href='vscode-notebook-cell:/d%3A/UserData%20karol/Documents/Programming/Data%20Science/Data%20Engineering/Rent%20comparisions/Home%20Market%20Harvester/notebooks/001_data_preview.ipynb#Y150sZmlsZQ%3D%3D?line=9'>10</a>\u001b[0m \u001b[39m# Specify the file path of the CSV file\u001b[39;00m\n\u001b[0;32m     <a href='vscode-notebook-cell:/d%3A/UserData%20karol/Documents/Programming/Data%20Science/Data%20Engineering/Rent%20comparisions/Home%20Market%20Harvester/notebooks/001_data_preview.ipynb#Y150sZmlsZQ%3D%3D?line=10'>11</a>\u001b[0m file_paths \u001b[39m=\u001b[39m {\n\u001b[0;32m     <a href='vscode-notebook-cell:/d%3A/UserData%20karol/Documents/Programming/Data%20Science/Data%20Engineering/Rent%20comparisions/Home%20Market%20Harvester/notebooks/001_data_preview.ipynb#Y150sZmlsZQ%3D%3D?line=11'>12</a>\u001b[0m     \u001b[39m\"\u001b[39m\u001b[39molx\u001b[39m\u001b[39m\"\u001b[39m: \u001b[39m\"\u001b[39m\u001b[39m..\u001b[39m\u001b[39m\\\\\u001b[39;00m\u001b[39mdata\u001b[39m\u001b[39m\\\\\u001b[39;00m\u001b[39mraw\u001b[39m\u001b[39m\\\\\u001b[39;00m\u001b[39m2023_11_27_19_41_45_Mierzęcice__Będziński__Śląskie\u001b[39m\u001b[39m\\\\\u001b[39;00m\u001b[39molx.pl.csv\u001b[39m\u001b[39m\"\u001b[39m,\n\u001b[0;32m     <a href='vscode-notebook-cell:/d%3A/UserData%20karol/Documents/Programming/Data%20Science/Data%20Engineering/Rent%20comparisions/Home%20Market%20Harvester/notebooks/001_data_preview.ipynb#Y150sZmlsZQ%3D%3D?line=12'>13</a>\u001b[0m     \u001b[39m\"\u001b[39m\u001b[39motodom\u001b[39m\u001b[39m\"\u001b[39m: \u001b[39m\"\u001b[39m\u001b[39m..\u001b[39m\u001b[39m\\\\\u001b[39;00m\u001b[39mdata\u001b[39m\u001b[39m\\\\\u001b[39;00m\u001b[39mraw\u001b[39m\u001b[39m\\\\\u001b[39;00m\u001b[39m2023_11_27_19_41_45_Mierzęcice__Będziński__Śląskie\u001b[39m\u001b[39m\\\\\u001b[39;00m\u001b[39motodom.pl.csv\u001b[39m\u001b[39m\"\u001b[39m\n\u001b[0;32m     <a href='vscode-notebook-cell:/d%3A/UserData%20karol/Documents/Programming/Data%20Science/Data%20Engineering/Rent%20comparisions/Home%20Market%20Harvester/notebooks/001_data_preview.ipynb#Y150sZmlsZQ%3D%3D?line=13'>14</a>\u001b[0m }\n\u001b[1;32m---> <a href='vscode-notebook-cell:/d%3A/UserData%20karol/Documents/Programming/Data%20Science/Data%20Engineering/Rent%20comparisions/Home%20Market%20Harvester/notebooks/001_data_preview.ipynb#Y150sZmlsZQ%3D%3D?line=15'>16</a>\u001b[0m df_olx \u001b[39m=\u001b[39m path_manager\u001b[39m.\u001b[39;49mload_df(domain\u001b[39m=\u001b[39;49m\u001b[39m\"\u001b[39;49m\u001b[39molx\u001b[39;49m\u001b[39m\"\u001b[39;49m, is_cleaned\u001b[39m=\u001b[39;49m\u001b[39mFalse\u001b[39;49;00m)\n\u001b[0;32m     <a href='vscode-notebook-cell:/d%3A/UserData%20karol/Documents/Programming/Data%20Science/Data%20Engineering/Rent%20comparisions/Home%20Market%20Harvester/notebooks/001_data_preview.ipynb#Y150sZmlsZQ%3D%3D?line=17'>18</a>\u001b[0m \u001b[39m# Read the CSV file into a pandas DataFrame\u001b[39;00m\n\u001b[0;32m     <a href='vscode-notebook-cell:/d%3A/UserData%20karol/Documents/Programming/Data%20Science/Data%20Engineering/Rent%20comparisions/Home%20Market%20Harvester/notebooks/001_data_preview.ipynb#Y150sZmlsZQ%3D%3D?line=18'>19</a>\u001b[0m \u001b[39m# df_otodom = pd.read_csv(file_paths[\"otodom\"])\u001b[39;00m\n\u001b[0;32m     <a href='vscode-notebook-cell:/d%3A/UserData%20karol/Documents/Programming/Data%20Science/Data%20Engineering/Rent%20comparisions/Home%20Market%20Harvester/notebooks/001_data_preview.ipynb#Y150sZmlsZQ%3D%3D?line=19'>20</a>\u001b[0m \u001b[39m# df_olx = pd.read_csv(file_paths[\"olx\"])\u001b[39;00m\n",
      "File \u001b[1;32md:\\UserData karol\\Documents\\Programming\\Data Science\\Data Engineering\\Rent comparisions\\Home Market Harvester\\notebooks\\_csv_utils.py:123\u001b[0m, in \u001b[0;36mDataPathCleaningManager.load_df\u001b[1;34m(self, domain, is_cleaned)\u001b[0m\n\u001b[0;32m    121\u001b[0m     \u001b[39mreturn\u001b[39;00m \u001b[39mself\u001b[39m\u001b[39m.\u001b[39m_load_cleaned_df(domain)\n\u001b[0;32m    122\u001b[0m \u001b[39melse\u001b[39;00m:\n\u001b[1;32m--> 123\u001b[0m     \u001b[39mreturn\u001b[39;00m \u001b[39mself\u001b[39;49m\u001b[39m.\u001b[39;49m_load_raw_df(domain)\n",
      "File \u001b[1;32md:\\UserData karol\\Documents\\Programming\\Data Science\\Data Engineering\\Rent comparisions\\Home Market Harvester\\notebooks\\_csv_utils.py:128\u001b[0m, in \u001b[0;36mDataPathCleaningManager._load_raw_df\u001b[1;34m(self, domain)\u001b[0m\n\u001b[0;32m    125\u001b[0m \u001b[39mdef\u001b[39;00m \u001b[39m_load_raw_df\u001b[39m(\u001b[39mself\u001b[39m, domain: \u001b[39mstr\u001b[39m) \u001b[39m-\u001b[39m\u001b[39m>\u001b[39m pd\u001b[39m.\u001b[39mDataFrame:\n\u001b[0;32m    126\u001b[0m     data_paths \u001b[39m=\u001b[39m \u001b[39mself\u001b[39m\u001b[39m.\u001b[39mpaths\n\u001b[1;32m--> 128\u001b[0m     data_file \u001b[39m=\u001b[39m \u001b[39mf\u001b[39m\u001b[39m\"\u001b[39m\u001b[39m{\u001b[39;00mdata_paths[\u001b[39m'\u001b[39;49m\u001b[39mraw_path\u001b[39;49m\u001b[39m'\u001b[39;49m]\u001b[39m}\u001b[39;00m\u001b[39m\\\\\u001b[39;00m\u001b[39m{\u001b[39;00mdata_paths[domain][\u001b[39m'\u001b[39m\u001b[39mcsv\u001b[39m\u001b[39m'\u001b[39m]\u001b[39m}\u001b[39;00m\u001b[39m\"\u001b[39m\n\u001b[0;32m    129\u001b[0m     df \u001b[39m=\u001b[39m pd\u001b[39m.\u001b[39mread_csv(data_file)\n\u001b[0;32m    130\u001b[0m     \u001b[39mreturn\u001b[39;00m df\n",
      "\u001b[1;31mKeyError\u001b[0m: 'raw_path'"
     ]
    }
   ],
   "source": [
    "# Standard imports\n",
    "import pandas as pd\n",
    "import numpy as np\n",
    "\n",
    "# Local imports\n",
    "from _csv_utils import data_timeplace, DataPathCleaningManager\n",
    "\n",
    "path_manager = DataPathCleaningManager(data_timeplace)\n",
    "\n",
    "# Specify the file path of the CSV file\n",
    "file_paths = {\n",
    "    \"olx\": \"..\\\\data\\\\raw\\\\2023_11_27_19_41_45_Mierzęcice__Będziński__Śląskie\\\\olx.pl.csv\",\n",
    "    \"otodom\": \"..\\\\data\\\\raw\\\\2023_11_27_19_41_45_Mierzęcice__Będziński__Śląskie\\\\otodom.pl.csv\"\n",
    "}\n",
    "\n",
    "df_olx = path_manager.load_df(domain=\"olx\", is_cleaned=False)\n",
    "\n",
    "# Read the CSV file into a pandas DataFrame\n",
    "# df_otodom = pd.read_csv(file_paths[\"otodom\"])\n",
    "# df_olx = pd.read_csv(file_paths[\"olx\"])"
   ]
  },
  {
   "cell_type": "code",
   "execution_count": null,
   "metadata": {},
   "outputs": [],
   "source": [
    "df_olx"
   ]
  },
  {
   "cell_type": "markdown",
   "metadata": {},
   "source": [
    "### 1.2 Functions"
   ]
  },
  {
   "cell_type": "code",
   "execution_count": 2,
   "metadata": {},
   "outputs": [],
   "source": [
    "def count_and_percentage(df, column_name):\n",
    "    \"\"\"\n",
    "    Function to calculate the count and percentage of unique values in a given column of a DataFrame.\n",
    "\n",
    "    Parameters:\n",
    "    df (pandas.DataFrame): The DataFrame to analyze.\n",
    "    column_name (str): The name of the column in the DataFrame.\n",
    "\n",
    "    Returns:\n",
    "    pandas.DataFrame: A DataFrame with the count and percentage of each unique value in the specified column.\n",
    "\n",
    "    Raises:\n",
    "    ValueError: If the specified column is not found in the DataFrame.\n",
    "    \"\"\"\n",
    "    # Check if the column exists in the DataFrame\n",
    "    if column_name not in df.columns:\n",
    "        raise ValueError(f\"Column '{column_name}' not found in DataFrame.\")\n",
    "\n",
    "    # Calculate count and normalized values\n",
    "    count = df[column_name].value_counts(dropna=False)\n",
    "    normalized = df[column_name].value_counts(dropna=False, normalize=True) * 100\n",
    "\n",
    "    # Concatenate count and normalized values side by side\n",
    "    result = pd.concat([count, normalized], axis=1)\n",
    "    result.columns = ['Count', 'Percentage']\n",
    "\n",
    "    return result"
   ]
  },
  {
   "cell_type": "code",
   "execution_count": 3,
   "metadata": {},
   "outputs": [],
   "source": [
    "def count_comma_separated_values(df, column_name):\n",
    "    \"\"\"\n",
    "    Counts the occurrences of individual elements in a comma-separated string column of a DataFrame.\n",
    "\n",
    "    Parameters:\n",
    "    df (pandas.DataFrame): The DataFrame containing the column.\n",
    "    column_name (str): The name of the column to analyze.\n",
    "\n",
    "    Returns:\n",
    "    pandas.DataFrame: A DataFrame with the count and percentage of each unique element found in the comma-separated values.\n",
    "\n",
    "    Raises:\n",
    "    ValueError: If the specified column is not found in the DataFrame.\n",
    "    \"\"\"\n",
    "    # Check if the column exists in the DataFrame\n",
    "    if column_name not in df.columns:\n",
    "        raise ValueError(f\"Column '{column_name}' not found in DataFrame.\")\n",
    "\n",
    "    # Split the column values, explode to individual elements, and count\n",
    "    exploded_items = df[column_name].dropna().str.split(', ').explode()\n",
    "    exploded_df = pd.DataFrame({column_name: exploded_items})\n",
    "    counts_and_percent = count_and_percentage(exploded_df, column_name)\n",
    "\n",
    "    return counts_and_percent"
   ]
  },
  {
   "cell_type": "code",
   "execution_count": 4,
   "metadata": {},
   "outputs": [],
   "source": [
    "def remove_non_numeric_characters(df, column_name):\n",
    "    \"\"\"\n",
    "    Removes all non-numeric characters from a column of a DataFrame.\n",
    "\n",
    "    Parameters:\n",
    "    df (pandas.DataFrame): The DataFrame containing the column.\n",
    "    column_name (str): The name of the column to analyze.\n",
    "\n",
    "    Returns:\n",
    "    pandas.DataFrame: A DataFrame with all non-numeric characters removed from the specified column.\n",
    "\n",
    "    Raises:\n",
    "    ValueError: If the specified column is not found in the DataFrame.\n",
    "    \"\"\"\n",
    "\n",
    "    return df[column_name].str.replace('[^a-zA-Z]', '', regex=True).unique()"
   ]
  },
  {
   "cell_type": "markdown",
   "metadata": {},
   "source": [
    "## 2. Data cleaning"
   ]
  },
  {
   "cell_type": "markdown",
   "metadata": {},
   "source": [
    "### 2.1 OLX"
   ]
  },
  {
   "cell_type": "code",
   "execution_count": 5,
   "metadata": {},
   "outputs": [
    {
     "data": {
      "text/html": [
       "<div>\n",
       "<style scoped>\n",
       "    .dataframe tbody tr th:only-of-type {\n",
       "        vertical-align: middle;\n",
       "    }\n",
       "\n",
       "    .dataframe tbody tr th {\n",
       "        vertical-align: top;\n",
       "    }\n",
       "\n",
       "    .dataframe thead th {\n",
       "        text-align: right;\n",
       "    }\n",
       "</style>\n",
       "<table border=\"1\" class=\"dataframe\">\n",
       "  <thead>\n",
       "    <tr style=\"text-align: right;\">\n",
       "      <th></th>\n",
       "      <th>link</th>\n",
       "      <th>title</th>\n",
       "      <th>price</th>\n",
       "      <th>summary_description</th>\n",
       "      <th>location</th>\n",
       "      <th>ownership</th>\n",
       "      <th>floor_level</th>\n",
       "      <th>is_furnished</th>\n",
       "      <th>building_type</th>\n",
       "      <th>square_meters</th>\n",
       "      <th>number_of_rooms</th>\n",
       "      <th>rent</th>\n",
       "    </tr>\n",
       "  </thead>\n",
       "  <tbody>\n",
       "    <tr>\n",
       "      <th>0</th>\n",
       "      <td>https://www.olx.pl/d/oferta/kawalerka-tychy-os...</td>\n",
       "      <td>Kawalerka Tychy oś M</td>\n",
       "      <td>1 500 zł</td>\n",
       "      <td>OpisWynajmę kawalerkę na ul Moniuszki 1/16 .na...</td>\n",
       "      <td>Śląskie, Zawada</td>\n",
       "      <td>Prywatne</td>\n",
       "      <td>Poziom: 3</td>\n",
       "      <td>Umeblowane: Nie</td>\n",
       "      <td>Rodzaj zabudowy: Apartamentowiec</td>\n",
       "      <td>Powierzchnia: 26 m²</td>\n",
       "      <td>Liczba pokoi: Kawalerka</td>\n",
       "      <td>Czynsz (dodatkowo): 400 zł</td>\n",
       "    </tr>\n",
       "  </tbody>\n",
       "</table>\n",
       "</div>"
      ],
      "text/plain": [
       "                                                link                 title  \\\n",
       "0  https://www.olx.pl/d/oferta/kawalerka-tychy-os...  Kawalerka Tychy oś M   \n",
       "\n",
       "      price                                summary_description  \\\n",
       "0  1 500 zł  OpisWynajmę kawalerkę na ul Moniuszki 1/16 .na...   \n",
       "\n",
       "          location ownership floor_level     is_furnished  \\\n",
       "0  Śląskie, Zawada  Prywatne   Poziom: 3  Umeblowane: Nie   \n",
       "\n",
       "                      building_type        square_meters  \\\n",
       "0  Rodzaj zabudowy: Apartamentowiec  Powierzchnia: 26 m²   \n",
       "\n",
       "           number_of_rooms                        rent  \n",
       "0  Liczba pokoi: Kawalerka  Czynsz (dodatkowo): 400 zł  "
      ]
     },
     "execution_count": 5,
     "metadata": {},
     "output_type": "execute_result"
    }
   ],
   "source": [
    "df_olx"
   ]
  },
  {
   "cell_type": "code",
   "execution_count": 6,
   "metadata": {},
   "outputs": [
    {
     "data": {
      "text/plain": [
       "'OpisWynajmę kawalerkę na ul Moniuszki 1/16 .najem okazjonalny tel +48**********19'"
      ]
     },
     "execution_count": 6,
     "metadata": {},
     "output_type": "execute_result"
    }
   ],
   "source": [
    "df_olx['summary_description'][0]"
   ]
  },
  {
   "cell_type": "markdown",
   "metadata": {},
   "source": [
    "### 2.2 Otodom"
   ]
  },
  {
   "cell_type": "markdown",
   "metadata": {},
   "source": [
    "### 2.2.1 Data Shape"
   ]
  },
  {
   "cell_type": "code",
   "execution_count": 7,
   "metadata": {},
   "outputs": [
    {
     "data": {
      "text/html": [
       "<div>\n",
       "<style scoped>\n",
       "    .dataframe tbody tr th:only-of-type {\n",
       "        vertical-align: middle;\n",
       "    }\n",
       "\n",
       "    .dataframe tbody tr th {\n",
       "        vertical-align: top;\n",
       "    }\n",
       "\n",
       "    .dataframe thead th {\n",
       "        text-align: right;\n",
       "    }\n",
       "</style>\n",
       "<table border=\"1\" class=\"dataframe\">\n",
       "  <thead>\n",
       "    <tr style=\"text-align: right;\">\n",
       "      <th></th>\n",
       "      <th>link</th>\n",
       "      <th>title</th>\n",
       "      <th>location</th>\n",
       "      <th>price</th>\n",
       "      <th>summary_description</th>\n",
       "      <th>square_meters</th>\n",
       "      <th>rent</th>\n",
       "      <th>number_of_rooms</th>\n",
       "      <th>deposit</th>\n",
       "      <th>floor_level</th>\n",
       "      <th>...</th>\n",
       "      <th>equipment</th>\n",
       "      <th>media_types</th>\n",
       "      <th>heating</th>\n",
       "      <th>security</th>\n",
       "      <th>windows</th>\n",
       "      <th>elevator</th>\n",
       "      <th>parking_space</th>\n",
       "      <th>build_year</th>\n",
       "      <th>building_material</th>\n",
       "      <th>additional_information</th>\n",
       "    </tr>\n",
       "  </thead>\n",
       "  <tbody>\n",
       "    <tr>\n",
       "      <th>0</th>\n",
       "      <td>https://www.otodom.pl/pl/oferta/mieszkania-2-p...</td>\n",
       "      <td>Mieszkania 2 pokojowe cena z ogrzewaniem</td>\n",
       "      <td>ul. Karola Szymanowskiego 44, Zagórze Północ, ...</td>\n",
       "      <td>2 000 zł</td>\n",
       "      <td>Do wynajęcia 6 mieszkań o powierzchni od 42-58...</td>\n",
       "      <td>42 m²</td>\n",
       "      <td>NaN</td>\n",
       "      <td>2</td>\n",
       "      <td>4 000 zł</td>\n",
       "      <td>parter/2</td>\n",
       "      <td>...</td>\n",
       "      <td>lodówka, meble, piekarnik, kuchenka, pralka</td>\n",
       "      <td>telewizja kablowa, internet</td>\n",
       "      <td>gazowe</td>\n",
       "      <td>drzwi / okna antywłamaniowe, teren zamknięty, ...</td>\n",
       "      <td>plastikowe</td>\n",
       "      <td>nie</td>\n",
       "      <td>garaż/miejsce parkingowe</td>\n",
       "      <td>brak informacji</td>\n",
       "      <td>cegła</td>\n",
       "      <td>piwnica, oddzielna kuchnia, pom. użytkowe</td>\n",
       "    </tr>\n",
       "    <tr>\n",
       "      <th>1</th>\n",
       "      <td>https://www.otodom.pl/pl/oferta/kawalerka-w-ka...</td>\n",
       "      <td>Kawalerka w Katowicach do wynajęcia od zaraz</td>\n",
       "      <td>ul. Haliny Krahelskiej, Osiedle Paderewskiego-...</td>\n",
       "      <td>1 500 zł</td>\n",
       "      <td>Nowe, (2018), komfortowe, jasne, w pełni wypos...</td>\n",
       "      <td>19 m²</td>\n",
       "      <td>250 zł/miesiąc</td>\n",
       "      <td>1</td>\n",
       "      <td>1 500 zł</td>\n",
       "      <td>3/3</td>\n",
       "      <td>...</td>\n",
       "      <td>zmywarka, lodówka, meble, kuchenka, telewizor,...</td>\n",
       "      <td>telewizja kablowa, internet</td>\n",
       "      <td>gazowe</td>\n",
       "      <td>teren zamknięty, domofon / wideofon</td>\n",
       "      <td>plastikowe</td>\n",
       "      <td>nie</td>\n",
       "      <td>garaż/miejsce parkingowe</td>\n",
       "      <td>2018</td>\n",
       "      <td>cegła</td>\n",
       "      <td>tylko dla niepalących</td>\n",
       "    </tr>\n",
       "    <tr>\n",
       "      <th>2</th>\n",
       "      <td>https://www.otodom.pl/pl/oferta/mam-do-wynajec...</td>\n",
       "      <td>Mam do wynajęcia mieszkanie Bezpośrednio !</td>\n",
       "      <td>ul. Beskidzka, Chorzów II, Chorzów, śląskie</td>\n",
       "      <td>1 499 zł</td>\n",
       "      <td>Witam.Mam do wynajęcia mieszkanie w Chorzowie,...</td>\n",
       "      <td>55 m²</td>\n",
       "      <td>799 zł/miesiąc</td>\n",
       "      <td>2</td>\n",
       "      <td>4 500 zł</td>\n",
       "      <td>parter/2</td>\n",
       "      <td>...</td>\n",
       "      <td>zmywarka, lodówka, meble, piekarnik, kuchenka,...</td>\n",
       "      <td>telewizja kablowa, internet</td>\n",
       "      <td>miejskie</td>\n",
       "      <td>drzwi / okna antywłamaniowe, teren zamknięty, ...</td>\n",
       "      <td>plastikowe</td>\n",
       "      <td>nie</td>\n",
       "      <td>garaż/miejsce parkingowe</td>\n",
       "      <td>2004</td>\n",
       "      <td>cegła</td>\n",
       "      <td>piwnica, pom. użytkowe</td>\n",
       "    </tr>\n",
       "    <tr>\n",
       "      <th>3</th>\n",
       "      <td>https://www.otodom.pl/pl/oferta/kawalerka-os-p...</td>\n",
       "      <td>Kawalerka os. Paderewskiego</td>\n",
       "      <td>ul. Graniczna, Osiedle Paderewskiego-Muchowiec...</td>\n",
       "      <td>1 400 zł</td>\n",
       "      <td>Oferujemy do wynajęcia przytulną kawalerkę zlo...</td>\n",
       "      <td>31 m²</td>\n",
       "      <td>1 zł/miesiąc</td>\n",
       "      <td>1</td>\n",
       "      <td>1 400 zł</td>\n",
       "      <td>10/10</td>\n",
       "      <td>...</td>\n",
       "      <td>lodówka, piekarnik, pralka</td>\n",
       "      <td>brak informacji</td>\n",
       "      <td>miejskie</td>\n",
       "      <td>brak informacji</td>\n",
       "      <td>brak informacji</td>\n",
       "      <td>nie</td>\n",
       "      <td>brak informacji</td>\n",
       "      <td>brak informacji</td>\n",
       "      <td>brak informacji</td>\n",
       "      <td>brak informacji</td>\n",
       "    </tr>\n",
       "    <tr>\n",
       "      <th>4</th>\n",
       "      <td>https://www.otodom.pl/pl/oferta/ul-1000-lecia-...</td>\n",
       "      <td>ul.1000-lecia Dąbrowa Górnicza Gołonóg 50m2 2 pok</td>\n",
       "      <td>1000 lecia, Brodway, Gołonóg Północny, Dąbrowa...</td>\n",
       "      <td>1 500 zł</td>\n",
       "      <td>Do wynajęcia mieszkanie 50m2 DąbrowaGórnicza G...</td>\n",
       "      <td>50 m²</td>\n",
       "      <td>700 zł/miesiąc</td>\n",
       "      <td>2</td>\n",
       "      <td>2 000 zł</td>\n",
       "      <td>&gt; 10/13</td>\n",
       "      <td>...</td>\n",
       "      <td>brak informacji</td>\n",
       "      <td>brak informacji</td>\n",
       "      <td>miejskie</td>\n",
       "      <td>brak informacji</td>\n",
       "      <td>plastikowe</td>\n",
       "      <td>tak</td>\n",
       "      <td>brak informacji</td>\n",
       "      <td>1980</td>\n",
       "      <td>wielka płyta</td>\n",
       "      <td>piwnica</td>\n",
       "    </tr>\n",
       "  </tbody>\n",
       "</table>\n",
       "<p>5 rows × 27 columns</p>\n",
       "</div>"
      ],
      "text/plain": [
       "                                                link  \\\n",
       "0  https://www.otodom.pl/pl/oferta/mieszkania-2-p...   \n",
       "1  https://www.otodom.pl/pl/oferta/kawalerka-w-ka...   \n",
       "2  https://www.otodom.pl/pl/oferta/mam-do-wynajec...   \n",
       "3  https://www.otodom.pl/pl/oferta/kawalerka-os-p...   \n",
       "4  https://www.otodom.pl/pl/oferta/ul-1000-lecia-...   \n",
       "\n",
       "                                               title  \\\n",
       "0           Mieszkania 2 pokojowe cena z ogrzewaniem   \n",
       "1       Kawalerka w Katowicach do wynajęcia od zaraz   \n",
       "2         Mam do wynajęcia mieszkanie Bezpośrednio !   \n",
       "3                        Kawalerka os. Paderewskiego   \n",
       "4  ul.1000-lecia Dąbrowa Górnicza Gołonóg 50m2 2 pok   \n",
       "\n",
       "                                            location     price  \\\n",
       "0  ul. Karola Szymanowskiego 44, Zagórze Północ, ...  2 000 zł   \n",
       "1  ul. Haliny Krahelskiej, Osiedle Paderewskiego-...  1 500 zł   \n",
       "2        ul. Beskidzka, Chorzów II, Chorzów, śląskie  1 499 zł   \n",
       "3  ul. Graniczna, Osiedle Paderewskiego-Muchowiec...  1 400 zł   \n",
       "4  1000 lecia, Brodway, Gołonóg Północny, Dąbrowa...  1 500 zł   \n",
       "\n",
       "                                 summary_description square_meters  \\\n",
       "0  Do wynajęcia 6 mieszkań o powierzchni od 42-58...         42 m²   \n",
       "1  Nowe, (2018), komfortowe, jasne, w pełni wypos...         19 m²   \n",
       "2  Witam.Mam do wynajęcia mieszkanie w Chorzowie,...         55 m²   \n",
       "3  Oferujemy do wynajęcia przytulną kawalerkę zlo...         31 m²   \n",
       "4  Do wynajęcia mieszkanie 50m2 DąbrowaGórnicza G...         50 m²   \n",
       "\n",
       "             rent  number_of_rooms   deposit floor_level  ...  \\\n",
       "0             NaN                2  4 000 zł    parter/2  ...   \n",
       "1  250 zł/miesiąc                1  1 500 zł         3/3  ...   \n",
       "2  799 zł/miesiąc                2  4 500 zł    parter/2  ...   \n",
       "3    1 zł/miesiąc                1  1 400 zł       10/10  ...   \n",
       "4  700 zł/miesiąc                2  2 000 zł     > 10/13  ...   \n",
       "\n",
       "                                           equipment  \\\n",
       "0        lodówka, meble, piekarnik, kuchenka, pralka   \n",
       "1  zmywarka, lodówka, meble, kuchenka, telewizor,...   \n",
       "2  zmywarka, lodówka, meble, piekarnik, kuchenka,...   \n",
       "3                         lodówka, piekarnik, pralka   \n",
       "4                                    brak informacji   \n",
       "\n",
       "                   media_types   heating  \\\n",
       "0  telewizja kablowa, internet    gazowe   \n",
       "1  telewizja kablowa, internet    gazowe   \n",
       "2  telewizja kablowa, internet  miejskie   \n",
       "3              brak informacji  miejskie   \n",
       "4              brak informacji  miejskie   \n",
       "\n",
       "                                            security          windows  \\\n",
       "0  drzwi / okna antywłamaniowe, teren zamknięty, ...       plastikowe   \n",
       "1                teren zamknięty, domofon / wideofon       plastikowe   \n",
       "2  drzwi / okna antywłamaniowe, teren zamknięty, ...       plastikowe   \n",
       "3                                    brak informacji  brak informacji   \n",
       "4                                    brak informacji       plastikowe   \n",
       "\n",
       "  elevator             parking_space       build_year building_material  \\\n",
       "0      nie  garaż/miejsce parkingowe  brak informacji             cegła   \n",
       "1      nie  garaż/miejsce parkingowe             2018             cegła   \n",
       "2      nie  garaż/miejsce parkingowe             2004             cegła   \n",
       "3      nie           brak informacji  brak informacji   brak informacji   \n",
       "4      tak           brak informacji             1980      wielka płyta   \n",
       "\n",
       "                      additional_information  \n",
       "0  piwnica, oddzielna kuchnia, pom. użytkowe  \n",
       "1                      tylko dla niepalących  \n",
       "2                     piwnica, pom. użytkowe  \n",
       "3                            brak informacji  \n",
       "4                                    piwnica  \n",
       "\n",
       "[5 rows x 27 columns]"
      ]
     },
     "execution_count": 7,
     "metadata": {},
     "output_type": "execute_result"
    }
   ],
   "source": [
    "df_otodom.head()"
   ]
  },
  {
   "cell_type": "code",
   "execution_count": 47,
   "metadata": {},
   "outputs": [
    {
     "data": {
      "text/plain": [
       "['2/4',\n",
       " '1/4',\n",
       " '3/4',\n",
       " '1/3',\n",
       " '4/4',\n",
       " '2/3',\n",
       " '3/3',\n",
       " 'parter/4',\n",
       " 'parter/3',\n",
       " '1/2',\n",
       " '2/2',\n",
       " '1',\n",
       " 'parter/2',\n",
       " '2',\n",
       " 'parter',\n",
       " '1/1',\n",
       " '4',\n",
       " '2/5',\n",
       " '1/10',\n",
       " '3',\n",
       " '9/10',\n",
       " '3/10',\n",
       " 'parter/1',\n",
       " '2/10',\n",
       " '10/10',\n",
       " '8/10',\n",
       " '3/5',\n",
       " '4/10',\n",
       " '4/5',\n",
       " '1/5',\n",
       " '7/10',\n",
       " '5/10',\n",
       " '3/8',\n",
       " '> 10/15',\n",
       " '6/6',\n",
       " '4/7',\n",
       " '10/11',\n",
       " 'parter/5',\n",
       " 'parter/10',\n",
       " '> 10/13',\n",
       " '5/6',\n",
       " '5/5',\n",
       " '3/7',\n",
       " '4/6',\n",
       " '2/7',\n",
       " '3/11',\n",
       " '4/8',\n",
       " '2/8',\n",
       " '5/7',\n",
       " '7/8',\n",
       " '3/6',\n",
       " '> 10/17',\n",
       " '6/10',\n",
       " '9/13',\n",
       " '7/7',\n",
       " '1/8',\n",
       " '5/17',\n",
       " '2/13',\n",
       " '4/13',\n",
       " '5/8',\n",
       " '2/6',\n",
       " '8/13',\n",
       " '1/6',\n",
       " '6/8',\n",
       " '2/14',\n",
       " '7',\n",
       " '8/8',\n",
       " '6',\n",
       " '6/18',\n",
       " '5/9',\n",
       " '9/24',\n",
       " '6/11',\n",
       " '10/14',\n",
       " '1/9',\n",
       " '> 10/20',\n",
       " '3/13',\n",
       " '6/9',\n",
       " '10/13',\n",
       " '1/13',\n",
       " '8',\n",
       " '8/14',\n",
       " '8/11',\n",
       " '6/13',\n",
       " '4/11',\n",
       " '8/9',\n",
       " '5/12',\n",
       " '> 10/14',\n",
       " 'poddasze',\n",
       " 'suterena/1',\n",
       " '2/9',\n",
       " '4/9',\n",
       " '1/11',\n",
       " '6/7',\n",
       " '> 10/25',\n",
       " '3/17',\n",
       " '5',\n",
       " '10/15',\n",
       " '7/9',\n",
       " 'parter/18',\n",
       " '8/24',\n",
       " '9/15',\n",
       " '9/12',\n",
       " '9/16',\n",
       " '3/9',\n",
       " '8/16',\n",
       " '8/15',\n",
       " '10/18',\n",
       " '6/15',\n",
       " '1/7',\n",
       " '9/11',\n",
       " '4/12',\n",
       " '> 10/16',\n",
       " '6/14',\n",
       " '> 10',\n",
       " '5/11',\n",
       " '7/13',\n",
       " '> 10/24',\n",
       " 'parter/12',\n",
       " '> 10/11',\n",
       " '1/15',\n",
       " '4/16',\n",
       " '6/17',\n",
       " '7/11',\n",
       " '2/11',\n",
       " '3/12',\n",
       " 'parter/6',\n",
       " '8/12',\n",
       " 'poddasze/3']"
      ]
     },
     "execution_count": 47,
     "metadata": {},
     "output_type": "execute_result"
    }
   ],
   "source": [
    "df_otodom['floor_level'].value_counts().index.tolist()\n"
   ]
  },
  {
   "cell_type": "code",
   "execution_count": 9,
   "metadata": {},
   "outputs": [
    {
     "data": {
      "text/html": [
       "<div>\n",
       "<style scoped>\n",
       "    .dataframe tbody tr th:only-of-type {\n",
       "        vertical-align: middle;\n",
       "    }\n",
       "\n",
       "    .dataframe tbody tr th {\n",
       "        vertical-align: top;\n",
       "    }\n",
       "\n",
       "    .dataframe thead th {\n",
       "        text-align: right;\n",
       "    }\n",
       "</style>\n",
       "<table border=\"1\" class=\"dataframe\">\n",
       "  <thead>\n",
       "    <tr style=\"text-align: right;\">\n",
       "      <th></th>\n",
       "      <th>link</th>\n",
       "      <th>title</th>\n",
       "      <th>location</th>\n",
       "      <th>price</th>\n",
       "      <th>summary_description</th>\n",
       "      <th>square_meters</th>\n",
       "      <th>rent</th>\n",
       "      <th>number_of_rooms</th>\n",
       "      <th>deposit</th>\n",
       "      <th>floor_level</th>\n",
       "      <th>...</th>\n",
       "      <th>equipment</th>\n",
       "      <th>media_types</th>\n",
       "      <th>heating</th>\n",
       "      <th>security</th>\n",
       "      <th>windows</th>\n",
       "      <th>elevator</th>\n",
       "      <th>parking_space</th>\n",
       "      <th>build_year</th>\n",
       "      <th>building_material</th>\n",
       "      <th>additional_information</th>\n",
       "    </tr>\n",
       "  </thead>\n",
       "  <tbody>\n",
       "    <tr>\n",
       "      <th>962</th>\n",
       "      <td>https://www.otodom.pl/pl/oferta/3-pokoje-z-wyp...</td>\n",
       "      <td>3 pokoje z Wyposażeniem Wolne od Zaraz</td>\n",
       "      <td>ul. Powstańców Śląskich, Czeladź, będziński, ś...</td>\n",
       "      <td>2 500 zł</td>\n",
       "      <td>Do wynajęcia od zaraz 3 pokojowe  mieszkanie o...</td>\n",
       "      <td>47 m²</td>\n",
       "      <td>2 500 zł/miesiąc</td>\n",
       "      <td>3</td>\n",
       "      <td>2 500 zł</td>\n",
       "      <td>1/4</td>\n",
       "      <td>...</td>\n",
       "      <td>lodówka, meble, piekarnik, kuchenka, telewizor...</td>\n",
       "      <td>telewizja kablowa, internet</td>\n",
       "      <td>miejskie</td>\n",
       "      <td>drzwi / okna antywłamaniowe, domofon / wideofon</td>\n",
       "      <td>plastikowe</td>\n",
       "      <td>nie</td>\n",
       "      <td>brak informacji</td>\n",
       "      <td>1970</td>\n",
       "      <td>inne</td>\n",
       "      <td>oddzielna kuchnia</td>\n",
       "    </tr>\n",
       "    <tr>\n",
       "      <th>734</th>\n",
       "      <td>https://www.otodom.pl/pl/oferta/sosnowiec-zbar...</td>\n",
       "      <td>Sosnowiec Zbaraska</td>\n",
       "      <td>ul. Zbaraska, Pogoń, Sosnowiec, śląskie</td>\n",
       "      <td>1 100 zł</td>\n",
       "      <td>Do wynajęcia mieszkanie w Sosnowcu przy ulicy ...</td>\n",
       "      <td>32,62 m²</td>\n",
       "      <td>400 zł/miesiąc</td>\n",
       "      <td>1</td>\n",
       "      <td>3 000 zł</td>\n",
       "      <td>4/4</td>\n",
       "      <td>...</td>\n",
       "      <td>zmywarka, lodówka, piekarnik, pralka</td>\n",
       "      <td>brak informacji</td>\n",
       "      <td>miejskie</td>\n",
       "      <td>brak informacji</td>\n",
       "      <td>plastikowe</td>\n",
       "      <td>nie</td>\n",
       "      <td>brak informacji</td>\n",
       "      <td>brak informacji</td>\n",
       "      <td>cegła</td>\n",
       "      <td>brak informacji</td>\n",
       "    </tr>\n",
       "    <tr>\n",
       "      <th>404</th>\n",
       "      <td>https://www.otodom.pl/pl/oferta/swietnie-zloka...</td>\n",
       "      <td>Świetnie zlokalizowane mieszkanie z balkonem</td>\n",
       "      <td>Jaworzno, śląskie</td>\n",
       "      <td>1 200 zł</td>\n",
       "      <td>Świetnie zlokalizowane mieszkanie do wynajęcia...</td>\n",
       "      <td>42 m²</td>\n",
       "      <td>NaN</td>\n",
       "      <td>2</td>\n",
       "      <td>2 000 zł</td>\n",
       "      <td>4/4</td>\n",
       "      <td>...</td>\n",
       "      <td>lodówka, meble, piekarnik, kuchenka, pralka</td>\n",
       "      <td>brak informacji</td>\n",
       "      <td>miejskie</td>\n",
       "      <td>domofon / wideofon</td>\n",
       "      <td>plastikowe</td>\n",
       "      <td>nie</td>\n",
       "      <td>brak informacji</td>\n",
       "      <td>brak informacji</td>\n",
       "      <td>brak informacji</td>\n",
       "      <td>piwnica, oddzielna kuchnia</td>\n",
       "    </tr>\n",
       "  </tbody>\n",
       "</table>\n",
       "<p>3 rows × 27 columns</p>\n",
       "</div>"
      ],
      "text/plain": [
       "                                                  link  \\\n",
       "962  https://www.otodom.pl/pl/oferta/3-pokoje-z-wyp...   \n",
       "734  https://www.otodom.pl/pl/oferta/sosnowiec-zbar...   \n",
       "404  https://www.otodom.pl/pl/oferta/swietnie-zloka...   \n",
       "\n",
       "                                            title  \\\n",
       "962        3 pokoje z Wyposażeniem Wolne od Zaraz   \n",
       "734                            Sosnowiec Zbaraska   \n",
       "404  Świetnie zlokalizowane mieszkanie z balkonem   \n",
       "\n",
       "                                              location     price  \\\n",
       "962  ul. Powstańców Śląskich, Czeladź, będziński, ś...  2 500 zł   \n",
       "734            ul. Zbaraska, Pogoń, Sosnowiec, śląskie  1 100 zł   \n",
       "404                                  Jaworzno, śląskie  1 200 zł   \n",
       "\n",
       "                                   summary_description square_meters  \\\n",
       "962  Do wynajęcia od zaraz 3 pokojowe  mieszkanie o...         47 m²   \n",
       "734  Do wynajęcia mieszkanie w Sosnowcu przy ulicy ...      32,62 m²   \n",
       "404  Świetnie zlokalizowane mieszkanie do wynajęcia...         42 m²   \n",
       "\n",
       "                 rent  number_of_rooms   deposit floor_level  ...  \\\n",
       "962  2 500 zł/miesiąc                3  2 500 zł         1/4  ...   \n",
       "734    400 zł/miesiąc                1  3 000 zł         4/4  ...   \n",
       "404               NaN                2  2 000 zł         4/4  ...   \n",
       "\n",
       "                                             equipment  \\\n",
       "962  lodówka, meble, piekarnik, kuchenka, telewizor...   \n",
       "734               zmywarka, lodówka, piekarnik, pralka   \n",
       "404        lodówka, meble, piekarnik, kuchenka, pralka   \n",
       "\n",
       "                     media_types   heating  \\\n",
       "962  telewizja kablowa, internet  miejskie   \n",
       "734              brak informacji  miejskie   \n",
       "404              brak informacji  miejskie   \n",
       "\n",
       "                                            security     windows elevator  \\\n",
       "962  drzwi / okna antywłamaniowe, domofon / wideofon  plastikowe      nie   \n",
       "734                                  brak informacji  plastikowe      nie   \n",
       "404                               domofon / wideofon  plastikowe      nie   \n",
       "\n",
       "       parking_space       build_year building_material  \\\n",
       "962  brak informacji             1970              inne   \n",
       "734  brak informacji  brak informacji             cegła   \n",
       "404  brak informacji  brak informacji   brak informacji   \n",
       "\n",
       "         additional_information  \n",
       "962           oddzielna kuchnia  \n",
       "734             brak informacji  \n",
       "404  piwnica, oddzielna kuchnia  \n",
       "\n",
       "[3 rows x 27 columns]"
      ]
     },
     "execution_count": 9,
     "metadata": {},
     "output_type": "execute_result"
    }
   ],
   "source": [
    "df_otodom.sample(3)"
   ]
  },
  {
   "cell_type": "code",
   "execution_count": 10,
   "metadata": {},
   "outputs": [
    {
     "name": "stdout",
     "output_type": "stream",
     "text": [
      "Number of duplicates: 0\n"
     ]
    }
   ],
   "source": [
    "\n",
    "# Count the number of duplicates in the DataFrame\n",
    "duplicate_count = df_otodom.duplicated().sum()\n",
    "\n",
    "# Print the count of duplicates\n",
    "print(\"Number of duplicates:\", duplicate_count)\n",
    "del duplicate_count\n"
   ]
  },
  {
   "cell_type": "code",
   "execution_count": 11,
   "metadata": {},
   "outputs": [
    {
     "data": {
      "text/plain": [
       "Index(['link', 'title', 'location', 'price', 'summary_description',\n",
       "       'square_meters', 'rent', 'number_of_rooms', 'deposit', 'floor_level',\n",
       "       'building_type', 'available_from', 'balcony_garden_terrace',\n",
       "       'remote service', 'completion', 'ownership', 'rent_to_students',\n",
       "       'equipment', 'media_types', 'heating', 'security', 'windows',\n",
       "       'elevator', 'parking_space', 'build_year', 'building_material',\n",
       "       'additional_information'],\n",
       "      dtype='object')"
      ]
     },
     "execution_count": 11,
     "metadata": {},
     "output_type": "execute_result"
    }
   ],
   "source": [
    "df_otodom.columns\n"
   ]
  },
  {
   "cell_type": "code",
   "execution_count": 12,
   "metadata": {},
   "outputs": [
    {
     "data": {
      "text/plain": [
       "link                      object\n",
       "title                     object\n",
       "location                  object\n",
       "price                     object\n",
       "summary_description       object\n",
       "square_meters             object\n",
       "rent                      object\n",
       "number_of_rooms            int64\n",
       "deposit                   object\n",
       "floor_level               object\n",
       "building_type             object\n",
       "available_from            object\n",
       "balcony_garden_terrace    object\n",
       "remote service            object\n",
       "completion                object\n",
       "ownership                 object\n",
       "rent_to_students          object\n",
       "equipment                 object\n",
       "media_types               object\n",
       "heating                   object\n",
       "security                  object\n",
       "windows                   object\n",
       "elevator                  object\n",
       "parking_space             object\n",
       "build_year                object\n",
       "building_material         object\n",
       "additional_information    object\n",
       "dtype: object"
      ]
     },
     "execution_count": 12,
     "metadata": {},
     "output_type": "execute_result"
    }
   ],
   "source": [
    "df_otodom.dtypes"
   ]
  },
  {
   "cell_type": "code",
   "execution_count": 13,
   "metadata": {},
   "outputs": [
    {
     "data": {
      "text/plain": [
       "link                        0\n",
       "title                       0\n",
       "location                    0\n",
       "price                       0\n",
       "summary_description         0\n",
       "square_meters               0\n",
       "rent                      513\n",
       "number_of_rooms             0\n",
       "deposit                   363\n",
       "floor_level                23\n",
       "building_type             105\n",
       "available_from            958\n",
       "balcony_garden_terrace    478\n",
       "remote service              0\n",
       "completion                173\n",
       "ownership                   0\n",
       "rent_to_students            0\n",
       "equipment                   0\n",
       "media_types                 0\n",
       "heating                     0\n",
       "security                    0\n",
       "windows                     0\n",
       "elevator                    0\n",
       "parking_space               0\n",
       "build_year                  0\n",
       "building_material           0\n",
       "additional_information      0\n",
       "dtype: int64"
      ]
     },
     "execution_count": 13,
     "metadata": {},
     "output_type": "execute_result"
    }
   ],
   "source": [
    "df_otodom.isna().sum()"
   ]
  },
  {
   "cell_type": "code",
   "execution_count": 14,
   "metadata": {},
   "outputs": [
    {
     "data": {
      "text/plain": [
       "1105"
      ]
     },
     "execution_count": 14,
     "metadata": {},
     "output_type": "execute_result"
    }
   ],
   "source": [
    "len(df_otodom)"
   ]
  },
  {
   "cell_type": "code",
   "execution_count": 15,
   "metadata": {},
   "outputs": [
    {
     "data": {
      "text/plain": [
       "link                      object\n",
       "title                     object\n",
       "location                  object\n",
       "price                     object\n",
       "summary_description       object\n",
       "square_meters             object\n",
       "rent                      object\n",
       "number_of_rooms            int64\n",
       "deposit                   object\n",
       "floor_level               object\n",
       "building_type             object\n",
       "available_from            object\n",
       "balcony_garden_terrace    object\n",
       "remote service            object\n",
       "completion                object\n",
       "ownership                 object\n",
       "rent_to_students          object\n",
       "equipment                 object\n",
       "media_types               object\n",
       "heating                   object\n",
       "security                  object\n",
       "windows                   object\n",
       "elevator                  object\n",
       "parking_space             object\n",
       "build_year                object\n",
       "building_material         object\n",
       "additional_information    object\n",
       "dtype: object"
      ]
     },
     "execution_count": 15,
     "metadata": {},
     "output_type": "execute_result"
    }
   ],
   "source": [
    "df_otodom.dtypes"
   ]
  },
  {
   "cell_type": "code",
   "execution_count": 16,
   "metadata": {},
   "outputs": [
    {
     "data": {
      "text/html": [
       "<div>\n",
       "<style scoped>\n",
       "    .dataframe tbody tr th:only-of-type {\n",
       "        vertical-align: middle;\n",
       "    }\n",
       "\n",
       "    .dataframe tbody tr th {\n",
       "        vertical-align: top;\n",
       "    }\n",
       "\n",
       "    .dataframe thead th {\n",
       "        text-align: right;\n",
       "    }\n",
       "</style>\n",
       "<table border=\"1\" class=\"dataframe\">\n",
       "  <thead>\n",
       "    <tr style=\"text-align: right;\">\n",
       "      <th></th>\n",
       "      <th>number_of_rooms</th>\n",
       "    </tr>\n",
       "  </thead>\n",
       "  <tbody>\n",
       "    <tr>\n",
       "      <th>count</th>\n",
       "      <td>1105.000000</td>\n",
       "    </tr>\n",
       "    <tr>\n",
       "      <th>mean</th>\n",
       "      <td>2.120362</td>\n",
       "    </tr>\n",
       "    <tr>\n",
       "      <th>std</th>\n",
       "      <td>0.858141</td>\n",
       "    </tr>\n",
       "    <tr>\n",
       "      <th>min</th>\n",
       "      <td>1.000000</td>\n",
       "    </tr>\n",
       "    <tr>\n",
       "      <th>25%</th>\n",
       "      <td>2.000000</td>\n",
       "    </tr>\n",
       "    <tr>\n",
       "      <th>50%</th>\n",
       "      <td>2.000000</td>\n",
       "    </tr>\n",
       "    <tr>\n",
       "      <th>75%</th>\n",
       "      <td>3.000000</td>\n",
       "    </tr>\n",
       "    <tr>\n",
       "      <th>max</th>\n",
       "      <td>6.000000</td>\n",
       "    </tr>\n",
       "  </tbody>\n",
       "</table>\n",
       "</div>"
      ],
      "text/plain": [
       "       number_of_rooms\n",
       "count      1105.000000\n",
       "mean          2.120362\n",
       "std           0.858141\n",
       "min           1.000000\n",
       "25%           2.000000\n",
       "50%           2.000000\n",
       "75%           3.000000\n",
       "max           6.000000"
      ]
     },
     "execution_count": 16,
     "metadata": {},
     "output_type": "execute_result"
    }
   ],
   "source": [
    "df_otodom.describe()"
   ]
  },
  {
   "cell_type": "markdown",
   "metadata": {},
   "source": [
    "### 2.2.2 Selected columns"
   ]
  },
  {
   "cell_type": "markdown",
   "metadata": {},
   "source": [
    "#### 2.2.2.1 location"
   ]
  },
  {
   "cell_type": "code",
   "execution_count": 17,
   "metadata": {},
   "outputs": [
    {
     "data": {
      "text/plain": [
       "array(['ul. Karola Szymanowskiego 44, Zagórze Północ, Sosnowiec, śląskie',\n",
       "       'ul. Haliny Krahelskiej, Osiedle Paderewskiego-Muchowiec, Katowice, śląskie',\n",
       "       'ul. Beskidzka, Chorzów II, Chorzów, śląskie',\n",
       "       'ul. Graniczna, Osiedle Paderewskiego-Muchowiec, Katowice, śląskie',\n",
       "       '1000 lecia, Brodway, Gołonóg Północny, Dąbrowa Górnicza, śląskie',\n",
       "       'ul. rtm. Witolda Pileckiego, Centrum / Śródmieście, Sosnowiec, śląskie',\n",
       "       'ul. Bytomska, Piekary Śląskie, śląskie',\n",
       "       'ul. Bohaterów Monte Cassino, Zawodzie, Katowice, śląskie',\n",
       "       'ul. Francuska, Osiedle Paderewskiego-Muchowiec, Katowice, śląskie',\n",
       "       'ul. Litewska, Pogoń, Sosnowiec, śląskie'], dtype=object)"
      ]
     },
     "execution_count": 17,
     "metadata": {},
     "output_type": "execute_result"
    }
   ],
   "source": [
    "df_otodom[\"location\"].unique()[:10]"
   ]
  },
  {
   "cell_type": "markdown",
   "metadata": {},
   "source": [
    "#### 2.2.2.2 price"
   ]
  },
  {
   "cell_type": "code",
   "execution_count": 18,
   "metadata": {},
   "outputs": [
    {
     "data": {
      "text/html": [
       "<div>\n",
       "<style scoped>\n",
       "    .dataframe tbody tr th:only-of-type {\n",
       "        vertical-align: middle;\n",
       "    }\n",
       "\n",
       "    .dataframe tbody tr th {\n",
       "        vertical-align: top;\n",
       "    }\n",
       "\n",
       "    .dataframe thead th {\n",
       "        text-align: right;\n",
       "    }\n",
       "</style>\n",
       "<table border=\"1\" class=\"dataframe\">\n",
       "  <thead>\n",
       "    <tr style=\"text-align: right;\">\n",
       "      <th></th>\n",
       "      <th>Count</th>\n",
       "      <th>Percentage</th>\n",
       "    </tr>\n",
       "  </thead>\n",
       "  <tbody>\n",
       "    <tr>\n",
       "      <th>1 500 zł</th>\n",
       "      <td>76</td>\n",
       "      <td>6.877828</td>\n",
       "    </tr>\n",
       "    <tr>\n",
       "      <th>2 000 zł</th>\n",
       "      <td>56</td>\n",
       "      <td>5.067873</td>\n",
       "    </tr>\n",
       "    <tr>\n",
       "      <th>2 500 zł</th>\n",
       "      <td>55</td>\n",
       "      <td>4.977376</td>\n",
       "    </tr>\n",
       "    <tr>\n",
       "      <th>1 800 zł</th>\n",
       "      <td>48</td>\n",
       "      <td>4.343891</td>\n",
       "    </tr>\n",
       "    <tr>\n",
       "      <th>2 200 zł</th>\n",
       "      <td>46</td>\n",
       "      <td>4.162896</td>\n",
       "    </tr>\n",
       "    <tr>\n",
       "      <th>...</th>\n",
       "      <td>...</td>\n",
       "      <td>...</td>\n",
       "    </tr>\n",
       "    <tr>\n",
       "      <th>1 310 zł</th>\n",
       "      <td>1</td>\n",
       "      <td>0.090498</td>\n",
       "    </tr>\n",
       "    <tr>\n",
       "      <th>3 299 zł</th>\n",
       "      <td>1</td>\n",
       "      <td>0.090498</td>\n",
       "    </tr>\n",
       "    <tr>\n",
       "      <th>1 210 zł</th>\n",
       "      <td>1</td>\n",
       "      <td>0.090498</td>\n",
       "    </tr>\n",
       "    <tr>\n",
       "      <th>3 150 zł</th>\n",
       "      <td>1</td>\n",
       "      <td>0.090498</td>\n",
       "    </tr>\n",
       "    <tr>\n",
       "      <th>690 zł</th>\n",
       "      <td>1</td>\n",
       "      <td>0.090498</td>\n",
       "    </tr>\n",
       "  </tbody>\n",
       "</table>\n",
       "<p>166 rows × 2 columns</p>\n",
       "</div>"
      ],
      "text/plain": [
       "          Count  Percentage\n",
       "1 500 zł     76    6.877828\n",
       "2 000 zł     56    5.067873\n",
       "2 500 zł     55    4.977376\n",
       "1 800 zł     48    4.343891\n",
       "2 200 zł     46    4.162896\n",
       "...         ...         ...\n",
       "1 310 zł      1    0.090498\n",
       "3 299 zł      1    0.090498\n",
       "1 210 zł      1    0.090498\n",
       "3 150 zł      1    0.090498\n",
       "690 zł        1    0.090498\n",
       "\n",
       "[166 rows x 2 columns]"
      ]
     },
     "execution_count": 18,
     "metadata": {},
     "output_type": "execute_result"
    }
   ],
   "source": [
    "count_and_percentage(df_otodom, \"price\")"
   ]
  },
  {
   "cell_type": "markdown",
   "metadata": {},
   "source": [
    "#### 2.2.2.3 rent (additional fee for the housing association or owner)"
   ]
  },
  {
   "cell_type": "code",
   "execution_count": 19,
   "metadata": {},
   "outputs": [
    {
     "data": {
      "text/html": [
       "<div>\n",
       "<style scoped>\n",
       "    .dataframe tbody tr th:only-of-type {\n",
       "        vertical-align: middle;\n",
       "    }\n",
       "\n",
       "    .dataframe tbody tr th {\n",
       "        vertical-align: top;\n",
       "    }\n",
       "\n",
       "    .dataframe thead th {\n",
       "        text-align: right;\n",
       "    }\n",
       "</style>\n",
       "<table border=\"1\" class=\"dataframe\">\n",
       "  <thead>\n",
       "    <tr style=\"text-align: right;\">\n",
       "      <th></th>\n",
       "      <th>Count</th>\n",
       "      <th>Percentage</th>\n",
       "    </tr>\n",
       "  </thead>\n",
       "  <tbody>\n",
       "    <tr>\n",
       "      <th>NaN</th>\n",
       "      <td>513</td>\n",
       "      <td>46.425339</td>\n",
       "    </tr>\n",
       "    <tr>\n",
       "      <th>500 zł/miesiąc</th>\n",
       "      <td>41</td>\n",
       "      <td>3.710407</td>\n",
       "    </tr>\n",
       "    <tr>\n",
       "      <th>700 zł/miesiąc</th>\n",
       "      <td>35</td>\n",
       "      <td>3.167421</td>\n",
       "    </tr>\n",
       "    <tr>\n",
       "      <th>600 zł/miesiąc</th>\n",
       "      <td>33</td>\n",
       "      <td>2.986425</td>\n",
       "    </tr>\n",
       "    <tr>\n",
       "      <th>400 zł/miesiąc</th>\n",
       "      <td>33</td>\n",
       "      <td>2.986425</td>\n",
       "    </tr>\n",
       "    <tr>\n",
       "      <th>...</th>\n",
       "      <td>...</td>\n",
       "      <td>...</td>\n",
       "    </tr>\n",
       "    <tr>\n",
       "      <th>502 zł/miesiąc</th>\n",
       "      <td>1</td>\n",
       "      <td>0.090498</td>\n",
       "    </tr>\n",
       "    <tr>\n",
       "      <th>65 zł/miesiąc</th>\n",
       "      <td>1</td>\n",
       "      <td>0.090498</td>\n",
       "    </tr>\n",
       "    <tr>\n",
       "      <th>386 zł/miesiąc</th>\n",
       "      <td>1</td>\n",
       "      <td>0.090498</td>\n",
       "    </tr>\n",
       "    <tr>\n",
       "      <th>963 zł/miesiąc</th>\n",
       "      <td>1</td>\n",
       "      <td>0.090498</td>\n",
       "    </tr>\n",
       "    <tr>\n",
       "      <th>318 zł/miesiąc</th>\n",
       "      <td>1</td>\n",
       "      <td>0.090498</td>\n",
       "    </tr>\n",
       "  </tbody>\n",
       "</table>\n",
       "<p>173 rows × 2 columns</p>\n",
       "</div>"
      ],
      "text/plain": [
       "                Count  Percentage\n",
       "NaN               513   46.425339\n",
       "500 zł/miesiąc     41    3.710407\n",
       "700 zł/miesiąc     35    3.167421\n",
       "600 zł/miesiąc     33    2.986425\n",
       "400 zł/miesiąc     33    2.986425\n",
       "...               ...         ...\n",
       "502 zł/miesiąc      1    0.090498\n",
       "65 zł/miesiąc       1    0.090498\n",
       "386 zł/miesiąc      1    0.090498\n",
       "963 zł/miesiąc      1    0.090498\n",
       "318 zł/miesiąc      1    0.090498\n",
       "\n",
       "[173 rows x 2 columns]"
      ]
     },
     "execution_count": 19,
     "metadata": {},
     "output_type": "execute_result"
    }
   ],
   "source": [
    "count_and_percentage(df_otodom, \"rent\")"
   ]
  },
  {
   "cell_type": "code",
   "execution_count": 20,
   "metadata": {},
   "outputs": [
    {
     "data": {
      "text/plain": [
       "array([nan, 'zmiesic'], dtype=object)"
      ]
     },
     "execution_count": 20,
     "metadata": {},
     "output_type": "execute_result"
    }
   ],
   "source": [
    "remove_non_numeric_characters(df_otodom, \"rent\")"
   ]
  },
  {
   "cell_type": "markdown",
   "metadata": {},
   "source": [
    "'miesiąc' -> 'month'"
   ]
  },
  {
   "cell_type": "markdown",
   "metadata": {},
   "source": [
    "#### 2.2.2.5 deposit\n",
    "The one-time deposit to secure the rental agreement typically amounts to one or two months' rent. This deposit is held by the landlord as a security against potential damages or unpaid rent, and is usually refundable at the end of the tenancy, provided the property is left in its original condition and all contractual obligations have been met."
   ]
  },
  {
   "cell_type": "code",
   "execution_count": 21,
   "metadata": {},
   "outputs": [
    {
     "data": {
      "text/html": [
       "<div>\n",
       "<style scoped>\n",
       "    .dataframe tbody tr th:only-of-type {\n",
       "        vertical-align: middle;\n",
       "    }\n",
       "\n",
       "    .dataframe tbody tr th {\n",
       "        vertical-align: top;\n",
       "    }\n",
       "\n",
       "    .dataframe thead th {\n",
       "        text-align: right;\n",
       "    }\n",
       "</style>\n",
       "<table border=\"1\" class=\"dataframe\">\n",
       "  <thead>\n",
       "    <tr style=\"text-align: right;\">\n",
       "      <th></th>\n",
       "      <th>Count</th>\n",
       "      <th>Percentage</th>\n",
       "    </tr>\n",
       "  </thead>\n",
       "  <tbody>\n",
       "    <tr>\n",
       "      <th>NaN</th>\n",
       "      <td>363</td>\n",
       "      <td>32.850679</td>\n",
       "    </tr>\n",
       "    <tr>\n",
       "      <th>3 000 zł</th>\n",
       "      <td>141</td>\n",
       "      <td>12.760181</td>\n",
       "    </tr>\n",
       "    <tr>\n",
       "      <th>2 000 zł</th>\n",
       "      <td>109</td>\n",
       "      <td>9.864253</td>\n",
       "    </tr>\n",
       "    <tr>\n",
       "      <th>2 500 zł</th>\n",
       "      <td>77</td>\n",
       "      <td>6.968326</td>\n",
       "    </tr>\n",
       "    <tr>\n",
       "      <th>4 000 zł</th>\n",
       "      <td>53</td>\n",
       "      <td>4.796380</td>\n",
       "    </tr>\n",
       "    <tr>\n",
       "      <th>...</th>\n",
       "      <td>...</td>\n",
       "      <td>...</td>\n",
       "    </tr>\n",
       "    <tr>\n",
       "      <th>6 400 zł</th>\n",
       "      <td>1</td>\n",
       "      <td>0.090498</td>\n",
       "    </tr>\n",
       "    <tr>\n",
       "      <th>5 400 zł</th>\n",
       "      <td>1</td>\n",
       "      <td>0.090498</td>\n",
       "    </tr>\n",
       "    <tr>\n",
       "      <th>430 zł</th>\n",
       "      <td>1</td>\n",
       "      <td>0.090498</td>\n",
       "    </tr>\n",
       "    <tr>\n",
       "      <th>1 950 zł</th>\n",
       "      <td>1</td>\n",
       "      <td>0.090498</td>\n",
       "    </tr>\n",
       "    <tr>\n",
       "      <th>850 zł</th>\n",
       "      <td>1</td>\n",
       "      <td>0.090498</td>\n",
       "    </tr>\n",
       "  </tbody>\n",
       "</table>\n",
       "<p>95 rows × 2 columns</p>\n",
       "</div>"
      ],
      "text/plain": [
       "          Count  Percentage\n",
       "NaN         363   32.850679\n",
       "3 000 zł    141   12.760181\n",
       "2 000 zł    109    9.864253\n",
       "2 500 zł     77    6.968326\n",
       "4 000 zł     53    4.796380\n",
       "...         ...         ...\n",
       "6 400 zł      1    0.090498\n",
       "5 400 zł      1    0.090498\n",
       "430 zł        1    0.090498\n",
       "1 950 zł      1    0.090498\n",
       "850 zł        1    0.090498\n",
       "\n",
       "[95 rows x 2 columns]"
      ]
     },
     "execution_count": 21,
     "metadata": {},
     "output_type": "execute_result"
    }
   ],
   "source": [
    "count_and_percentage(df_otodom, \"deposit\")"
   ]
  },
  {
   "cell_type": "markdown",
   "metadata": {},
   "source": [
    "#### 2.2.2.6 floor_level"
   ]
  },
  {
   "cell_type": "code",
   "execution_count": 22,
   "metadata": {},
   "outputs": [
    {
     "data": {
      "text/html": [
       "<div>\n",
       "<style scoped>\n",
       "    .dataframe tbody tr th:only-of-type {\n",
       "        vertical-align: middle;\n",
       "    }\n",
       "\n",
       "    .dataframe tbody tr th {\n",
       "        vertical-align: top;\n",
       "    }\n",
       "\n",
       "    .dataframe thead th {\n",
       "        text-align: right;\n",
       "    }\n",
       "</style>\n",
       "<table border=\"1\" class=\"dataframe\">\n",
       "  <thead>\n",
       "    <tr style=\"text-align: right;\">\n",
       "      <th></th>\n",
       "      <th>Count</th>\n",
       "      <th>Percentage</th>\n",
       "    </tr>\n",
       "  </thead>\n",
       "  <tbody>\n",
       "    <tr>\n",
       "      <th>2/4</th>\n",
       "      <td>89</td>\n",
       "      <td>8.054299</td>\n",
       "    </tr>\n",
       "    <tr>\n",
       "      <th>1/4</th>\n",
       "      <td>82</td>\n",
       "      <td>7.420814</td>\n",
       "    </tr>\n",
       "    <tr>\n",
       "      <th>3/4</th>\n",
       "      <td>73</td>\n",
       "      <td>6.606335</td>\n",
       "    </tr>\n",
       "    <tr>\n",
       "      <th>1/3</th>\n",
       "      <td>69</td>\n",
       "      <td>6.244344</td>\n",
       "    </tr>\n",
       "    <tr>\n",
       "      <th>4/4</th>\n",
       "      <td>58</td>\n",
       "      <td>5.248869</td>\n",
       "    </tr>\n",
       "    <tr>\n",
       "      <th>...</th>\n",
       "      <td>...</td>\n",
       "      <td>...</td>\n",
       "    </tr>\n",
       "    <tr>\n",
       "      <th>6/17</th>\n",
       "      <td>1</td>\n",
       "      <td>0.090498</td>\n",
       "    </tr>\n",
       "    <tr>\n",
       "      <th>2/11</th>\n",
       "      <td>1</td>\n",
       "      <td>0.090498</td>\n",
       "    </tr>\n",
       "    <tr>\n",
       "      <th>3/12</th>\n",
       "      <td>1</td>\n",
       "      <td>0.090498</td>\n",
       "    </tr>\n",
       "    <tr>\n",
       "      <th>parter/6</th>\n",
       "      <td>1</td>\n",
       "      <td>0.090498</td>\n",
       "    </tr>\n",
       "    <tr>\n",
       "      <th>poddasze/3</th>\n",
       "      <td>1</td>\n",
       "      <td>0.090498</td>\n",
       "    </tr>\n",
       "  </tbody>\n",
       "</table>\n",
       "<p>129 rows × 2 columns</p>\n",
       "</div>"
      ],
      "text/plain": [
       "            Count  Percentage\n",
       "2/4            89    8.054299\n",
       "1/4            82    7.420814\n",
       "3/4            73    6.606335\n",
       "1/3            69    6.244344\n",
       "4/4            58    5.248869\n",
       "...           ...         ...\n",
       "6/17            1    0.090498\n",
       "2/11            1    0.090498\n",
       "3/12            1    0.090498\n",
       "parter/6        1    0.090498\n",
       "poddasze/3      1    0.090498\n",
       "\n",
       "[129 rows x 2 columns]"
      ]
     },
     "execution_count": 22,
     "metadata": {},
     "output_type": "execute_result"
    }
   ],
   "source": [
    "count_and_percentage(df_otodom, \"floor_level\")"
   ]
  },
  {
   "cell_type": "code",
   "execution_count": 23,
   "metadata": {},
   "outputs": [
    {
     "data": {
      "text/plain": [
       "array(['parter', '', 'poddasze', nan, 'suterena'], dtype=object)"
      ]
     },
     "execution_count": 23,
     "metadata": {},
     "output_type": "execute_result"
    }
   ],
   "source": [
    "remove_non_numeric_characters(df_otodom, \"floor_level\")"
   ]
  },
  {
   "cell_type": "markdown",
   "metadata": {},
   "source": [
    "- 'parter' - 'ground floor'\n",
    "- 'poddasze' - 'attic'\n",
    "- 'suterena' - 'semi-basement'"
   ]
  },
  {
   "cell_type": "markdown",
   "metadata": {},
   "source": [
    "#### 2.2.2.7 building_type"
   ]
  },
  {
   "cell_type": "code",
   "execution_count": 24,
   "metadata": {},
   "outputs": [
    {
     "data": {
      "text/html": [
       "<div>\n",
       "<style scoped>\n",
       "    .dataframe tbody tr th:only-of-type {\n",
       "        vertical-align: middle;\n",
       "    }\n",
       "\n",
       "    .dataframe tbody tr th {\n",
       "        vertical-align: top;\n",
       "    }\n",
       "\n",
       "    .dataframe thead th {\n",
       "        text-align: right;\n",
       "    }\n",
       "</style>\n",
       "<table border=\"1\" class=\"dataframe\">\n",
       "  <thead>\n",
       "    <tr style=\"text-align: right;\">\n",
       "      <th></th>\n",
       "      <th>Count</th>\n",
       "      <th>Percentage</th>\n",
       "    </tr>\n",
       "  </thead>\n",
       "  <tbody>\n",
       "    <tr>\n",
       "      <th>blok</th>\n",
       "      <td>482</td>\n",
       "      <td>43.619910</td>\n",
       "    </tr>\n",
       "    <tr>\n",
       "      <th>apartamentowiec</th>\n",
       "      <td>256</td>\n",
       "      <td>23.167421</td>\n",
       "    </tr>\n",
       "    <tr>\n",
       "      <th>kamienica</th>\n",
       "      <td>231</td>\n",
       "      <td>20.904977</td>\n",
       "    </tr>\n",
       "    <tr>\n",
       "      <th>NaN</th>\n",
       "      <td>105</td>\n",
       "      <td>9.502262</td>\n",
       "    </tr>\n",
       "    <tr>\n",
       "      <th>dom wolnostojący</th>\n",
       "      <td>28</td>\n",
       "      <td>2.533937</td>\n",
       "    </tr>\n",
       "    <tr>\n",
       "      <th>szeregowiec</th>\n",
       "      <td>3</td>\n",
       "      <td>0.271493</td>\n",
       "    </tr>\n",
       "  </tbody>\n",
       "</table>\n",
       "</div>"
      ],
      "text/plain": [
       "                  Count  Percentage\n",
       "blok                482   43.619910\n",
       "apartamentowiec     256   23.167421\n",
       "kamienica           231   20.904977\n",
       "NaN                 105    9.502262\n",
       "dom wolnostojący     28    2.533937\n",
       "szeregowiec           3    0.271493"
      ]
     },
     "execution_count": 24,
     "metadata": {},
     "output_type": "execute_result"
    }
   ],
   "source": [
    "count_and_percentage(df_otodom, \"building_type\")"
   ]
  },
  {
   "cell_type": "markdown",
   "metadata": {},
   "source": [
    "- 'blok' - 'block of flats' or 'apartment block'\n",
    "- 'apartamentowiec' - 'apartment building'\n",
    "- 'kamienica' - 'tenement house' (often refers to a historic, multi-story building in urban areas)\n",
    "- 'dom wolnostojący' - 'detached house'\n",
    "- 'szeregowiec' - 'terraced house' or 'row house' (a type of house connected in a row with others)"
   ]
  },
  {
   "cell_type": "markdown",
   "metadata": {},
   "source": [
    "#### 2.2.2.7 available_from"
   ]
  },
  {
   "cell_type": "code",
   "execution_count": 25,
   "metadata": {},
   "outputs": [
    {
     "data": {
      "text/html": [
       "<div>\n",
       "<style scoped>\n",
       "    .dataframe tbody tr th:only-of-type {\n",
       "        vertical-align: middle;\n",
       "    }\n",
       "\n",
       "    .dataframe tbody tr th {\n",
       "        vertical-align: top;\n",
       "    }\n",
       "\n",
       "    .dataframe thead th {\n",
       "        text-align: right;\n",
       "    }\n",
       "</style>\n",
       "<table border=\"1\" class=\"dataframe\">\n",
       "  <thead>\n",
       "    <tr style=\"text-align: right;\">\n",
       "      <th></th>\n",
       "      <th>Count</th>\n",
       "      <th>Percentage</th>\n",
       "    </tr>\n",
       "  </thead>\n",
       "  <tbody>\n",
       "    <tr>\n",
       "      <th>NaN</th>\n",
       "      <td>958</td>\n",
       "      <td>86.696833</td>\n",
       "    </tr>\n",
       "    <tr>\n",
       "      <th>2023-12-01</th>\n",
       "      <td>21</td>\n",
       "      <td>1.900452</td>\n",
       "    </tr>\n",
       "    <tr>\n",
       "      <th>2023-11-01</th>\n",
       "      <td>11</td>\n",
       "      <td>0.995475</td>\n",
       "    </tr>\n",
       "    <tr>\n",
       "      <th>2023-11-20</th>\n",
       "      <td>6</td>\n",
       "      <td>0.542986</td>\n",
       "    </tr>\n",
       "    <tr>\n",
       "      <th>2023-11-06</th>\n",
       "      <td>5</td>\n",
       "      <td>0.452489</td>\n",
       "    </tr>\n",
       "    <tr>\n",
       "      <th>...</th>\n",
       "      <td>...</td>\n",
       "      <td>...</td>\n",
       "    </tr>\n",
       "    <tr>\n",
       "      <th>2023-12-04</th>\n",
       "      <td>1</td>\n",
       "      <td>0.090498</td>\n",
       "    </tr>\n",
       "    <tr>\n",
       "      <th>2023-09-28</th>\n",
       "      <td>1</td>\n",
       "      <td>0.090498</td>\n",
       "    </tr>\n",
       "    <tr>\n",
       "      <th>2023-04-20</th>\n",
       "      <td>1</td>\n",
       "      <td>0.090498</td>\n",
       "    </tr>\n",
       "    <tr>\n",
       "      <th>2023-11-10</th>\n",
       "      <td>1</td>\n",
       "      <td>0.090498</td>\n",
       "    </tr>\n",
       "    <tr>\n",
       "      <th>2023-09-01</th>\n",
       "      <td>1</td>\n",
       "      <td>0.090498</td>\n",
       "    </tr>\n",
       "  </tbody>\n",
       "</table>\n",
       "<p>79 rows × 2 columns</p>\n",
       "</div>"
      ],
      "text/plain": [
       "            Count  Percentage\n",
       "NaN           958   86.696833\n",
       "2023-12-01     21    1.900452\n",
       "2023-11-01     11    0.995475\n",
       "2023-11-20      6    0.542986\n",
       "2023-11-06      5    0.452489\n",
       "...           ...         ...\n",
       "2023-12-04      1    0.090498\n",
       "2023-09-28      1    0.090498\n",
       "2023-04-20      1    0.090498\n",
       "2023-11-10      1    0.090498\n",
       "2023-09-01      1    0.090498\n",
       "\n",
       "[79 rows x 2 columns]"
      ]
     },
     "execution_count": 25,
     "metadata": {},
     "output_type": "execute_result"
    }
   ],
   "source": [
    "count_and_percentage(df_otodom, \"available_from\")"
   ]
  },
  {
   "cell_type": "code",
   "execution_count": 26,
   "metadata": {},
   "outputs": [
    {
     "data": {
      "text/plain": [
       "array(['2019-02-28', '2019-07-16', '2020-03-06', '2021-01-04',\n",
       "       '2021-05-01'], dtype=object)"
      ]
     },
     "execution_count": 26,
     "metadata": {},
     "output_type": "execute_result"
    }
   ],
   "source": [
    "# Last 5 dates\n",
    "np.sort(df_otodom[\"available_from\"].dropna().unique())[:5]"
   ]
  },
  {
   "cell_type": "code",
   "execution_count": 27,
   "metadata": {},
   "outputs": [
    {
     "data": {
      "text/plain": [
       "array(['2023-12-04', '2023-12-15', '2024-01-01', '2024-01-02',\n",
       "       '2024-01-08'], dtype=object)"
      ]
     },
     "execution_count": 27,
     "metadata": {},
     "output_type": "execute_result"
    }
   ],
   "source": [
    "# First 5 dates\n",
    "np.sort(df_otodom[\"available_from\"].dropna().unique())[-6:-1]"
   ]
  },
  {
   "cell_type": "markdown",
   "metadata": {},
   "source": [
    "#### 2.2.2.8 balcony_garden_terrace"
   ]
  },
  {
   "cell_type": "code",
   "execution_count": 28,
   "metadata": {},
   "outputs": [
    {
     "data": {
      "text/html": [
       "<div>\n",
       "<style scoped>\n",
       "    .dataframe tbody tr th:only-of-type {\n",
       "        vertical-align: middle;\n",
       "    }\n",
       "\n",
       "    .dataframe tbody tr th {\n",
       "        vertical-align: top;\n",
       "    }\n",
       "\n",
       "    .dataframe thead th {\n",
       "        text-align: right;\n",
       "    }\n",
       "</style>\n",
       "<table border=\"1\" class=\"dataframe\">\n",
       "  <thead>\n",
       "    <tr style=\"text-align: right;\">\n",
       "      <th></th>\n",
       "      <th>Count</th>\n",
       "      <th>Percentage</th>\n",
       "    </tr>\n",
       "  </thead>\n",
       "  <tbody>\n",
       "    <tr>\n",
       "      <th>balkon</th>\n",
       "      <td>563</td>\n",
       "      <td>81.358382</td>\n",
       "    </tr>\n",
       "    <tr>\n",
       "      <th>taras</th>\n",
       "      <td>88</td>\n",
       "      <td>12.716763</td>\n",
       "    </tr>\n",
       "    <tr>\n",
       "      <th>ogródek</th>\n",
       "      <td>41</td>\n",
       "      <td>5.924855</td>\n",
       "    </tr>\n",
       "  </tbody>\n",
       "</table>\n",
       "</div>"
      ],
      "text/plain": [
       "         Count  Percentage\n",
       "balkon     563   81.358382\n",
       "taras       88   12.716763\n",
       "ogródek     41    5.924855"
      ]
     },
     "execution_count": 28,
     "metadata": {},
     "output_type": "execute_result"
    }
   ],
   "source": [
    "count_comma_separated_values(df_otodom, \"balcony_garden_terrace\")"
   ]
  },
  {
   "cell_type": "markdown",
   "metadata": {},
   "source": [
    "- 'balkon' - 'balcony'\n",
    "- 'taras' - 'terrace'\n",
    "- 'ogródek' - 'garden' (often refers to a small, private garden space)"
   ]
  },
  {
   "cell_type": "markdown",
   "metadata": {},
   "source": [
    "#### 2.2.2.9 completion"
   ]
  },
  {
   "cell_type": "code",
   "execution_count": 29,
   "metadata": {},
   "outputs": [
    {
     "data": {
      "text/html": [
       "<div>\n",
       "<style scoped>\n",
       "    .dataframe tbody tr th:only-of-type {\n",
       "        vertical-align: middle;\n",
       "    }\n",
       "\n",
       "    .dataframe tbody tr th {\n",
       "        vertical-align: top;\n",
       "    }\n",
       "\n",
       "    .dataframe thead th {\n",
       "        text-align: right;\n",
       "    }\n",
       "</style>\n",
       "<table border=\"1\" class=\"dataframe\">\n",
       "  <thead>\n",
       "    <tr style=\"text-align: right;\">\n",
       "      <th></th>\n",
       "      <th>Count</th>\n",
       "      <th>Percentage</th>\n",
       "    </tr>\n",
       "  </thead>\n",
       "  <tbody>\n",
       "    <tr>\n",
       "      <th>do zamieszkania</th>\n",
       "      <td>915</td>\n",
       "      <td>82.805430</td>\n",
       "    </tr>\n",
       "    <tr>\n",
       "      <th>NaN</th>\n",
       "      <td>173</td>\n",
       "      <td>15.656109</td>\n",
       "    </tr>\n",
       "    <tr>\n",
       "      <th>do remontu</th>\n",
       "      <td>10</td>\n",
       "      <td>0.904977</td>\n",
       "    </tr>\n",
       "    <tr>\n",
       "      <th>do wykończenia</th>\n",
       "      <td>7</td>\n",
       "      <td>0.633484</td>\n",
       "    </tr>\n",
       "  </tbody>\n",
       "</table>\n",
       "</div>"
      ],
      "text/plain": [
       "                 Count  Percentage\n",
       "do zamieszkania    915   82.805430\n",
       "NaN                173   15.656109\n",
       "do remontu          10    0.904977\n",
       "do wykończenia       7    0.633484"
      ]
     },
     "execution_count": 29,
     "metadata": {},
     "output_type": "execute_result"
    }
   ],
   "source": [
    "count_and_percentage(df_otodom, \"completion\")"
   ]
  },
  {
   "cell_type": "markdown",
   "metadata": {},
   "source": [
    "- 'do zamieszkania' - 'ready to move in' or 'move-in ready'\n",
    "- 'do remontu' - 'in need of renovation' or 'requires renovation'\n",
    "- 'do wykończenia' - 'to be finished' or 'unfinished' (indicating that the property needs final finishing works)"
   ]
  },
  {
   "cell_type": "markdown",
   "metadata": {},
   "source": [
    "#### 2.2.2.10 ownership"
   ]
  },
  {
   "cell_type": "code",
   "execution_count": 30,
   "metadata": {},
   "outputs": [
    {
     "data": {
      "text/html": [
       "<div>\n",
       "<style scoped>\n",
       "    .dataframe tbody tr th:only-of-type {\n",
       "        vertical-align: middle;\n",
       "    }\n",
       "\n",
       "    .dataframe tbody tr th {\n",
       "        vertical-align: top;\n",
       "    }\n",
       "\n",
       "    .dataframe thead th {\n",
       "        text-align: right;\n",
       "    }\n",
       "</style>\n",
       "<table border=\"1\" class=\"dataframe\">\n",
       "  <thead>\n",
       "    <tr style=\"text-align: right;\">\n",
       "      <th></th>\n",
       "      <th>Count</th>\n",
       "      <th>Percentage</th>\n",
       "    </tr>\n",
       "  </thead>\n",
       "  <tbody>\n",
       "    <tr>\n",
       "      <th>biuro nieruchomości</th>\n",
       "      <td>819</td>\n",
       "      <td>74.117647</td>\n",
       "    </tr>\n",
       "    <tr>\n",
       "      <th>prywatny</th>\n",
       "      <td>283</td>\n",
       "      <td>25.610860</td>\n",
       "    </tr>\n",
       "    <tr>\n",
       "      <th>deweloper</th>\n",
       "      <td>3</td>\n",
       "      <td>0.271493</td>\n",
       "    </tr>\n",
       "  </tbody>\n",
       "</table>\n",
       "</div>"
      ],
      "text/plain": [
       "                     Count  Percentage\n",
       "biuro nieruchomości    819   74.117647\n",
       "prywatny               283   25.610860\n",
       "deweloper                3    0.271493"
      ]
     },
     "execution_count": 30,
     "metadata": {},
     "output_type": "execute_result"
    }
   ],
   "source": [
    "count_and_percentage(df_otodom, \"ownership\")"
   ]
  },
  {
   "cell_type": "markdown",
   "metadata": {},
   "source": [
    "- 'biuro nieruchomości' - 'real estate agency'\n",
    "- 'prywatny' - 'private' (often indicating a private seller or individual owner)\n",
    "- 'deweloper' - 'developer' (referring to a property development company or builder)"
   ]
  },
  {
   "cell_type": "markdown",
   "metadata": {},
   "source": [
    "#### 2.2.2.11 equipment"
   ]
  },
  {
   "cell_type": "code",
   "execution_count": 31,
   "metadata": {},
   "outputs": [
    {
     "data": {
      "text/html": [
       "<div>\n",
       "<style scoped>\n",
       "    .dataframe tbody tr th:only-of-type {\n",
       "        vertical-align: middle;\n",
       "    }\n",
       "\n",
       "    .dataframe tbody tr th {\n",
       "        vertical-align: top;\n",
       "    }\n",
       "\n",
       "    .dataframe thead th {\n",
       "        text-align: right;\n",
       "    }\n",
       "</style>\n",
       "<table border=\"1\" class=\"dataframe\">\n",
       "  <thead>\n",
       "    <tr style=\"text-align: right;\">\n",
       "      <th></th>\n",
       "      <th>Count</th>\n",
       "      <th>Percentage</th>\n",
       "    </tr>\n",
       "  </thead>\n",
       "  <tbody>\n",
       "    <tr>\n",
       "      <th>meble</th>\n",
       "      <td>728</td>\n",
       "      <td>18.637993</td>\n",
       "    </tr>\n",
       "    <tr>\n",
       "      <th>lodówka</th>\n",
       "      <td>597</td>\n",
       "      <td>15.284178</td>\n",
       "    </tr>\n",
       "    <tr>\n",
       "      <th>kuchenka</th>\n",
       "      <td>578</td>\n",
       "      <td>14.797747</td>\n",
       "    </tr>\n",
       "    <tr>\n",
       "      <th>pralka</th>\n",
       "      <td>553</td>\n",
       "      <td>14.157706</td>\n",
       "    </tr>\n",
       "    <tr>\n",
       "      <th>piekarnik</th>\n",
       "      <td>507</td>\n",
       "      <td>12.980031</td>\n",
       "    </tr>\n",
       "    <tr>\n",
       "      <th>zmywarka</th>\n",
       "      <td>351</td>\n",
       "      <td>8.986175</td>\n",
       "    </tr>\n",
       "    <tr>\n",
       "      <th>brak informacji</th>\n",
       "      <td>314</td>\n",
       "      <td>8.038914</td>\n",
       "    </tr>\n",
       "    <tr>\n",
       "      <th>telewizor</th>\n",
       "      <td>278</td>\n",
       "      <td>7.117256</td>\n",
       "    </tr>\n",
       "  </tbody>\n",
       "</table>\n",
       "</div>"
      ],
      "text/plain": [
       "                 Count  Percentage\n",
       "meble              728   18.637993\n",
       "lodówka            597   15.284178\n",
       "kuchenka           578   14.797747\n",
       "pralka             553   14.157706\n",
       "piekarnik          507   12.980031\n",
       "zmywarka           351    8.986175\n",
       "brak informacji    314    8.038914\n",
       "telewizor          278    7.117256"
      ]
     },
     "execution_count": 31,
     "metadata": {},
     "output_type": "execute_result"
    }
   ],
   "source": [
    "count_comma_separated_values(df_otodom, \"equipment\")"
   ]
  },
  {
   "cell_type": "markdown",
   "metadata": {},
   "source": [
    "- 'meble' - 'furniture'\n",
    "- 'lodówka' - 'refrigerator'\n",
    "- 'kuchenka' - 'cooker' or 'stove'\n",
    "- 'pralka' - 'washing machine'\n",
    "- 'piekarnik' - 'oven'\n",
    "- 'zmywarka' - 'dishwasher'\n",
    "- 'brak informacji' - 'no information' or 'not specified'\n",
    "- 'telewizor' - 'television'"
   ]
  },
  {
   "cell_type": "markdown",
   "metadata": {},
   "source": [
    "#### 2.2.2.12 media_types"
   ]
  },
  {
   "cell_type": "code",
   "execution_count": 32,
   "metadata": {},
   "outputs": [
    {
     "data": {
      "text/html": [
       "<div>\n",
       "<style scoped>\n",
       "    .dataframe tbody tr th:only-of-type {\n",
       "        vertical-align: middle;\n",
       "    }\n",
       "\n",
       "    .dataframe tbody tr th {\n",
       "        vertical-align: top;\n",
       "    }\n",
       "\n",
       "    .dataframe thead th {\n",
       "        text-align: right;\n",
       "    }\n",
       "</style>\n",
       "<table border=\"1\" class=\"dataframe\">\n",
       "  <thead>\n",
       "    <tr style=\"text-align: right;\">\n",
       "      <th></th>\n",
       "      <th>Count</th>\n",
       "      <th>Percentage</th>\n",
       "    </tr>\n",
       "  </thead>\n",
       "  <tbody>\n",
       "    <tr>\n",
       "      <th>brak informacji</th>\n",
       "      <td>627</td>\n",
       "      <td>39.533417</td>\n",
       "    </tr>\n",
       "    <tr>\n",
       "      <th>internet</th>\n",
       "      <td>452</td>\n",
       "      <td>28.499369</td>\n",
       "    </tr>\n",
       "    <tr>\n",
       "      <th>telewizja kablowa</th>\n",
       "      <td>354</td>\n",
       "      <td>22.320303</td>\n",
       "    </tr>\n",
       "    <tr>\n",
       "      <th>telefon</th>\n",
       "      <td>153</td>\n",
       "      <td>9.646910</td>\n",
       "    </tr>\n",
       "  </tbody>\n",
       "</table>\n",
       "</div>"
      ],
      "text/plain": [
       "                   Count  Percentage\n",
       "brak informacji      627   39.533417\n",
       "internet             452   28.499369\n",
       "telewizja kablowa    354   22.320303\n",
       "telefon              153    9.646910"
      ]
     },
     "execution_count": 32,
     "metadata": {},
     "output_type": "execute_result"
    }
   ],
   "source": [
    "count_comma_separated_values(df_otodom, \"media_types\")"
   ]
  },
  {
   "cell_type": "markdown",
   "metadata": {},
   "source": [
    "- 'brak informacji' - 'no information' or 'not specified'\n",
    "- 'internet' - 'internet'\n",
    "- 'telewizja kablowa' - 'cable TV'\n",
    "- 'telefon' - 'telephone'"
   ]
  },
  {
   "cell_type": "markdown",
   "metadata": {},
   "source": [
    "#### 2.2.2.13 heating"
   ]
  },
  {
   "cell_type": "code",
   "execution_count": 33,
   "metadata": {},
   "outputs": [
    {
     "data": {
      "text/html": [
       "<div>\n",
       "<style scoped>\n",
       "    .dataframe tbody tr th:only-of-type {\n",
       "        vertical-align: middle;\n",
       "    }\n",
       "\n",
       "    .dataframe tbody tr th {\n",
       "        vertical-align: top;\n",
       "    }\n",
       "\n",
       "    .dataframe thead th {\n",
       "        text-align: right;\n",
       "    }\n",
       "</style>\n",
       "<table border=\"1\" class=\"dataframe\">\n",
       "  <thead>\n",
       "    <tr style=\"text-align: right;\">\n",
       "      <th></th>\n",
       "      <th>Count</th>\n",
       "      <th>Percentage</th>\n",
       "    </tr>\n",
       "  </thead>\n",
       "  <tbody>\n",
       "    <tr>\n",
       "      <th>miejskie</th>\n",
       "      <td>681</td>\n",
       "      <td>61.628959</td>\n",
       "    </tr>\n",
       "    <tr>\n",
       "      <th>brak informacji</th>\n",
       "      <td>215</td>\n",
       "      <td>19.457014</td>\n",
       "    </tr>\n",
       "    <tr>\n",
       "      <th>gazowe</th>\n",
       "      <td>125</td>\n",
       "      <td>11.312217</td>\n",
       "    </tr>\n",
       "    <tr>\n",
       "      <th>elektryczne</th>\n",
       "      <td>40</td>\n",
       "      <td>3.619910</td>\n",
       "    </tr>\n",
       "    <tr>\n",
       "      <th>inne</th>\n",
       "      <td>26</td>\n",
       "      <td>2.352941</td>\n",
       "    </tr>\n",
       "    <tr>\n",
       "      <th>kotłownia</th>\n",
       "      <td>15</td>\n",
       "      <td>1.357466</td>\n",
       "    </tr>\n",
       "    <tr>\n",
       "      <th>piece kaflowe</th>\n",
       "      <td>3</td>\n",
       "      <td>0.271493</td>\n",
       "    </tr>\n",
       "  </tbody>\n",
       "</table>\n",
       "</div>"
      ],
      "text/plain": [
       "                 Count  Percentage\n",
       "miejskie           681   61.628959\n",
       "brak informacji    215   19.457014\n",
       "gazowe             125   11.312217\n",
       "elektryczne         40    3.619910\n",
       "inne                26    2.352941\n",
       "kotłownia           15    1.357466\n",
       "piece kaflowe        3    0.271493"
      ]
     },
     "execution_count": 33,
     "metadata": {},
     "output_type": "execute_result"
    }
   ],
   "source": [
    "count_and_percentage(df_otodom, \"heating\")"
   ]
  },
  {
   "cell_type": "markdown",
   "metadata": {},
   "source": [
    "- 'miejskie' - 'municipal' or 'district heating'\n",
    "- 'brak informacji' - 'no information' or 'not specified'\n",
    "- 'gazowe' - 'gas'\n",
    "- 'elektryczne' - 'electric'\n",
    "- 'inne' - 'other'\n",
    "- 'kotłownia' - 'boiler room'\n",
    "- 'piece kaflowe' - 'tiled stoves' or 'ceramic stoves'"
   ]
  },
  {
   "cell_type": "markdown",
   "metadata": {},
   "source": [
    "#### 2.2.2.14 windows\n"
   ]
  },
  {
   "cell_type": "code",
   "execution_count": 34,
   "metadata": {},
   "outputs": [
    {
     "data": {
      "text/html": [
       "<div>\n",
       "<style scoped>\n",
       "    .dataframe tbody tr th:only-of-type {\n",
       "        vertical-align: middle;\n",
       "    }\n",
       "\n",
       "    .dataframe tbody tr th {\n",
       "        vertical-align: top;\n",
       "    }\n",
       "\n",
       "    .dataframe thead th {\n",
       "        text-align: right;\n",
       "    }\n",
       "</style>\n",
       "<table border=\"1\" class=\"dataframe\">\n",
       "  <thead>\n",
       "    <tr style=\"text-align: right;\">\n",
       "      <th></th>\n",
       "      <th>Count</th>\n",
       "      <th>Percentage</th>\n",
       "    </tr>\n",
       "  </thead>\n",
       "  <tbody>\n",
       "    <tr>\n",
       "      <th>plastikowe</th>\n",
       "      <td>791</td>\n",
       "      <td>71.583710</td>\n",
       "    </tr>\n",
       "    <tr>\n",
       "      <th>brak informacji</th>\n",
       "      <td>284</td>\n",
       "      <td>25.701357</td>\n",
       "    </tr>\n",
       "    <tr>\n",
       "      <th>drewniane</th>\n",
       "      <td>26</td>\n",
       "      <td>2.352941</td>\n",
       "    </tr>\n",
       "    <tr>\n",
       "      <th>aluminiowe</th>\n",
       "      <td>4</td>\n",
       "      <td>0.361991</td>\n",
       "    </tr>\n",
       "  </tbody>\n",
       "</table>\n",
       "</div>"
      ],
      "text/plain": [
       "                 Count  Percentage\n",
       "plastikowe         791   71.583710\n",
       "brak informacji    284   25.701357\n",
       "drewniane           26    2.352941\n",
       "aluminiowe           4    0.361991"
      ]
     },
     "execution_count": 34,
     "metadata": {},
     "output_type": "execute_result"
    }
   ],
   "source": [
    "count_and_percentage(df_otodom, \"windows\")"
   ]
  },
  {
   "cell_type": "markdown",
   "metadata": {},
   "source": [
    "- 'plastikowe' - 'plastic'\n",
    "- 'brak informacji' - 'no information' or 'not specified'\n",
    "- 'drewniane' - 'wooden'\n",
    "- 'aluminiowe' - 'aluminum'"
   ]
  },
  {
   "cell_type": "markdown",
   "metadata": {},
   "source": [
    "#### 2.2.2.15 elevator"
   ]
  },
  {
   "cell_type": "code",
   "execution_count": 35,
   "metadata": {},
   "outputs": [
    {
     "data": {
      "text/html": [
       "<div>\n",
       "<style scoped>\n",
       "    .dataframe tbody tr th:only-of-type {\n",
       "        vertical-align: middle;\n",
       "    }\n",
       "\n",
       "    .dataframe tbody tr th {\n",
       "        vertical-align: top;\n",
       "    }\n",
       "\n",
       "    .dataframe thead th {\n",
       "        text-align: right;\n",
       "    }\n",
       "</style>\n",
       "<table border=\"1\" class=\"dataframe\">\n",
       "  <thead>\n",
       "    <tr style=\"text-align: right;\">\n",
       "      <th></th>\n",
       "      <th>Count</th>\n",
       "      <th>Percentage</th>\n",
       "    </tr>\n",
       "  </thead>\n",
       "  <tbody>\n",
       "    <tr>\n",
       "      <th>nie</th>\n",
       "      <td>701</td>\n",
       "      <td>63.438914</td>\n",
       "    </tr>\n",
       "    <tr>\n",
       "      <th>tak</th>\n",
       "      <td>404</td>\n",
       "      <td>36.561086</td>\n",
       "    </tr>\n",
       "  </tbody>\n",
       "</table>\n",
       "</div>"
      ],
      "text/plain": [
       "     Count  Percentage\n",
       "nie    701   63.438914\n",
       "tak    404   36.561086"
      ]
     },
     "execution_count": 35,
     "metadata": {},
     "output_type": "execute_result"
    }
   ],
   "source": [
    "count_and_percentage(df_otodom, \"elevator\")"
   ]
  },
  {
   "cell_type": "markdown",
   "metadata": {},
   "source": [
    "- 'nie' - 'no'\n",
    "- 'tak' - 'yes'"
   ]
  },
  {
   "cell_type": "markdown",
   "metadata": {},
   "source": [
    "#### 2.2.2.16 parking_space\n"
   ]
  },
  {
   "cell_type": "code",
   "execution_count": 36,
   "metadata": {},
   "outputs": [
    {
     "data": {
      "text/html": [
       "<div>\n",
       "<style scoped>\n",
       "    .dataframe tbody tr th:only-of-type {\n",
       "        vertical-align: middle;\n",
       "    }\n",
       "\n",
       "    .dataframe tbody tr th {\n",
       "        vertical-align: top;\n",
       "    }\n",
       "\n",
       "    .dataframe thead th {\n",
       "        text-align: right;\n",
       "    }\n",
       "</style>\n",
       "<table border=\"1\" class=\"dataframe\">\n",
       "  <thead>\n",
       "    <tr style=\"text-align: right;\">\n",
       "      <th></th>\n",
       "      <th>Count</th>\n",
       "      <th>Percentage</th>\n",
       "    </tr>\n",
       "  </thead>\n",
       "  <tbody>\n",
       "    <tr>\n",
       "      <th>brak informacji</th>\n",
       "      <td>755</td>\n",
       "      <td>68.325792</td>\n",
       "    </tr>\n",
       "    <tr>\n",
       "      <th>garaż/miejsce parkingowe</th>\n",
       "      <td>350</td>\n",
       "      <td>31.674208</td>\n",
       "    </tr>\n",
       "  </tbody>\n",
       "</table>\n",
       "</div>"
      ],
      "text/plain": [
       "                          Count  Percentage\n",
       "brak informacji             755   68.325792\n",
       "garaż/miejsce parkingowe    350   31.674208"
      ]
     },
     "execution_count": 36,
     "metadata": {},
     "output_type": "execute_result"
    }
   ],
   "source": [
    "count_and_percentage(df_otodom, \"parking_space\")"
   ]
  },
  {
   "cell_type": "markdown",
   "metadata": {},
   "source": [
    "- 'brak informacji' - 'no information' or 'not specified'\n",
    "- 'garaż/miejsce parkingowe' - 'garage/parking space'"
   ]
  },
  {
   "cell_type": "markdown",
   "metadata": {},
   "source": [
    "#### 2.2.2.17 build_year\n"
   ]
  },
  {
   "cell_type": "code",
   "execution_count": 37,
   "metadata": {},
   "outputs": [
    {
     "data": {
      "text/html": [
       "<div>\n",
       "<style scoped>\n",
       "    .dataframe tbody tr th:only-of-type {\n",
       "        vertical-align: middle;\n",
       "    }\n",
       "\n",
       "    .dataframe tbody tr th {\n",
       "        vertical-align: top;\n",
       "    }\n",
       "\n",
       "    .dataframe thead th {\n",
       "        text-align: right;\n",
       "    }\n",
       "</style>\n",
       "<table border=\"1\" class=\"dataframe\">\n",
       "  <thead>\n",
       "    <tr style=\"text-align: right;\">\n",
       "      <th></th>\n",
       "      <th>Count</th>\n",
       "      <th>Percentage</th>\n",
       "    </tr>\n",
       "  </thead>\n",
       "  <tbody>\n",
       "    <tr>\n",
       "      <th>brak informacji</th>\n",
       "      <td>629</td>\n",
       "      <td>56.923077</td>\n",
       "    </tr>\n",
       "    <tr>\n",
       "      <th>2022</th>\n",
       "      <td>61</td>\n",
       "      <td>5.520362</td>\n",
       "    </tr>\n",
       "    <tr>\n",
       "      <th>1980</th>\n",
       "      <td>60</td>\n",
       "      <td>5.429864</td>\n",
       "    </tr>\n",
       "    <tr>\n",
       "      <th>2021</th>\n",
       "      <td>47</td>\n",
       "      <td>4.253394</td>\n",
       "    </tr>\n",
       "    <tr>\n",
       "      <th>2023</th>\n",
       "      <td>39</td>\n",
       "      <td>3.529412</td>\n",
       "    </tr>\n",
       "    <tr>\n",
       "      <th>...</th>\n",
       "      <td>...</td>\n",
       "      <td>...</td>\n",
       "    </tr>\n",
       "    <tr>\n",
       "      <th>1893</th>\n",
       "      <td>1</td>\n",
       "      <td>0.090498</td>\n",
       "    </tr>\n",
       "    <tr>\n",
       "      <th>1992</th>\n",
       "      <td>1</td>\n",
       "      <td>0.090498</td>\n",
       "    </tr>\n",
       "    <tr>\n",
       "      <th>1935</th>\n",
       "      <td>1</td>\n",
       "      <td>0.090498</td>\n",
       "    </tr>\n",
       "    <tr>\n",
       "      <th>1956</th>\n",
       "      <td>1</td>\n",
       "      <td>0.090498</td>\n",
       "    </tr>\n",
       "    <tr>\n",
       "      <th>1940</th>\n",
       "      <td>1</td>\n",
       "      <td>0.090498</td>\n",
       "    </tr>\n",
       "  </tbody>\n",
       "</table>\n",
       "<p>68 rows × 2 columns</p>\n",
       "</div>"
      ],
      "text/plain": [
       "                 Count  Percentage\n",
       "brak informacji    629   56.923077\n",
       "2022                61    5.520362\n",
       "1980                60    5.429864\n",
       "2021                47    4.253394\n",
       "2023                39    3.529412\n",
       "...                ...         ...\n",
       "1893                 1    0.090498\n",
       "1992                 1    0.090498\n",
       "1935                 1    0.090498\n",
       "1956                 1    0.090498\n",
       "1940                 1    0.090498\n",
       "\n",
       "[68 rows x 2 columns]"
      ]
     },
     "execution_count": 37,
     "metadata": {},
     "output_type": "execute_result"
    }
   ],
   "source": [
    "count_and_percentage(df_otodom, \"build_year\")"
   ]
  },
  {
   "cell_type": "code",
   "execution_count": 38,
   "metadata": {},
   "outputs": [
    {
     "data": {
      "text/plain": [
       "80     2023\n",
       "881    2023\n",
       "220    2025\n",
       "188    2025\n",
       "36     2025\n",
       "Name: build_year, dtype: int32"
      ]
     },
     "execution_count": 38,
     "metadata": {},
     "output_type": "execute_result"
    }
   ],
   "source": [
    "df_otodom_filtered = df_otodom[df_otodom['build_year'].notna() & (df_otodom['build_year'] != 'brak informacji')].astype({'build_year': 'int32'}).sort_values(by='build_year')\n",
    "df_otodom_filtered['build_year'].tail()\n"
   ]
  },
  {
   "cell_type": "code",
   "execution_count": 39,
   "metadata": {},
   "outputs": [
    {
     "data": {
      "text/plain": [
       "445    1893\n",
       "840    1900\n",
       "141    1900\n",
       "381    1900\n",
       "250    1900\n",
       "Name: build_year, dtype: int32"
      ]
     },
     "execution_count": 39,
     "metadata": {},
     "output_type": "execute_result"
    }
   ],
   "source": [
    "df_otodom_filtered['build_year'].head()"
   ]
  },
  {
   "cell_type": "markdown",
   "metadata": {},
   "source": [
    "#### 2.2.2.18 building_material"
   ]
  },
  {
   "cell_type": "code",
   "execution_count": 40,
   "metadata": {},
   "outputs": [
    {
     "data": {
      "text/html": [
       "<div>\n",
       "<style scoped>\n",
       "    .dataframe tbody tr th:only-of-type {\n",
       "        vertical-align: middle;\n",
       "    }\n",
       "\n",
       "    .dataframe tbody tr th {\n",
       "        vertical-align: top;\n",
       "    }\n",
       "\n",
       "    .dataframe thead th {\n",
       "        text-align: right;\n",
       "    }\n",
       "</style>\n",
       "<table border=\"1\" class=\"dataframe\">\n",
       "  <thead>\n",
       "    <tr style=\"text-align: right;\">\n",
       "      <th></th>\n",
       "      <th>Count</th>\n",
       "      <th>Percentage</th>\n",
       "    </tr>\n",
       "  </thead>\n",
       "  <tbody>\n",
       "    <tr>\n",
       "      <th>brak informacji</th>\n",
       "      <td>548</td>\n",
       "      <td>49.592760</td>\n",
       "    </tr>\n",
       "    <tr>\n",
       "      <th>cegła</th>\n",
       "      <td>279</td>\n",
       "      <td>25.248869</td>\n",
       "    </tr>\n",
       "    <tr>\n",
       "      <th>wielka płyta</th>\n",
       "      <td>119</td>\n",
       "      <td>10.769231</td>\n",
       "    </tr>\n",
       "    <tr>\n",
       "      <th>pustak</th>\n",
       "      <td>65</td>\n",
       "      <td>5.882353</td>\n",
       "    </tr>\n",
       "    <tr>\n",
       "      <th>inne</th>\n",
       "      <td>42</td>\n",
       "      <td>3.800905</td>\n",
       "    </tr>\n",
       "    <tr>\n",
       "      <th>żelbet</th>\n",
       "      <td>17</td>\n",
       "      <td>1.538462</td>\n",
       "    </tr>\n",
       "    <tr>\n",
       "      <th>beton</th>\n",
       "      <td>16</td>\n",
       "      <td>1.447964</td>\n",
       "    </tr>\n",
       "    <tr>\n",
       "      <th>silikat</th>\n",
       "      <td>8</td>\n",
       "      <td>0.723982</td>\n",
       "    </tr>\n",
       "    <tr>\n",
       "      <th>beton komórkowy</th>\n",
       "      <td>7</td>\n",
       "      <td>0.633484</td>\n",
       "    </tr>\n",
       "    <tr>\n",
       "      <th>drewno</th>\n",
       "      <td>3</td>\n",
       "      <td>0.271493</td>\n",
       "    </tr>\n",
       "    <tr>\n",
       "      <th>keramzyt</th>\n",
       "      <td>1</td>\n",
       "      <td>0.090498</td>\n",
       "    </tr>\n",
       "  </tbody>\n",
       "</table>\n",
       "</div>"
      ],
      "text/plain": [
       "                 Count  Percentage\n",
       "brak informacji    548   49.592760\n",
       "cegła              279   25.248869\n",
       "wielka płyta       119   10.769231\n",
       "pustak              65    5.882353\n",
       "inne                42    3.800905\n",
       "żelbet              17    1.538462\n",
       "beton               16    1.447964\n",
       "silikat              8    0.723982\n",
       "beton komórkowy      7    0.633484\n",
       "drewno               3    0.271493\n",
       "keramzyt             1    0.090498"
      ]
     },
     "execution_count": 40,
     "metadata": {},
     "output_type": "execute_result"
    }
   ],
   "source": [
    "count_and_percentage(df_otodom, \"building_material\")"
   ]
  },
  {
   "cell_type": "markdown",
   "metadata": {},
   "source": [
    "- 'brak informacji' - 'no information' or 'not specified'\n",
    "- 'cegła' - 'brick'\n",
    "- 'wielka płyta' - 'large panel' (a type of panel building construction)\n",
    "- 'pustak' - 'hollow brick' or 'concrete block'\n",
    "- 'inne' - 'other'\n",
    "- 'żelbet' - 'reinforced concrete'\n",
    "- 'beton' - 'concrete'\n",
    "- 'silikat' - 'silicate' (referring to silicate brick)\n",
    "- 'beton komórkowy' - 'aerated concrete'\n",
    "- 'drewno' - 'wood'\n",
    "- 'keramzyt' - 'expanded clay' (a lightweight aggregate used in construction)"
   ]
  },
  {
   "cell_type": "markdown",
   "metadata": {},
   "source": [
    "#### 2.2.2.19 additional_information"
   ]
  },
  {
   "cell_type": "code",
   "execution_count": 41,
   "metadata": {},
   "outputs": [
    {
     "data": {
      "text/html": [
       "<div>\n",
       "<style scoped>\n",
       "    .dataframe tbody tr th:only-of-type {\n",
       "        vertical-align: middle;\n",
       "    }\n",
       "\n",
       "    .dataframe tbody tr th {\n",
       "        vertical-align: top;\n",
       "    }\n",
       "\n",
       "    .dataframe thead th {\n",
       "        text-align: right;\n",
       "    }\n",
       "</style>\n",
       "<table border=\"1\" class=\"dataframe\">\n",
       "  <thead>\n",
       "    <tr style=\"text-align: right;\">\n",
       "      <th></th>\n",
       "      <th>Count</th>\n",
       "      <th>Percentage</th>\n",
       "    </tr>\n",
       "  </thead>\n",
       "  <tbody>\n",
       "    <tr>\n",
       "      <th>brak informacji</th>\n",
       "      <td>435</td>\n",
       "      <td>29.391892</td>\n",
       "    </tr>\n",
       "    <tr>\n",
       "      <th>oddzielna kuchnia</th>\n",
       "      <td>332</td>\n",
       "      <td>22.432432</td>\n",
       "    </tr>\n",
       "    <tr>\n",
       "      <th>piwnica</th>\n",
       "      <td>314</td>\n",
       "      <td>21.216216</td>\n",
       "    </tr>\n",
       "    <tr>\n",
       "      <th>tylko dla niepalących</th>\n",
       "      <td>154</td>\n",
       "      <td>10.405405</td>\n",
       "    </tr>\n",
       "    <tr>\n",
       "      <th>pom. użytkowe</th>\n",
       "      <td>142</td>\n",
       "      <td>9.594595</td>\n",
       "    </tr>\n",
       "    <tr>\n",
       "      <th>klimatyzacja</th>\n",
       "      <td>96</td>\n",
       "      <td>6.486486</td>\n",
       "    </tr>\n",
       "    <tr>\n",
       "      <th>dwupoziomowe</th>\n",
       "      <td>7</td>\n",
       "      <td>0.472973</td>\n",
       "    </tr>\n",
       "  </tbody>\n",
       "</table>\n",
       "</div>"
      ],
      "text/plain": [
       "                       Count  Percentage\n",
       "brak informacji          435   29.391892\n",
       "oddzielna kuchnia        332   22.432432\n",
       "piwnica                  314   21.216216\n",
       "tylko dla niepalących    154   10.405405\n",
       "pom. użytkowe            142    9.594595\n",
       "klimatyzacja              96    6.486486\n",
       "dwupoziomowe               7    0.472973"
      ]
     },
     "execution_count": 41,
     "metadata": {},
     "output_type": "execute_result"
    }
   ],
   "source": [
    "count_comma_separated_values(df_otodom, \"additional_information\")"
   ]
  },
  {
   "cell_type": "markdown",
   "metadata": {},
   "source": [
    "#### 2.2.2.20 Security"
   ]
  },
  {
   "cell_type": "code",
   "execution_count": 42,
   "metadata": {},
   "outputs": [
    {
     "data": {
      "text/html": [
       "<div>\n",
       "<style scoped>\n",
       "    .dataframe tbody tr th:only-of-type {\n",
       "        vertical-align: middle;\n",
       "    }\n",
       "\n",
       "    .dataframe tbody tr th {\n",
       "        vertical-align: top;\n",
       "    }\n",
       "\n",
       "    .dataframe thead th {\n",
       "        text-align: right;\n",
       "    }\n",
       "</style>\n",
       "<table border=\"1\" class=\"dataframe\">\n",
       "  <thead>\n",
       "    <tr style=\"text-align: right;\">\n",
       "      <th></th>\n",
       "      <th>Count</th>\n",
       "      <th>Percentage</th>\n",
       "    </tr>\n",
       "  </thead>\n",
       "  <tbody>\n",
       "    <tr>\n",
       "      <th>domofon / wideofon</th>\n",
       "      <td>566</td>\n",
       "      <td>32.983683</td>\n",
       "    </tr>\n",
       "    <tr>\n",
       "      <th>brak informacji</th>\n",
       "      <td>453</td>\n",
       "      <td>26.398601</td>\n",
       "    </tr>\n",
       "    <tr>\n",
       "      <th>drzwi / okna antywłamaniowe</th>\n",
       "      <td>241</td>\n",
       "      <td>14.044289</td>\n",
       "    </tr>\n",
       "    <tr>\n",
       "      <th>monitoring / ochrona</th>\n",
       "      <td>227</td>\n",
       "      <td>13.228438</td>\n",
       "    </tr>\n",
       "    <tr>\n",
       "      <th>teren zamknięty</th>\n",
       "      <td>167</td>\n",
       "      <td>9.731935</td>\n",
       "    </tr>\n",
       "    <tr>\n",
       "      <th>rolety antywłamaniowe</th>\n",
       "      <td>33</td>\n",
       "      <td>1.923077</td>\n",
       "    </tr>\n",
       "    <tr>\n",
       "      <th>system alarmowy</th>\n",
       "      <td>29</td>\n",
       "      <td>1.689977</td>\n",
       "    </tr>\n",
       "  </tbody>\n",
       "</table>\n",
       "</div>"
      ],
      "text/plain": [
       "                             Count  Percentage\n",
       "domofon / wideofon             566   32.983683\n",
       "brak informacji                453   26.398601\n",
       "drzwi / okna antywłamaniowe    241   14.044289\n",
       "monitoring / ochrona           227   13.228438\n",
       "teren zamknięty                167    9.731935\n",
       "rolety antywłamaniowe           33    1.923077\n",
       "system alarmowy                 29    1.689977"
      ]
     },
     "execution_count": 42,
     "metadata": {},
     "output_type": "execute_result"
    }
   ],
   "source": [
    "count_comma_separated_values(df_otodom, \"security\")"
   ]
  }
 ],
 "metadata": {
  "kernelspec": {
   "display_name": "Python 3",
   "language": "python",
   "name": "python3"
  },
  "language_info": {
   "codemirror_mode": {
    "name": "ipython",
    "version": 3
   },
   "file_extension": ".py",
   "mimetype": "text/x-python",
   "name": "python",
   "nbconvert_exporter": "python",
   "pygments_lexer": "ipython3",
   "version": "3.11.1"
  }
 },
 "nbformat": 4,
 "nbformat_minor": 2
}
