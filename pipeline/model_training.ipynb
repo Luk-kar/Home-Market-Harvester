{
 "cells": [
  {
   "cell_type": "markdown",
   "metadata": {},
   "source": [
    "## 1. Upload the data nd libraries"
   ]
  },
  {
   "cell_type": "markdown",
   "metadata": {},
   "source": [
    "### 1.1 Imports necessary libraries"
   ]
  },
  {
   "cell_type": "code",
   "execution_count": 1,
   "metadata": {},
   "outputs": [],
   "source": [
    "# Python\n",
    "from datetime import datetime\n",
    "from pathlib import Path\n",
    "import random\n",
    "import sys\n",
    "\n",
    "# Third party\n",
    "from sklearn.ensemble import RandomForestRegressor\n",
    "from sklearn.impute import KNNImputer\n",
    "from sklearn.linear_model import LinearRegression, Lasso\n",
    "from sklearn.metrics import mean_absolute_error\n",
    "from sklearn.model_selection import GridSearchCV\n",
    "from sklearn.model_selection import cross_val_score\n",
    "from sklearn.model_selection import train_test_split\n",
    "from statsmodels.iolib.table import SimpleTable\n",
    "import matplotlib.pyplot as plt\n",
    "import numpy as np\n",
    "import pandas as pd\n",
    "import seaborn as sns\n",
    "import statsmodels.api as sm\n",
    "\n",
    "def print_project_root():\n",
    "    notebooks_dir = Path.cwd()\n",
    "\n",
    "    # Calculate the root directory of the project (go up two levels)\n",
    "    project_root = notebooks_dir.parent.parent\n",
    "    print(f\"The root directory of the project is: {project_root}\")\n",
    "\n",
    "    if str(project_root) not in sys.path:\n",
    "        sys.path.append(str(project_root))\n",
    "\n",
    "print_project_root()\n",
    "\n",
    "# Local imports\n",
    "from pipeline.src._csv_utils import DataPathCleaningManager\n",
    "from pipeline.src.model.model_io_operations import ModelManager"
   ]
  },
  {
   "cell_type": "markdown",
   "metadata": {},
   "source": [
    "### 1.2 Import the data"
   ]
  },
  {
   "cell_type": "code",
   "execution_count": 2,
   "metadata": {},
   "outputs": [],
   "source": [
    "data_timeplace = os.getenv(\"MARKET_OFFERS_TIMEPLACE\")\n",
    "if data_timeplace is None:\n",
    "    raise ValueError(\"The environment variable MARKET_OFFERS_TIMEPLACE is not set.\")\n",
    "\n",
    "data_path_manager = DataPathCleaningManager(data_timeplace)\n",
    "df = data_path_manager.load_cleaned_df(domain=\"combined\")"
   ]
  },
  {
   "cell_type": "code",
   "execution_count": 3,
   "metadata": {},
   "outputs": [
    {
     "data": {
      "text/plain": [
       "[('listing', 'link'),\n",
       " ('listing', 'title'),\n",
       " ('listing', 'summary_description'),\n",
       " ('listing', 'remote_service'),\n",
       " ('pricing', 'price'),\n",
       " ('pricing', 'rent'),\n",
       " ('pricing', 'total_rent'),\n",
       " ('pricing', 'total_rent_sqm'),\n",
       " ('pricing', 'deposit'),\n",
       " ('pricing', 'deposit_ratio'),\n",
       " ('location', 'complete_address'),\n",
       " ('location', 'street'),\n",
       " ('location', 'city'),\n",
       " ('location', 'voivodeship'),\n",
       " ('size', 'square_meters'),\n",
       " ('size', 'number_of_rooms'),\n",
       " ('size', 'floor'),\n",
       " ('size', 'attic'),\n",
       " ('size', 'building_floors'),\n",
       " ('legal_and_availability', 'available_from'),\n",
       " ('legal_and_availability', 'completion'),\n",
       " ('legal_and_availability', 'ownership'),\n",
       " ('legal_and_availability', 'rent_to_students'),\n",
       " ('type_and_year', 'building_type'),\n",
       " ('type_and_year', 'build_year'),\n",
       " ('amenities', 'elevator'),\n",
       " ('amenities', 'parking_space'),\n",
       " ('equipment', 'no_information'),\n",
       " ('equipment', 'stove'),\n",
       " ('equipment', 'fridge'),\n",
       " ('equipment', 'furniture'),\n",
       " ('equipment', 'oven'),\n",
       " ('equipment', 'washing_machine'),\n",
       " ('equipment', 'TV'),\n",
       " ('equipment', 'dishwasher'),\n",
       " ('media_types', 'no_information'),\n",
       " ('media_types', 'internet'),\n",
       " ('media_types', 'telephone'),\n",
       " ('media_types', 'cable_TV'),\n",
       " ('heating', 'no_information'),\n",
       " ('heating', 'electric'),\n",
       " ('heating', 'gas'),\n",
       " ('heating', 'other'),\n",
       " ('heating', 'boiler_room'),\n",
       " ('heating', 'district'),\n",
       " ('heating', 'tile_stove'),\n",
       " ('security', 'no_information'),\n",
       " ('security', 'intercom_or_video_intercom'),\n",
       " ('security', 'anti_burglary_doors_or_windows'),\n",
       " ('security', 'monitoring_or_security'),\n",
       " ('security', 'anti_burglary_roller_blinds'),\n",
       " ('security', 'alarm_system'),\n",
       " ('security', 'enclosed_area'),\n",
       " ('windows', 'aluminum'),\n",
       " ('windows', 'no_information'),\n",
       " ('windows', 'wooden'),\n",
       " ('windows', 'plastic'),\n",
       " ('building_material', 'concrete'),\n",
       " ('building_material', 'aerated_concrete'),\n",
       " ('building_material', 'no_information'),\n",
       " ('building_material', 'brick'),\n",
       " ('building_material', 'wood'),\n",
       " ('building_material', 'other'),\n",
       " ('building_material', 'lightweight_aggregate'),\n",
       " ('building_material', 'hollow_brick'),\n",
       " ('building_material', 'silicate'),\n",
       " ('building_material', 'large_panel'),\n",
       " ('building_material', 'reinforced_concrete'),\n",
       " ('additional_information', 'no_information'),\n",
       " ('additional_information', 'duplex'),\n",
       " ('additional_information', 'air_conditioning'),\n",
       " ('additional_information', 'separate_kitchen'),\n",
       " ('additional_information', 'basement'),\n",
       " ('additional_information', 'utility_room'),\n",
       " ('additional_information', 'non_smokers_only')]"
      ]
     },
     "execution_count": 3,
     "metadata": {},
     "output_type": "execute_result"
    }
   ],
   "source": [
    "# choose relevant columns\n",
    "df.columns.tolist()"
   ]
  },
  {
   "cell_type": "markdown",
   "metadata": {},
   "source": [
    "### 1.3 Remove outliers\n",
    "In our scenario, it's not necessary to have a model that perfectly aligns with every specific local case. Instead, we need a model that is well-suited for our case the average situation."
   ]
  },
  {
   "cell_type": "code",
   "execution_count": 4,
   "metadata": {},
   "outputs": [],
   "source": [
    "def filter_relevant_rows(row):\n",
    "    try:\n",
    "        city = row['location']['city']\n",
    "        building_type = row['type_and_year']['building_type'] if pd.notna(row['type_and_year'].get('building_type')) else False\n",
    "        # build_year = row['type_and_year']['build_year'] if pd.notna(row['type_and_year'].get('build_year')) else False\n",
    "        total_rent = row['pricing']['total_rent']\n",
    "        return city in [\"będziński\", \"Zawada\", \"Siewierz\", \"tarnogórski\", \"Piekary Śląskie\", \"zawierciański\", \"Siemianowice Śląskie\"] \\\n",
    "        and building_type in [\"block_of_flats\", \"apartment_building\"] \\\n",
    "        and total_rent <= 4000\n",
    "        # and build_year <= 1970\n",
    "    except KeyError:\n",
    "        return False\n",
    "\n",
    "narrowed_df = df[df.apply(filter_relevant_rows, axis=1)].copy()"
   ]
  },
  {
   "cell_type": "markdown",
   "metadata": {},
   "source": [
    "### 1.4 Convert a year of the building to years old"
   ]
  },
  {
   "cell_type": "code",
   "execution_count": 5,
   "metadata": {},
   "outputs": [],
   "source": [
    "def calculate_building_age(build_year_series: pd.Series) -> pd.Series:\n",
    "    \"\"\"\n",
    "    Convert a series of building years to building ages.\n",
    "    \n",
    "    :param build_year_series: A pandas Series containing building years.\n",
    "    :return: A pandas Series containing building ages.\n",
    "    \"\"\"\n",
    "    current_year = datetime.now().year\n",
    "    \n",
    "    # Calculate the age of the building by subtracting the year from the current year\n",
    "    # If the value is np.nan, it remains np.nan\n",
    "    building_age_series = build_year_series.apply(lambda x: current_year - x if np.isfinite(x) else np.nan)\n",
    "    \n",
    "    return building_age_series\n",
    "\n",
    "# Assuming narrowed_df is a DataFrame with MultiIndex columns\n",
    "new_values = calculate_building_age(narrowed_df['type_and_year']['build_year'])\n",
    "\n",
    "# Use .loc to set the values\n",
    "narrowed_df.loc[:, ('type_and_year', 'build_year')] = new_values"
   ]
  },
  {
   "cell_type": "code",
   "execution_count": 6,
   "metadata": {},
   "outputs": [
    {
     "data": {
      "text/plain": [
       "count    20.000000\n",
       "mean     26.500000\n",
       "std      27.340927\n",
       "min       1.000000\n",
       "25%       1.750000\n",
       "50%      20.000000\n",
       "75%      44.000000\n",
       "max      94.000000\n",
       "Name: build_year, dtype: float64"
      ]
     },
     "execution_count": 6,
     "metadata": {},
     "output_type": "execute_result"
    }
   ],
   "source": [
    "narrowed_df['type_and_year']['build_year'].describe()"
   ]
  },
  {
   "cell_type": "markdown",
   "metadata": {},
   "source": [
    "### 1.5 Select relevant data"
   ]
  },
  {
   "cell_type": "markdown",
   "metadata": {},
   "source": [
    "It's an iterative process. During the exploration of data through the various models you will find out which one works and not."
   ]
  },
  {
   "cell_type": "code",
   "execution_count": 7,
   "metadata": {},
   "outputs": [],
   "source": [
    "# relevant but multicollinearity:\n",
    "# level 1 - very high\n",
    "# level 2 - high\n",
    "\n",
    "df_model = pd.DataFrame()\n",
    "\n",
    "columns_to_select = [\n",
    "    # ('pricing', 'total_rent'),\n",
    "    ('pricing', 'total_rent_sqm'),\n",
    "    # ('location', 'city'),\n",
    "    ('size', 'square_meters'),\n",
    "    # ('size', 'number_of_rooms'), # level 1\n",
    "    # ('type_and_year', 'building_type'),\n",
    "    ('type_and_year', 'build_year'),\n",
    "    # ('amenities', 'elevator'),\n",
    "    # ('amenities', 'parking_space'),\n",
    "    # ('equipment', 'furniture'), # level 1\n",
    "    # ('equipment', 'stove'), # level 1\n",
    "    # ('equipment', 'oven'),\n",
    "    # ('equipment', 'washing_machine'),\n",
    "    # ('equipment', 'TV'),\n",
    "    ('equipment', 'dishwasher'),\n",
    "    # ('media_types', 'internet'), # level 2\n",
    "    # ('media_types', 'cable_TV'), # level 2\n",
    "    # ('heating', 'district'),\n",
    "    # ('security', 'monitoring_or_security'),\n",
    "    # ('security', 'anti_burglary_doors_or_windows'), # level 2\n",
    "    # ('security', 'enclosed_area'), # level 2\n",
    "    # ('windows', 'aluminum'),\n",
    "    # ('size', 'floor'),\n",
    "    # ('size', 'building_floors'), # level 1\n",
    "    # ('additional_information', 'air_conditioning'),\n",
    "    # ('additional_information', 'utility_room'),\n",
    "]\n",
    "\n",
    "extracted_columns = narrowed_df.loc[:, columns_to_select]\n",
    "\n",
    "\n",
    "extracted_columns.columns = extracted_columns.columns.droplevel(0)\n",
    "\n",
    "\n",
    "df_model[extracted_columns.columns] = extracted_columns"
   ]
  },
  {
   "cell_type": "code",
   "execution_count": 8,
   "metadata": {},
   "outputs": [
    {
     "data": {
      "text/plain": [
       "total_rent_sqm    Float64\n",
       "square_meters       Int64\n",
       "build_year        float64\n",
       "dishwasher           bool\n",
       "dtype: object"
      ]
     },
     "execution_count": 8,
     "metadata": {},
     "output_type": "execute_result"
    }
   ],
   "source": [
    "df_model.dtypes"
   ]
  },
  {
   "cell_type": "markdown",
   "metadata": {},
   "source": [
    "## 2. Get dummy data"
   ]
  },
  {
   "cell_type": "markdown",
   "metadata": {},
   "source": [
    "Transforms categorical variables into numerical form by creating binary (`True`/`False`) indicator variables for each category, resulting in a new DataFrame called `df_dum`"
   ]
  },
  {
   "cell_type": "code",
   "execution_count": 9,
   "metadata": {},
   "outputs": [],
   "source": [
    "df_dum = pd.get_dummies(df_model)"
   ]
  },
  {
   "cell_type": "code",
   "execution_count": 10,
   "metadata": {},
   "outputs": [
    {
     "data": {
      "text/plain": [
       "total_rent_sqm    Float64\n",
       "square_meters       Int64\n",
       "build_year        float64\n",
       "dishwasher           bool\n",
       "dtype: object"
      ]
     },
     "execution_count": 10,
     "metadata": {},
     "output_type": "execute_result"
    }
   ],
   "source": [
    "df_dum.dtypes"
   ]
  },
  {
   "cell_type": "markdown",
   "metadata": {},
   "source": [
    "## 3. Training and Testing Data Separation\n",
    "This step divides our data into two groups: one for training our model (learning from examples) and the other for testing it (checking how well it learned). We use a tool called `train_test_split` for this division, ensuring that our model can be trained on one part of the data and then evaluated on a different part to see how well it predicts new, unseen information."
   ]
  },
  {
   "cell_type": "code",
   "execution_count": 11,
   "metadata": {},
   "outputs": [],
   "source": [
    "# Splitting the dataset into features (X) and target variable (Y), where 'total_rent' is the target.\n",
    "X = df_dum.drop('total_rent_sqm', axis =1)\n",
    "Y = df_dum['total_rent_sqm']\n",
    "\n",
    "# Converting boolean columns to integers for model compatibility. Models typically require numerical input.\n",
    "bool_cols = X.select_dtypes(include=['bool']).columns\n",
    "X[bool_cols] = X[bool_cols].astype(int)\n",
    "\n",
    "# Replacing infinite values with NaN in the features to avoid errors during model training.\n",
    "X = X.replace([np.inf, -np.inf], np.nan)\n",
    "\n",
    "# Initialize the KNN Imputer\n",
    "knn_imputer = KNNImputer(n_neighbors=5)\n",
    "\n",
    "# Apply the imputer to the feature set. Note: It's important to do this before the train-test split.\n",
    "X_imputed = knn_imputer.fit_transform(X)\n",
    "X_imputed = X_imputed.astype(float)\n",
    "\n",
    "# Now, handle the target variable\n",
    "Y = Y.replace([np.inf, -np.inf], np.nan)\n",
    "Y = Y.fillna(0)\n",
    "\n",
    "# Splitting the dataset into training and testing sets for model validation.\n",
    "X_train, X_test, Y_train, Y_test = train_test_split(X_imputed, Y.values, test_size=0.2, random_state=42)"
   ]
  },
  {
   "cell_type": "code",
   "execution_count": 12,
   "metadata": {},
   "outputs": [],
   "source": [
    "my_xnames = pd.Index(['total_rent_sqm'] + X.columns.tolist())"
   ]
  },
  {
   "cell_type": "markdown",
   "metadata": {},
   "source": [
    "## 4. Multiple Linear Regression\n",
    "This section implements a Multiple Linear Regression model using the Ordinary Least Squares (OLS) method from the statsmodels library. In this approach, the model aims to establish a linear relationship between multiple independent variables (features) and a single dependent variable (target). The OLS method is employed to determine the line of best fit, which is achieved by minimizing the sum of the squares of the residuals - the differences between the observed values and the values predicted by the model. This process allows for an efficient and effective way to understand how each independent variable contributes to the dependent variable, facilitating predictions and insights into the underlying data relationships."
   ]
  },
  {
   "cell_type": "code",
   "execution_count": 14,
   "metadata": {},
   "outputs": [],
   "source": [
    "# Convert Y_train to a numpy array if it's not already\n",
    "Y_train_np = Y_train.to_numpy(dtype='float64')\n",
    "\n",
    "# Adding a constant to the feature set and constructing the OLS model\n",
    "X_train_sm = sm.add_constant(X_train)\n",
    "model = sm.OLS(Y_train_np, X_train_sm)\n",
    "\n",
    "# You can name the variables in your model for better readability\n",
    "# Assuming 'X' is defined and includes the names of your features\n",
    "model.data.xnames = ['Intercept'] + X.columns.tolist()"
   ]
  },
  {
   "cell_type": "code",
   "execution_count": 15,
   "metadata": {},
   "outputs": [
    {
     "data": {
      "text/html": [
       "<table class=\"simpletable\">\n",
       "<caption>OLS Regression Results</caption>\n",
       "<tr>\n",
       "  <th>Dep. Variable:</th>            <td>y</td>        <th>  R-squared:         </th> <td>   0.450</td>\n",
       "</tr>\n",
       "<tr>\n",
       "  <th>Model:</th>                   <td>OLS</td>       <th>  Adj. R-squared:    </th> <td>   0.411</td>\n",
       "</tr>\n",
       "<tr>\n",
       "  <th>Method:</th>             <td>Least Squares</td>  <th>  F-statistic:       </th> <td>   11.45</td>\n",
       "</tr>\n",
       "<tr>\n",
       "  <th>Date:</th>             <td>Mon, 29 Jan 2024</td> <th>  Prob (F-statistic):</th> <td>1.29e-05</td>\n",
       "</tr>\n",
       "<tr>\n",
       "  <th>Time:</th>                 <td>15:32:38</td>     <th>  Log-Likelihood:    </th> <td> -165.42</td>\n",
       "</tr>\n",
       "<tr>\n",
       "  <th>No. Observations:</th>      <td>    46</td>      <th>  AIC:               </th> <td>   338.8</td>\n",
       "</tr>\n",
       "<tr>\n",
       "  <th>Df Residuals:</th>          <td>    42</td>      <th>  BIC:               </th> <td>   346.1</td>\n",
       "</tr>\n",
       "<tr>\n",
       "  <th>Df Model:</th>              <td>     3</td>      <th>                     </th>     <td> </td>   \n",
       "</tr>\n",
       "<tr>\n",
       "  <th>Covariance Type:</th>      <td>nonrobust</td>    <th>                     </th>     <td> </td>   \n",
       "</tr>\n",
       "</table>\n",
       "<table class=\"simpletable\">\n",
       "<tr>\n",
       "        <td></td>           <th>coef</th>     <th>std err</th>      <th>t</th>      <th>P>|t|</th>  <th>[0.025</th>    <th>0.975]</th>  \n",
       "</tr>\n",
       "<tr>\n",
       "  <th>Intercept</th>     <td>   73.2088</td> <td>    6.337</td> <td>   11.553</td> <td> 0.000</td> <td>   60.421</td> <td>   85.997</td>\n",
       "</tr>\n",
       "<tr>\n",
       "  <th>square_meters</th> <td>   -0.4336</td> <td>    0.093</td> <td>   -4.649</td> <td> 0.000</td> <td>   -0.622</td> <td>   -0.245</td>\n",
       "</tr>\n",
       "<tr>\n",
       "  <th>build_year</th>    <td>   -0.3070</td> <td>    0.091</td> <td>   -3.360</td> <td> 0.002</td> <td>   -0.491</td> <td>   -0.123</td>\n",
       "</tr>\n",
       "<tr>\n",
       "  <th>dishwasher</th>    <td>    6.2343</td> <td>    3.342</td> <td>    1.865</td> <td> 0.069</td> <td>   -0.510</td> <td>   12.979</td>\n",
       "</tr>\n",
       "</table>\n",
       "<table class=\"simpletable\">\n",
       "<tr>\n",
       "  <th>Omnibus:</th>       <td> 1.467</td> <th>  Durbin-Watson:     </th> <td>   2.179</td>\n",
       "</tr>\n",
       "<tr>\n",
       "  <th>Prob(Omnibus):</th> <td> 0.480</td> <th>  Jarque-Bera (JB):  </th> <td>   0.653</td>\n",
       "</tr>\n",
       "<tr>\n",
       "  <th>Skew:</th>          <td>-0.086</td> <th>  Prob(JB):          </th> <td>   0.722</td>\n",
       "</tr>\n",
       "<tr>\n",
       "  <th>Kurtosis:</th>      <td> 3.557</td> <th>  Cond. No.          </th> <td>    283.</td>\n",
       "</tr>\n",
       "</table><br/><br/>Notes:<br/>[1] Standard Errors assume that the covariance matrix of the errors is correctly specified."
      ],
      "text/latex": [
       "\\begin{center}\n",
       "\\begin{tabular}{lclc}\n",
       "\\toprule\n",
       "\\textbf{Dep. Variable:}    &        y         & \\textbf{  R-squared:         } &     0.450   \\\\\n",
       "\\textbf{Model:}            &       OLS        & \\textbf{  Adj. R-squared:    } &     0.411   \\\\\n",
       "\\textbf{Method:}           &  Least Squares   & \\textbf{  F-statistic:       } &     11.45   \\\\\n",
       "\\textbf{Date:}             & Mon, 29 Jan 2024 & \\textbf{  Prob (F-statistic):} &  1.29e-05   \\\\\n",
       "\\textbf{Time:}             &     15:32:38     & \\textbf{  Log-Likelihood:    } &   -165.42   \\\\\n",
       "\\textbf{No. Observations:} &          46      & \\textbf{  AIC:               } &     338.8   \\\\\n",
       "\\textbf{Df Residuals:}     &          42      & \\textbf{  BIC:               } &     346.1   \\\\\n",
       "\\textbf{Df Model:}         &           3      & \\textbf{                     } &             \\\\\n",
       "\\textbf{Covariance Type:}  &    nonrobust     & \\textbf{                     } &             \\\\\n",
       "\\bottomrule\n",
       "\\end{tabular}\n",
       "\\begin{tabular}{lcccccc}\n",
       "                        & \\textbf{coef} & \\textbf{std err} & \\textbf{t} & \\textbf{P$> |$t$|$} & \\textbf{[0.025} & \\textbf{0.975]}  \\\\\n",
       "\\midrule\n",
       "\\textbf{Intercept}      &      73.2088  &        6.337     &    11.553  &         0.000        &       60.421    &       85.997     \\\\\n",
       "\\textbf{square\\_meters} &      -0.4336  &        0.093     &    -4.649  &         0.000        &       -0.622    &       -0.245     \\\\\n",
       "\\textbf{build\\_year}    &      -0.3070  &        0.091     &    -3.360  &         0.002        &       -0.491    &       -0.123     \\\\\n",
       "\\textbf{dishwasher}     &       6.2343  &        3.342     &     1.865  &         0.069        &       -0.510    &       12.979     \\\\\n",
       "\\bottomrule\n",
       "\\end{tabular}\n",
       "\\begin{tabular}{lclc}\n",
       "\\textbf{Omnibus:}       &  1.467 & \\textbf{  Durbin-Watson:     } &    2.179  \\\\\n",
       "\\textbf{Prob(Omnibus):} &  0.480 & \\textbf{  Jarque-Bera (JB):  } &    0.653  \\\\\n",
       "\\textbf{Skew:}          & -0.086 & \\textbf{  Prob(JB):          } &    0.722  \\\\\n",
       "\\textbf{Kurtosis:}      &  3.557 & \\textbf{  Cond. No.          } &     283.  \\\\\n",
       "\\bottomrule\n",
       "\\end{tabular}\n",
       "%\\caption{OLS Regression Results}\n",
       "\\end{center}\n",
       "\n",
       "Notes: \\newline\n",
       " [1] Standard Errors assume that the covariance matrix of the errors is correctly specified."
      ],
      "text/plain": [
       "<class 'statsmodels.iolib.summary.Summary'>\n",
       "\"\"\"\n",
       "                            OLS Regression Results                            \n",
       "==============================================================================\n",
       "Dep. Variable:                      y   R-squared:                       0.450\n",
       "Model:                            OLS   Adj. R-squared:                  0.411\n",
       "Method:                 Least Squares   F-statistic:                     11.45\n",
       "Date:                Mon, 29 Jan 2024   Prob (F-statistic):           1.29e-05\n",
       "Time:                        15:32:38   Log-Likelihood:                -165.42\n",
       "No. Observations:                  46   AIC:                             338.8\n",
       "Df Residuals:                      42   BIC:                             346.1\n",
       "Df Model:                           3                                         \n",
       "Covariance Type:            nonrobust                                         \n",
       "=================================================================================\n",
       "                    coef    std err          t      P>|t|      [0.025      0.975]\n",
       "---------------------------------------------------------------------------------\n",
       "Intercept        73.2088      6.337     11.553      0.000      60.421      85.997\n",
       "square_meters    -0.4336      0.093     -4.649      0.000      -0.622      -0.245\n",
       "build_year       -0.3070      0.091     -3.360      0.002      -0.491      -0.123\n",
       "dishwasher        6.2343      3.342      1.865      0.069      -0.510      12.979\n",
       "==============================================================================\n",
       "Omnibus:                        1.467   Durbin-Watson:                   2.179\n",
       "Prob(Omnibus):                  0.480   Jarque-Bera (JB):                0.653\n",
       "Skew:                          -0.086   Prob(JB):                        0.722\n",
       "Kurtosis:                       3.557   Cond. No.                         283.\n",
       "==============================================================================\n",
       "\n",
       "Notes:\n",
       "[1] Standard Errors assume that the covariance matrix of the errors is correctly specified.\n",
       "\"\"\""
      ]
     },
     "execution_count": 15,
     "metadata": {},
     "output_type": "execute_result"
    }
   ],
   "source": [
    "results = model.fit().summary()\n",
    "results"
   ]
  },
  {
   "cell_type": "code",
   "execution_count": 16,
   "metadata": {},
   "outputs": [
    {
     "data": {
      "image/png": "[encoded data removed]",
      "text/plain": [
       "<Figure size 1200x800 with 2 Axes>"
      ]
     },
     "metadata": {},
     "output_type": "display_data"
    }
   ],
   "source": [
    "corr_matrix = df_model.corr()\n",
    "\n",
    "# Visualize the correlation matrix\n",
    "plt.figure(figsize=(12, 8))\n",
    "sns.heatmap(corr_matrix, annot=True, cmap='coolwarm', fmt='.2f')\n",
    "plt.title(\"Correlation Matrix\")\n",
    "plt.show()"
   ]
  },
  {
   "cell_type": "markdown",
   "metadata": {},
   "source": [
    "This heatmap is a correlation matrix displaying how closely the variables in our dataset are related to each other.<br>\n",
    "It's used here to detect multicollinearity, where some features might be too similar, providing overlapping information.<br>\n",
    "We're looking for highly correlated features (close to 1 or -1) to consider removing them, reducing multicollinearity,<br>\n",
    "and improving our model's reliability.\n"
   ]
  },
  {
   "cell_type": "code",
   "execution_count": 17,
   "metadata": {},
   "outputs": [
    {
     "name": "stdout",
     "output_type": "stream",
     "text": [
      "passed_t_variables: 1\n",
      "variables: 5\n",
      "percentage: 20.0\n"
     ]
    },
    {
     "data": {
      "text/html": [
       "<table class=\"simpletable\">\n",
       "<tr>\n",
       "  <td>Intercept</td> <td>   73.2088</td> <td>    6.337</td> <td>   11.553</td> <td> 0.000</td> <td>   60.421</td> <td>   85.997</td>\n",
       "</tr>\n",
       "</table>"
      ],
      "text/latex": [
       "\\begin{center}\n",
       "\\begin{tabular}{ccccccc}\n",
       "\\toprule\n",
       "Intercept &    73.2088 &     6.337 &    11.553 &  0.000 &    60.421 &    85.997  \\\\\n",
       "\\bottomrule\n",
       "\\end{tabular}\n",
       "\\end{center}"
      ],
      "text/plain": [
       "<class 'statsmodels.iolib.table.SimpleTable'>"
      ]
     },
     "execution_count": 17,
     "metadata": {},
     "output_type": "execute_result"
    }
   ],
   "source": [
    "def get_t_results(results, t_cap):\n",
    "    table_index = 1\n",
    "\n",
    "    table_data = results.tables[table_index].data\n",
    "\n",
    "    filtered_data = [row for row in table_data if float(row[-2].replace(\"[\", \"\")) >= t_cap]\n",
    "\n",
    "    sorted_data = sorted(filtered_data, key=lambda x: float(x[-2].replace(\"[\", \"\")), reverse=True)\n",
    "\n",
    "    filtered_table = SimpleTable(sorted_data, title=results.tables[table_index].title)\n",
    "\n",
    "    print(f\"passed_t_variables: {len(filtered_data)}\")\n",
    "    print(f\"variables: {len(table_data)}\")\n",
    "    print(f\"percentage: {round((len(filtered_data) / len(table_data)) * 100, 2)}\")\n",
    "    return filtered_table\n",
    "\n",
    "get_t_results(results, 0.05)"
   ]
  },
  {
   "cell_type": "code",
   "execution_count": 18,
   "metadata": {},
   "outputs": [
    {
     "data": {
      "text/plain": [
       "-7.425078567759298"
      ]
     },
     "execution_count": 18,
     "metadata": {},
     "output_type": "execute_result"
    }
   ],
   "source": [
    "lm = LinearRegression()\n",
    "lm.fit(X_train, Y_train)\n",
    "\n",
    "np.mean(cross_val_score(lm,X_train,Y_train, scoring = 'neg_mean_absolute_error', cv=10))"
   ]
  },
  {
   "cell_type": "markdown",
   "metadata": {},
   "source": [
    "## 5. Save model and validate it on selected sample"
   ]
  },
  {
   "cell_type": "markdown",
   "metadata": {},
   "source": [
    "### 5.1 Check model on an example entry"
   ]
  },
  {
   "cell_type": "code",
   "execution_count": 28,
   "metadata": {},
   "outputs": [],
   "source": [
    "random_sample = X_test[random.randint(0, X_test.shape[1])]"
   ]
  },
  {
   "cell_type": "code",
   "execution_count": 29,
   "metadata": {},
   "outputs": [
    {
     "data": {
      "text/plain": [
       "array([49. , 28.4,  1. ])"
      ]
     },
     "execution_count": 29,
     "metadata": {},
     "output_type": "execute_result"
    }
   ],
   "source": [
    "random_sample"
   ]
  },
  {
   "cell_type": "code",
   "execution_count": 30,
   "metadata": {},
   "outputs": [
    {
     "data": {
      "text/plain": [
       "[49.0, 28.4, 1.0]"
      ]
     },
     "execution_count": 30,
     "metadata": {},
     "output_type": "execute_result"
    }
   ],
   "source": [
    "list(random_sample)"
   ]
  },
  {
   "cell_type": "code",
   "execution_count": 31,
   "metadata": {},
   "outputs": [
    {
     "name": "stdout",
     "output_type": "stream",
     "text": [
      "Prediction: [58.8856572]\n"
     ]
    }
   ],
   "source": [
    "model= lm\n",
    "random_sample = X_test[random.randint(0, X_test.shape[0]-1)]  # Use shape[0] for the number of rows\n",
    "prediction = model.predict(random_sample.reshape(1, -1))\n",
    "print(\"Prediction:\", prediction)"
   ]
  },
  {
   "cell_type": "markdown",
   "metadata": {},
   "source": [
    "### 5.2 Save the model and validate it"
   ]
  },
  {
   "cell_type": "code",
   "execution_count": 32,
   "metadata": {},
   "outputs": [],
   "source": [
    "\n",
    "model = lm_l\n",
    "training_data = X\n",
    "\n",
    "# Construct the model_path relative to the current script/notebook directory\n",
    "current_path = Path().resolve()\n",
    "parent_dir = current_path.parent\n",
    "model_path = str(parent_dir / 'model' / 'model.pkl')\n",
    "\n",
    "model_manager = ModelManager(model_path=model_path, model=model, training_data=training_data)"
   ]
  },
  {
   "cell_type": "code",
   "execution_count": 33,
   "metadata": {},
   "outputs": [],
   "source": [
    "model_manager.save_model_and_metadata()"
   ]
  },
  {
   "cell_type": "code",
   "execution_count": 34,
   "metadata": {},
   "outputs": [],
   "source": [
    "model, metadata = model_manager.load_model_and_metadata()"
   ]
  },
  {
   "cell_type": "code",
   "execution_count": 35,
   "metadata": {},
   "outputs": [
    {
     "data": {
      "text/plain": [
       "{'columns': {'square_meters': 'Int64',\n",
       "  'build_year': 'float64',\n",
       "  'dishwasher': 'int32'},\n",
       " 'column_order': ['square_meters', 'build_year', 'dishwasher']}"
      ]
     },
     "execution_count": 35,
     "metadata": {},
     "output_type": "execute_result"
    }
   ],
   "source": [
    "metadata"
   ]
  },
  {
   "cell_type": "code",
   "execution_count": 36,
   "metadata": {},
   "outputs": [
    {
     "name": "stderr",
     "output_type": "stream",
     "text": [
      "c:\\Users\\karol\\AppData\\Local\\Programs\\Python\\Python311\\Lib\\site-packages\\sklearn\\base.py:439: UserWarning: X does not have valid feature names, but Lasso was fitted with feature names\n",
      "  warnings.warn(\n"
     ]
    },
    {
     "data": {
      "text/plain": [
       "array([58.8559577])"
      ]
     },
     "execution_count": 36,
     "metadata": {},
     "output_type": "execute_result"
    }
   ],
   "source": [
    "model.predict(random_sample.reshape(1, -1))"
   ]
  },
  {
   "cell_type": "code",
   "execution_count": 37,
   "metadata": {},
   "outputs": [
    {
     "data": {
      "text/plain": [
       "array([46.,  2.,  1.])"
      ]
     },
     "execution_count": 37,
     "metadata": {},
     "output_type": "execute_result"
    }
   ],
   "source": [
    "random_sample"
   ]
  },
  {
   "cell_type": "code",
   "execution_count": 38,
   "metadata": {},
   "outputs": [
    {
     "name": "stdout",
     "output_type": "stream",
     "text": [
      "Prediction: [58.8559577]\n"
     ]
    },
    {
     "name": "stderr",
     "output_type": "stream",
     "text": [
      "c:\\Users\\karol\\AppData\\Local\\Programs\\Python\\Python311\\Lib\\site-packages\\sklearn\\base.py:439: UserWarning: X does not have valid feature names, but Lasso was fitted with feature names\n",
      "  warnings.warn(\n"
     ]
    }
   ],
   "source": [
    "model_manager.evaluate_model_on_sample(random_sample.reshape(1, -1), model)"
   ]
  }
 ],
 "metadata": {
  "kernelspec": {
   "display_name": "Python 3",
   "language": "python",
   "name": "python3"
  },
  "language_info": {
   "codemirror_mode": {
    "name": "ipython",
    "version": 3
   },
   "file_extension": ".py",
   "mimetype": "text/x-python",
   "name": "python",
   "nbconvert_exporter": "python",
   "pygments_lexer": "ipython3",
   "version": "3.11.1"
  }
 },
 "nbformat": 4,
 "nbformat_minor": 2
}
