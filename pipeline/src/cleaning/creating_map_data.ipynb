{
 "cells": [
  {
   "cell_type": "markdown",
   "metadata": {},
   "source": [
    "# EDA"
   ]
  },
  {
   "cell_type": "markdown",
   "metadata": {},
   "source": [
    "## 1. Load combined data"
   ]
  },
  {
   "cell_type": "code",
   "execution_count": 23,
   "metadata": {},
   "outputs": [],
   "source": [
    "# Standard imports\n",
    "from pathlib import Path\n",
    "import os\n",
    "import sys\n",
    "import time\n",
    "\n",
    "def print_project_root():\n",
    "    notebooks_dir = Path.cwd()\n",
    "\n",
    "    # Calculate the root directory of the project (go up three levels)\n",
    "    project_root = notebooks_dir.parent.parent.parent\n",
    "    print(f\"The root directory of the project is: {project_root}\")\n",
    "\n",
    "    if str(project_root) not in sys.path:\n",
    "        sys.path.append(str(project_root))\n",
    "\n",
    "print_project_root()\n",
    "\n",
    "# Suppress future warnings\n",
    "import warnings\n",
    "warnings.simplefilter(action='ignore', category=FutureWarning)\n",
    "\n",
    "# Third party imports\n",
    "from geopy.exc import  GeocoderTimedOut, GeocoderUnavailable\n",
    "from geopy.geocoders import Nominatim\n",
    "import pandas as pd\n",
    "\n",
    "# Local imports\n",
    "from pipeline.src._csv_utils import DataPathCleaningManager"
   ]
  },
  {
   "cell_type": "code",
   "execution_count": 24,
   "metadata": {},
   "outputs": [],
   "source": [
    "data_timeplace = os.getenv(\"MARKET_OFFERS_TIMEPLACE\")\n",
    "if data_timeplace is None:\n",
    "    raise ValueError(\"The environment variable MARKET_OFFERS_TIMEPLACE is not set.\")\n",
    "\n",
    "data_path_manager = DataPathCleaningManager(data_timeplace)\n",
    "\n",
    "combined_df = data_path_manager._load_cleaned_df(domain=\"combined\")\n",
    "combined_df.sample(5)"
   ]
  },
  {
   "cell_type": "code",
   "execution_count": 34,
   "metadata": {},
   "outputs": [
    {
     "data": {
      "text/plain": [
       "0"
      ]
     },
     "execution_count": 34,
     "metadata": {},
     "output_type": "execute_result"
    }
   ],
   "source": [
    "combined_df[('listing', 'link')].duplicated().sum()"
   ]
  },
  {
   "cell_type": "code",
   "execution_count": 36,
   "metadata": {},
   "outputs": [
    {
     "data": {
      "text/plain": [
       "1106"
      ]
     },
     "execution_count": 36,
     "metadata": {},
     "output_type": "execute_result"
    }
   ],
   "source": [
    "len(combined_df)"
   ]
  },
  {
   "cell_type": "markdown",
   "metadata": {},
   "source": [
    "## 2. Creating Map Data and saving it"
   ]
  },
  {
   "cell_type": "code",
   "execution_count": 53,
   "metadata": {},
   "outputs": [],
   "source": [
    "geolocator = Nominatim(user_agent=\"your_app_name\")\n",
    "\n",
    "def get_coordinates(address, attempt=1, max_attempts=3):\n",
    "    try:\n",
    "        location = geolocator.geocode(address, timeout=10)  # Increase timeout to 10 seconds\n",
    "        if location:\n",
    "            return (location.latitude, location.longitude)\n",
    "        else:\n",
    "            return (None, None)\n",
    "    except GeocoderTimedOut:\n",
    "        if attempt <= max_attempts:\n",
    "            time.sleep(1 * attempt)  # Exponential backoff\n",
    "            return get_coordinates(address, attempt + 1, max_attempts)\n",
    "        return (None, None)\n",
    "    except GeocoderUnavailable:\n",
    "        return (None, None)\n",
    "\n",
    "def add_geo_data_to_offers(df: pd.DataFrame):\n",
    "\n",
    "    df_temp = pd.DataFrame()\n",
    "    df_temp['complete_address'] = df[('location', 'complete_address')]\n",
    "    df_temp['city'] = df[('location', 'city')] + \", \" + df[('location', 'voivodeship')]\n",
    "    df_temp['price_total'] = df[('pricing', 'total_rent')]\n",
    "    df_temp['price'] = df[('pricing', 'price')]\n",
    "    df_temp['rent'] = df[('pricing', 'rent')]\n",
    "    df_temp['rent_sqm'] = df[('pricing', 'total_rent_sqm')]\n",
    "    df_temp['sqm'] = df[('size', 'square_meters')]\n",
    "    df_temp['is_furnished'] = df[('equipment', 'furniture')]\n",
    "\n",
    "    # Create unique address list\n",
    "    unique_addresses = df[('location', 'complete_address')].unique()\n",
    "    address_coords = {}\n",
    "\n",
    "    for address in unique_addresses:\n",
    "        coords = get_coordinates(address)\n",
    "        if coords == (None, None):\n",
    "            # If coordinates for the complete address are not found, try with city\n",
    "            city = df_temp[df_temp['complete_address'] == address]['city'].values[0]\n",
    "            coords = get_coordinates(city)\n",
    "        address_coords[address] = coords\n",
    "\n",
    "    # Map the coordinates back to the DataFrame\n",
    "    df_temp['coords'] = df_temp['complete_address'].map(address_coords)\n",
    "\n",
    "    return df_temp"
   ]
  },
  {
   "cell_type": "code",
   "execution_count": null,
   "metadata": {},
   "outputs": [],
   "source": [
    "map_df = add_geo_data_to_offers(combined_df) # Takes a while to run due to server requests latency\n",
    "data_path_manager.save_df(map_df, \"map\")"
   ]
  },
  {
   "cell_type": "code",
   "execution_count": 54,
   "metadata": {},
   "outputs": [],
   "source": [
    "map_df = data_path_manager.load_df(\"map\", is_cleaned=True)"
   ]
  },
  {
   "cell_type": "code",
   "execution_count": 55,
   "metadata": {},
   "outputs": [
    {
     "name": "stdout",
     "output_type": "stream",
     "text": [
      "Unique geo coordinates:\n"
     ]
    },
    {
     "data": {
      "text/plain": [
       "112"
      ]
     },
     "execution_count": 55,
     "metadata": {},
     "output_type": "execute_result"
    }
   ],
   "source": [
    "print(\"Unique geo coordinates:\")\n",
    "len(map_df['coords'].unique())"
   ]
  }
 ],
 "metadata": {
  "kernelspec": {
   "display_name": "Python 3",
   "language": "python",
   "name": "python3"
  },
  "language_info": {
   "codemirror_mode": {
    "name": "ipython",
    "version": 3
   },
   "file_extension": ".py",
   "mimetype": "text/x-python",
   "name": "python",
   "nbconvert_exporter": "python",
   "pygments_lexer": "ipython3",
   "version": "3.11.1"
  }
 },
 "nbformat": 4,
 "nbformat_minor": 2
}
