{
 "cells": [
  {
   "cell_type": "markdown",
   "metadata": {},
   "source": [
    "# EDA"
   ]
  },
  {
   "cell_type": "markdown",
   "metadata": {},
   "source": [
    "## 1. Load combined data"
   ]
  },
  {
   "cell_type": "code",
   "execution_count": 1,
   "metadata": {},
   "outputs": [
    {
     "name": "stdout",
     "output_type": "stream",
     "text": [
      "The root directory of the project is: d:\\UserData karol\\Documents\\Programming\\Data Science\\Data Engineering\\Rent comparisions\\Home Market Harvester\n"
     ]
    }
   ],
   "source": [
    "# Standard imports\n",
    "from pathlib import Path\n",
    "import sys\n",
    "import time\n",
    "\n",
    "def set_project_root():\n",
    "    notebooks_dir = Path.cwd()\n",
    "\n",
    "    # Calculate the root directory of the project (go up three levels)\n",
    "    project_root = notebooks_dir.parent.parent.parent\n",
    "\n",
    "    if str(project_root) not in sys.path:\n",
    "        print(f\"The root directory of the project is: {project_root}\")\n",
    "        sys.path.append(str(project_root))\n",
    "\n",
    "    return project_root\n",
    "\n",
    "project_root = set_project_root()\n",
    "\n",
    "# Suppress future warnings\n",
    "import warnings\n",
    "warnings.simplefilter(action='ignore', category=FutureWarning)\n",
    "\n",
    "# Third party imports\n",
    "from geopy.exc import  GeocoderTimedOut, GeocoderUnavailable\n",
    "from geopy.geocoders import Nominatim\n",
    "import pandas as pd\n",
    "\n",
    "# Local imports\n",
    "from pipeline.config._config_manager import ConfigManager\n",
    "from pipeline.src._csv_utils import DataPathCleaningManager"
   ]
  },
  {
   "cell_type": "code",
   "execution_count": 2,
   "metadata": {},
   "outputs": [],
   "source": [
    "config_file = ConfigManager(\"run_pipeline.conf\")\n",
    "TIMEPLACE = \"MARKET_OFFERS_TIMEPLACE\"\n",
    "data_timeplace = config_file.read_value(TIMEPLACE)\n",
    "if data_timeplace is None:\n",
    "    raise ValueError(F\"The configuration variable {TIMEPLACE} is not set.\")\n",
    "\n",
    "data_path_manager = DataPathCleaningManager(data_timeplace, project_root)\n",
    "\n",
    "combined_df = data_path_manager.load_df(domain=\"combined\", is_cleaned=True)\n"
   ]
  },
  {
   "cell_type": "code",
   "execution_count": 3,
   "metadata": {},
   "outputs": [],
   "source": [
    "if len(combined_df) < 5:\n",
    "    print(f\"The DataFrame has {len(combined_df)} rows.\")\n",
    "    combined_df.head()"
   ]
  },
  {
   "cell_type": "code",
   "execution_count": 4,
   "metadata": {},
   "outputs": [],
   "source": [
    "if len(combined_df) >= 5:\n",
    "    combined_df.sample(5).head()"
   ]
  },
  {
   "cell_type": "code",
   "execution_count": 5,
   "metadata": {},
   "outputs": [
    {
     "data": {
      "text/plain": [
       "0"
      ]
     },
     "execution_count": 5,
     "metadata": {},
     "output_type": "execute_result"
    }
   ],
   "source": [
    "combined_df[('listing', 'link')].duplicated().sum()"
   ]
  },
  {
   "cell_type": "code",
   "execution_count": 6,
   "metadata": {},
   "outputs": [
    {
     "data": {
      "text/plain": [
       "30"
      ]
     },
     "execution_count": 6,
     "metadata": {},
     "output_type": "execute_result"
    }
   ],
   "source": [
    "len(combined_df)"
   ]
  },
  {
   "cell_type": "markdown",
   "metadata": {},
   "source": [
    "## 2. Creating Map Data and saving it"
   ]
  },
  {
   "cell_type": "code",
   "execution_count": 7,
   "metadata": {},
   "outputs": [],
   "source": [
    "geolocator = Nominatim(user_agent=\"your_app_name\")\n",
    "\n",
    "def get_coordinates(address, attempt=1, max_attempts=3):\n",
    "    try:\n",
    "        location = geolocator.geocode(address, timeout=10)  # Increase timeout to 10 seconds\n",
    "        if location:\n",
    "            return (location.latitude, location.longitude)\n",
    "        else:\n",
    "            return (None, None)\n",
    "    except GeocoderTimedOut:\n",
    "        if attempt <= max_attempts:\n",
    "            time.sleep(1 * attempt)  # Exponential backoff\n",
    "            return get_coordinates(address, attempt + 1, max_attempts)\n",
    "        return (None, None)\n",
    "    except GeocoderUnavailable:\n",
    "        return (None, None)\n",
    "\n",
    "def add_geo_data_to_offers(df: pd.DataFrame):\n",
    "\n",
    "    df_temp = pd.DataFrame()\n",
    "    df_temp['complete_address'] = df[('location', 'complete_address')]\n",
    "    df_temp['city'] = df[('location', 'city')] + \", \" + df[('location', 'voivodeship')]\n",
    "    df_temp['price_total'] = df[('pricing', 'total_rent')]\n",
    "    df_temp['price'] = df[('pricing', 'price')]\n",
    "    df_temp['rent'] = df[('pricing', 'rent')]\n",
    "    df_temp['rent_sqm'] = df[('pricing', 'total_rent_sqm')]\n",
    "    df_temp['sqm'] = df[('size', 'square_meters')]\n",
    "    df_temp['is_furnished'] = df[('equipment', 'furniture')]\n",
    "\n",
    "    # Create unique address list\n",
    "    unique_addresses = df[('location', 'complete_address')].unique()\n",
    "    address_coords = {}\n",
    "\n",
    "    for address in unique_addresses:\n",
    "        coords = get_coordinates(address)\n",
    "        if coords == (None, None):\n",
    "            # If coordinates for the complete address are not found, try with city\n",
    "            city = df_temp[df_temp['complete_address'] == address]['city'].values[0]\n",
    "            coords = get_coordinates(city)\n",
    "        address_coords[address] = coords\n",
    "\n",
    "    # Map the coordinates back to the DataFrame\n",
    "    df_temp['coords'] = df_temp['complete_address'].map(address_coords)\n",
    "\n",
    "    return df_temp"
   ]
  },
  {
   "cell_type": "code",
   "execution_count": 8,
   "metadata": {},
   "outputs": [
    {
     "data": {
      "text/html": [
       "<div>\n",
       "<style scoped>\n",
       "    .dataframe tbody tr th:only-of-type {\n",
       "        vertical-align: middle;\n",
       "    }\n",
       "\n",
       "    .dataframe tbody tr th {\n",
       "        vertical-align: top;\n",
       "    }\n",
       "\n",
       "    .dataframe thead th {\n",
       "        text-align: right;\n",
       "    }\n",
       "</style>\n",
       "<table border=\"1\" class=\"dataframe\">\n",
       "  <thead>\n",
       "    <tr style=\"text-align: right;\">\n",
       "      <th></th>\n",
       "      <th>complete_address</th>\n",
       "      <th>city</th>\n",
       "      <th>price_total</th>\n",
       "      <th>price</th>\n",
       "      <th>rent</th>\n",
       "      <th>rent_sqm</th>\n",
       "      <th>sqm</th>\n",
       "      <th>is_furnished</th>\n",
       "      <th>coords</th>\n",
       "    </tr>\n",
       "  </thead>\n",
       "  <tbody>\n",
       "    <tr>\n",
       "      <th>0</th>\n",
       "      <td>ul. Obroki, Osiedle Witosa, Katowice, śląskie</td>\n",
       "      <td>Katowice, śląskie</td>\n",
       "      <td>3500.0</td>\n",
       "      <td>3500.0</td>\n",
       "      <td>NaN</td>\n",
       "      <td>70.00</td>\n",
       "      <td>50.0</td>\n",
       "      <td>True</td>\n",
       "      <td>(50.2576071, 19.0171456)</td>\n",
       "    </tr>\n",
       "    <tr>\n",
       "      <th>1</th>\n",
       "      <td>ul. Dobra, Dąb, Katowice, śląskie</td>\n",
       "      <td>Katowice, śląskie</td>\n",
       "      <td>2540.0</td>\n",
       "      <td>1900.0</td>\n",
       "      <td>640.0</td>\n",
       "      <td>56.44</td>\n",
       "      <td>45.0</td>\n",
       "      <td>False</td>\n",
       "      <td>(50.2576071, 19.0171456)</td>\n",
       "    </tr>\n",
       "    <tr>\n",
       "      <th>2</th>\n",
       "      <td>Śródmieście, Bytom, śląskie</td>\n",
       "      <td>Bytom, śląskie</td>\n",
       "      <td>1390.0</td>\n",
       "      <td>900.0</td>\n",
       "      <td>490.0</td>\n",
       "      <td>40.88</td>\n",
       "      <td>34.0</td>\n",
       "      <td>True</td>\n",
       "      <td>(50.3593826, 18.9223843)</td>\n",
       "    </tr>\n",
       "    <tr>\n",
       "      <th>3</th>\n",
       "      <td>ul. Kłodnicka 68, Ligota-Panewniki, Katowice, ...</td>\n",
       "      <td>Katowice, śląskie</td>\n",
       "      <td>2500.0</td>\n",
       "      <td>2500.0</td>\n",
       "      <td>NaN</td>\n",
       "      <td>52.08</td>\n",
       "      <td>48.0</td>\n",
       "      <td>True</td>\n",
       "      <td>(50.2576071, 19.0171456)</td>\n",
       "    </tr>\n",
       "    <tr>\n",
       "      <th>4</th>\n",
       "      <td>Dąb, Katowice, śląskie</td>\n",
       "      <td>Katowice, śląskie</td>\n",
       "      <td>2600.0</td>\n",
       "      <td>2600.0</td>\n",
       "      <td>NaN</td>\n",
       "      <td>59.09</td>\n",
       "      <td>44.0</td>\n",
       "      <td>False</td>\n",
       "      <td>(50.27602295, 18.99200291024328)</td>\n",
       "    </tr>\n",
       "  </tbody>\n",
       "</table>\n",
       "</div>"
      ],
      "text/plain": [
       "                                    complete_address               city  \\\n",
       "0      ul. Obroki, Osiedle Witosa, Katowice, śląskie  Katowice, śląskie   \n",
       "1                  ul. Dobra, Dąb, Katowice, śląskie  Katowice, śląskie   \n",
       "2                        Śródmieście, Bytom, śląskie     Bytom, śląskie   \n",
       "3  ul. Kłodnicka 68, Ligota-Panewniki, Katowice, ...  Katowice, śląskie   \n",
       "4                             Dąb, Katowice, śląskie  Katowice, śląskie   \n",
       "\n",
       "   price_total   price   rent  rent_sqm   sqm  is_furnished  \\\n",
       "0       3500.0  3500.0    NaN     70.00  50.0          True   \n",
       "1       2540.0  1900.0  640.0     56.44  45.0         False   \n",
       "2       1390.0   900.0  490.0     40.88  34.0          True   \n",
       "3       2500.0  2500.0    NaN     52.08  48.0          True   \n",
       "4       2600.0  2600.0    NaN     59.09  44.0         False   \n",
       "\n",
       "                             coords  \n",
       "0          (50.2576071, 19.0171456)  \n",
       "1          (50.2576071, 19.0171456)  \n",
       "2          (50.3593826, 18.9223843)  \n",
       "3          (50.2576071, 19.0171456)  \n",
       "4  (50.27602295, 18.99200291024328)  "
      ]
     },
     "execution_count": 8,
     "metadata": {},
     "output_type": "execute_result"
    }
   ],
   "source": [
    "map_df = add_geo_data_to_offers(combined_df) # Takes a while to run due to server requests latency\n",
    "map_df.head()"
   ]
  },
  {
   "cell_type": "code",
   "execution_count": 9,
   "metadata": {},
   "outputs": [
    {
     "name": "stdout",
     "output_type": "stream",
     "text": [
      "Saving schema to d:\\UserData karol\\Documents\\Programming\\Data Science\\Data Engineering\\Rent comparisions\\Home Market Harvester\\data\\cleaned\\2024_02_11_14_59_05_Mierzęcice__Będziński__Śląskie\\map_df_schema.json\n",
      "Saving CSV to d:\\UserData karol\\Documents\\Programming\\Data Science\\Data Engineering\\Rent comparisions\\Home Market Harvester\\data\\cleaned\\2024_02_11_14_59_05_Mierzęcice__Będziński__Śląskie\\map_df.csv\n"
     ]
    }
   ],
   "source": [
    "data_path_manager.save_df(map_df, \"map\")"
   ]
  },
  {
   "cell_type": "code",
   "execution_count": 10,
   "metadata": {},
   "outputs": [],
   "source": [
    "map_df = data_path_manager.load_df(\"map\", is_cleaned=True)"
   ]
  },
  {
   "cell_type": "code",
   "execution_count": 11,
   "metadata": {},
   "outputs": [
    {
     "name": "stdout",
     "output_type": "stream",
     "text": [
      "Unique geo coordinates:\n"
     ]
    },
    {
     "data": {
      "text/plain": [
       "19"
      ]
     },
     "execution_count": 11,
     "metadata": {},
     "output_type": "execute_result"
    }
   ],
   "source": [
    "print(\"Unique geo coordinates:\")\n",
    "len(map_df['coords'].unique())"
   ]
  }
 ],
 "metadata": {
  "kernelspec": {
   "display_name": "Python 3",
   "language": "python",
   "name": "python3"
  },
  "language_info": {
   "codemirror_mode": {
    "name": "ipython",
    "version": 3
   },
   "file_extension": ".py",
   "mimetype": "text/x-python",
   "name": "python",
   "nbconvert_exporter": "python",
   "pygments_lexer": "ipython3",
   "version": "3.11.1"
  }
 },
 "nbformat": 4,
 "nbformat_minor": 2
}
