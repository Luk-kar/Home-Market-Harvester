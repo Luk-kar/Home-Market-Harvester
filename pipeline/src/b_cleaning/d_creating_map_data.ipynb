{
 "cells": [
  {
   "cell_type": "markdown",
   "metadata": {},
   "source": [
    "# EDA"
   ]
  },
  {
   "cell_type": "markdown",
   "metadata": {},
   "source": [
    "## 1. Load combined data"
   ]
  },
  {
   "cell_type": "code",
   "execution_count": 1,
   "metadata": {},
   "outputs": [
    {
     "name": "stdout",
     "output_type": "stream",
     "text": [
      "The root directory of the project is: d:\\UserData karol\\Documents\\Programming\\Data Science\\Data Engineering\\Rent comparisions\\Home Market Harvester\n"
     ]
    }
   ],
   "source": [
    "# Standard imports\n",
    "from pathlib import Path\n",
    "import os\n",
    "import sys\n",
    "import time\n",
    "\n",
    "def set_project_root():\n",
    "    notebooks_dir = Path.cwd()\n",
    "\n",
    "    # Calculate the root directory of the project (go up three levels)\n",
    "    project_root = notebooks_dir.parent.parent.parent\n",
    "\n",
    "    if str(project_root) not in sys.path:\n",
    "        print(f\"The root directory of the project is: {project_root}\")\n",
    "        sys.path.append(str(project_root))\n",
    "\n",
    "    return project_root\n",
    "\n",
    "project_root = set_project_root()\n",
    "\n",
    "# Suppress future warnings\n",
    "import warnings\n",
    "warnings.simplefilter(action='ignore', category=FutureWarning)\n",
    "\n",
    "# Third party imports\n",
    "from geopy.exc import  GeocoderTimedOut, GeocoderUnavailable\n",
    "from geopy.geocoders import Nominatim\n",
    "import pandas as pd\n",
    "\n",
    "# Local imports\n",
    "from pipeline.config._config_manager import ConfigManager\n",
    "from pipeline.src._csv_utils import DataPathCleaningManager"
   ]
  },
  {
   "cell_type": "code",
   "execution_count": 2,
   "metadata": {},
   "outputs": [],
   "source": [
    "config_file = ConfigManager(\"run_pipeline.conf\")\n",
    "TIMEPLACE = \"MARKET_OFFERS_TIMEPLACE\"\n",
    "data_timeplace = config_file.read_value(TIMEPLACE)\n",
    "if data_timeplace is None:\n",
    "    raise ValueError(F\"The configuration variable {TIMEPLACE} is not set.\")\n",
    "\n",
    "data_path_manager = DataPathCleaningManager(data_timeplace, project_root)\n",
    "\n",
    "combined_df = data_path_manager.load_df(domain=\"combined\", is_cleaned=True)\n"
   ]
  },
  {
   "cell_type": "code",
   "execution_count": 3,
   "metadata": {},
   "outputs": [],
   "source": [
    "if len(combined_df) < 5:\n",
    "    print(f\"The DataFrame has {len(combined_df)} rows.\")\n",
    "    combined_df.head()"
   ]
  },
  {
   "cell_type": "code",
   "execution_count": 4,
   "metadata": {},
   "outputs": [],
   "source": [
    "if len(combined_df) >= 5:\n",
    "    combined_df.sample(5).head()"
   ]
  },
  {
   "cell_type": "code",
   "execution_count": 5,
   "metadata": {},
   "outputs": [
    {
     "data": {
      "text/plain": [
       "0"
      ]
     },
     "execution_count": 5,
     "metadata": {},
     "output_type": "execute_result"
    }
   ],
   "source": [
    "combined_df[('listing', 'link')].duplicated().sum()"
   ]
  },
  {
   "cell_type": "code",
   "execution_count": 6,
   "metadata": {},
   "outputs": [
    {
     "data": {
      "text/plain": [
       "10"
      ]
     },
     "execution_count": 6,
     "metadata": {},
     "output_type": "execute_result"
    }
   ],
   "source": [
    "len(combined_df)"
   ]
  },
  {
   "cell_type": "markdown",
   "metadata": {},
   "source": [
    "## 2. Creating Map Data and saving it"
   ]
  },
  {
   "cell_type": "code",
   "execution_count": 7,
   "metadata": {},
   "outputs": [],
   "source": [
    "geolocator = Nominatim(user_agent=\"your_app_name\")\n",
    "\n",
    "def get_coordinates(address, attempt=1, max_attempts=3):\n",
    "    try:\n",
    "        location = geolocator.geocode(address, timeout=10)  # Increase timeout to 10 seconds\n",
    "        if location:\n",
    "            return (location.latitude, location.longitude)\n",
    "        else:\n",
    "            return (None, None)\n",
    "    except GeocoderTimedOut:\n",
    "        if attempt <= max_attempts:\n",
    "            time.sleep(1 * attempt)  # Exponential backoff\n",
    "            return get_coordinates(address, attempt + 1, max_attempts)\n",
    "        return (None, None)\n",
    "    except GeocoderUnavailable:\n",
    "        return (None, None)\n",
    "\n",
    "def add_geo_data_to_offers(df: pd.DataFrame):\n",
    "\n",
    "    df_temp = pd.DataFrame()\n",
    "    df_temp['complete_address'] = df[('location', 'complete_address')]\n",
    "    df_temp['city'] = df[('location', 'city')] + \", \" + df[('location', 'voivodeship')]\n",
    "    df_temp['price_total'] = df[('pricing', 'total_rent')]\n",
    "    df_temp['price'] = df[('pricing', 'price')]\n",
    "    df_temp['rent'] = df[('pricing', 'rent')]\n",
    "    df_temp['rent_sqm'] = df[('pricing', 'total_rent_sqm')]\n",
    "    df_temp['sqm'] = df[('size', 'square_meters')]\n",
    "    df_temp['is_furnished'] = df[('equipment', 'furniture')]\n",
    "\n",
    "    # Create unique address list\n",
    "    unique_addresses = df[('location', 'complete_address')].unique()\n",
    "    address_coords = {}\n",
    "\n",
    "    for address in unique_addresses:\n",
    "        coords = get_coordinates(address)\n",
    "        if coords == (None, None):\n",
    "            # If coordinates for the complete address are not found, try with city\n",
    "            city = df_temp[df_temp['complete_address'] == address]['city'].values[0]\n",
    "            coords = get_coordinates(city)\n",
    "        address_coords[address] = coords\n",
    "\n",
    "    # Map the coordinates back to the DataFrame\n",
    "    df_temp['coords'] = df_temp['complete_address'].map(address_coords)\n",
    "\n",
    "    return df_temp"
   ]
  },
  {
   "cell_type": "code",
   "execution_count": 8,
   "metadata": {},
   "outputs": [
    {
     "data": {
      "text/html": [
       "<div>\n",
       "<style scoped>\n",
       "    .dataframe tbody tr th:only-of-type {\n",
       "        vertical-align: middle;\n",
       "    }\n",
       "\n",
       "    .dataframe tbody tr th {\n",
       "        vertical-align: top;\n",
       "    }\n",
       "\n",
       "    .dataframe thead th {\n",
       "        text-align: right;\n",
       "    }\n",
       "</style>\n",
       "<table border=\"1\" class=\"dataframe\">\n",
       "  <thead>\n",
       "    <tr style=\"text-align: right;\">\n",
       "      <th></th>\n",
       "      <th>complete_address</th>\n",
       "      <th>city</th>\n",
       "      <th>price_total</th>\n",
       "      <th>price</th>\n",
       "      <th>rent</th>\n",
       "      <th>rent_sqm</th>\n",
       "      <th>sqm</th>\n",
       "      <th>is_furnished</th>\n",
       "      <th>coords</th>\n",
       "    </tr>\n",
       "  </thead>\n",
       "  <tbody>\n",
       "    <tr>\n",
       "      <th>0</th>\n",
       "      <td>ul. Władysława Przanowskiego 83, Ulrychów, Wol...</td>\n",
       "      <td>Warszawa, mazowieckie</td>\n",
       "      <td>3000.0</td>\n",
       "      <td>3000.0</td>\n",
       "      <td>NaN</td>\n",
       "      <td>83.33</td>\n",
       "      <td>36.0</td>\n",
       "      <td>True</td>\n",
       "      <td>(52.2337172, 21.071432235636493)</td>\n",
       "    </tr>\n",
       "    <tr>\n",
       "      <th>1</th>\n",
       "      <td>ul. Żeglugi Wiślanej, Kobiałka, Białołęka, War...</td>\n",
       "      <td>Warszawa, mazowieckie</td>\n",
       "      <td>2340.0</td>\n",
       "      <td>2340.0</td>\n",
       "      <td>NaN</td>\n",
       "      <td>45.88</td>\n",
       "      <td>51.0</td>\n",
       "      <td>True</td>\n",
       "      <td>(52.2337172, 21.071432235636493)</td>\n",
       "    </tr>\n",
       "    <tr>\n",
       "      <th>2</th>\n",
       "      <td>ul. Ostrobramska, Gocław, Praga-Południe, Wars...</td>\n",
       "      <td>Warszawa, mazowieckie</td>\n",
       "      <td>3201.0</td>\n",
       "      <td>3200.0</td>\n",
       "      <td>1.0</td>\n",
       "      <td>74.44</td>\n",
       "      <td>43.0</td>\n",
       "      <td>True</td>\n",
       "      <td>(52.2337172, 21.071432235636493)</td>\n",
       "    </tr>\n",
       "    <tr>\n",
       "      <th>3</th>\n",
       "      <td>ul. Erazma z Zakroczymia, Tarchomin, Białołęka...</td>\n",
       "      <td>Warszawa, mazowieckie</td>\n",
       "      <td>3000.0</td>\n",
       "      <td>3000.0</td>\n",
       "      <td>NaN</td>\n",
       "      <td>47.62</td>\n",
       "      <td>63.0</td>\n",
       "      <td>True</td>\n",
       "      <td>(52.2337172, 21.071432235636493)</td>\n",
       "    </tr>\n",
       "    <tr>\n",
       "      <th>4</th>\n",
       "      <td>Warszawa, Ursynów, Mazowieckie</td>\n",
       "      <td>Warszawa, Ursynów, Mazowieckie</td>\n",
       "      <td>2800.0</td>\n",
       "      <td>2100.0</td>\n",
       "      <td>700.0</td>\n",
       "      <td>93.33</td>\n",
       "      <td>30.0</td>\n",
       "      <td>True</td>\n",
       "      <td>(52.1103103, 20.9931266)</td>\n",
       "    </tr>\n",
       "  </tbody>\n",
       "</table>\n",
       "</div>"
      ],
      "text/plain": [
       "                                    complete_address  \\\n",
       "0  ul. Władysława Przanowskiego 83, Ulrychów, Wol...   \n",
       "1  ul. Żeglugi Wiślanej, Kobiałka, Białołęka, War...   \n",
       "2  ul. Ostrobramska, Gocław, Praga-Południe, Wars...   \n",
       "3  ul. Erazma z Zakroczymia, Tarchomin, Białołęka...   \n",
       "4                     Warszawa, Ursynów, Mazowieckie   \n",
       "\n",
       "                             city  price_total   price   rent  rent_sqm   sqm  \\\n",
       "0           Warszawa, mazowieckie       3000.0  3000.0    NaN     83.33  36.0   \n",
       "1           Warszawa, mazowieckie       2340.0  2340.0    NaN     45.88  51.0   \n",
       "2           Warszawa, mazowieckie       3201.0  3200.0    1.0     74.44  43.0   \n",
       "3           Warszawa, mazowieckie       3000.0  3000.0    NaN     47.62  63.0   \n",
       "4  Warszawa, Ursynów, Mazowieckie       2800.0  2100.0  700.0     93.33  30.0   \n",
       "\n",
       "   is_furnished                            coords  \n",
       "0          True  (52.2337172, 21.071432235636493)  \n",
       "1          True  (52.2337172, 21.071432235636493)  \n",
       "2          True  (52.2337172, 21.071432235636493)  \n",
       "3          True  (52.2337172, 21.071432235636493)  \n",
       "4          True          (52.1103103, 20.9931266)  "
      ]
     },
     "execution_count": 8,
     "metadata": {},
     "output_type": "execute_result"
    }
   ],
   "source": [
    "map_df = add_geo_data_to_offers(combined_df) # Takes a while to run due to server requests latency\n",
    "map_df.head()"
   ]
  },
  {
   "cell_type": "code",
   "execution_count": 9,
   "metadata": {},
   "outputs": [
    {
     "name": "stdout",
     "output_type": "stream",
     "text": [
      "Saving schema to d:\\UserData karol\\Documents\\Programming\\Data Science\\Data Engineering\\Rent comparisions\\Home Market Harvester\\data\\cleaned\\2024_02_09_11_45_45_Warszawa\\map_df_schema.json\n",
      "Saving CSV to d:\\UserData karol\\Documents\\Programming\\Data Science\\Data Engineering\\Rent comparisions\\Home Market Harvester\\data\\cleaned\\2024_02_09_11_45_45_Warszawa\\map_df.csv\n"
     ]
    }
   ],
   "source": [
    "data_path_manager.save_df(map_df, \"map\")"
   ]
  },
  {
   "cell_type": "code",
   "execution_count": 10,
   "metadata": {},
   "outputs": [],
   "source": [
    "map_df = data_path_manager.load_df(\"map\", is_cleaned=True)"
   ]
  },
  {
   "cell_type": "code",
   "execution_count": 11,
   "metadata": {},
   "outputs": [
    {
     "name": "stdout",
     "output_type": "stream",
     "text": [
      "Unique geo coordinates:\n"
     ]
    },
    {
     "data": {
      "text/plain": [
       "6"
      ]
     },
     "execution_count": 11,
     "metadata": {},
     "output_type": "execute_result"
    }
   ],
   "source": [
    "print(\"Unique geo coordinates:\")\n",
    "len(map_df['coords'].unique())"
   ]
  }
 ],
 "metadata": {
  "kernelspec": {
   "display_name": "Python 3",
   "language": "python",
   "name": "python3"
  },
  "language_info": {
   "codemirror_mode": {
    "name": "ipython",
    "version": 3
   },
   "file_extension": ".py",
   "mimetype": "text/x-python",
   "name": "python",
   "nbconvert_exporter": "python",
   "pygments_lexer": "ipython3",
   "version": "3.11.1"
  }
 },
 "nbformat": 4,
 "nbformat_minor": 2
}
