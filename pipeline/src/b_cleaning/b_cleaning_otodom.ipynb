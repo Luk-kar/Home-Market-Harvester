{
 "cells": [
  {
   "cell_type": "markdown",
   "metadata": {},
   "source": [
    "# Data Preview"
   ]
  },
  {
   "cell_type": "markdown",
   "metadata": {},
   "source": [
    "## 1. Set up"
   ]
  },
  {
   "cell_type": "code",
   "execution_count": 53,
   "metadata": {},
   "outputs": [],
   "source": [
    "# Standard imports\n",
    "from pathlib import Path\n",
    "import os\n",
    "import sys\n",
    "\n",
    "def set_project_root():\n",
    "    notebooks_dir = Path.cwd()\n",
    "\n",
    "    # Calculate the root directory of the project (go up three levels)\n",
    "    project_root = notebooks_dir.parent.parent.parent\n",
    "\n",
    "    if str(project_root) not in sys.path:\n",
    "        print(f\"The root directory of the project is: {project_root}\")\n",
    "        sys.path.append(str(project_root))\n",
    "\n",
    "    return project_root\n",
    "\n",
    "project_root = set_project_root()"
   ]
  },
  {
   "cell_type": "markdown",
   "metadata": {},
   "source": [
    "### 1.3 Importing Data"
   ]
  },
  {
   "cell_type": "code",
   "execution_count": 54,
   "metadata": {},
   "outputs": [],
   "source": [
    "# Third-party imports\n",
    "import numpy as np\n",
    "import pandas as pd\n",
    "\n",
    "# Local imports\n",
    "from pipeline.src._csv_utils import DataPathCleaningManager\n",
    "from pipeline.src._config import ConfigManager\n",
    "\n",
    "config_file = ConfigManager(\"run_pipeline.conf\")\n",
    "TIMEPLACE = \"MARKET_OFFERS_TIMEPLACE\"\n",
    "data_timeplace = config_file.read_value(TIMEPLACE)\n",
    "if data_timeplace is None:\n",
    "    raise ValueError(F\"The environment variable {TIMEPLACE} is not set.\")\n",
    "\n",
    "data_path_manager = DataPathCleaningManager(data_timeplace, project_root)\n",
    "\n",
    "df_otodom = data_path_manager.load_df(domain=\"otodom\", is_cleaned=False)"
   ]
  },
  {
   "cell_type": "markdown",
   "metadata": {},
   "source": [
    "### 1.2 Functions"
   ]
  },
  {
   "cell_type": "code",
   "execution_count": 55,
   "metadata": {},
   "outputs": [],
   "source": [
    "def count_and_percentage(df, column_name):\n",
    "    \"\"\"\n",
    "    Function to calculate the count and percentage of unique values in a given column of a DataFrame.\n",
    "\n",
    "    Parameters:\n",
    "    df (pandas.DataFrame): The DataFrame to analyze.\n",
    "    column_name (str): The name of the column in the DataFrame.\n",
    "\n",
    "    Returns:\n",
    "    pandas.DataFrame: A DataFrame with the count and percentage of each unique value in the specified column.\n",
    "\n",
    "    Raises:\n",
    "    ValueError: If the specified column is not found in the DataFrame.\n",
    "    \"\"\"\n",
    "    # Check if the column exists in the DataFrame\n",
    "    if column_name not in df.columns:\n",
    "        raise ValueError(f\"Column '{column_name}' not found in DataFrame.\")\n",
    "\n",
    "    # Calculate count and normalized values\n",
    "    count = df[column_name].value_counts(dropna=False)\n",
    "    normalized = df[column_name].value_counts(dropna=False, normalize=True) * 100\n",
    "\n",
    "    # Concatenate count and normalized values side by side\n",
    "    result = pd.concat([count, normalized], axis=1)\n",
    "    result.columns = ['Count', 'Percentage']\n",
    "\n",
    "    return result"
   ]
  },
  {
   "cell_type": "code",
   "execution_count": 56,
   "metadata": {},
   "outputs": [],
   "source": [
    "def count_comma_separated_values(df, column_name):\n",
    "    \"\"\"\n",
    "    Counts the occurrences of individual elements in a comma-separated string column of a DataFrame.\n",
    "\n",
    "    Parameters:\n",
    "    df (pandas.DataFrame): The DataFrame containing the column.\n",
    "    column_name (str): The name of the column to analyze.\n",
    "\n",
    "    Returns:\n",
    "    pandas.DataFrame: A DataFrame with the count and percentage of each unique element found in the comma-separated values.\n",
    "\n",
    "    Raises:\n",
    "    ValueError: If the specified column is not found in the DataFrame.\n",
    "    \"\"\"\n",
    "    # Check if the column exists in the DataFrame\n",
    "    if column_name not in df.columns:\n",
    "        raise ValueError(f\"Column '{column_name}' not found in DataFrame.\")\n",
    "\n",
    "    # Split the column values, explode to individual elements, and count\n",
    "    exploded_items = df[column_name].dropna().str.split(', ').explode()\n",
    "    exploded_df = pd.DataFrame({column_name: exploded_items})\n",
    "    counts_and_percent = count_and_percentage(exploded_df, column_name)\n",
    "\n",
    "    return counts_and_percent"
   ]
  },
  {
   "cell_type": "code",
   "execution_count": 57,
   "metadata": {},
   "outputs": [],
   "source": [
    "def remove_non_numeric_characters(df, column_name):\n",
    "    \"\"\"\n",
    "    Removes all non-numeric characters from a column of a DataFrame.\n",
    "\n",
    "    Parameters:\n",
    "    df (pandas.DataFrame): The DataFrame containing the column.\n",
    "    column_name (str): The name of the column to analyze.\n",
    "\n",
    "    Returns:\n",
    "    pandas.DataFrame: A DataFrame with all non-numeric characters removed from the specified column.\n",
    "\n",
    "    Raises:\n",
    "    ValueError: If the specified column is not found in the DataFrame.\n",
    "    \"\"\"\n",
    "\n",
    "    return df[column_name].str.replace('[^a-zA-Z]', '', regex=True).unique()"
   ]
  },
  {
   "cell_type": "code",
   "execution_count": 58,
   "metadata": {},
   "outputs": [],
   "source": [
    "def count_words(text):\n",
    "    if pd.isna(text):\n",
    "        return 0\n",
    "    return len(str(text).split())\n"
   ]
  },
  {
   "cell_type": "markdown",
   "metadata": {},
   "source": [
    "## 2. Data preview"
   ]
  },
  {
   "cell_type": "markdown",
   "metadata": {},
   "source": [
    "### Otodom"
   ]
  },
  {
   "cell_type": "markdown",
   "metadata": {},
   "source": [
    "#### 2.2.1 Cleaning data"
   ]
  },
  {
   "cell_type": "code",
   "execution_count": 59,
   "metadata": {},
   "outputs": [],
   "source": [
    "def clean_otodom_data(df: pd.DataFrame):\n",
    "\n",
    "    # 1. Split 'location' into street, city, and voivodeship\n",
    "    df['location_split'] = df['location'].str.split(', ')\n",
    "    df['street'] = df['location_split'].apply(lambda x: x[0] if len(x) > 2 else None)\n",
    "    df['city'] = df['location_split'].apply(lambda x: x[-2] if len(x) > 1 else None)\n",
    "    df['voivodeship'] = df['location_split'].apply(lambda x: x[-1] if x else None)\n",
    "\n",
    "    # Drop the temporary 'location_split' column\n",
    "    df.drop(columns=['location_split'], inplace=True)\n",
    "\n",
    "    # 2. Convert 'price' into float\n",
    "    df['price'] = df['price'].str.replace(' ', '').str.extract('(\\d+)')[0]\n",
    "    df['price'] = pd.to_numeric(df['price'], errors='coerce')\n",
    "    df['price'] = df['price'].astype('float64')\n",
    "\n",
    "    # Extract and convert 'square_meters' into integers\n",
    "    df['square_meters'] = df['square_meters'].str.extract('(\\d+)')[0].astype('float64')\n",
    "\n",
    "    # Extract and convert 'rent' into float\n",
    "    df['rent'] = df['rent'].str.extract('(\\d+)')[0]\n",
    "    df['rent'] = pd.to_numeric(df['rent'], errors='coerce').astype('float64')\n",
    "    df['total_rent'] = df['rent'].add(df['price'], fill_value=0).astype('float64')\n",
    "\n",
    "    # Extract and convert 'deposit' into float\n",
    "    df['deposit'] = df['deposit'].str.replace(' ', '').str.extract('(\\d+)')[0]\n",
    "    df['deposit'] = pd.to_numeric(df['deposit'], errors='coerce').astype('float64')\n",
    "\n",
    "    # Convert 'number_of_rooms' into an integer, special handling for \"Kawalerka\"\n",
    "    df['number_of_rooms'] = df['number_of_rooms'].astype('Int64')\n",
    "\n",
    "    # Extract and clean 'floor_level'\n",
    "    df_split = df['floor_level'].str.split('/', expand=True)\n",
    "    df_split[0] = df_split[0].replace({'parter': 0, 'suterena': -1, '> 10': 11})\n",
    "\n",
    "    poddasze_rows = df_split[0] == 'poddasze'\n",
    "    df_split.loc[poddasze_rows, 0] = (df_split.loc[poddasze_rows, 1].fillna(0).astype(int) + 1).astype(str)\n",
    "\n",
    "    df['attic'] = df_split[0] == 'poddasze'\n",
    "    df['floor'] = pd.to_numeric(df_split[0], errors='coerce')\n",
    "    df['floor'] = df['floor'].astype('Int64')\n",
    "    df['building_floors'] = pd.to_numeric(df_split[1], errors='coerce')\n",
    "    df['building_floors'] = df['building_floors'].astype('Int64')\n",
    "    \n",
    "    del df['floor_level']\n",
    "\n",
    "    # Convert 'elevator' and 'parking_space' into boolean values\n",
    "    df['elevator'] = df['elevator'].map({'tak': True, 'nie': False}).astype('boolean')\n",
    "\n",
    "    df['parking_space'] = df['parking_space'].map({'garaż/miejsce parkingowe': True, 'brak informacji': False}).astype('boolean')\n",
    "    \n",
    "    # Convert 'build_year' into integers\n",
    "    df['build_year'] = pd.to_numeric(df['build_year'], errors='coerce').astype('Int64')\n",
    "\n",
    "    # todo create master columns for subcolumns\n",
    "    # 3. Explode 'equipment', 'media_types', 'heating', 'security', 'windows', 'building_materials', 'additional_information' into boolean categories\n",
    "    def explode_and_get_dummies(column_name):\n",
    "        return df[column_name].str.get_dummies(sep=', ')\n",
    "    \n",
    "    to_explode = ['equipment', 'media_types', 'heating', 'security', 'windows', 'balcony_garden_terrace', 'building_material', 'additional_information']\n",
    "\n",
    "    for column in to_explode:\n",
    "        df = df.join(explode_and_get_dummies(column).add_prefix(f\"{column}_\"))\n",
    "\n",
    "    for column in to_explode:\n",
    "        del df[column]\n",
    "\n",
    "    return df\n"
   ]
  },
  {
   "cell_type": "code",
   "execution_count": 60,
   "metadata": {},
   "outputs": [
    {
     "data": {
      "text/html": [
       "<div>\n",
       "<style scoped>\n",
       "    .dataframe tbody tr th:only-of-type {\n",
       "        vertical-align: middle;\n",
       "    }\n",
       "\n",
       "    .dataframe tbody tr th {\n",
       "        vertical-align: top;\n",
       "    }\n",
       "\n",
       "    .dataframe thead th {\n",
       "        text-align: right;\n",
       "    }\n",
       "</style>\n",
       "<table border=\"1\" class=\"dataframe\">\n",
       "  <thead>\n",
       "    <tr style=\"text-align: right;\">\n",
       "      <th></th>\n",
       "      <th>link</th>\n",
       "      <th>title</th>\n",
       "      <th>location</th>\n",
       "      <th>price</th>\n",
       "      <th>summary_description</th>\n",
       "      <th>square_meters</th>\n",
       "      <th>rent</th>\n",
       "      <th>number_of_rooms</th>\n",
       "      <th>deposit</th>\n",
       "      <th>building_type</th>\n",
       "      <th>...</th>\n",
       "      <th>security_monitoring / ochrona</th>\n",
       "      <th>security_teren zamknięty</th>\n",
       "      <th>windows_drewniane</th>\n",
       "      <th>windows_plastikowe</th>\n",
       "      <th>balcony_garden_terrace_balkon</th>\n",
       "      <th>building_material_cegła</th>\n",
       "      <th>building_material_żelbet</th>\n",
       "      <th>additional_information_brak informacji</th>\n",
       "      <th>additional_information_oddzielna kuchnia</th>\n",
       "      <th>additional_information_tylko dla niepalących</th>\n",
       "    </tr>\n",
       "  </thead>\n",
       "  <tbody>\n",
       "    <tr>\n",
       "      <th>0</th>\n",
       "      <td>https://www.otodom.pl/pl/oferta/bezposrednio-w...</td>\n",
       "      <td>BEZPOŚREDNIO, wola, 2 pokojowe</td>\n",
       "      <td>ul. Władysława Przanowskiego 83, Ulrychów, Wol...</td>\n",
       "      <td>3000.0</td>\n",
       "      <td>Wynajmę bezpośrednio mieszkanie w Warszawie pr...</td>\n",
       "      <td>36.0</td>\n",
       "      <td>NaN</td>\n",
       "      <td>2</td>\n",
       "      <td>NaN</td>\n",
       "      <td>blok</td>\n",
       "      <td>...</td>\n",
       "      <td>0</td>\n",
       "      <td>0</td>\n",
       "      <td>1</td>\n",
       "      <td>0</td>\n",
       "      <td>1</td>\n",
       "      <td>1</td>\n",
       "      <td>0</td>\n",
       "      <td>1</td>\n",
       "      <td>0</td>\n",
       "      <td>0</td>\n",
       "    </tr>\n",
       "    <tr>\n",
       "      <th>1</th>\n",
       "      <td>https://www.otodom.pl/pl/oferta/ciche-52m2przy...</td>\n",
       "      <td>Ciche 52m2przy kanale żerańskim - Bez Prowizj</td>\n",
       "      <td>ul. Żeglugi Wiślanej, Kobiałka, Białołęka, War...</td>\n",
       "      <td>2340.0</td>\n",
       "      <td>Zamieszkaj w ciszy i dobrym standardzie\\n\\n   ...</td>\n",
       "      <td>51.0</td>\n",
       "      <td>NaN</td>\n",
       "      <td>2</td>\n",
       "      <td>2940.0</td>\n",
       "      <td>blok</td>\n",
       "      <td>...</td>\n",
       "      <td>1</td>\n",
       "      <td>1</td>\n",
       "      <td>0</td>\n",
       "      <td>1</td>\n",
       "      <td>1</td>\n",
       "      <td>1</td>\n",
       "      <td>0</td>\n",
       "      <td>0</td>\n",
       "      <td>1</td>\n",
       "      <td>1</td>\n",
       "    </tr>\n",
       "    <tr>\n",
       "      <th>2</th>\n",
       "      <td>https://www.otodom.pl/pl/oferta/rezerwacja-m2-...</td>\n",
       "      <td>REZERWACJA - M2 44m2 | Balkon | Garaż | Praga ...</td>\n",
       "      <td>ul. Ostrobramska, Gocław, Praga-Południe, Wars...</td>\n",
       "      <td>3200.0</td>\n",
       "      <td>REZERWACJA!!!\\n\\nOferuję do wynajęcia dwupokoj...</td>\n",
       "      <td>43.0</td>\n",
       "      <td>1.0</td>\n",
       "      <td>2</td>\n",
       "      <td>3200.0</td>\n",
       "      <td>blok</td>\n",
       "      <td>...</td>\n",
       "      <td>1</td>\n",
       "      <td>1</td>\n",
       "      <td>0</td>\n",
       "      <td>1</td>\n",
       "      <td>1</td>\n",
       "      <td>0</td>\n",
       "      <td>1</td>\n",
       "      <td>0</td>\n",
       "      <td>1</td>\n",
       "      <td>0</td>\n",
       "    </tr>\n",
       "    <tr>\n",
       "      <th>3</th>\n",
       "      <td>https://www.otodom.pl/pl/oferta/3-oddzielne-po...</td>\n",
       "      <td>3 oddzielne pok. - Park Picassa - Bez prowizji</td>\n",
       "      <td>ul. Erazma z Zakroczymia, Tarchomin, Białołęka...</td>\n",
       "      <td>3000.0</td>\n",
       "      <td>Zamieszkaj w ciszy w dobrym standardzie na pon...</td>\n",
       "      <td>63.0</td>\n",
       "      <td>NaN</td>\n",
       "      <td>3</td>\n",
       "      <td>3550.0</td>\n",
       "      <td>blok</td>\n",
       "      <td>...</td>\n",
       "      <td>0</td>\n",
       "      <td>0</td>\n",
       "      <td>0</td>\n",
       "      <td>1</td>\n",
       "      <td>1</td>\n",
       "      <td>1</td>\n",
       "      <td>0</td>\n",
       "      <td>0</td>\n",
       "      <td>1</td>\n",
       "      <td>1</td>\n",
       "    </tr>\n",
       "  </tbody>\n",
       "</table>\n",
       "<p>4 rows × 47 columns</p>\n",
       "</div>"
      ],
      "text/plain": [
       "                                                link  \\\n",
       "0  https://www.otodom.pl/pl/oferta/bezposrednio-w...   \n",
       "1  https://www.otodom.pl/pl/oferta/ciche-52m2przy...   \n",
       "2  https://www.otodom.pl/pl/oferta/rezerwacja-m2-...   \n",
       "3  https://www.otodom.pl/pl/oferta/3-oddzielne-po...   \n",
       "\n",
       "                                               title  \\\n",
       "0                     BEZPOŚREDNIO, wola, 2 pokojowe   \n",
       "1      Ciche 52m2przy kanale żerańskim - Bez Prowizj   \n",
       "2  REZERWACJA - M2 44m2 | Balkon | Garaż | Praga ...   \n",
       "3     3 oddzielne pok. - Park Picassa - Bez prowizji   \n",
       "\n",
       "                                            location   price  \\\n",
       "0  ul. Władysława Przanowskiego 83, Ulrychów, Wol...  3000.0   \n",
       "1  ul. Żeglugi Wiślanej, Kobiałka, Białołęka, War...  2340.0   \n",
       "2  ul. Ostrobramska, Gocław, Praga-Południe, Wars...  3200.0   \n",
       "3  ul. Erazma z Zakroczymia, Tarchomin, Białołęka...  3000.0   \n",
       "\n",
       "                                 summary_description  square_meters  rent  \\\n",
       "0  Wynajmę bezpośrednio mieszkanie w Warszawie pr...           36.0   NaN   \n",
       "1  Zamieszkaj w ciszy i dobrym standardzie\\n\\n   ...           51.0   NaN   \n",
       "2  REZERWACJA!!!\\n\\nOferuję do wynajęcia dwupokoj...           43.0   1.0   \n",
       "3  Zamieszkaj w ciszy w dobrym standardzie na pon...           63.0   NaN   \n",
       "\n",
       "   number_of_rooms  deposit building_type  ... security_monitoring / ochrona  \\\n",
       "0                2      NaN          blok  ...                             0   \n",
       "1                2   2940.0          blok  ...                             1   \n",
       "2                2   3200.0          blok  ...                             1   \n",
       "3                3   3550.0          blok  ...                             0   \n",
       "\n",
       "  security_teren zamknięty windows_drewniane windows_plastikowe  \\\n",
       "0                        0                 1                  0   \n",
       "1                        1                 0                  1   \n",
       "2                        1                 0                  1   \n",
       "3                        0                 0                  1   \n",
       "\n",
       "  balcony_garden_terrace_balkon  building_material_cegła  \\\n",
       "0                             1                        1   \n",
       "1                             1                        1   \n",
       "2                             1                        0   \n",
       "3                             1                        1   \n",
       "\n",
       "   building_material_żelbet  additional_information_brak informacji  \\\n",
       "0                         0                                       1   \n",
       "1                         0                                       0   \n",
       "2                         1                                       0   \n",
       "3                         0                                       0   \n",
       "\n",
       "  additional_information_oddzielna kuchnia  \\\n",
       "0                                        0   \n",
       "1                                        1   \n",
       "2                                        1   \n",
       "3                                        1   \n",
       "\n",
       "  additional_information_tylko dla niepalących  \n",
       "0                                            0  \n",
       "1                                            1  \n",
       "2                                            0  \n",
       "3                                            1  \n",
       "\n",
       "[4 rows x 47 columns]"
      ]
     },
     "execution_count": 60,
     "metadata": {},
     "output_type": "execute_result"
    }
   ],
   "source": [
    "df_otodom_cleaned = clean_otodom_data(df_otodom)\n",
    "df_otodom_cleaned.head()"
   ]
  },
  {
   "cell_type": "code",
   "execution_count": 61,
   "metadata": {},
   "outputs": [
    {
     "data": {
      "text/plain": [
       "['link',\n",
       " 'title',\n",
       " 'location',\n",
       " 'price',\n",
       " 'summary_description',\n",
       " 'square_meters',\n",
       " 'rent',\n",
       " 'number_of_rooms',\n",
       " 'deposit',\n",
       " 'building_type',\n",
       " 'available_from',\n",
       " 'remote service',\n",
       " 'completion',\n",
       " 'ownership',\n",
       " 'rent_to_students',\n",
       " 'elevator',\n",
       " 'parking_space',\n",
       " 'build_year',\n",
       " 'street',\n",
       " 'city',\n",
       " 'voivodeship',\n",
       " 'total_rent',\n",
       " 'attic',\n",
       " 'floor',\n",
       " 'building_floors',\n",
       " 'equipment_kuchenka',\n",
       " 'equipment_lodówka',\n",
       " 'equipment_meble',\n",
       " 'equipment_piekarnik',\n",
       " 'equipment_pralka',\n",
       " 'equipment_zmywarka',\n",
       " 'media_types_brak informacji',\n",
       " 'media_types_internet',\n",
       " 'media_types_telewizja kablowa',\n",
       " 'heating_miejskie',\n",
       " 'security_brak informacji',\n",
       " 'security_domofon / wideofon',\n",
       " 'security_monitoring / ochrona',\n",
       " 'security_teren zamknięty',\n",
       " 'windows_drewniane',\n",
       " 'windows_plastikowe',\n",
       " 'balcony_garden_terrace_balkon',\n",
       " 'building_material_cegła',\n",
       " 'building_material_żelbet',\n",
       " 'additional_information_brak informacji',\n",
       " 'additional_information_oddzielna kuchnia',\n",
       " 'additional_information_tylko dla niepalących']"
      ]
     },
     "execution_count": 61,
     "metadata": {},
     "output_type": "execute_result"
    }
   ],
   "source": [
    "df_otodom_cleaned.columns.to_list()"
   ]
  },
  {
   "cell_type": "code",
   "execution_count": 62,
   "metadata": {},
   "outputs": [],
   "source": [
    "columns_order = [\n",
    "    'link', 'title', 'summary_description', 'remote service', \n",
    "    'price', 'rent', 'total_rent', 'deposit', \n",
    "    'location', 'street', 'city', 'voivodeship', \n",
    "    'square_meters', 'number_of_rooms', 'floor', 'attic', 'building_floors', \n",
    "    'available_from', 'completion', 'ownership', 'rent_to_students', \n",
    "    'building_type', 'build_year', \n",
    "    'elevator', 'parking_space', \n",
    "    'equipment_brak informacji', 'equipment_kuchenka', 'equipment_lodówka', 'equipment_meble', 'equipment_piekarnik', 'equipment_pralka', 'equipment_telewizor', 'equipment_zmywarka', \n",
    "    'media_types_brak informacji', 'media_types_internet', 'media_types_telefon', 'media_types_telewizja kablowa', \n",
    "    'heating_brak informacji', 'heating_elektryczne', 'heating_gazowe', 'heating_inne', 'heating_kotłownia', 'heating_miejskie', 'heating_piece kaflowe', \n",
    "    'security_brak informacji', 'security_domofon / wideofon', 'security_drzwi / okna antywłamaniowe', 'security_monitoring / ochrona', 'security_rolety antywłamaniowe', 'security_system alarmowy', 'security_teren zamknięty', \n",
    "    'windows_aluminiowe', 'windows_brak informacji', 'windows_drewniane', 'windows_plastikowe', \n",
    "    'building_material_beton', 'building_material_beton komórkowy', 'building_material_brak informacji', 'building_material_cegła', 'building_material_drewno', 'building_material_inne', 'building_material_keramzyt', 'building_material_pustak', 'building_material_silikat', 'building_material_wielka płyta', 'building_material_żelbet', \n",
    "    'additional_information_brak informacji', 'additional_information_dwupoziomowe', 'additional_information_klimatyzacja', 'additional_information_oddzielna kuchnia', 'additional_information_piwnica', 'additional_information_pom. użytkowe', 'additional_information_tylko dla niepalących'\n",
    "]\n",
    "\n",
    "# Add missing columns from columns_order with NaN values\n",
    "for column in columns_order:\n",
    "    if column not in df_otodom_cleaned.columns:\n",
    "        df_otodom_cleaned[column] = np.nan\n",
    "        \n",
    "df_otodom_cleaned = df_otodom_cleaned[columns_order]"
   ]
  },
  {
   "cell_type": "code",
   "execution_count": 63,
   "metadata": {},
   "outputs": [],
   "source": [
    "columns_multiindex = [\n",
    "    ('listing', 'link'),\n",
    "    ('listing', 'title'),\n",
    "    ('listing', 'summary_description'),\n",
    "    ('listing', 'remote_service'),\n",
    "    ('pricing', 'price'),\n",
    "    ('pricing', 'rent'),\n",
    "    ('pricing', 'total_rent'),\n",
    "    ('pricing', 'deposit'),\n",
    "    ('location', 'complete_address'),\n",
    "    ('location', 'street'),\n",
    "    ('location', 'city'),\n",
    "    ('location', 'voivodeship'),\n",
    "    ('size', 'square_meters'),\n",
    "    ('size', 'number_of_rooms'),\n",
    "    ('size', 'floor'),\n",
    "    ('size', 'attic'),\n",
    "    ('size', 'building_floors'),\n",
    "    ('legal_and_availability', 'available_from'),\n",
    "    ('legal_and_availability', 'completion'),\n",
    "    ('legal_and_availability', 'ownership'),\n",
    "    ('legal_and_availability', 'rent_to_students'),\n",
    "    ('type_and_year', 'building_type'),\n",
    "    ('type_and_year', 'build_year'),\n",
    "    ('amenities', 'elevator'),\n",
    "    ('amenities', 'parking_space'),\n",
    "    ('equipment', 'no_information'),\n",
    "    ('equipment', 'stove'),\n",
    "    ('equipment', 'fridge'),\n",
    "    ('equipment', 'furniture'),\n",
    "    ('equipment', 'oven'),\n",
    "    ('equipment', 'washing_machine'),\n",
    "    ('equipment', 'TV'),\n",
    "    ('equipment', 'dishwasher'),\n",
    "    ('media_types', 'no_information'),\n",
    "    ('media_types', 'internet'),\n",
    "    ('media_types', 'telephone'),\n",
    "    ('media_types', 'cable_TV'),\n",
    "    ('heating', 'no_information'),\n",
    "    ('heating', 'electric'),\n",
    "    ('heating', 'gas'),\n",
    "    ('heating', 'other'),\n",
    "    ('heating', 'boiler_room'),\n",
    "    ('heating', 'district'),\n",
    "    ('heating', 'tile_stove'),\n",
    "    ('security', 'no_information'),\n",
    "    ('security', 'intercom_or_video_intercom'),\n",
    "    ('security', 'anti_burglary_doors_or_windows'),\n",
    "    ('security', 'monitoring_or_security'),\n",
    "    ('security', 'anti_burglary_roller_blinds'),\n",
    "    ('security', 'alarm_system'),\n",
    "    ('security', 'enclosed_area'),\n",
    "    ('windows', 'aluminum'),\n",
    "    ('windows', 'no_information'),\n",
    "    ('windows', 'wooden'),\n",
    "    ('windows', 'plastic'),\n",
    "    ('building_material', 'concrete'),\n",
    "    ('building_material', 'aerated_concrete'),\n",
    "    ('building_material', 'no_information'),\n",
    "    ('building_material', 'brick'),\n",
    "    ('building_material', 'wood'),\n",
    "    ('building_material', 'other'),\n",
    "    ('building_material', 'lightweight_aggregate'),\n",
    "    ('building_material', 'hollow_brick'),\n",
    "    ('building_material', 'silicate'),\n",
    "    ('building_material', 'large_panel'),\n",
    "    ('building_material', 'reinforced_concrete'),\n",
    "    ('additional_information', 'no_information'),\n",
    "    ('additional_information', 'duplex'),\n",
    "    ('additional_information', 'air_conditioning'),\n",
    "    ('additional_information', 'separate_kitchen'),\n",
    "    ('additional_information', 'basement'),\n",
    "    ('additional_information', 'utility_room'),\n",
    "    ('additional_information', 'non_smokers_only')\n",
    "]\n",
    "\n",
    "multiindex = pd.MultiIndex.from_tuples(columns_multiindex, names=['Category', 'Subcategory'])\n",
    "df_otodom_cleaned.columns = multiindex"
   ]
  },
  {
   "cell_type": "code",
   "execution_count": 64,
   "metadata": {},
   "outputs": [
    {
     "data": {
      "text/html": [
       "<div>\n",
       "<style scoped>\n",
       "    .dataframe tbody tr th:only-of-type {\n",
       "        vertical-align: middle;\n",
       "    }\n",
       "\n",
       "    .dataframe tbody tr th {\n",
       "        vertical-align: top;\n",
       "    }\n",
       "\n",
       "    .dataframe thead tr th {\n",
       "        text-align: left;\n",
       "    }\n",
       "</style>\n",
       "<table border=\"1\" class=\"dataframe\">\n",
       "  <thead>\n",
       "    <tr>\n",
       "      <th>Category</th>\n",
       "      <th colspan=\"4\" halign=\"left\">listing</th>\n",
       "      <th colspan=\"4\" halign=\"left\">pricing</th>\n",
       "      <th colspan=\"2\" halign=\"left\">location</th>\n",
       "      <th>...</th>\n",
       "      <th colspan=\"3\" halign=\"left\">building_material</th>\n",
       "      <th colspan=\"7\" halign=\"left\">additional_information</th>\n",
       "    </tr>\n",
       "    <tr>\n",
       "      <th>Subcategory</th>\n",
       "      <th>link</th>\n",
       "      <th>title</th>\n",
       "      <th>summary_description</th>\n",
       "      <th>remote_service</th>\n",
       "      <th>price</th>\n",
       "      <th>rent</th>\n",
       "      <th>total_rent</th>\n",
       "      <th>deposit</th>\n",
       "      <th>complete_address</th>\n",
       "      <th>street</th>\n",
       "      <th>...</th>\n",
       "      <th>silicate</th>\n",
       "      <th>large_panel</th>\n",
       "      <th>reinforced_concrete</th>\n",
       "      <th>no_information</th>\n",
       "      <th>duplex</th>\n",
       "      <th>air_conditioning</th>\n",
       "      <th>separate_kitchen</th>\n",
       "      <th>basement</th>\n",
       "      <th>utility_room</th>\n",
       "      <th>non_smokers_only</th>\n",
       "    </tr>\n",
       "  </thead>\n",
       "  <tbody>\n",
       "    <tr>\n",
       "      <th>0</th>\n",
       "      <td>https://www.otodom.pl/pl/oferta/bezposrednio-w...</td>\n",
       "      <td>BEZPOŚREDNIO, wola, 2 pokojowe</td>\n",
       "      <td>Wynajmę bezpośrednio mieszkanie w Warszawie pr...</td>\n",
       "      <td>Obsługa zdalnaZapytaj</td>\n",
       "      <td>3000.0</td>\n",
       "      <td>NaN</td>\n",
       "      <td>3000.0</td>\n",
       "      <td>NaN</td>\n",
       "      <td>ul. Władysława Przanowskiego 83, Ulrychów, Wol...</td>\n",
       "      <td>ul. Władysława Przanowskiego 83</td>\n",
       "      <td>...</td>\n",
       "      <td>NaN</td>\n",
       "      <td>NaN</td>\n",
       "      <td>0</td>\n",
       "      <td>1</td>\n",
       "      <td>NaN</td>\n",
       "      <td>NaN</td>\n",
       "      <td>0</td>\n",
       "      <td>NaN</td>\n",
       "      <td>NaN</td>\n",
       "      <td>0</td>\n",
       "    </tr>\n",
       "    <tr>\n",
       "      <th>1</th>\n",
       "      <td>https://www.otodom.pl/pl/oferta/ciche-52m2przy...</td>\n",
       "      <td>Ciche 52m2przy kanale żerańskim - Bez Prowizj</td>\n",
       "      <td>Zamieszkaj w ciszy i dobrym standardzie\\n\\n   ...</td>\n",
       "      <td>Obsługa zdalnaZapytaj</td>\n",
       "      <td>2340.0</td>\n",
       "      <td>NaN</td>\n",
       "      <td>2340.0</td>\n",
       "      <td>2940.0</td>\n",
       "      <td>ul. Żeglugi Wiślanej, Kobiałka, Białołęka, War...</td>\n",
       "      <td>ul. Żeglugi Wiślanej</td>\n",
       "      <td>...</td>\n",
       "      <td>NaN</td>\n",
       "      <td>NaN</td>\n",
       "      <td>0</td>\n",
       "      <td>0</td>\n",
       "      <td>NaN</td>\n",
       "      <td>NaN</td>\n",
       "      <td>1</td>\n",
       "      <td>NaN</td>\n",
       "      <td>NaN</td>\n",
       "      <td>1</td>\n",
       "    </tr>\n",
       "    <tr>\n",
       "      <th>2</th>\n",
       "      <td>https://www.otodom.pl/pl/oferta/rezerwacja-m2-...</td>\n",
       "      <td>REZERWACJA - M2 44m2 | Balkon | Garaż | Praga ...</td>\n",
       "      <td>REZERWACJA!!!\\n\\nOferuję do wynajęcia dwupokoj...</td>\n",
       "      <td>Obsługa zdalnatak</td>\n",
       "      <td>3200.0</td>\n",
       "      <td>1.0</td>\n",
       "      <td>3201.0</td>\n",
       "      <td>3200.0</td>\n",
       "      <td>ul. Ostrobramska, Gocław, Praga-Południe, Wars...</td>\n",
       "      <td>ul. Ostrobramska</td>\n",
       "      <td>...</td>\n",
       "      <td>NaN</td>\n",
       "      <td>NaN</td>\n",
       "      <td>1</td>\n",
       "      <td>0</td>\n",
       "      <td>NaN</td>\n",
       "      <td>NaN</td>\n",
       "      <td>1</td>\n",
       "      <td>NaN</td>\n",
       "      <td>NaN</td>\n",
       "      <td>0</td>\n",
       "    </tr>\n",
       "    <tr>\n",
       "      <th>3</th>\n",
       "      <td>https://www.otodom.pl/pl/oferta/3-oddzielne-po...</td>\n",
       "      <td>3 oddzielne pok. - Park Picassa - Bez prowizji</td>\n",
       "      <td>Zamieszkaj w ciszy w dobrym standardzie na pon...</td>\n",
       "      <td>Obsługa zdalnaZapytaj</td>\n",
       "      <td>3000.0</td>\n",
       "      <td>NaN</td>\n",
       "      <td>3000.0</td>\n",
       "      <td>3550.0</td>\n",
       "      <td>ul. Erazma z Zakroczymia, Tarchomin, Białołęka...</td>\n",
       "      <td>ul. Erazma z Zakroczymia</td>\n",
       "      <td>...</td>\n",
       "      <td>NaN</td>\n",
       "      <td>NaN</td>\n",
       "      <td>0</td>\n",
       "      <td>0</td>\n",
       "      <td>NaN</td>\n",
       "      <td>NaN</td>\n",
       "      <td>1</td>\n",
       "      <td>NaN</td>\n",
       "      <td>NaN</td>\n",
       "      <td>1</td>\n",
       "    </tr>\n",
       "  </tbody>\n",
       "</table>\n",
       "<p>4 rows × 73 columns</p>\n",
       "</div>"
      ],
      "text/plain": [
       "Category                                               listing  \\\n",
       "Subcategory                                               link   \n",
       "0            https://www.otodom.pl/pl/oferta/bezposrednio-w...   \n",
       "1            https://www.otodom.pl/pl/oferta/ciche-52m2przy...   \n",
       "2            https://www.otodom.pl/pl/oferta/rezerwacja-m2-...   \n",
       "3            https://www.otodom.pl/pl/oferta/3-oddzielne-po...   \n",
       "\n",
       "Category                                                        \\\n",
       "Subcategory                                              title   \n",
       "0                               BEZPOŚREDNIO, wola, 2 pokojowe   \n",
       "1                Ciche 52m2przy kanale żerańskim - Bez Prowizj   \n",
       "2            REZERWACJA - M2 44m2 | Balkon | Garaż | Praga ...   \n",
       "3               3 oddzielne pok. - Park Picassa - Bez prowizji   \n",
       "\n",
       "Category                                                        \\\n",
       "Subcategory                                summary_description   \n",
       "0            Wynajmę bezpośrednio mieszkanie w Warszawie pr...   \n",
       "1            Zamieszkaj w ciszy i dobrym standardzie\\n\\n   ...   \n",
       "2            REZERWACJA!!!\\n\\nOferuję do wynajęcia dwupokoj...   \n",
       "3            Zamieszkaj w ciszy w dobrym standardzie na pon...   \n",
       "\n",
       "Category                           pricing                          \\\n",
       "Subcategory         remote_service   price rent total_rent deposit   \n",
       "0            Obsługa zdalnaZapytaj  3000.0  NaN     3000.0     NaN   \n",
       "1            Obsługa zdalnaZapytaj  2340.0  NaN     2340.0  2940.0   \n",
       "2                Obsługa zdalnatak  3200.0  1.0     3201.0  3200.0   \n",
       "3            Obsługa zdalnaZapytaj  3000.0  NaN     3000.0  3550.0   \n",
       "\n",
       "Category                                              location  \\\n",
       "Subcategory                                   complete_address   \n",
       "0            ul. Władysława Przanowskiego 83, Ulrychów, Wol...   \n",
       "1            ul. Żeglugi Wiślanej, Kobiałka, Białołęka, War...   \n",
       "2            ul. Ostrobramska, Gocław, Praga-Południe, Wars...   \n",
       "3            ul. Erazma z Zakroczymia, Tarchomin, Białołęka...   \n",
       "\n",
       "Category                                      ... building_material  \\\n",
       "Subcategory                           street  ...          silicate   \n",
       "0            ul. Władysława Przanowskiego 83  ...               NaN   \n",
       "1                       ul. Żeglugi Wiślanej  ...               NaN   \n",
       "2                           ul. Ostrobramska  ...               NaN   \n",
       "3                   ul. Erazma z Zakroczymia  ...               NaN   \n",
       "\n",
       "Category                                    additional_information         \\\n",
       "Subcategory large_panel reinforced_concrete         no_information duplex   \n",
       "0                   NaN                   0                      1    NaN   \n",
       "1                   NaN                   0                      0    NaN   \n",
       "2                   NaN                   1                      0    NaN   \n",
       "3                   NaN                   0                      0    NaN   \n",
       "\n",
       "Category                                                             \\\n",
       "Subcategory air_conditioning separate_kitchen basement utility_room   \n",
       "0                        NaN                0      NaN          NaN   \n",
       "1                        NaN                1      NaN          NaN   \n",
       "2                        NaN                1      NaN          NaN   \n",
       "3                        NaN                1      NaN          NaN   \n",
       "\n",
       "Category                      \n",
       "Subcategory non_smokers_only  \n",
       "0                          0  \n",
       "1                          1  \n",
       "2                          0  \n",
       "3                          1  \n",
       "\n",
       "[4 rows x 73 columns]"
      ]
     },
     "execution_count": 64,
     "metadata": {},
     "output_type": "execute_result"
    }
   ],
   "source": [
    "df_otodom_cleaned.head()"
   ]
  },
  {
   "cell_type": "code",
   "execution_count": 65,
   "metadata": {},
   "outputs": [
    {
     "data": {
      "text/plain": [
       "{('listing', 'link'): dtype('O'),\n",
       " ('listing', 'title'): dtype('O'),\n",
       " ('listing', 'summary_description'): dtype('O'),\n",
       " ('listing', 'remote_service'): dtype('O'),\n",
       " ('pricing', 'price'): dtype('float64'),\n",
       " ('pricing', 'rent'): dtype('float64'),\n",
       " ('pricing', 'total_rent'): dtype('float64'),\n",
       " ('pricing', 'deposit'): dtype('float64'),\n",
       " ('location', 'complete_address'): dtype('O'),\n",
       " ('location', 'street'): dtype('O'),\n",
       " ('location', 'city'): dtype('O'),\n",
       " ('location', 'voivodeship'): dtype('O'),\n",
       " ('size', 'square_meters'): dtype('float64'),\n",
       " ('size', 'number_of_rooms'): Int64Dtype(),\n",
       " ('size', 'floor'): Int64Dtype(),\n",
       " ('size', 'attic'): dtype('bool'),\n",
       " ('size', 'building_floors'): Int64Dtype(),\n",
       " ('legal_and_availability', 'available_from'): dtype('O'),\n",
       " ('legal_and_availability', 'completion'): dtype('O'),\n",
       " ('legal_and_availability', 'ownership'): dtype('O'),\n",
       " ('legal_and_availability', 'rent_to_students'): dtype('O'),\n",
       " ('type_and_year', 'building_type'): dtype('O'),\n",
       " ('type_and_year', 'build_year'): Int64Dtype(),\n",
       " ('amenities', 'elevator'): BooleanDtype,\n",
       " ('amenities', 'parking_space'): BooleanDtype,\n",
       " ('equipment', 'no_information'): dtype('float64'),\n",
       " ('equipment', 'stove'): dtype('int64'),\n",
       " ('equipment', 'fridge'): dtype('int64'),\n",
       " ('equipment', 'furniture'): dtype('int64'),\n",
       " ('equipment', 'oven'): dtype('int64'),\n",
       " ('equipment', 'washing_machine'): dtype('int64'),\n",
       " ('equipment', 'TV'): dtype('float64'),\n",
       " ('equipment', 'dishwasher'): dtype('int64'),\n",
       " ('media_types', 'no_information'): dtype('int64'),\n",
       " ('media_types', 'internet'): dtype('int64'),\n",
       " ('media_types', 'telephone'): dtype('float64'),\n",
       " ('media_types', 'cable_TV'): dtype('int64'),\n",
       " ('heating', 'no_information'): dtype('float64'),\n",
       " ('heating', 'electric'): dtype('float64'),\n",
       " ('heating', 'gas'): dtype('float64'),\n",
       " ('heating', 'other'): dtype('float64'),\n",
       " ('heating', 'boiler_room'): dtype('float64'),\n",
       " ('heating', 'district'): dtype('int64'),\n",
       " ('heating', 'tile_stove'): dtype('float64'),\n",
       " ('security', 'no_information'): dtype('int64'),\n",
       " ('security', 'intercom_or_video_intercom'): dtype('int64'),\n",
       " ('security', 'anti_burglary_doors_or_windows'): dtype('float64'),\n",
       " ('security', 'monitoring_or_security'): dtype('int64'),\n",
       " ('security', 'anti_burglary_roller_blinds'): dtype('float64'),\n",
       " ('security', 'alarm_system'): dtype('float64'),\n",
       " ('security', 'enclosed_area'): dtype('int64'),\n",
       " ('windows', 'aluminum'): dtype('float64'),\n",
       " ('windows', 'no_information'): dtype('float64'),\n",
       " ('windows', 'wooden'): dtype('int64'),\n",
       " ('windows', 'plastic'): dtype('int64'),\n",
       " ('building_material', 'concrete'): dtype('float64'),\n",
       " ('building_material', 'aerated_concrete'): dtype('float64'),\n",
       " ('building_material', 'no_information'): dtype('float64'),\n",
       " ('building_material', 'brick'): dtype('int64'),\n",
       " ('building_material', 'wood'): dtype('float64'),\n",
       " ('building_material', 'other'): dtype('float64'),\n",
       " ('building_material', 'lightweight_aggregate'): dtype('float64'),\n",
       " ('building_material', 'hollow_brick'): dtype('float64'),\n",
       " ('building_material', 'silicate'): dtype('float64'),\n",
       " ('building_material', 'large_panel'): dtype('float64'),\n",
       " ('building_material', 'reinforced_concrete'): dtype('int64'),\n",
       " ('additional_information', 'no_information'): dtype('int64'),\n",
       " ('additional_information', 'duplex'): dtype('float64'),\n",
       " ('additional_information', 'air_conditioning'): dtype('float64'),\n",
       " ('additional_information', 'separate_kitchen'): dtype('int64'),\n",
       " ('additional_information', 'basement'): dtype('float64'),\n",
       " ('additional_information', 'utility_room'): dtype('float64'),\n",
       " ('additional_information', 'non_smokers_only'): dtype('int64')}"
      ]
     },
     "execution_count": 65,
     "metadata": {},
     "output_type": "execute_result"
    }
   ],
   "source": [
    "df_otodom_cleaned.dtypes.to_dict()"
   ]
  },
  {
   "cell_type": "markdown",
   "metadata": {},
   "source": [
    "#### 2.2.2 Checking data"
   ]
  },
  {
   "cell_type": "markdown",
   "metadata": {},
   "source": [
    "##### Prices"
   ]
  },
  {
   "cell_type": "code",
   "execution_count": 66,
   "metadata": {},
   "outputs": [],
   "source": [
    "\n",
    "assert df_otodom_cleaned[[('pricing', 'price'), ('pricing', 'rent'), ('pricing', 'deposit')]].min().min() >= 0, \"Price, rent, or deposit contains negative values\""
   ]
  },
  {
   "cell_type": "code",
   "execution_count": 67,
   "metadata": {},
   "outputs": [
    {
     "data": {
      "text/plain": [
       "Category  Subcategory\n",
       "pricing   price          3200.0\n",
       "          rent              1.0\n",
       "          deposit        3550.0\n",
       "dtype: float64"
      ]
     },
     "execution_count": 67,
     "metadata": {},
     "output_type": "execute_result"
    }
   ],
   "source": [
    "df_otodom_cleaned[[('pricing', 'price'), ('pricing', 'rent'), ('pricing', 'deposit')]].max()"
   ]
  },
  {
   "cell_type": "code",
   "execution_count": 68,
   "metadata": {},
   "outputs": [],
   "source": [
    "def last_and_first_percentile(column_name, df):\n",
    "    \"\"\"\n",
    "    Returns the first and last percentile of a column in a DataFrame.\n",
    "\n",
    "    Parameters:\n",
    "    column_name (str): The name of the column to analyze.\n",
    "    df (pandas.DataFrame): The DataFrame containing the column.\n",
    "\n",
    "    Returns:\n",
    "    tuple: A tuple containing the first and last percentile of the column.\n",
    "    \"\"\"\n",
    "    return df[column_name].quantile([0.01, 0.99])"
   ]
  },
  {
   "cell_type": "code",
   "execution_count": 69,
   "metadata": {},
   "outputs": [
    {
     "data": {
      "text/plain": [
       "0.01    2359.8\n",
       "0.99    3194.0\n",
       "Name: (pricing, price), dtype: float64"
      ]
     },
     "execution_count": 69,
     "metadata": {},
     "output_type": "execute_result"
    }
   ],
   "source": [
    "last_and_first_percentile(('pricing', 'price'), df_otodom_cleaned)"
   ]
  },
  {
   "cell_type": "markdown",
   "metadata": {},
   "source": [
    "Quick look"
   ]
  },
  {
   "cell_type": "code",
   "execution_count": 70,
   "metadata": {},
   "outputs": [
    {
     "data": {
      "text/html": [
       "<div>\n",
       "<style scoped>\n",
       "    .dataframe tbody tr th:only-of-type {\n",
       "        vertical-align: middle;\n",
       "    }\n",
       "\n",
       "    .dataframe tbody tr th {\n",
       "        vertical-align: top;\n",
       "    }\n",
       "\n",
       "    .dataframe thead tr th {\n",
       "        text-align: left;\n",
       "    }\n",
       "</style>\n",
       "<table border=\"1\" class=\"dataframe\">\n",
       "  <thead>\n",
       "    <tr>\n",
       "      <th>Category</th>\n",
       "      <th colspan=\"3\" halign=\"left\">listing</th>\n",
       "      <th>pricing</th>\n",
       "      <th>location</th>\n",
       "    </tr>\n",
       "    <tr>\n",
       "      <th>Subcategory</th>\n",
       "      <th>link</th>\n",
       "      <th>title</th>\n",
       "      <th>summary_description</th>\n",
       "      <th>total_rent</th>\n",
       "      <th>city</th>\n",
       "    </tr>\n",
       "  </thead>\n",
       "  <tbody>\n",
       "    <tr>\n",
       "      <th>2</th>\n",
       "      <td>https://www.otodom.pl/pl/oferta/rezerwacja-m2-44m2-balkon-garaz-praga-pld-ID4oRGR.html</td>\n",
       "      <td>REZERWACJA - M2 44m2 | Balkon | Garaż | Praga Płd.</td>\n",
       "      <td>REZERWACJA!!!\\n\\nOferuję do wynajęcia dwupokojowe mieszkanie o powierzchni 43.9 m2 na osiedlu \"Trzy Wieże\" przy ul. Ostrobramskiej 83 na Pradze Południe. Budynek powstał w 2004 roku na zamkniętym osiedlu z ochroną i patio. Mieszkanie znajduje się na 4 piętrze.\\n\\nMieszkanie składa się z:\\n- korytarza z zabudowaną szafą i pawlaczem oraz z otwartą kuchnią. Kuchnia wyposażona w niezbędne AGD (lodówka, piekarnik, płyta indukcyjna, okap)\\n- sypialni z łóżkiem (materac 160cm) oraz szafą\\n- łazienki z kabiną prysznicową oraz pralką\\n- zamykanego salonu z sofą z wyjściem na balkon\\n\\nNa 3 piętrze znajdują się: sklep spożywczy, gabinet kosmetyczny, gabinet stomatologiczny, fryzjer oraz centrum rekreacji i fitness (basen, sauna, siłownia) tylko dla mieszkańców.\\n\\nPod blokiem przystanek autobusowy \"Zamieniecka\" z licznymi liniami autobusowymi. W pobliżu Centrum Handlowe Atrium Promenada.\\n\\nCena: 3200 zł + opłaty za prąd. Miejsce postojowe w garażu podziemnym na poziomie -1 w cenie. Kaucja w wysokości miesięcznego czynszu. Umowa najmu okazjonalnego na 12 miesięcy. Mieszkanie wolne od zaraz.\\n\\nBrak zgody na trzymanie zwierząt w mieszkaniu. Preferowani najemcy: single lub pary ze stałym zatrudnieniem.</td>\n",
       "      <td>3201.0</td>\n",
       "      <td>Warszawa</td>\n",
       "    </tr>\n",
       "    <tr>\n",
       "      <th>0</th>\n",
       "      <td>https://www.otodom.pl/pl/oferta/bezposrednio-wola-2-pokojowe-ID4oYsF.html</td>\n",
       "      <td>BEZPOŚREDNIO, wola, 2 pokojowe</td>\n",
       "      <td>Wynajmę bezpośrednio mieszkanie w Warszawie przy stacji Metra Ulrychów, okolice Wola Park.\\nMieszkanie po generalnym remoncie, świeże.\\nZlokalizowane na 2 piętrze w 3 piętrowym budynku.\\nWyposażone w meble, sprzęt AGD, nowe meble kuchenne.\\n\\nW pobliżu komunikacja miejska: metro Ulrychów, autobus; centrum handlowe Wola Park, szkoły, przedszkola, kino, basen...szybki dojazd do centrum miasta.\\n\\n\\nDo wynajęcia od zaraz.\\n\\nKoszt miesięczny wynajmu - 3 000 zł + opłaty za zużyte media ( zimna i ciepła woda, ogrzewanie, prąd, gaz, oplata śmieciowa)</td>\n",
       "      <td>3000.0</td>\n",
       "      <td>Warszawa</td>\n",
       "    </tr>\n",
       "    <tr>\n",
       "      <th>3</th>\n",
       "      <td>https://www.otodom.pl/pl/oferta/3-oddzielne-pok-park-picassa-bez-prowizji-ID4oclG.html</td>\n",
       "      <td>3 oddzielne pok. - Park Picassa - Bez prowizji</td>\n",
       "      <td>Zamieszkaj w ciszy w dobrym standardzie na ponad 63 m2\\n\\n         0% prowizji - Najemca nie ponosi żadnych dodatkowych kosztów.\\n\\n\\n \\nWarszawa* ul. Erazma z Zakroczymia 6 * Białołęka  - Tarchomin*  63,6 m2 *\\n3 pokoje  * 1 piętro / 10  z windą* wysoki standard * pełne wyposażenie * blok 1993 r\\n        \\n\\n\\n                  Co zyskasz wynajmując to mieszkanie?\\n \\n\\n\\n•   wysoki standard mieszkania – szykowane było na własne potrzeby dobrej jakości materiałami\\n•   pełne wyposażenie – możesz się wprowadzić bez żadnych inwestycji\\n•   ponad 63 m2 przestrzeni (salon + kuchnia + 2 sypialnie + łazienka +wc)\\n•   dobre warunki do gotowania, dzięki oddzielnej, w pełni wyposażonej kuchni z oknem\\n•   wygodne łóżko 160 x 200 cm\\n•   dużą ilość miejsca na przechowywanie ubrań, dzięki pojemnym szafom\\n•   duży balkon ok. 8m2 od cichej strony\\n•   współpracę bezprowizyjną – nie ponosisz żadnych kosztów\\n•   łatwość zaparkowania, dzięki dużej ilości ogólnodostępnych miejsc\\n•   możliwość korzystania z opcjonalnego serwisu sprzątającego\\n•   wszystkie niezbędne punkty usługowe w pobliżu ( CH Galeria Północna, piekarnia, cukiernia, bazarek, paczkomat, restauracje, sklepy spożywcze, drogeria, supermarkety)\\n•  idealną komunikację miejską (przystanek autobusowy Kamińskiego 02 i tramwajowy Tarchomin 05) 300 m od bloku\\n•   ciszę i spokój – dobre warunki do pracy zdalnej\\n•   właściciela, który dba o Twoje potrzeby i szanuje Twoją prywatność :)\\n \\n\\n\\n\\nIle inwestujesz?\\n\\n3000 zł + woda, prąd, ogrzewanie, śmieci ok. 550 zł /mc\\n\\nKaucja zwrotna: 3550 zł\\n\\n\\n\\nSzukamy osób pracujących, niepalących, bez zwierząt,  na okres minimum 12 miesięcy.\\n\\n\\nZainteresowany? Dzwoń w godzinach 11-19 od poniedziałku do piątku.\\n\\nSzymon , tel.: 794 383 111</td>\n",
       "      <td>3000.0</td>\n",
       "      <td>Warszawa</td>\n",
       "    </tr>\n",
       "    <tr>\n",
       "      <th>1</th>\n",
       "      <td>https://www.otodom.pl/pl/oferta/ciche-52m2przy-kanale-zeranskim-bez-prowizj-ID4oaVH.html</td>\n",
       "      <td>Ciche 52m2przy kanale żerańskim - Bez Prowizj</td>\n",
       "      <td>Zamieszkaj w ciszy i dobrym standardzie\\n\\n         0% prowizji - Najemca nie ponosi żadnych dodatkowych kosztów.\\n \\n\\nWarszawa* ul. Żeglugi Wiślanej 9 * Białołęka *  51,70 m2 * \\n2 pokoje  * 3 piętro / 3  bez windy * pełne wyposażenie * blok 2011 r\\n        \\n\\n\\n                   Co zyskasz wynajmując to mieszkanie?\\n \\n•   pełne wyposażenie mieszkania – możliwość wprowadzenia się bez żadnych inwestycji od zaraz\\n•   funkcjonalną przestrzeń (salon + osobna kuchnia + sypialnia + łazienka + balkon)\\n•   dobre warunki do gotowania, dzięki oddzielnej, w pełni wyposażonej kuchni z oknem\\n•   wygodne łóżko 160 x 200 cm\\n•   duży balkon ok. 9m2 od cichej strony osiedla z widokiem na warszawki Skyline \\n•   współpracę bezprowizyjną – nie ponosisz żadnych kosztów\\n•   wszystkie niezbędne punkty usługowe w pobliżu (sklep spożywczy, piekarnia, cukiernia, apteka, paczkomat)\\n•   przystanek autobusowy w pobliżu z bezpośrednim dojazdem do obu linii metra \\n•   tereny rekreacyjne i spacerowe na wyciągnięcie ręki\\n•   ciszę i spokój – dobre warunki do pracy zdalnej\\n •   wygodne, oświetlone miejsce parkingowe widoczne ze wszystkich okien w mieszkaniu \\n•   możliwość podłączenia szybkiego internetu 1 Gb/s u operatów Netia, Orange, Play (UPC) i JMDI\\n•   właściciela, który dba o Twoje potrzeby i szanuje Twoją prywatność :)\\n\\n\\nIle inwestujesz?\\n\\n2340 zł +200 zł /mc ( opcjonalne  miejsce parkingowe) woda, prąd, ogrzewanie, śmieci ok. 400 zł /mc\\n\\nKaucja zwrotna: 2940 zł\\n\\n\\n \\nSzukamy osób pracujących, niepalących, bez zwierząt,  na okres minimum 12 miesięcy.\\n\\n \\nZainteresowany? Dzwoń w godzinach 11-19 od poniedziałku do piątku.\\n\\nSzymon , tel.: 794 383 111</td>\n",
       "      <td>2340.0</td>\n",
       "      <td>Warszawa</td>\n",
       "    </tr>\n",
       "  </tbody>\n",
       "</table>\n",
       "</div>"
      ],
      "text/plain": [
       "Category                                                                                      listing  \\\n",
       "Subcategory                                                                                      link   \n",
       "2              https://www.otodom.pl/pl/oferta/rezerwacja-m2-44m2-balkon-garaz-praga-pld-ID4oRGR.html   \n",
       "0                           https://www.otodom.pl/pl/oferta/bezposrednio-wola-2-pokojowe-ID4oYsF.html   \n",
       "3              https://www.otodom.pl/pl/oferta/3-oddzielne-pok-park-picassa-bez-prowizji-ID4oclG.html   \n",
       "1            https://www.otodom.pl/pl/oferta/ciche-52m2przy-kanale-zeranskim-bez-prowizj-ID4oaVH.html   \n",
       "\n",
       "Category                                                         \\\n",
       "Subcategory                                               title   \n",
       "2            REZERWACJA - M2 44m2 | Balkon | Garaż | Praga Płd.   \n",
       "0                                BEZPOŚREDNIO, wola, 2 pokojowe   \n",
       "3                3 oddzielne pok. - Park Picassa - Bez prowizji   \n",
       "1                 Ciche 52m2przy kanale żerańskim - Bez Prowizj   \n",
       "\n",
       "Category                                                                                                                                                                                                                                                                                                                                                                                                                                                                                                                                                                                                                                                                                                                                                                                                                                                                                                                                                                                                                                                                                                                                                                                                                                                                                                                                                                                                                                                                                                                                                                                                                                                                                                                                                                                                                                        \\\n",
       "Subcategory                                                                                                                                                                                                                                                                                                                                                                                                                                                                                                                                                                                                                                                                                                                                                                                                                                                                                                                                                                                                                                                                                                                                                                                                                                                                                                                                                                                                                                                                                                                                                                                                                                                                                                                                                                                                                summary_description   \n",
       "2                                                                                                                                                                                                                                                                                                                                                                                                                                                                                                                                                                                    REZERWACJA!!!\\n\\nOferuję do wynajęcia dwupokojowe mieszkanie o powierzchni 43.9 m2 na osiedlu \"Trzy Wieże\" przy ul. Ostrobramskiej 83 na Pradze Południe. Budynek powstał w 2004 roku na zamkniętym osiedlu z ochroną i patio. Mieszkanie znajduje się na 4 piętrze.\\n\\nMieszkanie składa się z:\\n- korytarza z zabudowaną szafą i pawlaczem oraz z otwartą kuchnią. Kuchnia wyposażona w niezbędne AGD (lodówka, piekarnik, płyta indukcyjna, okap)\\n- sypialni z łóżkiem (materac 160cm) oraz szafą\\n- łazienki z kabiną prysznicową oraz pralką\\n- zamykanego salonu z sofą z wyjściem na balkon\\n\\nNa 3 piętrze znajdują się: sklep spożywczy, gabinet kosmetyczny, gabinet stomatologiczny, fryzjer oraz centrum rekreacji i fitness (basen, sauna, siłownia) tylko dla mieszkańców.\\n\\nPod blokiem przystanek autobusowy \"Zamieniecka\" z licznymi liniami autobusowymi. W pobliżu Centrum Handlowe Atrium Promenada.\\n\\nCena: 3200 zł + opłaty za prąd. Miejsce postojowe w garażu podziemnym na poziomie -1 w cenie. Kaucja w wysokości miesięcznego czynszu. Umowa najmu okazjonalnego na 12 miesięcy. Mieszkanie wolne od zaraz.\\n\\nBrak zgody na trzymanie zwierząt w mieszkaniu. Preferowani najemcy: single lub pary ze stałym zatrudnieniem.   \n",
       "0                                                                                                                                                                                                                                                                                                                                                                                                                                                                                                                                                                                                                                                                                                                                                                                                                                                                                                                                                                                                                                                                                                                                                                                                                                                                       Wynajmę bezpośrednio mieszkanie w Warszawie przy stacji Metra Ulrychów, okolice Wola Park.\\nMieszkanie po generalnym remoncie, świeże.\\nZlokalizowane na 2 piętrze w 3 piętrowym budynku.\\nWyposażone w meble, sprzęt AGD, nowe meble kuchenne.\\n\\nW pobliżu komunikacja miejska: metro Ulrychów, autobus; centrum handlowe Wola Park, szkoły, przedszkola, kino, basen...szybki dojazd do centrum miasta.\\n\\n\\nDo wynajęcia od zaraz.\\n\\nKoszt miesięczny wynajmu - 3 000 zł + opłaty za zużyte media ( zimna i ciepła woda, ogrzewanie, prąd, gaz, oplata śmieciowa)   \n",
       "3            Zamieszkaj w ciszy w dobrym standardzie na ponad 63 m2\\n\\n         0% prowizji - Najemca nie ponosi żadnych dodatkowych kosztów.\\n\\n\\n \\nWarszawa* ul. Erazma z Zakroczymia 6 * Białołęka  - Tarchomin*  63,6 m2 *\\n3 pokoje  * 1 piętro / 10  z windą* wysoki standard * pełne wyposażenie * blok 1993 r\\n        \\n\\n\\n                  Co zyskasz wynajmując to mieszkanie?\\n \\n\\n\\n•   wysoki standard mieszkania – szykowane było na własne potrzeby dobrej jakości materiałami\\n•   pełne wyposażenie – możesz się wprowadzić bez żadnych inwestycji\\n•   ponad 63 m2 przestrzeni (salon + kuchnia + 2 sypialnie + łazienka +wc)\\n•   dobre warunki do gotowania, dzięki oddzielnej, w pełni wyposażonej kuchni z oknem\\n•   wygodne łóżko 160 x 200 cm\\n•   dużą ilość miejsca na przechowywanie ubrań, dzięki pojemnym szafom\\n•   duży balkon ok. 8m2 od cichej strony\\n•   współpracę bezprowizyjną – nie ponosisz żadnych kosztów\\n•   łatwość zaparkowania, dzięki dużej ilości ogólnodostępnych miejsc\\n•   możliwość korzystania z opcjonalnego serwisu sprzątającego\\n•   wszystkie niezbędne punkty usługowe w pobliżu ( CH Galeria Północna, piekarnia, cukiernia, bazarek, paczkomat, restauracje, sklepy spożywcze, drogeria, supermarkety)\\n•  idealną komunikację miejską (przystanek autobusowy Kamińskiego 02 i tramwajowy Tarchomin 05) 300 m od bloku\\n•   ciszę i spokój – dobre warunki do pracy zdalnej\\n•   właściciela, który dba o Twoje potrzeby i szanuje Twoją prywatność :)\\n \\n\\n\\n\\nIle inwestujesz?\\n\\n3000 zł + woda, prąd, ogrzewanie, śmieci ok. 550 zł /mc\\n\\nKaucja zwrotna: 3550 zł\\n\\n\\n\\nSzukamy osób pracujących, niepalących, bez zwierząt,  na okres minimum 12 miesięcy.\\n\\n\\nZainteresowany? Dzwoń w godzinach 11-19 od poniedziałku do piątku.\\n\\nSzymon , tel.: 794 383 111   \n",
       "1                                                                                                Zamieszkaj w ciszy i dobrym standardzie\\n\\n         0% prowizji - Najemca nie ponosi żadnych dodatkowych kosztów.\\n \\n\\nWarszawa* ul. Żeglugi Wiślanej 9 * Białołęka *  51,70 m2 * \\n2 pokoje  * 3 piętro / 3  bez windy * pełne wyposażenie * blok 2011 r\\n        \\n\\n\\n                   Co zyskasz wynajmując to mieszkanie?\\n \\n•   pełne wyposażenie mieszkania – możliwość wprowadzenia się bez żadnych inwestycji od zaraz\\n•   funkcjonalną przestrzeń (salon + osobna kuchnia + sypialnia + łazienka + balkon)\\n•   dobre warunki do gotowania, dzięki oddzielnej, w pełni wyposażonej kuchni z oknem\\n•   wygodne łóżko 160 x 200 cm\\n•   duży balkon ok. 9m2 od cichej strony osiedla z widokiem na warszawki Skyline \\n•   współpracę bezprowizyjną – nie ponosisz żadnych kosztów\\n•   wszystkie niezbędne punkty usługowe w pobliżu (sklep spożywczy, piekarnia, cukiernia, apteka, paczkomat)\\n•   przystanek autobusowy w pobliżu z bezpośrednim dojazdem do obu linii metra \\n•   tereny rekreacyjne i spacerowe na wyciągnięcie ręki\\n•   ciszę i spokój – dobre warunki do pracy zdalnej\\n •   wygodne, oświetlone miejsce parkingowe widoczne ze wszystkich okien w mieszkaniu \\n•   możliwość podłączenia szybkiego internetu 1 Gb/s u operatów Netia, Orange, Play (UPC) i JMDI\\n•   właściciela, który dba o Twoje potrzeby i szanuje Twoją prywatność :)\\n\\n\\nIle inwestujesz?\\n\\n2340 zł +200 zł /mc ( opcjonalne  miejsce parkingowe) woda, prąd, ogrzewanie, śmieci ok. 400 zł /mc\\n\\nKaucja zwrotna: 2940 zł\\n\\n\\n \\nSzukamy osób pracujących, niepalących, bez zwierząt,  na okres minimum 12 miesięcy.\\n\\n \\nZainteresowany? Dzwoń w godzinach 11-19 od poniedziałku do piątku.\\n\\nSzymon , tel.: 794 383 111   \n",
       "\n",
       "Category       pricing  location  \n",
       "Subcategory total_rent      city  \n",
       "2               3201.0  Warszawa  \n",
       "0               3000.0  Warszawa  \n",
       "3               3000.0  Warszawa  \n",
       "1               2340.0  Warszawa  "
      ]
     },
     "execution_count": 70,
     "metadata": {},
     "output_type": "execute_result"
    }
   ],
   "source": [
    "pd.set_option('display.max_colwidth', None)\n",
    "df_otodom_cleaned.sort_values(by=[('pricing', 'price')], ascending=False).head()[[('listing', 'link'), ('listing', 'title'), ('listing', 'summary_description'), ('pricing', 'total_rent'), ('location', 'city')]]\n"
   ]
  },
  {
   "cell_type": "code",
   "execution_count": 71,
   "metadata": {},
   "outputs": [],
   "source": [
    "pd.set_option('display.max_colwidth', 50)"
   ]
  },
  {
   "cell_type": "markdown",
   "metadata": {},
   "source": [
    "##### locations"
   ]
  },
  {
   "cell_type": "code",
   "execution_count": 72,
   "metadata": {},
   "outputs": [
    {
     "data": {
      "text/plain": [
       "{'Warszawa'}"
      ]
     },
     "execution_count": 72,
     "metadata": {},
     "output_type": "execute_result"
    }
   ],
   "source": [
    "set(df_otodom_cleaned[('location', 'city')])"
   ]
  },
  {
   "cell_type": "code",
   "execution_count": 73,
   "metadata": {},
   "outputs": [
    {
     "data": {
      "text/plain": [
       "{'mazowieckie'}"
      ]
     },
     "execution_count": 73,
     "metadata": {},
     "output_type": "execute_result"
    }
   ],
   "source": [
    "set(df_otodom_cleaned[('location', 'voivodeship')])"
   ]
  },
  {
   "cell_type": "markdown",
   "metadata": {},
   "source": [
    "Textual Data Analysis"
   ]
  },
  {
   "cell_type": "code",
   "execution_count": 74,
   "metadata": {},
   "outputs": [
    {
     "data": {
      "text/plain": [
       "1715"
      ]
     },
     "execution_count": 74,
     "metadata": {},
     "output_type": "execute_result"
    }
   ],
   "source": [
    "df_otodom_cleaned[('listing', 'summary_description')].str.len().max()"
   ]
  },
  {
   "cell_type": "code",
   "execution_count": 75,
   "metadata": {},
   "outputs": [
    {
     "data": {
      "text/plain": [
       "254"
      ]
     },
     "execution_count": 75,
     "metadata": {},
     "output_type": "execute_result"
    }
   ],
   "source": [
    "df_otodom_cleaned[('listing', 'summary_description')].apply(count_words).max()"
   ]
  },
  {
   "cell_type": "markdown",
   "metadata": {},
   "source": [
    "Max values of the selected columns"
   ]
  },
  {
   "cell_type": "code",
   "execution_count": 76,
   "metadata": {},
   "outputs": [
    {
     "data": {
      "text/plain": [
       "63.0"
      ]
     },
     "execution_count": 76,
     "metadata": {},
     "output_type": "execute_result"
    }
   ],
   "source": [
    "df_otodom_cleaned[('size', 'square_meters')].max()"
   ]
  },
  {
   "cell_type": "code",
   "execution_count": 77,
   "metadata": {},
   "outputs": [
    {
     "data": {
      "text/plain": [
       "36.0"
      ]
     },
     "execution_count": 77,
     "metadata": {},
     "output_type": "execute_result"
    }
   ],
   "source": [
    "df_otodom_cleaned[('size', 'square_meters')].min()"
   ]
  },
  {
   "cell_type": "code",
   "execution_count": 78,
   "metadata": {},
   "outputs": [
    {
     "data": {
      "text/plain": [
       "3"
      ]
     },
     "execution_count": 78,
     "metadata": {},
     "output_type": "execute_result"
    }
   ],
   "source": [
    "df_otodom_cleaned[('size', 'number_of_rooms')].max()"
   ]
  },
  {
   "cell_type": "code",
   "execution_count": 79,
   "metadata": {},
   "outputs": [
    {
     "data": {
      "text/plain": [
       "2"
      ]
     },
     "execution_count": 79,
     "metadata": {},
     "output_type": "execute_result"
    }
   ],
   "source": [
    "df_otodom_cleaned[('size', 'number_of_rooms')].min()"
   ]
  },
  {
   "cell_type": "code",
   "execution_count": 80,
   "metadata": {},
   "outputs": [
    {
     "data": {
      "text/plain": [
       "[2, 3, 4, 1]"
      ]
     },
     "execution_count": 80,
     "metadata": {},
     "output_type": "execute_result"
    }
   ],
   "source": [
    "df_otodom_cleaned[('size', 'floor')].value_counts().index.to_list()"
   ]
  },
  {
   "cell_type": "code",
   "execution_count": 81,
   "metadata": {},
   "outputs": [
    {
     "data": {
      "text/plain": [
       "3     2\n",
       "18    1\n",
       "10    1\n",
       "Name: (size, building_floors), dtype: Int64"
      ]
     },
     "execution_count": 81,
     "metadata": {},
     "output_type": "execute_result"
    }
   ],
   "source": [
    "df_otodom_cleaned[('size', 'building_floors')].value_counts()"
   ]
  },
  {
   "cell_type": "markdown",
   "metadata": {},
   "source": [
    "Check if date column is the date format"
   ]
  },
  {
   "cell_type": "code",
   "execution_count": 82,
   "metadata": {},
   "outputs": [],
   "source": [
    "date_format_regex = r'^\\d{4}-\\d{2}-\\d{2}$'\n",
    "\n",
    "# Check if each date in the column matches the format\n",
    "# Perform the assertion directly\n",
    "assert (df_otodom_cleaned[('legal_and_availability', 'available_from')].dropna().str.match(date_format_regex)).all(), \"Not all dates match the required format\"\n"
   ]
  },
  {
   "cell_type": "markdown",
   "metadata": {},
   "source": [
    "#####  2.2.3 Translate Polish to English\n",
    "`Listing | title`, `Listing | summary_description` are not translated due to losing context by using a translation"
   ]
  },
  {
   "cell_type": "markdown",
   "metadata": {},
   "source": [
    "listing"
   ]
  },
  {
   "cell_type": "code",
   "execution_count": 83,
   "metadata": {},
   "outputs": [
    {
     "data": {
      "text/plain": [
       "NaN            3\n",
       "unspecified    1\n",
       "Name: (listing, remote_service), dtype: int64"
      ]
     },
     "execution_count": 83,
     "metadata": {},
     "output_type": "execute_result"
    }
   ],
   "source": [
    "df_otodom_cleaned[('listing', 'remote_service')] = df_otodom_cleaned[('listing', 'remote_service')].map(\n",
    "    {'Obsługa zdalnaZapytaj': np.NaN, \n",
    "     'Obsługa zdalnatak': 'unspecified', \n",
    "     'Obsługa zdalnaFilm': 'video',\n",
    "     'Obsługa zdalnaWirtualny spacer': 'virtual_tour',\n",
    "     'Obsługa zdalnaFilmWirtualny spacer': 'video_virtual_tour',\n",
    "     }\n",
    "    )\n",
    "df_otodom_cleaned[('listing', 'remote_service')].value_counts(dropna=False)"
   ]
  },
  {
   "cell_type": "markdown",
   "metadata": {},
   "source": [
    "legal_and_availability"
   ]
  },
  {
   "cell_type": "code",
   "execution_count": 84,
   "metadata": {},
   "outputs": [
    {
     "data": {
      "text/plain": [
       "ready_to_move_in    4\n",
       "Name: (legal_and_availability, completion), dtype: int64"
      ]
     },
     "execution_count": 84,
     "metadata": {},
     "output_type": "execute_result"
    }
   ],
   "source": [
    "df_otodom_cleaned[('legal_and_availability', 'completion')] = df_otodom_cleaned[('legal_and_availability', 'completion')].map(\n",
    "    {'do zamieszkania': 'ready_to_move_in', \n",
    "     'do remontu': 'in_need_of_renovation', \n",
    "     'do wykończenia': 'unfinished'}\n",
    "    )\n",
    "df_otodom_cleaned[('legal_and_availability', 'completion')].value_counts()"
   ]
  },
  {
   "cell_type": "code",
   "execution_count": 85,
   "metadata": {},
   "outputs": [
    {
     "data": {
      "text/plain": [
       "real_estate_agency    3\n",
       "private               1\n",
       "Name: (legal_and_availability, ownership), dtype: int64"
      ]
     },
     "execution_count": 85,
     "metadata": {},
     "output_type": "execute_result"
    }
   ],
   "source": [
    "df_otodom_cleaned[('legal_and_availability', 'ownership')]= df_otodom_cleaned[('legal_and_availability', 'ownership')].map(\n",
    "    {'biuro nieruchomości': 'real_estate_agency', \n",
    "     'prywatny': 'private', \n",
    "     'deweloper': 'developer'}\n",
    "     )\n",
    "df_otodom_cleaned[('legal_and_availability', 'ownership')].value_counts()"
   ]
  },
  {
   "cell_type": "code",
   "execution_count": 86,
   "metadata": {},
   "outputs": [
    {
     "data": {
      "text/plain": [
       "NaN    4\n",
       "Name: (legal_and_availability, rent_to_students), dtype: int64"
      ]
     },
     "execution_count": 86,
     "metadata": {},
     "output_type": "execute_result"
    }
   ],
   "source": [
    "df_otodom_cleaned[('legal_and_availability', 'rent_to_students')] = df_otodom_cleaned[('legal_and_availability', 'rent_to_students')].map({'brak informacji': np.NaN, 'tak': True, 'nie': False})\n",
    "df_otodom_cleaned[('legal_and_availability', 'rent_to_students')].value_counts(dropna=False)"
   ]
  },
  {
   "cell_type": "markdown",
   "metadata": {},
   "source": [
    "type_and_year"
   ]
  },
  {
   "cell_type": "code",
   "execution_count": 87,
   "metadata": {},
   "outputs": [
    {
     "data": {
      "text/html": [
       "<div>\n",
       "<style scoped>\n",
       "    .dataframe tbody tr th:only-of-type {\n",
       "        vertical-align: middle;\n",
       "    }\n",
       "\n",
       "    .dataframe tbody tr th {\n",
       "        vertical-align: top;\n",
       "    }\n",
       "\n",
       "    .dataframe thead th {\n",
       "        text-align: right;\n",
       "    }\n",
       "</style>\n",
       "<table border=\"1\" class=\"dataframe\">\n",
       "  <thead>\n",
       "    <tr style=\"text-align: right;\">\n",
       "      <th>Subcategory</th>\n",
       "      <th>building_type</th>\n",
       "      <th>build_year</th>\n",
       "    </tr>\n",
       "  </thead>\n",
       "  <tbody>\n",
       "    <tr>\n",
       "      <th>0</th>\n",
       "      <td>blok</td>\n",
       "      <td>&lt;NA&gt;</td>\n",
       "    </tr>\n",
       "    <tr>\n",
       "      <th>1</th>\n",
       "      <td>blok</td>\n",
       "      <td>2011</td>\n",
       "    </tr>\n",
       "    <tr>\n",
       "      <th>2</th>\n",
       "      <td>blok</td>\n",
       "      <td>2004</td>\n",
       "    </tr>\n",
       "    <tr>\n",
       "      <th>3</th>\n",
       "      <td>blok</td>\n",
       "      <td>1993</td>\n",
       "    </tr>\n",
       "  </tbody>\n",
       "</table>\n",
       "</div>"
      ],
      "text/plain": [
       "Subcategory building_type  build_year\n",
       "0                    blok        <NA>\n",
       "1                    blok        2011\n",
       "2                    blok        2004\n",
       "3                    blok        1993"
      ]
     },
     "execution_count": 87,
     "metadata": {},
     "output_type": "execute_result"
    }
   ],
   "source": [
    "df_otodom_cleaned['type_and_year'].head()"
   ]
  },
  {
   "cell_type": "code",
   "execution_count": 88,
   "metadata": {},
   "outputs": [
    {
     "data": {
      "text/plain": [
       "blok    4\n",
       "Name: (type_and_year, building_type), dtype: int64"
      ]
     },
     "execution_count": 88,
     "metadata": {},
     "output_type": "execute_result"
    }
   ],
   "source": [
    "df_otodom_cleaned[('type_and_year', 'building_type')].value_counts()"
   ]
  },
  {
   "cell_type": "code",
   "execution_count": 89,
   "metadata": {},
   "outputs": [
    {
     "data": {
      "text/plain": [
       "block_of_flats    4\n",
       "Name: (type_and_year, building_type), dtype: int64"
      ]
     },
     "execution_count": 89,
     "metadata": {},
     "output_type": "execute_result"
    }
   ],
   "source": [
    "df_otodom_cleaned[('type_and_year', 'building_type')] = df_otodom_cleaned[('type_and_year', 'building_type')].map({\n",
    "    'blok': 'block_of_flats', \n",
    "    'apartamentowiec': 'apartment_building', \n",
    "    'kamienica': 'historic_apartment_building',\n",
    "    'dom wolnostojący': 'detached_house',\n",
    "    'szeregowiec': 'terraced_house',\n",
    "    })\n",
    "df_otodom_cleaned[('type_and_year', 'building_type')].value_counts(dropna=False)"
   ]
  },
  {
   "cell_type": "markdown",
   "metadata": {},
   "source": [
    "##### Change data types"
   ]
  },
  {
   "cell_type": "markdown",
   "metadata": {},
   "source": [
    "bool"
   ]
  },
  {
   "cell_type": "code",
   "execution_count": 90,
   "metadata": {},
   "outputs": [
    {
     "data": {
      "text/plain": [
       "0    False\n",
       "1    False\n",
       "2    False\n",
       "3    False\n",
       "Name: (legal_and_availability, rent_to_students), dtype: boolean"
      ]
     },
     "execution_count": 90,
     "metadata": {},
     "output_type": "execute_result"
    }
   ],
   "source": [
    "df_otodom_cleaned[('legal_and_availability', 'rent_to_students')] = df_otodom_cleaned[('legal_and_availability', 'rent_to_students')].fillna(0).astype('boolean')\n",
    "df_otodom_cleaned[('legal_and_availability', 'rent_to_students')].head()"
   ]
  },
  {
   "cell_type": "code",
   "execution_count": 91,
   "metadata": {},
   "outputs": [
    {
     "data": {
      "text/plain": [
       "False    4\n",
       "<NA>     0\n",
       "Name: (legal_and_availability, rent_to_students), dtype: Int64"
      ]
     },
     "execution_count": 91,
     "metadata": {},
     "output_type": "execute_result"
    }
   ],
   "source": [
    "df_otodom_cleaned[('legal_and_availability', 'rent_to_students')].value_counts(dropna=False)"
   ]
  },
  {
   "cell_type": "code",
   "execution_count": 92,
   "metadata": {},
   "outputs": [
    {
     "data": {
      "text/html": [
       "<div>\n",
       "<style scoped>\n",
       "    .dataframe tbody tr th:only-of-type {\n",
       "        vertical-align: middle;\n",
       "    }\n",
       "\n",
       "    .dataframe tbody tr th {\n",
       "        vertical-align: top;\n",
       "    }\n",
       "\n",
       "    .dataframe thead th {\n",
       "        text-align: right;\n",
       "    }\n",
       "</style>\n",
       "<table border=\"1\" class=\"dataframe\">\n",
       "  <thead>\n",
       "    <tr style=\"text-align: right;\">\n",
       "      <th>Subcategory</th>\n",
       "      <th>no_information</th>\n",
       "      <th>stove</th>\n",
       "      <th>fridge</th>\n",
       "      <th>furniture</th>\n",
       "      <th>oven</th>\n",
       "      <th>washing_machine</th>\n",
       "      <th>TV</th>\n",
       "      <th>dishwasher</th>\n",
       "    </tr>\n",
       "  </thead>\n",
       "  <tbody>\n",
       "    <tr>\n",
       "      <th>0</th>\n",
       "      <td>NaN</td>\n",
       "      <td>1</td>\n",
       "      <td>1</td>\n",
       "      <td>1</td>\n",
       "      <td>1</td>\n",
       "      <td>1</td>\n",
       "      <td>NaN</td>\n",
       "      <td>0</td>\n",
       "    </tr>\n",
       "    <tr>\n",
       "      <th>1</th>\n",
       "      <td>NaN</td>\n",
       "      <td>1</td>\n",
       "      <td>1</td>\n",
       "      <td>1</td>\n",
       "      <td>1</td>\n",
       "      <td>1</td>\n",
       "      <td>NaN</td>\n",
       "      <td>1</td>\n",
       "    </tr>\n",
       "    <tr>\n",
       "      <th>2</th>\n",
       "      <td>NaN</td>\n",
       "      <td>1</td>\n",
       "      <td>1</td>\n",
       "      <td>1</td>\n",
       "      <td>1</td>\n",
       "      <td>1</td>\n",
       "      <td>NaN</td>\n",
       "      <td>0</td>\n",
       "    </tr>\n",
       "    <tr>\n",
       "      <th>3</th>\n",
       "      <td>NaN</td>\n",
       "      <td>1</td>\n",
       "      <td>1</td>\n",
       "      <td>1</td>\n",
       "      <td>1</td>\n",
       "      <td>1</td>\n",
       "      <td>NaN</td>\n",
       "      <td>1</td>\n",
       "    </tr>\n",
       "  </tbody>\n",
       "</table>\n",
       "</div>"
      ],
      "text/plain": [
       "Subcategory  no_information  stove  fridge  furniture  oven  washing_machine  \\\n",
       "0                       NaN      1       1          1     1                1   \n",
       "1                       NaN      1       1          1     1                1   \n",
       "2                       NaN      1       1          1     1                1   \n",
       "3                       NaN      1       1          1     1                1   \n",
       "\n",
       "Subcategory  TV  dishwasher  \n",
       "0           NaN           0  \n",
       "1           NaN           1  \n",
       "2           NaN           0  \n",
       "3           NaN           1  "
      ]
     },
     "execution_count": 92,
     "metadata": {},
     "output_type": "execute_result"
    }
   ],
   "source": [
    "df_otodom_cleaned['equipment'].head()"
   ]
  },
  {
   "cell_type": "code",
   "execution_count": 93,
   "metadata": {},
   "outputs": [
    {
     "data": {
      "text/html": [
       "<div>\n",
       "<style scoped>\n",
       "    .dataframe tbody tr th:only-of-type {\n",
       "        vertical-align: middle;\n",
       "    }\n",
       "\n",
       "    .dataframe tbody tr th {\n",
       "        vertical-align: top;\n",
       "    }\n",
       "\n",
       "    .dataframe thead th {\n",
       "        text-align: right;\n",
       "    }\n",
       "</style>\n",
       "<table border=\"1\" class=\"dataframe\">\n",
       "  <thead>\n",
       "    <tr style=\"text-align: right;\">\n",
       "      <th>Subcategory</th>\n",
       "      <th>no_information</th>\n",
       "      <th>stove</th>\n",
       "      <th>fridge</th>\n",
       "      <th>furniture</th>\n",
       "      <th>oven</th>\n",
       "      <th>washing_machine</th>\n",
       "      <th>TV</th>\n",
       "      <th>dishwasher</th>\n",
       "    </tr>\n",
       "  </thead>\n",
       "  <tbody>\n",
       "    <tr>\n",
       "      <th>0</th>\n",
       "      <td>False</td>\n",
       "      <td>True</td>\n",
       "      <td>True</td>\n",
       "      <td>True</td>\n",
       "      <td>True</td>\n",
       "      <td>True</td>\n",
       "      <td>False</td>\n",
       "      <td>False</td>\n",
       "    </tr>\n",
       "    <tr>\n",
       "      <th>1</th>\n",
       "      <td>False</td>\n",
       "      <td>True</td>\n",
       "      <td>True</td>\n",
       "      <td>True</td>\n",
       "      <td>True</td>\n",
       "      <td>True</td>\n",
       "      <td>False</td>\n",
       "      <td>True</td>\n",
       "    </tr>\n",
       "    <tr>\n",
       "      <th>2</th>\n",
       "      <td>False</td>\n",
       "      <td>True</td>\n",
       "      <td>True</td>\n",
       "      <td>True</td>\n",
       "      <td>True</td>\n",
       "      <td>True</td>\n",
       "      <td>False</td>\n",
       "      <td>False</td>\n",
       "    </tr>\n",
       "    <tr>\n",
       "      <th>3</th>\n",
       "      <td>False</td>\n",
       "      <td>True</td>\n",
       "      <td>True</td>\n",
       "      <td>True</td>\n",
       "      <td>True</td>\n",
       "      <td>True</td>\n",
       "      <td>False</td>\n",
       "      <td>True</td>\n",
       "    </tr>\n",
       "  </tbody>\n",
       "</table>\n",
       "</div>"
      ],
      "text/plain": [
       "Subcategory  no_information  stove  fridge  furniture  oven  washing_machine  \\\n",
       "0                     False   True    True       True  True             True   \n",
       "1                     False   True    True       True  True             True   \n",
       "2                     False   True    True       True  True             True   \n",
       "3                     False   True    True       True  True             True   \n",
       "\n",
       "Subcategory     TV  dishwasher  \n",
       "0            False       False  \n",
       "1            False        True  \n",
       "2            False       False  \n",
       "3            False        True  "
      ]
     },
     "execution_count": 93,
     "metadata": {},
     "output_type": "execute_result"
    }
   ],
   "source": [
    "for col in df_otodom_cleaned['equipment'].columns:\n",
    "    df_otodom_cleaned[('equipment', col)] = df_otodom_cleaned[('equipment', col)].fillna(0).astype(bool)\n",
    "df_otodom_cleaned['equipment'].head()"
   ]
  },
  {
   "cell_type": "code",
   "execution_count": 94,
   "metadata": {},
   "outputs": [
    {
     "data": {
      "text/html": [
       "<div>\n",
       "<style scoped>\n",
       "    .dataframe tbody tr th:only-of-type {\n",
       "        vertical-align: middle;\n",
       "    }\n",
       "\n",
       "    .dataframe tbody tr th {\n",
       "        vertical-align: top;\n",
       "    }\n",
       "\n",
       "    .dataframe thead th {\n",
       "        text-align: right;\n",
       "    }\n",
       "</style>\n",
       "<table border=\"1\" class=\"dataframe\">\n",
       "  <thead>\n",
       "    <tr style=\"text-align: right;\">\n",
       "      <th>Subcategory</th>\n",
       "      <th>no_information</th>\n",
       "      <th>internet</th>\n",
       "      <th>telephone</th>\n",
       "      <th>cable_TV</th>\n",
       "    </tr>\n",
       "  </thead>\n",
       "  <tbody>\n",
       "    <tr>\n",
       "      <th>0</th>\n",
       "      <td>False</td>\n",
       "      <td>True</td>\n",
       "      <td>False</td>\n",
       "      <td>True</td>\n",
       "    </tr>\n",
       "    <tr>\n",
       "      <th>1</th>\n",
       "      <td>True</td>\n",
       "      <td>False</td>\n",
       "      <td>False</td>\n",
       "      <td>False</td>\n",
       "    </tr>\n",
       "    <tr>\n",
       "      <th>2</th>\n",
       "      <td>False</td>\n",
       "      <td>True</td>\n",
       "      <td>False</td>\n",
       "      <td>False</td>\n",
       "    </tr>\n",
       "    <tr>\n",
       "      <th>3</th>\n",
       "      <td>True</td>\n",
       "      <td>False</td>\n",
       "      <td>False</td>\n",
       "      <td>False</td>\n",
       "    </tr>\n",
       "  </tbody>\n",
       "</table>\n",
       "</div>"
      ],
      "text/plain": [
       "Subcategory  no_information  internet  telephone  cable_TV\n",
       "0                     False      True      False      True\n",
       "1                      True     False      False     False\n",
       "2                     False      True      False     False\n",
       "3                      True     False      False     False"
      ]
     },
     "execution_count": 94,
     "metadata": {},
     "output_type": "execute_result"
    }
   ],
   "source": [
    "for col in df_otodom_cleaned['media_types'].columns:\n",
    "    df_otodom_cleaned[('media_types', col)] = df_otodom_cleaned[('media_types', col)].fillna(0).astype(bool)\n",
    "df_otodom_cleaned['media_types'].head()"
   ]
  },
  {
   "cell_type": "code",
   "execution_count": 95,
   "metadata": {},
   "outputs": [
    {
     "data": {
      "text/html": [
       "<div>\n",
       "<style scoped>\n",
       "    .dataframe tbody tr th:only-of-type {\n",
       "        vertical-align: middle;\n",
       "    }\n",
       "\n",
       "    .dataframe tbody tr th {\n",
       "        vertical-align: top;\n",
       "    }\n",
       "\n",
       "    .dataframe thead th {\n",
       "        text-align: right;\n",
       "    }\n",
       "</style>\n",
       "<table border=\"1\" class=\"dataframe\">\n",
       "  <thead>\n",
       "    <tr style=\"text-align: right;\">\n",
       "      <th>Subcategory</th>\n",
       "      <th>no_information</th>\n",
       "      <th>electric</th>\n",
       "      <th>gas</th>\n",
       "      <th>other</th>\n",
       "      <th>boiler_room</th>\n",
       "      <th>district</th>\n",
       "      <th>tile_stove</th>\n",
       "    </tr>\n",
       "  </thead>\n",
       "  <tbody>\n",
       "    <tr>\n",
       "      <th>0</th>\n",
       "      <td>False</td>\n",
       "      <td>False</td>\n",
       "      <td>False</td>\n",
       "      <td>False</td>\n",
       "      <td>False</td>\n",
       "      <td>True</td>\n",
       "      <td>False</td>\n",
       "    </tr>\n",
       "    <tr>\n",
       "      <th>1</th>\n",
       "      <td>False</td>\n",
       "      <td>False</td>\n",
       "      <td>False</td>\n",
       "      <td>False</td>\n",
       "      <td>False</td>\n",
       "      <td>True</td>\n",
       "      <td>False</td>\n",
       "    </tr>\n",
       "    <tr>\n",
       "      <th>2</th>\n",
       "      <td>False</td>\n",
       "      <td>False</td>\n",
       "      <td>False</td>\n",
       "      <td>False</td>\n",
       "      <td>False</td>\n",
       "      <td>True</td>\n",
       "      <td>False</td>\n",
       "    </tr>\n",
       "    <tr>\n",
       "      <th>3</th>\n",
       "      <td>False</td>\n",
       "      <td>False</td>\n",
       "      <td>False</td>\n",
       "      <td>False</td>\n",
       "      <td>False</td>\n",
       "      <td>True</td>\n",
       "      <td>False</td>\n",
       "    </tr>\n",
       "  </tbody>\n",
       "</table>\n",
       "</div>"
      ],
      "text/plain": [
       "Subcategory  no_information  electric    gas  other  boiler_room  district  \\\n",
       "0                     False     False  False  False        False      True   \n",
       "1                     False     False  False  False        False      True   \n",
       "2                     False     False  False  False        False      True   \n",
       "3                     False     False  False  False        False      True   \n",
       "\n",
       "Subcategory  tile_stove  \n",
       "0                 False  \n",
       "1                 False  \n",
       "2                 False  \n",
       "3                 False  "
      ]
     },
     "execution_count": 95,
     "metadata": {},
     "output_type": "execute_result"
    }
   ],
   "source": [
    "for col in df_otodom_cleaned['heating'].columns:\n",
    "    df_otodom_cleaned[('heating', col)] = df_otodom_cleaned[('heating', col)].fillna(0).astype(bool)\n",
    "df_otodom_cleaned['heating'].head()"
   ]
  },
  {
   "cell_type": "code",
   "execution_count": 96,
   "metadata": {},
   "outputs": [
    {
     "data": {
      "text/html": [
       "<div>\n",
       "<style scoped>\n",
       "    .dataframe tbody tr th:only-of-type {\n",
       "        vertical-align: middle;\n",
       "    }\n",
       "\n",
       "    .dataframe tbody tr th {\n",
       "        vertical-align: top;\n",
       "    }\n",
       "\n",
       "    .dataframe thead th {\n",
       "        text-align: right;\n",
       "    }\n",
       "</style>\n",
       "<table border=\"1\" class=\"dataframe\">\n",
       "  <thead>\n",
       "    <tr style=\"text-align: right;\">\n",
       "      <th>Subcategory</th>\n",
       "      <th>no_information</th>\n",
       "      <th>intercom_or_video_intercom</th>\n",
       "      <th>anti_burglary_doors_or_windows</th>\n",
       "      <th>monitoring_or_security</th>\n",
       "      <th>anti_burglary_roller_blinds</th>\n",
       "      <th>alarm_system</th>\n",
       "      <th>enclosed_area</th>\n",
       "    </tr>\n",
       "  </thead>\n",
       "  <tbody>\n",
       "    <tr>\n",
       "      <th>0</th>\n",
       "      <td>True</td>\n",
       "      <td>False</td>\n",
       "      <td>False</td>\n",
       "      <td>False</td>\n",
       "      <td>False</td>\n",
       "      <td>False</td>\n",
       "      <td>False</td>\n",
       "    </tr>\n",
       "    <tr>\n",
       "      <th>1</th>\n",
       "      <td>False</td>\n",
       "      <td>True</td>\n",
       "      <td>False</td>\n",
       "      <td>True</td>\n",
       "      <td>False</td>\n",
       "      <td>False</td>\n",
       "      <td>True</td>\n",
       "    </tr>\n",
       "    <tr>\n",
       "      <th>2</th>\n",
       "      <td>False</td>\n",
       "      <td>True</td>\n",
       "      <td>False</td>\n",
       "      <td>True</td>\n",
       "      <td>False</td>\n",
       "      <td>False</td>\n",
       "      <td>True</td>\n",
       "    </tr>\n",
       "    <tr>\n",
       "      <th>3</th>\n",
       "      <td>False</td>\n",
       "      <td>True</td>\n",
       "      <td>False</td>\n",
       "      <td>False</td>\n",
       "      <td>False</td>\n",
       "      <td>False</td>\n",
       "      <td>False</td>\n",
       "    </tr>\n",
       "  </tbody>\n",
       "</table>\n",
       "</div>"
      ],
      "text/plain": [
       "Subcategory  no_information  intercom_or_video_intercom  \\\n",
       "0                      True                       False   \n",
       "1                     False                        True   \n",
       "2                     False                        True   \n",
       "3                     False                        True   \n",
       "\n",
       "Subcategory  anti_burglary_doors_or_windows  monitoring_or_security  \\\n",
       "0                                     False                   False   \n",
       "1                                     False                    True   \n",
       "2                                     False                    True   \n",
       "3                                     False                   False   \n",
       "\n",
       "Subcategory  anti_burglary_roller_blinds  alarm_system  enclosed_area  \n",
       "0                                  False         False          False  \n",
       "1                                  False         False           True  \n",
       "2                                  False         False           True  \n",
       "3                                  False         False          False  "
      ]
     },
     "execution_count": 96,
     "metadata": {},
     "output_type": "execute_result"
    }
   ],
   "source": [
    "for col in df_otodom_cleaned['security'].columns:\n",
    "    df_otodom_cleaned[('security', col)] = df_otodom_cleaned[('security', col)].fillna(0).astype(bool)\n",
    "df_otodom_cleaned['security'].head()"
   ]
  },
  {
   "cell_type": "code",
   "execution_count": 97,
   "metadata": {},
   "outputs": [
    {
     "data": {
      "text/html": [
       "<div>\n",
       "<style scoped>\n",
       "    .dataframe tbody tr th:only-of-type {\n",
       "        vertical-align: middle;\n",
       "    }\n",
       "\n",
       "    .dataframe tbody tr th {\n",
       "        vertical-align: top;\n",
       "    }\n",
       "\n",
       "    .dataframe thead th {\n",
       "        text-align: right;\n",
       "    }\n",
       "</style>\n",
       "<table border=\"1\" class=\"dataframe\">\n",
       "  <thead>\n",
       "    <tr style=\"text-align: right;\">\n",
       "      <th>Subcategory</th>\n",
       "      <th>aluminum</th>\n",
       "      <th>no_information</th>\n",
       "      <th>wooden</th>\n",
       "      <th>plastic</th>\n",
       "    </tr>\n",
       "  </thead>\n",
       "  <tbody>\n",
       "    <tr>\n",
       "      <th>0</th>\n",
       "      <td>False</td>\n",
       "      <td>False</td>\n",
       "      <td>True</td>\n",
       "      <td>False</td>\n",
       "    </tr>\n",
       "    <tr>\n",
       "      <th>1</th>\n",
       "      <td>False</td>\n",
       "      <td>False</td>\n",
       "      <td>False</td>\n",
       "      <td>True</td>\n",
       "    </tr>\n",
       "    <tr>\n",
       "      <th>2</th>\n",
       "      <td>False</td>\n",
       "      <td>False</td>\n",
       "      <td>False</td>\n",
       "      <td>True</td>\n",
       "    </tr>\n",
       "    <tr>\n",
       "      <th>3</th>\n",
       "      <td>False</td>\n",
       "      <td>False</td>\n",
       "      <td>False</td>\n",
       "      <td>True</td>\n",
       "    </tr>\n",
       "  </tbody>\n",
       "</table>\n",
       "</div>"
      ],
      "text/plain": [
       "Subcategory  aluminum  no_information  wooden  plastic\n",
       "0               False           False    True    False\n",
       "1               False           False   False     True\n",
       "2               False           False   False     True\n",
       "3               False           False   False     True"
      ]
     },
     "execution_count": 97,
     "metadata": {},
     "output_type": "execute_result"
    }
   ],
   "source": [
    "for col in df_otodom_cleaned['windows'].columns:\n",
    "    df_otodom_cleaned[('windows', col)] = df_otodom_cleaned[('windows', col)].fillna(0).astype(bool)\n",
    "df_otodom_cleaned['windows'].head()"
   ]
  },
  {
   "cell_type": "code",
   "execution_count": 98,
   "metadata": {},
   "outputs": [
    {
     "data": {
      "text/html": [
       "<div>\n",
       "<style scoped>\n",
       "    .dataframe tbody tr th:only-of-type {\n",
       "        vertical-align: middle;\n",
       "    }\n",
       "\n",
       "    .dataframe tbody tr th {\n",
       "        vertical-align: top;\n",
       "    }\n",
       "\n",
       "    .dataframe thead th {\n",
       "        text-align: right;\n",
       "    }\n",
       "</style>\n",
       "<table border=\"1\" class=\"dataframe\">\n",
       "  <thead>\n",
       "    <tr style=\"text-align: right;\">\n",
       "      <th>Subcategory</th>\n",
       "      <th>concrete</th>\n",
       "      <th>aerated_concrete</th>\n",
       "      <th>no_information</th>\n",
       "      <th>brick</th>\n",
       "      <th>wood</th>\n",
       "      <th>other</th>\n",
       "      <th>lightweight_aggregate</th>\n",
       "      <th>hollow_brick</th>\n",
       "      <th>silicate</th>\n",
       "      <th>large_panel</th>\n",
       "      <th>reinforced_concrete</th>\n",
       "    </tr>\n",
       "  </thead>\n",
       "  <tbody>\n",
       "    <tr>\n",
       "      <th>0</th>\n",
       "      <td>False</td>\n",
       "      <td>False</td>\n",
       "      <td>False</td>\n",
       "      <td>True</td>\n",
       "      <td>False</td>\n",
       "      <td>False</td>\n",
       "      <td>False</td>\n",
       "      <td>False</td>\n",
       "      <td>False</td>\n",
       "      <td>False</td>\n",
       "      <td>False</td>\n",
       "    </tr>\n",
       "    <tr>\n",
       "      <th>1</th>\n",
       "      <td>False</td>\n",
       "      <td>False</td>\n",
       "      <td>False</td>\n",
       "      <td>True</td>\n",
       "      <td>False</td>\n",
       "      <td>False</td>\n",
       "      <td>False</td>\n",
       "      <td>False</td>\n",
       "      <td>False</td>\n",
       "      <td>False</td>\n",
       "      <td>False</td>\n",
       "    </tr>\n",
       "    <tr>\n",
       "      <th>2</th>\n",
       "      <td>False</td>\n",
       "      <td>False</td>\n",
       "      <td>False</td>\n",
       "      <td>False</td>\n",
       "      <td>False</td>\n",
       "      <td>False</td>\n",
       "      <td>False</td>\n",
       "      <td>False</td>\n",
       "      <td>False</td>\n",
       "      <td>False</td>\n",
       "      <td>True</td>\n",
       "    </tr>\n",
       "    <tr>\n",
       "      <th>3</th>\n",
       "      <td>False</td>\n",
       "      <td>False</td>\n",
       "      <td>False</td>\n",
       "      <td>True</td>\n",
       "      <td>False</td>\n",
       "      <td>False</td>\n",
       "      <td>False</td>\n",
       "      <td>False</td>\n",
       "      <td>False</td>\n",
       "      <td>False</td>\n",
       "      <td>False</td>\n",
       "    </tr>\n",
       "  </tbody>\n",
       "</table>\n",
       "</div>"
      ],
      "text/plain": [
       "Subcategory  concrete  aerated_concrete  no_information  brick   wood  other  \\\n",
       "0               False             False           False   True  False  False   \n",
       "1               False             False           False   True  False  False   \n",
       "2               False             False           False  False  False  False   \n",
       "3               False             False           False   True  False  False   \n",
       "\n",
       "Subcategory  lightweight_aggregate  hollow_brick  silicate  large_panel  \\\n",
       "0                            False         False     False        False   \n",
       "1                            False         False     False        False   \n",
       "2                            False         False     False        False   \n",
       "3                            False         False     False        False   \n",
       "\n",
       "Subcategory  reinforced_concrete  \n",
       "0                          False  \n",
       "1                          False  \n",
       "2                           True  \n",
       "3                          False  "
      ]
     },
     "execution_count": 98,
     "metadata": {},
     "output_type": "execute_result"
    }
   ],
   "source": [
    "for col in df_otodom_cleaned['building_material'].columns:\n",
    "    df_otodom_cleaned[('building_material', col)] = df_otodom_cleaned[('building_material', col)].fillna(0).astype(bool)\n",
    "df_otodom_cleaned['building_material'].head()"
   ]
  },
  {
   "cell_type": "code",
   "execution_count": 99,
   "metadata": {},
   "outputs": [
    {
     "data": {
      "text/html": [
       "<div>\n",
       "<style scoped>\n",
       "    .dataframe tbody tr th:only-of-type {\n",
       "        vertical-align: middle;\n",
       "    }\n",
       "\n",
       "    .dataframe tbody tr th {\n",
       "        vertical-align: top;\n",
       "    }\n",
       "\n",
       "    .dataframe thead th {\n",
       "        text-align: right;\n",
       "    }\n",
       "</style>\n",
       "<table border=\"1\" class=\"dataframe\">\n",
       "  <thead>\n",
       "    <tr style=\"text-align: right;\">\n",
       "      <th>Subcategory</th>\n",
       "      <th>no_information</th>\n",
       "      <th>duplex</th>\n",
       "      <th>air_conditioning</th>\n",
       "      <th>separate_kitchen</th>\n",
       "      <th>basement</th>\n",
       "      <th>utility_room</th>\n",
       "      <th>non_smokers_only</th>\n",
       "    </tr>\n",
       "  </thead>\n",
       "  <tbody>\n",
       "    <tr>\n",
       "      <th>0</th>\n",
       "      <td>True</td>\n",
       "      <td>False</td>\n",
       "      <td>False</td>\n",
       "      <td>False</td>\n",
       "      <td>False</td>\n",
       "      <td>False</td>\n",
       "      <td>False</td>\n",
       "    </tr>\n",
       "    <tr>\n",
       "      <th>1</th>\n",
       "      <td>False</td>\n",
       "      <td>False</td>\n",
       "      <td>False</td>\n",
       "      <td>True</td>\n",
       "      <td>False</td>\n",
       "      <td>False</td>\n",
       "      <td>True</td>\n",
       "    </tr>\n",
       "    <tr>\n",
       "      <th>2</th>\n",
       "      <td>False</td>\n",
       "      <td>False</td>\n",
       "      <td>False</td>\n",
       "      <td>True</td>\n",
       "      <td>False</td>\n",
       "      <td>False</td>\n",
       "      <td>False</td>\n",
       "    </tr>\n",
       "    <tr>\n",
       "      <th>3</th>\n",
       "      <td>False</td>\n",
       "      <td>False</td>\n",
       "      <td>False</td>\n",
       "      <td>True</td>\n",
       "      <td>False</td>\n",
       "      <td>False</td>\n",
       "      <td>True</td>\n",
       "    </tr>\n",
       "  </tbody>\n",
       "</table>\n",
       "</div>"
      ],
      "text/plain": [
       "Subcategory  no_information  duplex  air_conditioning  separate_kitchen  \\\n",
       "0                      True   False             False             False   \n",
       "1                     False   False             False              True   \n",
       "2                     False   False             False              True   \n",
       "3                     False   False             False              True   \n",
       "\n",
       "Subcategory  basement  utility_room  non_smokers_only  \n",
       "0               False         False             False  \n",
       "1               False         False              True  \n",
       "2               False         False             False  \n",
       "3               False         False              True  "
      ]
     },
     "execution_count": 99,
     "metadata": {},
     "output_type": "execute_result"
    }
   ],
   "source": [
    "for col in df_otodom_cleaned['additional_information'].columns:\n",
    "    df_otodom_cleaned[('additional_information', col)] = df_otodom_cleaned[('additional_information', col)].fillna(0).astype(bool)\n",
    "df_otodom_cleaned['additional_information'].head()"
   ]
  },
  {
   "cell_type": "markdown",
   "metadata": {},
   "source": [
    "Converting selected columns to the strings<br>\n",
    "*We do not care about backward compatibly, and a `string` is much more readable than a `object`*"
   ]
  },
  {
   "cell_type": "code",
   "execution_count": 100,
   "metadata": {},
   "outputs": [],
   "source": [
    "columns_to_convert = [\n",
    "    ('listing', 'link'),\n",
    "    ('listing', 'title'),\n",
    "    ('listing', 'summary_description'),\n",
    "    ('listing', 'remote_service'),\n",
    "    ('location', 'complete_address'),\n",
    "    ('location', 'street'),\n",
    "    ('location', 'city'),\n",
    "    ('location', 'voivodeship'),\n",
    "    ('legal_and_availability', 'available_from'),\n",
    "    ('legal_and_availability', 'completion'),\n",
    "    ('legal_and_availability', 'ownership'),\n",
    "    ('type_and_year', 'building_type'),\n",
    "]\n",
    "\n",
    "# Convert each column to the pandas string type\n",
    "for col in columns_to_convert:\n",
    "    df_otodom_cleaned[col] = df_otodom_cleaned[col].astype('string')"
   ]
  },
  {
   "cell_type": "code",
   "execution_count": 101,
   "metadata": {},
   "outputs": [
    {
     "data": {
      "text/plain": [
       "{('listing', 'link'): string[python],\n",
       " ('listing', 'title'): string[python],\n",
       " ('listing', 'summary_description'): string[python],\n",
       " ('listing', 'remote_service'): string[python],\n",
       " ('pricing', 'price'): dtype('float64'),\n",
       " ('pricing', 'rent'): dtype('float64'),\n",
       " ('pricing', 'total_rent'): dtype('float64'),\n",
       " ('pricing', 'deposit'): dtype('float64'),\n",
       " ('location', 'complete_address'): string[python],\n",
       " ('location', 'street'): string[python],\n",
       " ('location', 'city'): string[python],\n",
       " ('location', 'voivodeship'): string[python],\n",
       " ('size', 'square_meters'): dtype('float64'),\n",
       " ('size', 'number_of_rooms'): Int64Dtype(),\n",
       " ('size', 'floor'): Int64Dtype(),\n",
       " ('size', 'attic'): dtype('bool'),\n",
       " ('size', 'building_floors'): Int64Dtype(),\n",
       " ('legal_and_availability', 'available_from'): string[python],\n",
       " ('legal_and_availability', 'completion'): string[python],\n",
       " ('legal_and_availability', 'ownership'): string[python],\n",
       " ('legal_and_availability', 'rent_to_students'): BooleanDtype,\n",
       " ('type_and_year', 'building_type'): string[python],\n",
       " ('type_and_year', 'build_year'): Int64Dtype(),\n",
       " ('amenities', 'elevator'): BooleanDtype,\n",
       " ('amenities', 'parking_space'): BooleanDtype,\n",
       " ('equipment', 'no_information'): dtype('bool'),\n",
       " ('equipment', 'stove'): dtype('bool'),\n",
       " ('equipment', 'fridge'): dtype('bool'),\n",
       " ('equipment', 'furniture'): dtype('bool'),\n",
       " ('equipment', 'oven'): dtype('bool'),\n",
       " ('equipment', 'washing_machine'): dtype('bool'),\n",
       " ('equipment', 'TV'): dtype('bool'),\n",
       " ('equipment', 'dishwasher'): dtype('bool'),\n",
       " ('media_types', 'no_information'): dtype('bool'),\n",
       " ('media_types', 'internet'): dtype('bool'),\n",
       " ('media_types', 'telephone'): dtype('bool'),\n",
       " ('media_types', 'cable_TV'): dtype('bool'),\n",
       " ('heating', 'no_information'): dtype('bool'),\n",
       " ('heating', 'electric'): dtype('bool'),\n",
       " ('heating', 'gas'): dtype('bool'),\n",
       " ('heating', 'other'): dtype('bool'),\n",
       " ('heating', 'boiler_room'): dtype('bool'),\n",
       " ('heating', 'district'): dtype('bool'),\n",
       " ('heating', 'tile_stove'): dtype('bool'),\n",
       " ('security', 'no_information'): dtype('bool'),\n",
       " ('security', 'intercom_or_video_intercom'): dtype('bool'),\n",
       " ('security', 'anti_burglary_doors_or_windows'): dtype('bool'),\n",
       " ('security', 'monitoring_or_security'): dtype('bool'),\n",
       " ('security', 'anti_burglary_roller_blinds'): dtype('bool'),\n",
       " ('security', 'alarm_system'): dtype('bool'),\n",
       " ('security', 'enclosed_area'): dtype('bool'),\n",
       " ('windows', 'aluminum'): dtype('bool'),\n",
       " ('windows', 'no_information'): dtype('bool'),\n",
       " ('windows', 'wooden'): dtype('bool'),\n",
       " ('windows', 'plastic'): dtype('bool'),\n",
       " ('building_material', 'concrete'): dtype('bool'),\n",
       " ('building_material', 'aerated_concrete'): dtype('bool'),\n",
       " ('building_material', 'no_information'): dtype('bool'),\n",
       " ('building_material', 'brick'): dtype('bool'),\n",
       " ('building_material', 'wood'): dtype('bool'),\n",
       " ('building_material', 'other'): dtype('bool'),\n",
       " ('building_material', 'lightweight_aggregate'): dtype('bool'),\n",
       " ('building_material', 'hollow_brick'): dtype('bool'),\n",
       " ('building_material', 'silicate'): dtype('bool'),\n",
       " ('building_material', 'large_panel'): dtype('bool'),\n",
       " ('building_material', 'reinforced_concrete'): dtype('bool'),\n",
       " ('additional_information', 'no_information'): dtype('bool'),\n",
       " ('additional_information', 'duplex'): dtype('bool'),\n",
       " ('additional_information', 'air_conditioning'): dtype('bool'),\n",
       " ('additional_information', 'separate_kitchen'): dtype('bool'),\n",
       " ('additional_information', 'basement'): dtype('bool'),\n",
       " ('additional_information', 'utility_room'): dtype('bool'),\n",
       " ('additional_information', 'non_smokers_only'): dtype('bool')}"
      ]
     },
     "execution_count": 101,
     "metadata": {},
     "output_type": "execute_result"
    }
   ],
   "source": [
    "df_otodom_cleaned.dtypes.to_dict()"
   ]
  },
  {
   "cell_type": "markdown",
   "metadata": {},
   "source": [
    "## 3. Save cleaned data"
   ]
  },
  {
   "cell_type": "markdown",
   "metadata": {},
   "source": [
    "### 3.1. Save data"
   ]
  },
  {
   "cell_type": "code",
   "execution_count": 102,
   "metadata": {},
   "outputs": [
    {
     "name": "stdout",
     "output_type": "stream",
     "text": [
      "Saving schema to d:\\UserData karol\\Documents\\Programming\\Data Science\\Data Engineering\\Rent comparisions\\Home Market Harvester\\data\\cleaned\\2024_02_09_11_45_45_Warszawa\\otodom_pl_schema.json\n",
      "Saving CSV to d:\\UserData karol\\Documents\\Programming\\Data Science\\Data Engineering\\Rent comparisions\\Home Market Harvester\\data\\cleaned\\2024_02_09_11_45_45_Warszawa\\otodom.pl.csv\n"
     ]
    }
   ],
   "source": [
    "data_path_manager.save_df(df_otodom_cleaned, domain=\"otodom\")"
   ]
  },
  {
   "cell_type": "markdown",
   "metadata": {},
   "source": [
    "### 3.2 Check saved data"
   ]
  },
  {
   "cell_type": "markdown",
   "metadata": {},
   "source": [
    "### Otodom"
   ]
  },
  {
   "cell_type": "code",
   "execution_count": 103,
   "metadata": {},
   "outputs": [
    {
     "data": {
      "text/html": [
       "<div>\n",
       "<style scoped>\n",
       "    .dataframe tbody tr th:only-of-type {\n",
       "        vertical-align: middle;\n",
       "    }\n",
       "\n",
       "    .dataframe tbody tr th {\n",
       "        vertical-align: top;\n",
       "    }\n",
       "\n",
       "    .dataframe thead tr th {\n",
       "        text-align: left;\n",
       "    }\n",
       "</style>\n",
       "<table border=\"1\" class=\"dataframe\">\n",
       "  <thead>\n",
       "    <tr>\n",
       "      <th></th>\n",
       "      <th colspan=\"4\" halign=\"left\">listing</th>\n",
       "      <th colspan=\"4\" halign=\"left\">pricing</th>\n",
       "      <th colspan=\"2\" halign=\"left\">location</th>\n",
       "      <th>...</th>\n",
       "      <th colspan=\"3\" halign=\"left\">building_material</th>\n",
       "      <th colspan=\"7\" halign=\"left\">additional_information</th>\n",
       "    </tr>\n",
       "    <tr>\n",
       "      <th></th>\n",
       "      <th>link</th>\n",
       "      <th>title</th>\n",
       "      <th>summary_description</th>\n",
       "      <th>remote_service</th>\n",
       "      <th>price</th>\n",
       "      <th>rent</th>\n",
       "      <th>total_rent</th>\n",
       "      <th>deposit</th>\n",
       "      <th>complete_address</th>\n",
       "      <th>street</th>\n",
       "      <th>...</th>\n",
       "      <th>silicate</th>\n",
       "      <th>large_panel</th>\n",
       "      <th>reinforced_concrete</th>\n",
       "      <th>no_information</th>\n",
       "      <th>duplex</th>\n",
       "      <th>air_conditioning</th>\n",
       "      <th>separate_kitchen</th>\n",
       "      <th>basement</th>\n",
       "      <th>utility_room</th>\n",
       "      <th>non_smokers_only</th>\n",
       "    </tr>\n",
       "  </thead>\n",
       "  <tbody>\n",
       "    <tr>\n",
       "      <th>0</th>\n",
       "      <td>https://www.otodom.pl/pl/oferta/bezposrednio-w...</td>\n",
       "      <td>BEZPOŚREDNIO, wola, 2 pokojowe</td>\n",
       "      <td>Wynajmę bezpośrednio mieszkanie w Warszawie pr...</td>\n",
       "      <td>&lt;NA&gt;</td>\n",
       "      <td>3000.0</td>\n",
       "      <td>NaN</td>\n",
       "      <td>3000.0</td>\n",
       "      <td>NaN</td>\n",
       "      <td>ul. Władysława Przanowskiego 83, Ulrychów, Wol...</td>\n",
       "      <td>ul. Władysława Przanowskiego 83</td>\n",
       "      <td>...</td>\n",
       "      <td>False</td>\n",
       "      <td>False</td>\n",
       "      <td>False</td>\n",
       "      <td>True</td>\n",
       "      <td>False</td>\n",
       "      <td>False</td>\n",
       "      <td>False</td>\n",
       "      <td>False</td>\n",
       "      <td>False</td>\n",
       "      <td>False</td>\n",
       "    </tr>\n",
       "    <tr>\n",
       "      <th>1</th>\n",
       "      <td>https://www.otodom.pl/pl/oferta/ciche-52m2przy...</td>\n",
       "      <td>Ciche 52m2przy kanale żerańskim - Bez Prowizj</td>\n",
       "      <td>Zamieszkaj w ciszy i dobrym standardzie\n",
       "\n",
       "     ...</td>\n",
       "      <td>&lt;NA&gt;</td>\n",
       "      <td>2340.0</td>\n",
       "      <td>NaN</td>\n",
       "      <td>2340.0</td>\n",
       "      <td>2940.0</td>\n",
       "      <td>ul. Żeglugi Wiślanej, Kobiałka, Białołęka, War...</td>\n",
       "      <td>ul. Żeglugi Wiślanej</td>\n",
       "      <td>...</td>\n",
       "      <td>False</td>\n",
       "      <td>False</td>\n",
       "      <td>False</td>\n",
       "      <td>False</td>\n",
       "      <td>False</td>\n",
       "      <td>False</td>\n",
       "      <td>True</td>\n",
       "      <td>False</td>\n",
       "      <td>False</td>\n",
       "      <td>True</td>\n",
       "    </tr>\n",
       "    <tr>\n",
       "      <th>2</th>\n",
       "      <td>https://www.otodom.pl/pl/oferta/rezerwacja-m2-...</td>\n",
       "      <td>REZERWACJA - M2 44m2 | Balkon | Garaż | Praga ...</td>\n",
       "      <td>REZERWACJA!!!\n",
       "\n",
       "Oferuję do wynajęcia dwupokojow...</td>\n",
       "      <td>unspecified</td>\n",
       "      <td>3200.0</td>\n",
       "      <td>1.0</td>\n",
       "      <td>3201.0</td>\n",
       "      <td>3200.0</td>\n",
       "      <td>ul. Ostrobramska, Gocław, Praga-Południe, Wars...</td>\n",
       "      <td>ul. Ostrobramska</td>\n",
       "      <td>...</td>\n",
       "      <td>False</td>\n",
       "      <td>False</td>\n",
       "      <td>True</td>\n",
       "      <td>False</td>\n",
       "      <td>False</td>\n",
       "      <td>False</td>\n",
       "      <td>True</td>\n",
       "      <td>False</td>\n",
       "      <td>False</td>\n",
       "      <td>False</td>\n",
       "    </tr>\n",
       "    <tr>\n",
       "      <th>3</th>\n",
       "      <td>https://www.otodom.pl/pl/oferta/3-oddzielne-po...</td>\n",
       "      <td>3 oddzielne pok. - Park Picassa - Bez prowizji</td>\n",
       "      <td>Zamieszkaj w ciszy w dobrym standardzie na pon...</td>\n",
       "      <td>&lt;NA&gt;</td>\n",
       "      <td>3000.0</td>\n",
       "      <td>NaN</td>\n",
       "      <td>3000.0</td>\n",
       "      <td>3550.0</td>\n",
       "      <td>ul. Erazma z Zakroczymia, Tarchomin, Białołęka...</td>\n",
       "      <td>ul. Erazma z Zakroczymia</td>\n",
       "      <td>...</td>\n",
       "      <td>False</td>\n",
       "      <td>False</td>\n",
       "      <td>False</td>\n",
       "      <td>False</td>\n",
       "      <td>False</td>\n",
       "      <td>False</td>\n",
       "      <td>True</td>\n",
       "      <td>False</td>\n",
       "      <td>False</td>\n",
       "      <td>True</td>\n",
       "    </tr>\n",
       "  </tbody>\n",
       "</table>\n",
       "<p>4 rows × 73 columns</p>\n",
       "</div>"
      ],
      "text/plain": [
       "                                             listing  \\\n",
       "                                                link   \n",
       "0  https://www.otodom.pl/pl/oferta/bezposrednio-w...   \n",
       "1  https://www.otodom.pl/pl/oferta/ciche-52m2przy...   \n",
       "2  https://www.otodom.pl/pl/oferta/rezerwacja-m2-...   \n",
       "3  https://www.otodom.pl/pl/oferta/3-oddzielne-po...   \n",
       "\n",
       "                                                      \\\n",
       "                                               title   \n",
       "0                     BEZPOŚREDNIO, wola, 2 pokojowe   \n",
       "1      Ciche 52m2przy kanale żerańskim - Bez Prowizj   \n",
       "2  REZERWACJA - M2 44m2 | Balkon | Garaż | Praga ...   \n",
       "3     3 oddzielne pok. - Park Picassa - Bez prowizji   \n",
       "\n",
       "                                                                    pricing  \\\n",
       "                                 summary_description remote_service   price   \n",
       "0  Wynajmę bezpośrednio mieszkanie w Warszawie pr...           <NA>  3000.0   \n",
       "1  Zamieszkaj w ciszy i dobrym standardzie\n",
       "\n",
       "     ...           <NA>  2340.0   \n",
       "2  REZERWACJA!!!\n",
       "\n",
       "Oferuję do wynajęcia dwupokojow...    unspecified  3200.0   \n",
       "3  Zamieszkaj w ciszy w dobrym standardzie na pon...           <NA>  3000.0   \n",
       "\n",
       "                                                                    location  \\\n",
       "  rent total_rent deposit                                   complete_address   \n",
       "0  NaN     3000.0     NaN  ul. Władysława Przanowskiego 83, Ulrychów, Wol...   \n",
       "1  NaN     2340.0  2940.0  ul. Żeglugi Wiślanej, Kobiałka, Białołęka, War...   \n",
       "2  1.0     3201.0  3200.0  ul. Ostrobramska, Gocław, Praga-Południe, Wars...   \n",
       "3  NaN     3000.0  3550.0  ul. Erazma z Zakroczymia, Tarchomin, Białołęka...   \n",
       "\n",
       "                                    ... building_material              \\\n",
       "                            street  ...          silicate large_panel   \n",
       "0  ul. Władysława Przanowskiego 83  ...             False       False   \n",
       "1             ul. Żeglugi Wiślanej  ...             False       False   \n",
       "2                 ul. Ostrobramska  ...             False       False   \n",
       "3         ul. Erazma z Zakroczymia  ...             False       False   \n",
       "\n",
       "                      additional_information                          \\\n",
       "  reinforced_concrete         no_information duplex air_conditioning   \n",
       "0               False                   True  False            False   \n",
       "1               False                  False  False            False   \n",
       "2                True                  False  False            False   \n",
       "3               False                  False  False            False   \n",
       "\n",
       "                                                           \n",
       "  separate_kitchen basement utility_room non_smokers_only  \n",
       "0            False    False        False            False  \n",
       "1             True    False        False             True  \n",
       "2             True    False        False            False  \n",
       "3             True    False        False             True  \n",
       "\n",
       "[4 rows x 73 columns]"
      ]
     },
     "execution_count": 103,
     "metadata": {},
     "output_type": "execute_result"
    }
   ],
   "source": [
    "df_otodom_saved = data_path_manager.load_df(domain=\"otodom\", is_cleaned=True)\n",
    "df_otodom_saved.head()\n"
   ]
  },
  {
   "cell_type": "code",
   "execution_count": 104,
   "metadata": {},
   "outputs": [
    {
     "name": "stdout",
     "output_type": "stream",
     "text": [
      "The saved DataFrame is identical to the original one.\n"
     ]
    }
   ],
   "source": [
    "are_identical = df_otodom_saved.equals(df_otodom_cleaned)\n",
    "if not are_identical:\n",
    "    raise ValueError(\"The saved DataFrame is not identical to the original one.\")\n",
    "else:\n",
    "    print(\"The saved DataFrame is identical to the original one.\")"
   ]
  }
 ],
 "metadata": {
  "kernelspec": {
   "display_name": "Python 3",
   "language": "python",
   "name": "python3"
  },
  "language_info": {
   "codemirror_mode": {
    "name": "ipython",
    "version": 3
   },
   "file_extension": ".py",
   "mimetype": "text/x-python",
   "name": "python",
   "nbconvert_exporter": "python",
   "pygments_lexer": "ipython3",
   "version": "3.11.1"
  }
 },
 "nbformat": 4,
 "nbformat_minor": 2
}
