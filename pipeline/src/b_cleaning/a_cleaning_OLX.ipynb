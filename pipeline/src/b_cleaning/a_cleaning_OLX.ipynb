{
 "cells": [
  {
   "cell_type": "markdown",
   "metadata": {},
   "source": [
    "# Data Preview"
   ]
  },
  {
   "cell_type": "markdown",
   "metadata": {},
   "source": [
    "## 1. Set up"
   ]
  },
  {
   "cell_type": "code",
   "execution_count": 1,
   "metadata": {},
   "outputs": [
    {
     "name": "stdout",
     "output_type": "stream",
     "text": [
      "The root directory of the project is: d:\\UserData karol\\Documents\\Programming\\Data Science\\Data Engineering\\Rent comparisions\\Home Market Harvester\n"
     ]
    }
   ],
   "source": [
    "# Standard imports\n",
    "from pathlib import Path\n",
    "import os\n",
    "import re\n",
    "import sys\n",
    "\n",
    "def set_project_root():\n",
    "    notebooks_dir = Path.cwd()\n",
    "\n",
    "    # Calculate the root directory of the project (go up three levels)\n",
    "    project_root = notebooks_dir.parent.parent.parent\n",
    "\n",
    "    if str(project_root) not in sys.path:\n",
    "        print(f\"The root directory of the project is: {project_root}\")\n",
    "        sys.path.append(str(project_root))\n",
    "\n",
    "    return project_root\n",
    "\n",
    "project_root = set_project_root()"
   ]
  },
  {
   "cell_type": "markdown",
   "metadata": {},
   "source": [
    "### 1.3 Importing Data"
   ]
  },
  {
   "cell_type": "code",
   "execution_count": 2,
   "metadata": {},
   "outputs": [],
   "source": [
    "# Third-party imports\n",
    "import pandas as pd\n",
    "\n",
    "# Local imports\n",
    "from pipeline.src._csv_utils import DataPathCleaningManager\n",
    "\n",
    "data_timeplace = os.getenv(\"MARKET_OFFERS_TIMEPLACE\")\n",
    "if data_timeplace is None:\n",
    "    raise ValueError(\"The environment variable MARKET_OFFERS_TIMEPLACE is not set.\")\n",
    "\n",
    "data_path_manager = DataPathCleaningManager(data_timeplace, project_root)\n",
    "\n",
    "df_olx = data_path_manager.load_df(domain=\"olx\", is_cleaned=False)"
   ]
  },
  {
   "cell_type": "markdown",
   "metadata": {},
   "source": [
    "### 1.2 Functions"
   ]
  },
  {
   "cell_type": "code",
   "execution_count": 3,
   "metadata": {},
   "outputs": [],
   "source": [
    "def count_and_percentage(df, column_name):\n",
    "    \"\"\"\n",
    "    Function to calculate the count and percentage of unique values in a given column of a DataFrame.\n",
    "\n",
    "    Parameters:\n",
    "    df (pandas.DataFrame): The DataFrame to analyze.\n",
    "    column_name (str): The name of the column in the DataFrame.\n",
    "\n",
    "    Returns:\n",
    "    pandas.DataFrame: A DataFrame with the count and percentage of each unique value in the specified column.\n",
    "\n",
    "    Raises:\n",
    "    ValueError: If the specified column is not found in the DataFrame.\n",
    "    \"\"\"\n",
    "    # Check if the column exists in the DataFrame\n",
    "    if column_name not in df.columns:\n",
    "        raise ValueError(f\"Column '{column_name}' not found in DataFrame.\")\n",
    "\n",
    "    # Calculate count and normalized values\n",
    "    count = df[column_name].value_counts(dropna=False)\n",
    "    normalized = df[column_name].value_counts(dropna=False, normalize=True) * 100\n",
    "\n",
    "    # Concatenate count and normalized values side by side\n",
    "    result = pd.concat([count, normalized], axis=1)\n",
    "    result.columns = ['Count', 'Percentage']\n",
    "\n",
    "    return result"
   ]
  },
  {
   "cell_type": "code",
   "execution_count": 4,
   "metadata": {},
   "outputs": [],
   "source": [
    "def count_comma_separated_values(df, column_name):\n",
    "    \"\"\"\n",
    "    Counts the occurrences of individual elements in a comma-separated string column of a DataFrame.\n",
    "\n",
    "    Parameters:\n",
    "    df (pandas.DataFrame): The DataFrame containing the column.\n",
    "    column_name (str): The name of the column to analyze.\n",
    "\n",
    "    Returns:\n",
    "    pandas.DataFrame: A DataFrame with the count and percentage of each unique element found in the comma-separated values.\n",
    "\n",
    "    Raises:\n",
    "    ValueError: If the specified column is not found in the DataFrame.\n",
    "    \"\"\"\n",
    "    # Check if the column exists in the DataFrame\n",
    "    if column_name not in df.columns:\n",
    "        raise ValueError(f\"Column '{column_name}' not found in DataFrame.\")\n",
    "\n",
    "    # Split the column values, explode to individual elements, and count\n",
    "    exploded_items = df[column_name].dropna().str.split(', ').explode()\n",
    "    exploded_df = pd.DataFrame({column_name: exploded_items})\n",
    "    counts_and_percent = count_and_percentage(exploded_df, column_name)\n",
    "\n",
    "    return counts_and_percent"
   ]
  },
  {
   "cell_type": "code",
   "execution_count": 5,
   "metadata": {},
   "outputs": [],
   "source": [
    "def remove_non_numeric_characters(df, column_name):\n",
    "    \"\"\"\n",
    "    Removes all non-numeric characters from a column of a DataFrame.\n",
    "\n",
    "    Parameters:\n",
    "    df (pandas.DataFrame): The DataFrame containing the column.\n",
    "    column_name (str): The name of the column to analyze.\n",
    "\n",
    "    Returns:\n",
    "    pandas.DataFrame: A DataFrame with all non-numeric characters removed from the specified column.\n",
    "\n",
    "    Raises:\n",
    "    ValueError: If the specified column is not found in the DataFrame.\n",
    "    \"\"\"\n",
    "\n",
    "    return df[column_name].str.replace('[^a-zA-Z]', '', regex=True).unique()"
   ]
  },
  {
   "cell_type": "code",
   "execution_count": 6,
   "metadata": {},
   "outputs": [],
   "source": [
    "def count_words(text):\n",
    "    if pd.isna(text):\n",
    "        return 0\n",
    "    return len(str(text).split())\n"
   ]
  },
  {
   "cell_type": "markdown",
   "metadata": {},
   "source": [
    "## 2. Data preview"
   ]
  },
  {
   "cell_type": "markdown",
   "metadata": {},
   "source": [
    "### OLX"
   ]
  },
  {
   "cell_type": "code",
   "execution_count": 7,
   "metadata": {},
   "outputs": [],
   "source": [
    "def clean_olx_data(df):\n",
    "\n",
    "    df[['voivodeship', 'city']] = df['location'].str.split(', ', expand=True)\n",
    "\n",
    "    pattern = r'ul\\s+(\\w+\\s+\\d+/\\d+)'\n",
    "    df['street'] = df['summary_description'].apply(lambda x: re.search(pattern, x).group(1) if re.search(pattern, x) else None)\n",
    "    \n",
    "    del df['location']\n",
    "    \n",
    "    df['price'] = df['price'].str.extract('(\\d+ \\d+)')[0].str.replace(' ', '').astype(float)\n",
    "    df['rent'] = df['rent'].str.extract('(\\d+)')[0].astype(float)\n",
    "\n",
    "\n",
    "    # Extract and convert 'square_meters' into integers\n",
    "    df['square_meters'] = df['square_meters'].str.extract('(\\d+)')[0].astype('Int64')\n",
    "\n",
    "    # Convert 'number_of_rooms' into an integer, special handling for \"Kawalerka\"\n",
    "    df['number_of_rooms'] = df['number_of_rooms'].replace('Liczba pokoi: Kawalerka', '1')\n",
    "    df['number_of_rooms'] = df['number_of_rooms'].str.extract('(\\d+)')\n",
    "    df['number_of_rooms'] = df['number_of_rooms'].astype('Int64')\n",
    "\n",
    "    # Extract and clean 'floor_level', 'is_furnished', 'building_type'\n",
    "    df['floor_level'] = df['floor_level'].str.extract('Poziom: (\\d+)')[0]\n",
    "    df['is_furnished'] = df['is_furnished'].map({'Umeblowane: Tak': True, 'Umeblowane: Nie': False})\n",
    "    df['building_type'] = df['building_type'].str.extract('Rodzaj zabudowy: (.+)')[0]\n",
    "\n",
    "    return df"
   ]
  },
  {
   "cell_type": "code",
   "execution_count": 8,
   "metadata": {},
   "outputs": [
    {
     "data": {
      "text/html": [
       "<div>\n",
       "<style scoped>\n",
       "    .dataframe tbody tr th:only-of-type {\n",
       "        vertical-align: middle;\n",
       "    }\n",
       "\n",
       "    .dataframe tbody tr th {\n",
       "        vertical-align: top;\n",
       "    }\n",
       "\n",
       "    .dataframe thead th {\n",
       "        text-align: right;\n",
       "    }\n",
       "</style>\n",
       "<table border=\"1\" class=\"dataframe\">\n",
       "  <thead>\n",
       "    <tr style=\"text-align: right;\">\n",
       "      <th></th>\n",
       "      <th>link</th>\n",
       "      <th>title</th>\n",
       "      <th>price</th>\n",
       "      <th>summary_description</th>\n",
       "      <th>ownership</th>\n",
       "      <th>floor_level</th>\n",
       "      <th>is_furnished</th>\n",
       "      <th>building_type</th>\n",
       "      <th>square_meters</th>\n",
       "      <th>number_of_rooms</th>\n",
       "      <th>rent</th>\n",
       "      <th>voivodeship</th>\n",
       "      <th>city</th>\n",
       "      <th>street</th>\n",
       "    </tr>\n",
       "  </thead>\n",
       "  <tbody>\n",
       "    <tr>\n",
       "      <th>0</th>\n",
       "      <td>https://www.olx.pl/d/oferta/wynajme-nowy-apart...</td>\n",
       "      <td>Wynajmę nowy apartament w domu czterorodzinnym</td>\n",
       "      <td>2500.0</td>\n",
       "      <td>OpisWynajmę nowy apartament o powierzchni 60,3...</td>\n",
       "      <td>Prywatne</td>\n",
       "      <td>1</td>\n",
       "      <td>True</td>\n",
       "      <td>Dom wolnostojący</td>\n",
       "      <td>60</td>\n",
       "      <td>3</td>\n",
       "      <td>500.0</td>\n",
       "      <td>Śląskie</td>\n",
       "      <td>Przeczyce</td>\n",
       "      <td>None</td>\n",
       "    </tr>\n",
       "    <tr>\n",
       "      <th>1</th>\n",
       "      <td>https://www.olx.pl/d/oferta/wynajme-mieszkanie...</td>\n",
       "      <td>Wynajmę mieszkanie w Mierzęcicach</td>\n",
       "      <td>2600.0</td>\n",
       "      <td>OpisWynajmę mieszkanie 2 pokojowe, na 1 piętrz...</td>\n",
       "      <td>Prywatne</td>\n",
       "      <td>1</td>\n",
       "      <td>True</td>\n",
       "      <td>Blok</td>\n",
       "      <td>49</td>\n",
       "      <td>2</td>\n",
       "      <td>1.0</td>\n",
       "      <td>Śląskie</td>\n",
       "      <td>Mierzęcice</td>\n",
       "      <td>None</td>\n",
       "    </tr>\n",
       "    <tr>\n",
       "      <th>2</th>\n",
       "      <td>https://www.olx.pl/d/oferta/mieszkanie-47m2-os...</td>\n",
       "      <td>Mieszkanie 47m2 Osiedle Mierzęcice</td>\n",
       "      <td>1700.0</td>\n",
       "      <td>OpisWitam, wynajmę mieszkanie! Mieszkanie jest...</td>\n",
       "      <td>Prywatne</td>\n",
       "      <td>1</td>\n",
       "      <td>True</td>\n",
       "      <td>Blok</td>\n",
       "      <td>47</td>\n",
       "      <td>2</td>\n",
       "      <td>1.0</td>\n",
       "      <td>Śląskie</td>\n",
       "      <td>Nowa Wieś</td>\n",
       "      <td>None</td>\n",
       "    </tr>\n",
       "  </tbody>\n",
       "</table>\n",
       "</div>"
      ],
      "text/plain": [
       "                                                link  \\\n",
       "0  https://www.olx.pl/d/oferta/wynajme-nowy-apart...   \n",
       "1  https://www.olx.pl/d/oferta/wynajme-mieszkanie...   \n",
       "2  https://www.olx.pl/d/oferta/mieszkanie-47m2-os...   \n",
       "\n",
       "                                            title   price  \\\n",
       "0  Wynajmę nowy apartament w domu czterorodzinnym  2500.0   \n",
       "1               Wynajmę mieszkanie w Mierzęcicach  2600.0   \n",
       "2              Mieszkanie 47m2 Osiedle Mierzęcice  1700.0   \n",
       "\n",
       "                                 summary_description ownership floor_level  \\\n",
       "0  OpisWynajmę nowy apartament o powierzchni 60,3...  Prywatne           1   \n",
       "1  OpisWynajmę mieszkanie 2 pokojowe, na 1 piętrz...  Prywatne           1   \n",
       "2  OpisWitam, wynajmę mieszkanie! Mieszkanie jest...  Prywatne           1   \n",
       "\n",
       "   is_furnished     building_type  square_meters  number_of_rooms   rent  \\\n",
       "0          True  Dom wolnostojący             60                3  500.0   \n",
       "1          True              Blok             49                2    1.0   \n",
       "2          True              Blok             47                2    1.0   \n",
       "\n",
       "  voivodeship        city street  \n",
       "0     Śląskie   Przeczyce   None  \n",
       "1     Śląskie  Mierzęcice   None  \n",
       "2     Śląskie   Nowa Wieś   None  "
      ]
     },
     "execution_count": 8,
     "metadata": {},
     "output_type": "execute_result"
    }
   ],
   "source": [
    "df_olx_cleaned = clean_olx_data(df_olx)\n",
    "df_olx_cleaned.head()"
   ]
  },
  {
   "cell_type": "code",
   "execution_count": 9,
   "metadata": {},
   "outputs": [
    {
     "data": {
      "text/plain": [
       "link                    object\n",
       "title                   object\n",
       "price                  float64\n",
       "summary_description     object\n",
       "ownership               object\n",
       "floor_level             object\n",
       "is_furnished              bool\n",
       "building_type           object\n",
       "square_meters            Int64\n",
       "number_of_rooms          Int64\n",
       "rent                   float64\n",
       "voivodeship             object\n",
       "city                    object\n",
       "street                  object\n",
       "dtype: object"
      ]
     },
     "execution_count": 9,
     "metadata": {},
     "output_type": "execute_result"
    }
   ],
   "source": [
    "df_olx_cleaned.dtypes"
   ]
  },
  {
   "cell_type": "code",
   "execution_count": 10,
   "metadata": {},
   "outputs": [
    {
     "data": {
      "text/plain": [
       "link                    string\n",
       "title                   string\n",
       "price                  float64\n",
       "summary_description     string\n",
       "ownership               string\n",
       "floor_level              Int64\n",
       "is_furnished              bool\n",
       "building_type           string\n",
       "square_meters            Int64\n",
       "number_of_rooms          Int64\n",
       "rent                   float64\n",
       "voivodeship             string\n",
       "city                    string\n",
       "street                  string\n",
       "dtype: object"
      ]
     },
     "execution_count": 10,
     "metadata": {},
     "output_type": "execute_result"
    }
   ],
   "source": [
    "df_olx_cleaned['link'] = df_olx_cleaned['link'].astype('string')\n",
    "df_olx_cleaned['title'] = df_olx_cleaned['title'].astype('string')\n",
    "df_olx_cleaned['summary_description'] = df_olx_cleaned['summary_description'].astype('string')\n",
    "df_olx_cleaned['ownership'] = df_olx_cleaned['ownership'].astype('string')\n",
    "df_olx_cleaned['floor_level'] = df_olx_cleaned['floor_level'].astype('Int64')\n",
    "df_olx_cleaned['building_type'] = df_olx_cleaned['building_type'].astype('string')\n",
    "df_olx_cleaned['voivodeship'] = df_olx_cleaned['voivodeship'].astype('string')\n",
    "df_olx_cleaned['city'] = df_olx_cleaned['city'].astype('string')\n",
    "df_olx_cleaned['street'] = df_olx_cleaned['street'].astype('string')\n",
    "\n",
    "df = df_olx_cleaned.rename(columns={'floor_level': 'floor'})\n",
    "\n",
    "df_olx_cleaned.dtypes\n"
   ]
  },
  {
   "cell_type": "code",
   "execution_count": 11,
   "metadata": {},
   "outputs": [],
   "source": [
    "df_olx_cleaned['ownership'] = df_olx_cleaned['ownership'].map({'Prywatne': 'private'})\n",
    "\n",
    "df_olx_cleaned['building_type'] = df_olx_cleaned['building_type'].map({'Apartamentowiec': 'apartment_building'})"
   ]
  },
  {
   "cell_type": "code",
   "execution_count": 12,
   "metadata": {},
   "outputs": [
    {
     "data": {
      "text/html": [
       "<div>\n",
       "<style scoped>\n",
       "    .dataframe tbody tr th:only-of-type {\n",
       "        vertical-align: middle;\n",
       "    }\n",
       "\n",
       "    .dataframe tbody tr th {\n",
       "        vertical-align: top;\n",
       "    }\n",
       "\n",
       "    .dataframe thead th {\n",
       "        text-align: right;\n",
       "    }\n",
       "</style>\n",
       "<table border=\"1\" class=\"dataframe\">\n",
       "  <thead>\n",
       "    <tr style=\"text-align: right;\">\n",
       "      <th></th>\n",
       "      <th>link</th>\n",
       "      <th>title</th>\n",
       "      <th>price</th>\n",
       "      <th>summary_description</th>\n",
       "      <th>ownership</th>\n",
       "      <th>floor_level</th>\n",
       "      <th>is_furnished</th>\n",
       "      <th>building_type</th>\n",
       "      <th>square_meters</th>\n",
       "      <th>number_of_rooms</th>\n",
       "      <th>rent</th>\n",
       "      <th>voivodeship</th>\n",
       "      <th>city</th>\n",
       "      <th>street</th>\n",
       "    </tr>\n",
       "  </thead>\n",
       "  <tbody>\n",
       "    <tr>\n",
       "      <th>0</th>\n",
       "      <td>https://www.olx.pl/d/oferta/wynajme-nowy-apart...</td>\n",
       "      <td>Wynajmę nowy apartament w domu czterorodzinnym</td>\n",
       "      <td>2500.0</td>\n",
       "      <td>OpisWynajmę nowy apartament o powierzchni 60,3...</td>\n",
       "      <td>private</td>\n",
       "      <td>1</td>\n",
       "      <td>True</td>\n",
       "      <td>NaN</td>\n",
       "      <td>60</td>\n",
       "      <td>3</td>\n",
       "      <td>500.0</td>\n",
       "      <td>Śląskie</td>\n",
       "      <td>Przeczyce</td>\n",
       "      <td>&lt;NA&gt;</td>\n",
       "    </tr>\n",
       "    <tr>\n",
       "      <th>1</th>\n",
       "      <td>https://www.olx.pl/d/oferta/wynajme-mieszkanie...</td>\n",
       "      <td>Wynajmę mieszkanie w Mierzęcicach</td>\n",
       "      <td>2600.0</td>\n",
       "      <td>OpisWynajmę mieszkanie 2 pokojowe, na 1 piętrz...</td>\n",
       "      <td>private</td>\n",
       "      <td>1</td>\n",
       "      <td>True</td>\n",
       "      <td>NaN</td>\n",
       "      <td>49</td>\n",
       "      <td>2</td>\n",
       "      <td>1.0</td>\n",
       "      <td>Śląskie</td>\n",
       "      <td>Mierzęcice</td>\n",
       "      <td>&lt;NA&gt;</td>\n",
       "    </tr>\n",
       "    <tr>\n",
       "      <th>2</th>\n",
       "      <td>https://www.olx.pl/d/oferta/mieszkanie-47m2-os...</td>\n",
       "      <td>Mieszkanie 47m2 Osiedle Mierzęcice</td>\n",
       "      <td>1700.0</td>\n",
       "      <td>OpisWitam, wynajmę mieszkanie! Mieszkanie jest...</td>\n",
       "      <td>private</td>\n",
       "      <td>1</td>\n",
       "      <td>True</td>\n",
       "      <td>NaN</td>\n",
       "      <td>47</td>\n",
       "      <td>2</td>\n",
       "      <td>1.0</td>\n",
       "      <td>Śląskie</td>\n",
       "      <td>Nowa Wieś</td>\n",
       "      <td>&lt;NA&gt;</td>\n",
       "    </tr>\n",
       "  </tbody>\n",
       "</table>\n",
       "</div>"
      ],
      "text/plain": [
       "                                                link  \\\n",
       "0  https://www.olx.pl/d/oferta/wynajme-nowy-apart...   \n",
       "1  https://www.olx.pl/d/oferta/wynajme-mieszkanie...   \n",
       "2  https://www.olx.pl/d/oferta/mieszkanie-47m2-os...   \n",
       "\n",
       "                                            title   price  \\\n",
       "0  Wynajmę nowy apartament w domu czterorodzinnym  2500.0   \n",
       "1               Wynajmę mieszkanie w Mierzęcicach  2600.0   \n",
       "2              Mieszkanie 47m2 Osiedle Mierzęcice  1700.0   \n",
       "\n",
       "                                 summary_description ownership  floor_level  \\\n",
       "0  OpisWynajmę nowy apartament o powierzchni 60,3...   private            1   \n",
       "1  OpisWynajmę mieszkanie 2 pokojowe, na 1 piętrz...   private            1   \n",
       "2  OpisWitam, wynajmę mieszkanie! Mieszkanie jest...   private            1   \n",
       "\n",
       "   is_furnished building_type  square_meters  number_of_rooms   rent  \\\n",
       "0          True           NaN             60                3  500.0   \n",
       "1          True           NaN             49                2    1.0   \n",
       "2          True           NaN             47                2    1.0   \n",
       "\n",
       "  voivodeship        city street  \n",
       "0     Śląskie   Przeczyce   <NA>  \n",
       "1     Śląskie  Mierzęcice   <NA>  \n",
       "2     Śląskie   Nowa Wieś   <NA>  "
      ]
     },
     "execution_count": 12,
     "metadata": {},
     "output_type": "execute_result"
    }
   ],
   "source": [
    "df_olx_cleaned.head()"
   ]
  },
  {
   "cell_type": "markdown",
   "metadata": {},
   "source": [
    "## 3. Save cleaned data"
   ]
  },
  {
   "cell_type": "markdown",
   "metadata": {},
   "source": [
    "### 3.1. Save data"
   ]
  },
  {
   "cell_type": "code",
   "execution_count": 13,
   "metadata": {},
   "outputs": [],
   "source": [
    "data_path_manager.save_df(df_olx_cleaned, domain=\"olx\")"
   ]
  },
  {
   "cell_type": "markdown",
   "metadata": {},
   "source": [
    "### 3.2 Check saved data"
   ]
  },
  {
   "cell_type": "markdown",
   "metadata": {},
   "source": [
    "#### OLX"
   ]
  },
  {
   "cell_type": "code",
   "execution_count": 14,
   "metadata": {},
   "outputs": [
    {
     "data": {
      "text/html": [
       "<div>\n",
       "<style scoped>\n",
       "    .dataframe tbody tr th:only-of-type {\n",
       "        vertical-align: middle;\n",
       "    }\n",
       "\n",
       "    .dataframe tbody tr th {\n",
       "        vertical-align: top;\n",
       "    }\n",
       "\n",
       "    .dataframe thead th {\n",
       "        text-align: right;\n",
       "    }\n",
       "</style>\n",
       "<table border=\"1\" class=\"dataframe\">\n",
       "  <thead>\n",
       "    <tr style=\"text-align: right;\">\n",
       "      <th></th>\n",
       "      <th>link</th>\n",
       "      <th>title</th>\n",
       "      <th>price</th>\n",
       "      <th>summary_description</th>\n",
       "      <th>ownership</th>\n",
       "      <th>floor_level</th>\n",
       "      <th>is_furnished</th>\n",
       "      <th>building_type</th>\n",
       "      <th>square_meters</th>\n",
       "      <th>number_of_rooms</th>\n",
       "      <th>rent</th>\n",
       "      <th>voivodeship</th>\n",
       "      <th>city</th>\n",
       "      <th>street</th>\n",
       "    </tr>\n",
       "  </thead>\n",
       "  <tbody>\n",
       "    <tr>\n",
       "      <th>0</th>\n",
       "      <td>https://www.olx.pl/d/oferta/wynajme-nowy-apart...</td>\n",
       "      <td>Wynajmę nowy apartament w domu czterorodzinnym</td>\n",
       "      <td>2500.0</td>\n",
       "      <td>OpisWynajmę nowy apartament o powierzchni 60,3...</td>\n",
       "      <td>private</td>\n",
       "      <td>1</td>\n",
       "      <td>True</td>\n",
       "      <td>NaN</td>\n",
       "      <td>60</td>\n",
       "      <td>3</td>\n",
       "      <td>500.0</td>\n",
       "      <td>Śląskie</td>\n",
       "      <td>Przeczyce</td>\n",
       "      <td>&lt;NA&gt;</td>\n",
       "    </tr>\n",
       "    <tr>\n",
       "      <th>1</th>\n",
       "      <td>https://www.olx.pl/d/oferta/wynajme-mieszkanie...</td>\n",
       "      <td>Wynajmę mieszkanie w Mierzęcicach</td>\n",
       "      <td>2600.0</td>\n",
       "      <td>OpisWynajmę mieszkanie 2 pokojowe, na 1 piętrz...</td>\n",
       "      <td>private</td>\n",
       "      <td>1</td>\n",
       "      <td>True</td>\n",
       "      <td>NaN</td>\n",
       "      <td>49</td>\n",
       "      <td>2</td>\n",
       "      <td>1.0</td>\n",
       "      <td>Śląskie</td>\n",
       "      <td>Mierzęcice</td>\n",
       "      <td>&lt;NA&gt;</td>\n",
       "    </tr>\n",
       "    <tr>\n",
       "      <th>2</th>\n",
       "      <td>https://www.olx.pl/d/oferta/mieszkanie-47m2-os...</td>\n",
       "      <td>Mieszkanie 47m2 Osiedle Mierzęcice</td>\n",
       "      <td>1700.0</td>\n",
       "      <td>OpisWitam, wynajmę mieszkanie! Mieszkanie jest...</td>\n",
       "      <td>private</td>\n",
       "      <td>1</td>\n",
       "      <td>True</td>\n",
       "      <td>NaN</td>\n",
       "      <td>47</td>\n",
       "      <td>2</td>\n",
       "      <td>1.0</td>\n",
       "      <td>Śląskie</td>\n",
       "      <td>Nowa Wieś</td>\n",
       "      <td>&lt;NA&gt;</td>\n",
       "    </tr>\n",
       "  </tbody>\n",
       "</table>\n",
       "</div>"
      ],
      "text/plain": [
       "                                                link  \\\n",
       "0  https://www.olx.pl/d/oferta/wynajme-nowy-apart...   \n",
       "1  https://www.olx.pl/d/oferta/wynajme-mieszkanie...   \n",
       "2  https://www.olx.pl/d/oferta/mieszkanie-47m2-os...   \n",
       "\n",
       "                                            title   price  \\\n",
       "0  Wynajmę nowy apartament w domu czterorodzinnym  2500.0   \n",
       "1               Wynajmę mieszkanie w Mierzęcicach  2600.0   \n",
       "2              Mieszkanie 47m2 Osiedle Mierzęcice  1700.0   \n",
       "\n",
       "                                 summary_description ownership  floor_level  \\\n",
       "0  OpisWynajmę nowy apartament o powierzchni 60,3...   private            1   \n",
       "1  OpisWynajmę mieszkanie 2 pokojowe, na 1 piętrz...   private            1   \n",
       "2  OpisWitam, wynajmę mieszkanie! Mieszkanie jest...   private            1   \n",
       "\n",
       "   is_furnished building_type  square_meters  number_of_rooms   rent  \\\n",
       "0          True           NaN             60                3  500.0   \n",
       "1          True           NaN             49                2    1.0   \n",
       "2          True           NaN             47                2    1.0   \n",
       "\n",
       "  voivodeship        city street  \n",
       "0     Śląskie   Przeczyce   <NA>  \n",
       "1     Śląskie  Mierzęcice   <NA>  \n",
       "2     Śląskie   Nowa Wieś   <NA>  "
      ]
     },
     "execution_count": 14,
     "metadata": {},
     "output_type": "execute_result"
    }
   ],
   "source": [
    "df_olx_saved = data_path_manager.load_df(domain=\"olx\", is_cleaned=True)\n",
    "df_olx_saved.head()"
   ]
  },
  {
   "cell_type": "code",
   "execution_count": 15,
   "metadata": {},
   "outputs": [
    {
     "data": {
      "text/plain": [
       "link                    string\n",
       "title                   string\n",
       "price                  float64\n",
       "summary_description     string\n",
       "ownership               object\n",
       "floor_level              Int64\n",
       "is_furnished              bool\n",
       "building_type           object\n",
       "square_meters            Int64\n",
       "number_of_rooms          Int64\n",
       "rent                   float64\n",
       "voivodeship             string\n",
       "city                    string\n",
       "street                  string\n",
       "dtype: object"
      ]
     },
     "execution_count": 15,
     "metadata": {},
     "output_type": "execute_result"
    }
   ],
   "source": [
    "df_olx_saved.dtypes"
   ]
  },
  {
   "cell_type": "code",
   "execution_count": 16,
   "metadata": {},
   "outputs": [
    {
     "name": "stdout",
     "output_type": "stream",
     "text": [
      "The saved DataFrame is identical to the original one.\n"
     ]
    }
   ],
   "source": [
    "are_identical = df_olx_saved.equals(df_olx_cleaned)\n",
    "if not are_identical:\n",
    "    raise ValueError(\"The saved DataFrame is not identical to the original one.\")\n",
    "else:\n",
    "    print(\"The saved DataFrame is identical to the original one.\")"
   ]
  }
 ],
 "metadata": {
  "kernelspec": {
   "display_name": "Python 3",
   "language": "python",
   "name": "python3"
  },
  "language_info": {
   "codemirror_mode": {
    "name": "ipython",
    "version": 3
   },
   "file_extension": ".py",
   "mimetype": "text/x-python",
   "name": "python",
   "nbconvert_exporter": "python",
   "pygments_lexer": "ipython3",
   "version": "3.11.1"
  }
 },
 "nbformat": 4,
 "nbformat_minor": 2
}
